{
  "nbformat": 4,
  "nbformat_minor": 0,
  "metadata": {
    "colab": {
      "provenance": [],
      "mount_file_id": "1_KDP-CUMIroXGl-gVCqfiepIlmgs5opX",
      "authorship_tag": "ABX9TyPsdA87gtpWplLNC/7bRTsE",
      "include_colab_link": true
    },
    "kernelspec": {
      "name": "python3",
      "display_name": "Python 3"
    },
    "language_info": {
      "name": "python"
    }
  },
  "cells": [
    {
      "cell_type": "markdown",
      "metadata": {
        "id": "view-in-github",
        "colab_type": "text"
      },
      "source": [
        "<a href=\"https://colab.research.google.com/github/lailamt/timestamp_classifier/blob/main/Timestamp_classifier.ipynb\" target=\"_parent\"><img src=\"https://colab.research.google.com/assets/colab-badge.svg\" alt=\"Open In Colab\"/></a>"
      ]
    },
    {
      "cell_type": "code",
      "execution_count": 1,
      "metadata": {
        "id": "gsL0_y7Oo1-H",
        "colab": {
          "base_uri": "https://localhost:8080/"
        },
        "outputId": "b92c9369-260e-4c3f-f90f-48bc08e9682e"
      },
      "outputs": [
        {
          "output_type": "stream",
          "name": "stdout",
          "text": [
            "Drive already mounted at /content/drive; to attempt to forcibly remount, call drive.mount(\"/content/drive\", force_remount=True).\n"
          ]
        }
      ],
      "source": [
        "from google.colab import drive\n",
        "drive.mount('/content/drive')"
      ]
    },
    {
      "cell_type": "markdown",
      "source": [
        "###Libs and configs"
      ],
      "metadata": {
        "id": "PPbp9Wf1pCoE"
      }
    },
    {
      "cell_type": "code",
      "source": [
        "!pip install num2words\n",
        "# !pip install emoji\n",
        "# !pip install demoji\n",
        "!pip install unidecode\n",
        "!pip install -U spacy\n",
        "!python -m spacy download pt_core_news_lg"
      ],
      "metadata": {
        "colab": {
          "base_uri": "https://localhost:8080/"
        },
        "id": "xKOxCpRPpASO",
        "outputId": "255c791a-3e81-4ea6-9784-1199b29bd062"
      },
      "execution_count": 2,
      "outputs": [
        {
          "output_type": "stream",
          "name": "stdout",
          "text": [
            "Collecting num2words\n",
            "  Downloading num2words-0.5.12-py3-none-any.whl (125 kB)\n",
            "\u001b[?25l     \u001b[90m━━━━━━━━━━━━━━━━━━━━━━━━━━━━━━━━━━━━━━━━\u001b[0m \u001b[32m0.0/125.2 kB\u001b[0m \u001b[31m?\u001b[0m eta \u001b[36m-:--:--\u001b[0m\r\u001b[2K     \u001b[90m━━━━━━━━━━━━━━━━━━━━━━━━━━━━━━━━━━━━━━━\u001b[0m \u001b[32m125.2/125.2 kB\u001b[0m \u001b[31m9.3 MB/s\u001b[0m eta \u001b[36m0:00:00\u001b[0m\n",
            "\u001b[?25hCollecting docopt>=0.6.2 (from num2words)\n",
            "  Downloading docopt-0.6.2.tar.gz (25 kB)\n",
            "  Preparing metadata (setup.py) ... \u001b[?25l\u001b[?25hdone\n",
            "Building wheels for collected packages: docopt\n",
            "  Building wheel for docopt (setup.py) ... \u001b[?25l\u001b[?25hdone\n",
            "  Created wheel for docopt: filename=docopt-0.6.2-py2.py3-none-any.whl size=13707 sha256=0984642739c07f21882892403c8fd06feb4812538b04c4e3b99ef26e05a00aa9\n",
            "  Stored in directory: /root/.cache/pip/wheels/fc/ab/d4/5da2067ac95b36618c629a5f93f809425700506f72c9732fac\n",
            "Successfully built docopt\n",
            "Installing collected packages: docopt, num2words\n",
            "Successfully installed docopt-0.6.2 num2words-0.5.12\n",
            "Collecting unidecode\n",
            "  Downloading Unidecode-1.3.6-py3-none-any.whl (235 kB)\n",
            "\u001b[2K     \u001b[90m━━━━━━━━━━━━━━━━━━━━━━━━━━━━━━━━━━━━━━\u001b[0m \u001b[32m235.9/235.9 kB\u001b[0m \u001b[31m17.5 MB/s\u001b[0m eta \u001b[36m0:00:00\u001b[0m\n",
            "\u001b[?25hInstalling collected packages: unidecode\n",
            "Successfully installed unidecode-1.3.6\n",
            "Requirement already satisfied: spacy in /usr/local/lib/python3.10/dist-packages (3.5.3)\n",
            "Collecting spacy\n",
            "  Downloading spacy-3.5.4-cp310-cp310-manylinux_2_17_x86_64.manylinux2014_x86_64.whl (6.6 MB)\n",
            "\u001b[2K     \u001b[90m━━━━━━━━━━━━━━━━━━━━━━━━━━━━━━━━━━━━━━━━\u001b[0m \u001b[32m6.6/6.6 MB\u001b[0m \u001b[31m56.8 MB/s\u001b[0m eta \u001b[36m0:00:00\u001b[0m\n",
            "\u001b[?25hRequirement already satisfied: spacy-legacy<3.1.0,>=3.0.11 in /usr/local/lib/python3.10/dist-packages (from spacy) (3.0.12)\n",
            "Requirement already satisfied: spacy-loggers<2.0.0,>=1.0.0 in /usr/local/lib/python3.10/dist-packages (from spacy) (1.0.4)\n",
            "Requirement already satisfied: murmurhash<1.1.0,>=0.28.0 in /usr/local/lib/python3.10/dist-packages (from spacy) (1.0.9)\n",
            "Requirement already satisfied: cymem<2.1.0,>=2.0.2 in /usr/local/lib/python3.10/dist-packages (from spacy) (2.0.7)\n",
            "Requirement already satisfied: preshed<3.1.0,>=3.0.2 in /usr/local/lib/python3.10/dist-packages (from spacy) (3.0.8)\n",
            "Requirement already satisfied: thinc<8.2.0,>=8.1.8 in /usr/local/lib/python3.10/dist-packages (from spacy) (8.1.10)\n",
            "Requirement already satisfied: wasabi<1.2.0,>=0.9.1 in /usr/local/lib/python3.10/dist-packages (from spacy) (1.1.2)\n",
            "Requirement already satisfied: srsly<3.0.0,>=2.4.3 in /usr/local/lib/python3.10/dist-packages (from spacy) (2.4.6)\n",
            "Requirement already satisfied: catalogue<2.1.0,>=2.0.6 in /usr/local/lib/python3.10/dist-packages (from spacy) (2.0.8)\n",
            "Requirement already satisfied: typer<0.10.0,>=0.3.0 in /usr/local/lib/python3.10/dist-packages (from spacy) (0.7.0)\n",
            "Requirement already satisfied: pathy>=0.10.0 in /usr/local/lib/python3.10/dist-packages (from spacy) (0.10.2)\n",
            "Requirement already satisfied: smart-open<7.0.0,>=5.2.1 in /usr/local/lib/python3.10/dist-packages (from spacy) (6.3.0)\n",
            "Requirement already satisfied: tqdm<5.0.0,>=4.38.0 in /usr/local/lib/python3.10/dist-packages (from spacy) (4.65.0)\n",
            "Requirement already satisfied: numpy>=1.15.0 in /usr/local/lib/python3.10/dist-packages (from spacy) (1.22.4)\n",
            "Requirement already satisfied: requests<3.0.0,>=2.13.0 in /usr/local/lib/python3.10/dist-packages (from spacy) (2.27.1)\n",
            "Requirement already satisfied: pydantic!=1.8,!=1.8.1,<1.11.0,>=1.7.4 in /usr/local/lib/python3.10/dist-packages (from spacy) (1.10.9)\n",
            "Requirement already satisfied: jinja2 in /usr/local/lib/python3.10/dist-packages (from spacy) (3.1.2)\n",
            "Requirement already satisfied: setuptools in /usr/local/lib/python3.10/dist-packages (from spacy) (67.7.2)\n",
            "Requirement already satisfied: packaging>=20.0 in /usr/local/lib/python3.10/dist-packages (from spacy) (23.1)\n",
            "Requirement already satisfied: langcodes<4.0.0,>=3.2.0 in /usr/local/lib/python3.10/dist-packages (from spacy) (3.3.0)\n",
            "Requirement already satisfied: typing-extensions>=4.2.0 in /usr/local/lib/python3.10/dist-packages (from pydantic!=1.8,!=1.8.1,<1.11.0,>=1.7.4->spacy) (4.6.3)\n",
            "Requirement already satisfied: urllib3<1.27,>=1.21.1 in /usr/local/lib/python3.10/dist-packages (from requests<3.0.0,>=2.13.0->spacy) (1.26.16)\n",
            "Requirement already satisfied: certifi>=2017.4.17 in /usr/local/lib/python3.10/dist-packages (from requests<3.0.0,>=2.13.0->spacy) (2023.5.7)\n",
            "Requirement already satisfied: charset-normalizer~=2.0.0 in /usr/local/lib/python3.10/dist-packages (from requests<3.0.0,>=2.13.0->spacy) (2.0.12)\n",
            "Requirement already satisfied: idna<4,>=2.5 in /usr/local/lib/python3.10/dist-packages (from requests<3.0.0,>=2.13.0->spacy) (3.4)\n",
            "Requirement already satisfied: blis<0.8.0,>=0.7.8 in /usr/local/lib/python3.10/dist-packages (from thinc<8.2.0,>=8.1.8->spacy) (0.7.9)\n",
            "Requirement already satisfied: confection<1.0.0,>=0.0.1 in /usr/local/lib/python3.10/dist-packages (from thinc<8.2.0,>=8.1.8->spacy) (0.0.4)\n",
            "Requirement already satisfied: click<9.0.0,>=7.1.1 in /usr/local/lib/python3.10/dist-packages (from typer<0.10.0,>=0.3.0->spacy) (8.1.3)\n",
            "Requirement already satisfied: MarkupSafe>=2.0 in /usr/local/lib/python3.10/dist-packages (from jinja2->spacy) (2.1.3)\n",
            "Installing collected packages: spacy\n",
            "  Attempting uninstall: spacy\n",
            "    Found existing installation: spacy 3.5.3\n",
            "    Uninstalling spacy-3.5.3:\n",
            "      Successfully uninstalled spacy-3.5.3\n",
            "Successfully installed spacy-3.5.4\n",
            "2023-07-03 17:15:52.832935: I tensorflow/core/platform/cpu_feature_guard.cc:182] This TensorFlow binary is optimized to use available CPU instructions in performance-critical operations.\n",
            "To enable the following instructions: AVX2 FMA, in other operations, rebuild TensorFlow with the appropriate compiler flags.\n",
            "2023-07-03 17:15:54.555648: W tensorflow/compiler/tf2tensorrt/utils/py_utils.cc:38] TF-TRT Warning: Could not find TensorRT\n",
            "Collecting pt-core-news-lg==3.5.0\n",
            "  Downloading https://github.com/explosion/spacy-models/releases/download/pt_core_news_lg-3.5.0/pt_core_news_lg-3.5.0-py3-none-any.whl (568.2 MB)\n",
            "\u001b[2K     \u001b[90m━━━━━━━━━━━━━━━━━━━━━━━━━━━━━━━━━━━━━\u001b[0m \u001b[32m568.2/568.2 MB\u001b[0m \u001b[31m862.4 kB/s\u001b[0m eta \u001b[36m0:00:00\u001b[0m\n",
            "\u001b[?25hRequirement already satisfied: spacy<3.6.0,>=3.5.0 in /usr/local/lib/python3.10/dist-packages (from pt-core-news-lg==3.5.0) (3.5.4)\n",
            "Requirement already satisfied: spacy-legacy<3.1.0,>=3.0.11 in /usr/local/lib/python3.10/dist-packages (from spacy<3.6.0,>=3.5.0->pt-core-news-lg==3.5.0) (3.0.12)\n",
            "Requirement already satisfied: spacy-loggers<2.0.0,>=1.0.0 in /usr/local/lib/python3.10/dist-packages (from spacy<3.6.0,>=3.5.0->pt-core-news-lg==3.5.0) (1.0.4)\n",
            "Requirement already satisfied: murmurhash<1.1.0,>=0.28.0 in /usr/local/lib/python3.10/dist-packages (from spacy<3.6.0,>=3.5.0->pt-core-news-lg==3.5.0) (1.0.9)\n",
            "Requirement already satisfied: cymem<2.1.0,>=2.0.2 in /usr/local/lib/python3.10/dist-packages (from spacy<3.6.0,>=3.5.0->pt-core-news-lg==3.5.0) (2.0.7)\n",
            "Requirement already satisfied: preshed<3.1.0,>=3.0.2 in /usr/local/lib/python3.10/dist-packages (from spacy<3.6.0,>=3.5.0->pt-core-news-lg==3.5.0) (3.0.8)\n",
            "Requirement already satisfied: thinc<8.2.0,>=8.1.8 in /usr/local/lib/python3.10/dist-packages (from spacy<3.6.0,>=3.5.0->pt-core-news-lg==3.5.0) (8.1.10)\n",
            "Requirement already satisfied: wasabi<1.2.0,>=0.9.1 in /usr/local/lib/python3.10/dist-packages (from spacy<3.6.0,>=3.5.0->pt-core-news-lg==3.5.0) (1.1.2)\n",
            "Requirement already satisfied: srsly<3.0.0,>=2.4.3 in /usr/local/lib/python3.10/dist-packages (from spacy<3.6.0,>=3.5.0->pt-core-news-lg==3.5.0) (2.4.6)\n",
            "Requirement already satisfied: catalogue<2.1.0,>=2.0.6 in /usr/local/lib/python3.10/dist-packages (from spacy<3.6.0,>=3.5.0->pt-core-news-lg==3.5.0) (2.0.8)\n",
            "Requirement already satisfied: typer<0.10.0,>=0.3.0 in /usr/local/lib/python3.10/dist-packages (from spacy<3.6.0,>=3.5.0->pt-core-news-lg==3.5.0) (0.7.0)\n",
            "Requirement already satisfied: pathy>=0.10.0 in /usr/local/lib/python3.10/dist-packages (from spacy<3.6.0,>=3.5.0->pt-core-news-lg==3.5.0) (0.10.2)\n",
            "Requirement already satisfied: smart-open<7.0.0,>=5.2.1 in /usr/local/lib/python3.10/dist-packages (from spacy<3.6.0,>=3.5.0->pt-core-news-lg==3.5.0) (6.3.0)\n",
            "Requirement already satisfied: tqdm<5.0.0,>=4.38.0 in /usr/local/lib/python3.10/dist-packages (from spacy<3.6.0,>=3.5.0->pt-core-news-lg==3.5.0) (4.65.0)\n",
            "Requirement already satisfied: numpy>=1.15.0 in /usr/local/lib/python3.10/dist-packages (from spacy<3.6.0,>=3.5.0->pt-core-news-lg==3.5.0) (1.22.4)\n",
            "Requirement already satisfied: requests<3.0.0,>=2.13.0 in /usr/local/lib/python3.10/dist-packages (from spacy<3.6.0,>=3.5.0->pt-core-news-lg==3.5.0) (2.27.1)\n",
            "Requirement already satisfied: pydantic!=1.8,!=1.8.1,<1.11.0,>=1.7.4 in /usr/local/lib/python3.10/dist-packages (from spacy<3.6.0,>=3.5.0->pt-core-news-lg==3.5.0) (1.10.9)\n",
            "Requirement already satisfied: jinja2 in /usr/local/lib/python3.10/dist-packages (from spacy<3.6.0,>=3.5.0->pt-core-news-lg==3.5.0) (3.1.2)\n",
            "Requirement already satisfied: setuptools in /usr/local/lib/python3.10/dist-packages (from spacy<3.6.0,>=3.5.0->pt-core-news-lg==3.5.0) (67.7.2)\n",
            "Requirement already satisfied: packaging>=20.0 in /usr/local/lib/python3.10/dist-packages (from spacy<3.6.0,>=3.5.0->pt-core-news-lg==3.5.0) (23.1)\n",
            "Requirement already satisfied: langcodes<4.0.0,>=3.2.0 in /usr/local/lib/python3.10/dist-packages (from spacy<3.6.0,>=3.5.0->pt-core-news-lg==3.5.0) (3.3.0)\n",
            "Requirement already satisfied: typing-extensions>=4.2.0 in /usr/local/lib/python3.10/dist-packages (from pydantic!=1.8,!=1.8.1,<1.11.0,>=1.7.4->spacy<3.6.0,>=3.5.0->pt-core-news-lg==3.5.0) (4.6.3)\n",
            "Requirement already satisfied: urllib3<1.27,>=1.21.1 in /usr/local/lib/python3.10/dist-packages (from requests<3.0.0,>=2.13.0->spacy<3.6.0,>=3.5.0->pt-core-news-lg==3.5.0) (1.26.16)\n",
            "Requirement already satisfied: certifi>=2017.4.17 in /usr/local/lib/python3.10/dist-packages (from requests<3.0.0,>=2.13.0->spacy<3.6.0,>=3.5.0->pt-core-news-lg==3.5.0) (2023.5.7)\n",
            "Requirement already satisfied: charset-normalizer~=2.0.0 in /usr/local/lib/python3.10/dist-packages (from requests<3.0.0,>=2.13.0->spacy<3.6.0,>=3.5.0->pt-core-news-lg==3.5.0) (2.0.12)\n",
            "Requirement already satisfied: idna<4,>=2.5 in /usr/local/lib/python3.10/dist-packages (from requests<3.0.0,>=2.13.0->spacy<3.6.0,>=3.5.0->pt-core-news-lg==3.5.0) (3.4)\n",
            "Requirement already satisfied: blis<0.8.0,>=0.7.8 in /usr/local/lib/python3.10/dist-packages (from thinc<8.2.0,>=8.1.8->spacy<3.6.0,>=3.5.0->pt-core-news-lg==3.5.0) (0.7.9)\n",
            "Requirement already satisfied: confection<1.0.0,>=0.0.1 in /usr/local/lib/python3.10/dist-packages (from thinc<8.2.0,>=8.1.8->spacy<3.6.0,>=3.5.0->pt-core-news-lg==3.5.0) (0.0.4)\n",
            "Requirement already satisfied: click<9.0.0,>=7.1.1 in /usr/local/lib/python3.10/dist-packages (from typer<0.10.0,>=0.3.0->spacy<3.6.0,>=3.5.0->pt-core-news-lg==3.5.0) (8.1.3)\n",
            "Requirement already satisfied: MarkupSafe>=2.0 in /usr/local/lib/python3.10/dist-packages (from jinja2->spacy<3.6.0,>=3.5.0->pt-core-news-lg==3.5.0) (2.1.3)\n",
            "Installing collected packages: pt-core-news-lg\n",
            "Successfully installed pt-core-news-lg-3.5.0\n",
            "\u001b[38;5;2m✔ Download and installation successful\u001b[0m\n",
            "You can now load the package via spacy.load('pt_core_news_lg')\n"
          ]
        }
      ]
    },
    {
      "cell_type": "code",
      "source": [
        "import re\n",
        "import os\n",
        "import io\n",
        "import string\n",
        "import unidecode\n",
        "# import emoji\n",
        "# import demoji\n",
        "import pandas as pd\n",
        "from num2words import num2words\n",
        "from collections import defaultdict\n",
        "\n",
        "from wordcloud import WordCloud\n",
        "import matplotlib.pyplot as plt\n",
        "\n",
        "import nltk\n",
        "nltk.download('stopwords')\n",
        "nltk.download('punkt')\n",
        "\n",
        "from nltk.corpus import stopwords\n",
        "from nltk.tokenize import word_tokenize, sent_tokenize\n",
        "from nltk.probability import FreqDist"
      ],
      "metadata": {
        "colab": {
          "base_uri": "https://localhost:8080/"
        },
        "id": "0OnXgu-bpF0j",
        "outputId": "0ddb3f49-c417-41b5-ebf5-dc3b35728266"
      },
      "execution_count": 3,
      "outputs": [
        {
          "output_type": "stream",
          "name": "stderr",
          "text": [
            "[nltk_data] Downloading package stopwords to /root/nltk_data...\n",
            "[nltk_data]   Unzipping corpora/stopwords.zip.\n",
            "[nltk_data] Downloading package punkt to /root/nltk_data...\n",
            "[nltk_data]   Unzipping tokenizers/punkt.zip.\n"
          ]
        }
      ]
    },
    {
      "cell_type": "markdown",
      "source": [
        "###Paths"
      ],
      "metadata": {
        "id": "10YgRTwdpPtD"
      }
    },
    {
      "cell_type": "code",
      "source": [
        "corpus_path = '/content/drive/MyDrive/Mestrado_UFBA/Tópicos em BD/corpus/'\n",
        "prepro_path = '/content/drive/MyDrive/Mestrado_UFBA/Tópicos em BD/prepro/'\n",
        "model_path = '/content/drive/MyDrive/Mestrado_UFBA/Tópicos em BD/modelos/'"
      ],
      "metadata": {
        "id": "J0eivyQUpS7c"
      },
      "execution_count": 4,
      "outputs": []
    },
    {
      "cell_type": "markdown",
      "source": [
        "###Read to dataframe"
      ],
      "metadata": {
        "id": "hqFRq4Ojvl0W"
      }
    },
    {
      "cell_type": "code",
      "source": [
        "# Create an empty list to store dataframes\n",
        "dfs = []\n",
        "\n",
        "# Iterate over each file in the folder\n",
        "for filename in os.listdir(corpus_path):\n",
        "    file_path = os.path.join(corpus_path, filename)\n",
        "\n",
        "    # Open the file and read its content\n",
        "    with open(file_path, \"r\") as file:\n",
        "        lines = file.readlines()\n",
        "\n",
        "        # Extract the period from the first line and remove extra whitespaces and line breaks\n",
        "        period = re.sub(r'\\s+', ' ', lines[0].strip())\n",
        "\n",
        "        # Join the remaining lines as a single text, remove extra whitespaces and line breaks\n",
        "        text = re.sub(r'\\s+', ' ', ' '.join(lines[1:]).strip())\n",
        "\n",
        "        # Create a dataframe for the current file\n",
        "        df = pd.DataFrame({\"Period\": [period], \"Text\": [text]})\n",
        "\n",
        "        # Append the dataframe to the list\n",
        "        dfs.append(df)\n",
        "\n",
        "# Concatenate all dataframes into a single dataframe\n",
        "df = pd.concat(dfs, ignore_index=True)"
      ],
      "metadata": {
        "id": "SRMJgGIjvrDn"
      },
      "execution_count": 38,
      "outputs": []
    },
    {
      "cell_type": "code",
      "source": [
        "df = df.sort_values(by=['Period']).reset_index(drop=True)"
      ],
      "metadata": {
        "id": "hEKblHPLwSTz"
      },
      "execution_count": 39,
      "outputs": []
    },
    {
      "cell_type": "code",
      "source": [
        "df['Text'][1]"
      ],
      "metadata": {
        "colab": {
          "base_uri": "https://localhost:8080/",
          "height": 0
        },
        "id": "Rz1B3L99wiHJ",
        "outputId": "696ab245-c23d-477e-b4a2-3f10ab6a0438"
      },
      "execution_count": 40,
      "outputs": [
        {
          "output_type": "execute_result",
          "data": {
            "text/plain": [
              "\"[ front ] [ end front ] [ title ] CHRONICA | DO MUITO ALTO; E MUITO ESCLARECIDO PRINCIPE | DOM DINIZ | SEXTO REY DE PORTUGAL, | COMPOSTA | POR RUY DE PINA, | Fidalgo da Caſa Real, e Chroniſta Môr do Reyno. | FIELMENTE COPIADA DO SEU ORIGINAL, | Que ſe conſerva no Archivo Real da Torre do Tombo. | OFFERECIDA | A' MAGESTADE SEMPRE AUGUSTA DELREY | D. JOAÕ O V. | NOSSO SENHOR. | | LISBOA OCCIDENTAL: | Na Officina F E R R E Y R I A N A. | M. DCC. XXIX. | Com todas as licenas neceſarias. | [ front ] [ end front ] CHRONICA | DELREY | D. DINIZ | SEXTO DE PORTUGAL; | [ prologue (author: )] [ end prologue ] | SENHOR | A OS Auguſtiſimos pés | de V. Mageſtade chega a minha obrigaçaõ a offerecerlhe | a Chronica do Senhor Rey D. Diniz ſeu duodecimo Avo. | | Eſta, Senhor, he a Hiſtoria de hũ dos mais glorioſos Prin- | cipes, que teve a Monarchia Portugueza, por~q te fez taõ | conhecido pela ſua prudencia, ~q dous grandes Reys o ele- | geraõ por arbitro, e Juiz das contendas, que lhe perturba- | vaõ a paz de ſeus Vaſallos, e foy taõ venturoſo, que me- | receo ter por Eſpoza huma Matrona, que pela grandeza | das ſuas virtudes, e dos ſeus milagres a veneramos hoje | coroada no Ceo. Se me fora licito paſar dos limites de hu- | ma Dedicatoria, bem podia moſtrar ao mundo a ſemelhã- | ça do Neto com o Avo, mas baſtarmeha dizer, que aquel- | la virtude verdadeiramente de Principe, qual he a libera- | lidade, ſendo por ella tam celebrado ElRey D. Diniz, V. | Mageſtade a tem praticado de ſorte, que o deixa infinita- | mente excedido. A Real Peſoa de V. Mageſtade guarde | Deos como ſeus vaſallos lhe dezejaõ. | MIGUEL LOPES FERREYRA. | [ prologue (author: )] [ end prologue ] | AO EXCELLENTISSIMO SENHOR | D. FRANCISCO XAVIER | DE MENEZES. | QUARTO CONDE DA ERICEYRA, DO CONCELHO | de Sua Mageſtade, Sargento mór de Batalha dos ſeus Exercitos, Deputado da | Junta dos Tres Eſtados, Perpetuo Senhor da Villa da Ericeyra, e Senhor da | de Anciaõ, oytavo Senhor da Caza do Louriçal, Cõmendador das Com- | mendas de Santa Chriſtina de Sarzedello, de S. Cipriano de Anguey- | ra, S. Martinho de Frazaõ, S. Payo de Fragoas, de S. Pedro de | Elvas, e de S. Bertholameu de Covilhã todas na Ordem de | Chriſto, Academico da Academia Real da Hiſtoria | Portugueza, e hum dos cinco Cenſores della, &tc. | M EU Senhor, buſcar o amparo de V. Excellencia he effeito | da mais prudente rezaõ, porque na ſua peſoa ſe achaõ todas aquellas circunſtan- | cias, que ſeguraõ a protecçaõ. He V. Excellencia taõ affavel, e taõ benigno pa- | ra todos, que ſuaviza, e facilita com eſtes dotes aquelle juſto temor que ſe acha | | | nos que ao meſmo tempo, em que os anima o dezejo de conſeguirem o que pre- | tendem, os detem, e ſuſpende a grandeza de que procuraõ como valedor. Po- | rém V. Excellencia de tal ſorte he inclinado a favorecer aos que ſe valem do ſeu | patrocinio, que lhes eſtá offerencendo as occaziões de o occuparem, como ſe uni- | camente nacera para todos. Naõ fallo ba exceſiva generozidade, com que V. | Excellencia faz publica para todo genero de peſoas a ſua copioziſima, e ſele- | iſima Livraria, beneficio, com que tem attrahido geralmente a todos. E por- | que eu Excellentiſimo Senhor, ſou hum daquelles que com mais frequencia, e | com muita eſpecialidade tenho recebido os favores de V. Excellencia tomo | a confiança de lhe pedir queira pôr na Real preſença de Sua Mageſtade eſta | Chronica delRey D. Diniz, porque deſta forte por meyo de taõ illuſtre valedor | ficará deſculpado o meu atrevimento. A Excellentiſima peſoa de V. Excellen- | cia guarde Deos muitos annos. | B. as mãos de V. Excellencia | Seu criado | MIGUEL LOPES FERREYRA. | | [ prologue (author: )] [ end prologue ] [ title ] PROLOGO | | PROLOGO. | AMIGO LEITOR. | A Qui te dou na Chronica do Sereniſimo Rey D. Diniz | de Portugal outro argumento da palavra, que te empe- | nhey quando te prometi dar impreſas todas as Chro- | nicas manusſcritas dos Reys deſte Reyno. Entre ellas | era muito digna deſte beneficio a delRey D. Diniz, | porque ſem duvida entre os Soberanos deſta Monar- | chia mereceo elle hum lugar de mayor diſtincçaõ. Aqui verás hum Prin- | cipe taõ altamente reſpeitado, que pela ſua grande prudencia foy o arbi- | tro para o ajuſte de pezadas contendas de dous Principes, o que conſeguio | com a dezejada felicidade, cujos documentos poderás ver na Sexta parte | da Monarchia Luſitana, e em D. Diogo Jozè Dormes nos ſeus Diſcur- | ſos varios de Hiſtoria, impreſos em C,aragoça no ano de 1683, em quarto a | folhas 135. Pelo ſeu conſelho foy taõ venerado, como temido pela ſua | eſpada; com a qual entrou taõ felizmente pelas terras inimigas, que mais | parecia triunfante, que combatente. Foy taõ venturoſo, que mereceo ſer | Eſpozo da Rainha Santa Iſabel, ſendo tantos os pretendentes daquella | Princeſa,que parece que lhes prognoſticavaõ os corações,que havia de ſer | a gloria da Monarchia, que a tiveſe por Soberana. Tudo iſto he a mate- | ria deſta Chronica, que ſe a naõ achares eſcrita em eſtillo elegante, naõ | ponhas a culpa ao Author, poem-na ao tempo, que tudo desfigura com | as ſuas neceſarias mudanças, porque he certo que os Reys de Portugal, | ~q elegeraõ ou a Fernaõ Lopes, ou a Ruy de Pina para Chroniſtas mores | deſte Reyno, haviaõ de eleger a huns homens, que foſem merecedores | de taõ authorizada occupaçaõ pelas ſuas letras, e pela ſua elegancia. | Vale. | | [ licences (author: )] [ end licences ] | [ title ] LICENÇAS | DO SANTO OFFICIO. | V Iſtas as informações, pode-ſe imprimir a Chronica delRey D. Di- | niz,e depois de impreſa tornará para ſe conferir,e dar licença,que | corra, ſem a qual naõ correrá. Lisboa Occidental 29. de Agoſto | de 1727. | Fr. Lancaſtre. Cunha. Sylva. Cabedo. | DO ORDINARIO. | V Iſta a informaçaõ pode-se imprimir a Chronica de que ſe trata, e de- | pois de impreſa tornará para ſe conferir, e dar licença,que corra ſem | a qual naõ correrá. Lisboa Occidental 9. de Outubro de 1717. | D.F.A.L. | DO PA,CO. | SENHOR. | J A na cençura da Chronica delRey D. Affonso III. que V. Mageſ- | tade foy ſervido commeterme, diſe, que a mayor recomenda- | çaõ para o prelo, era o nome de ſeu Author. Neſta delRey D. Diniz, e | nas mais facilmente ſe diſtinguirá o que for parto do entendimento de taõ | grande Choniſta, pois de alguns eſcritos ſe duvida ſerem ſeus. E ſendo | quem os ler juis recto, ficará ao arbitrio da ſua prudente critica o exame | da verdade delle: ſendo ſempre muito util que ſe imprimiraõ por ſer a liçaõ | das Hiſtorias eſtudo da mayor utilidade, porque nellas ſe achaõ todos os | principios da verdade; da prudencia, e da ſabedoria. Iſto meſmo me pare- | ce quanto às Hiſtorias delRey D. Affonſo o IV. e delRey D. Duarte em ~q | concorrem os meſmos motivos,por naõ multiplicar cençuras.V.Mageſta- | de mandará o que for ſervido. Lisboa Occidental 25.de Outubro de 1727. | Manoel de Azevedo Soares. | Q Ue poſa imprimir, viſtas as licenças do Santo Officio, e Ordina- | rio, e depois de impreſo tornará à Meza para ſe conferir, e taxar, e | dar licença que corra ſem a qual naõ correrá. Lisboa Occidental, 15. de | Novembro de 1727. | Pereyra. Oliveyra. Teyxeyra. Bonicho. | | [ index ] [ end index ] | INDEX | DOS CAPITULOS DESTE LIVRO. | C AP. I. Como ElRey D. | Diniz ſendo Ifante foy ale- | vantado por Rey, e obede- | cido, e das virtudes,que te- | ve.pag. I. | CAP. II. Como ElRey D. Diniz | cazou com Dona Iſabel, filha del- | Rey D. Pedro Daragam, e da | Rainha Dona Coſtança, e de | ſuas grandes virtudes, e ſanti- | dade.pag.3 | CAP. III. Do fundamento, e cou- | zas que ouve pera ElRey D. Di- | niz aver alguũas Villas, e Caſ- | telos de riba Dodiana, que foraõ | de Caſtella.pag.I3. | CAP. IV. Dos filhos legitimos que | ElRey D. Diniz ouve da Rainha | Dona Iſabel, e aſi doutros baſ- | tardos.pag.I4. | CAP. V. Do dezacordo, que ouve | ante ElRey D. Diniz,e ho Ifan- | te D. Affonſo ſeu irmaãõ.pag.I5. | CAP. VI. Do que ſuccedeo do ca- | zamento do Ifante D. Affonſo fi- | lho delRey D. Diniz, e do Ifante | D. Fernando, filho delRey D. | Sancho de Caſtela.pag.I9. | CAP. VII. Como ElRey D. Diniz | entrou em Caſtella, e da crua | guerra que de huũa parte, e da | outra ſe fazia.pag.25. | CAP. VIII. Dos grandes malles, e | danos que huũ Regno ha outro | ſe faziam, e dalguũs Lugares de | Caſtella, que hos Mouros toma- | ram. pag.26. | CAP. IX. Da razam porque El- | Rey D. Diniz deſiſtio deſta guer- | ra,e ſe tornou a Portugal pag.27. | CAP.X. Dos cazamentos, e eſ- | caybos, que depois da concordia | ſe fizeram antre eſtes Rex em Al- | canizes. pag.28. | CAP. XI. Como ElRey D. Fer- | nando cazou com ha Infante Dona | Coſtança, e das menagens que ſo- | breſo ſe fizeram.pag.34. | CAP.XII> Das ajudas que El- | Rey D. Fernando de Caſtella ou- | ve del Rey D. Diniz, pera guerra | dos Mouros de Grada.pag.45. | CAP. XIV. COmo foy feyto em | Portugal Meſtre de San-Tiago | izento da Ordem de Ucres de Ca- | ſtella.pag.48. | CAP. XV. Do fundamento que te- | ve ha Ordem do Templo de Sa- | lamaõ em Jeruſalem, e como foy | desfeyta, e ſe fez ha Ordem de | INDEX | Chriſto, pag 49. | CAP. XVI. Do principal funda- | mento, e verdadeyra cauza pera | eſta Ordem dos Templarios ſeer | deſtroyda.pag.51. | CAP. XVII. Como ho Papa, e El- | Rey de Frana notifiquaram ha | ElRey D. Diniz eſta condenaa | dos Templarios,e de ſua Ordem. | pag.55. | CAP. XVIII. Da diſcordia que | ouve entre ElRey D. Diniz e ho | Ifante D. Affonſo ſeu filho er- | deyro, e has cauzas porque?pag.6I | CAP. XIX. Das couzas que ho If- | te capitulou pera matar Affonſo | Sanches, ſeu irmaão, ou ho deſ- | terrar fra do Regno.pag.64. | CAP. XX> Da deligencia, que El- | Rey fez pera ſaber ha verdade | dos Eſtromentos de Maguazela. | pag.67. | CAP. XXI. Dalguu~as couzas mais | que ho Ifante fez contra vontade, | e ſervio delRey ſeu padre.pag. | 7I. | CAP. XXII. Como ho Ifante ſe | partio de Coimbra para Lixboa,e | do que lhe aconteceo com ElRey | no caminho.pag 73. | CAP. XXIII. Como ho Ifante le- | vou ha molher,e hos filhos ha Caſ- | tella, e hos Lugares que tomou ha | ElRey ſeu padre,pag.75. | CAP. XXIV. Como ElRey, e ho | Ifante foram concordados por | meyo, e interceſam da Rainha | Dona Iſabel, e da maneyra que | neſo teve, e das menagens que | pera ſegurança deſo ſe fizeram. | pag.78. | CAP. XXV. De huu~a carta do | Papa Joha XXII. aho Ifante | D. Affonſo filho delRey D. Di- | niz, ſobre has dezavenas com | ſeu pay. pag.80. | CAP. XXVI. Como ha Rainha | Dona Maria de Caſtella, depois | da morte delRey D. Fernando | ſeu filho, teve viſtas com El Rey | D. Diniz, ha que trouxe ElRey | D. Affonſo menino, neto de am- | bos, e do que concertaram.pag.84. | CAP. XXVII. Como ho Ifante D. | Affonſo aparelhou pera pelejar | com ho Ifante D. Felipe, que con- | trariava ho aſocego de Caſtella, | e como ho Ifante D. Felipe ſe foy. | pag. 85. | CAP. XXVIII. Como ho Ifante | D. Affonſo, requereo ha ElRey | D. Diniz ſeu padre, que fizeſe | Cortes , aas quaaes depois nom | quiz vir.pag.87. | CAP. XXIX. Como ho Ifante ſo- | bre hu~ua vinda, que contra von- | tade delRey quizera fazer ha | Lixboa, foram perto de pelejar, e | porque ho leyxaram de fazer.pag. | 87. | CAP. XXX. Como has gentes del- | Rey, e do Ifante pelejaram ſobre | eſto em Santarem, e do que ſe fez. | pag. 89. | CAP. XXXI. Da morte delRey | D. Diniz. pag. 9I. | CAP. XXXII. Das obras, e cu- | zas notaveis, que ElRey D. Di- | niz fez em ſua vida.pag.94. | [ title ] CORONICA | DO MUI ALTO, E ESCLARECIDO PRINCIPE | DOM DINIZ | SEXTO REY DE PORTUGAL. | [ title ] CAPITULO I. | [ title ] Como ELRey D. Diniz, ſendo Ifantem foy levantado por Rey, e obe- | decido, e das virtudes que teve. | E LREY D. Affon- | ſo Conde que foy | de Bolonham fale- | ceo em Lisboa ha | vinte duas de Mar- | 1179o do anno de mil | e duzentos ſetenta e nove annos, | em idade de ſetenta annos, como | em ſua Coronica ja ſe dice, e por | ſeu falecimento na meſma Cidade, | e tempo foy loguo alevantado , e | obedecido por Rey de Portugal, | e do Alguarve ho Ifante D. Di- | niz ſeu filho legitimo mayor, em | idade de dezoyto annos, avendo | nove mezes, que ſem ſer cazado ti- | nha ja por ElRey ſua caza aparta- | da. Eſte foy do comeo de ſeu | Reynado ate o fim delle ſempre | em todos ſeus feytos muy excellen- | te, e por ſeu bom nome conheci- | do, e eſtimado por tal antre todo- | los Reys do mundo, que teve em | perfeyam tres virtudes, ha ſaber | verdade, juſtia, e nobreza, pelo | qual hos homens que has tem, co- | mo elle teve, claramente ſam avi- | dos de humanos, por divinos, e de | | | mortais por immortais ; e porque | cada huma deſtas elle fez com tal | temperana, e aſi ſempre uzou, | que em cada huma dellas mereceo | de ſer, e foy com rezammuito lou- | vado, e na juſtia foy o ſeu pri- | meyro intento, e cuidado, e puni- | es, da qual quiz loguo reparar | alguns inſultos, e deſmandos, que | dos tempos de ſeu padrem e avoo | ainda avia no Reyno, e principal- | mente em punir, e caſtigar ladres, | e malfeytores, que com merces, | que dava, e diligencias, que fazia, | ahos que eram tomados punia com | mortes, e grandes eſcarmentos, e | ha outros com ſeu temor, eſpan- | tou, e deſterrou da terram eſpecial- | mente hos que em quadrilhas em | alguns ermos onde falteavam to- | mava, aſi como na montanha que | ſe diz de Aor,e na ſerra da mendi- | gua, e em Alpedris, que por ſuas | culpas, e maleficios receberam em | ſuas peſoas cruas penas, de que | davam teſtemunho has muitas for- | as do Reyno que delles eſtavam | cheas. | Foy Principe de bom ſaber;por- | que amou ha juſtia ſobre todalas | couſas, e por eſo foy para todos | muy juſtioſo,e para ſy ſobre todos | juſtiado, e ſua juſtia nom era | ſempre tam ſevera, que quando al- | guns caſos, e tempos ho requeriam | nom miſturaſte com ella muita mi- | ſericordia, e piedade. Nunqua del- | le ſe achou que diceſe mentira, | nem quebra de ſua verdade, e de- | fendeo, e favoreceo muito hos la- | vradores, ha que chamou nervos | da terra, e do Reyno, e teve grande | cuydado dos pobres, e minguados, | ha que ſempre proveo com ſuas | ajudas, e eſmolas, e nas couſas de | ſua fazenda, e caza foy ſobre todos | ho mais provido, e ſolicito, com | que deu maravilhoſo exemplo, pa- | ra que ſeu Reyno todos ho fi- | zeſem, por eſo ſe fez Rey de | grandes tezouros, porque has gen- | tes do Reyno foram tambem em | ſeu tempo muy riquas, e fez muitas | leys por bem, e regimento da ter- | ra, e todas ſem alguma quebra por | ſy ſempre guardou, e mandou in- | teiramente guardar, e foy Principe | tam liberal ſem algum vicio de | prodiguo, que por todalas terras | elle por ſua grande nobreza foy de | todos muy celebrado, e lembrado, | e por ella muitos Senhores de Na- | es diverſas vinham ſua Corte | pelo ver, e elle aſi hos honrava, e | tratava, e com ſuas grandes dadi- | vas aſi hos deſpedia que da fama, | e eſperana, com que ha elle vi- | nham, nom ſe achava enganados, | e ha todolos outros Fidalguos,e Se- | nhores Eſtrangeyros, que por al- | guns caſos tinham de ſua ajuda em- | paro, e ſocorro alguma neceſida- | de, elle nunqua em ſeu Reyno lho | neguou, e ha todos recebia com | muita honra, e fez grandes mer- | ces. | E alguns deſtes foram ho Ifante | D. Joa de Caſtella ſeu tio irma | da Rainha Dona Beatriz ſua ma- | dre, e de D. Reyma de Cardona | | | Daraguam, que deſes Reynos de | Caſtella, e Daraguam eram deſter- | rados, e no de Portugal acolhi- | dos, e tambem D. Joa Nunes de | Lara, Senhor de Bilquaya, que El- | Rey D. Diniz teve prezo, e depois | por grandeza ho ſoltou, e mandou | poer em ſua terra com muitas dadi- | vas, e grandes merces que lhe fez, | com que honradamente, e com | muitos Cavalleyros ho ſoltou, e | mandou poer em ſua terram como | aho diante ſe dir. Eſte Rey, por- | que ſempre dezejou de fazer guer- | ra ahos infieis, e elle nom tinha | terra, que ja foſe de ſua conquiſta | trabalhava de lhe fazer continua- | damente por mar com armadas, e | frotas, que contra hos Mouros Da- | friqua, e de Grada ſempre trazia, e | nunqua ſe acha que contra elles fi- | zeſe paz, nem lhe deſe treguoas, e | has mais couſas que em ſua vida fez | por acreſcentarm e por enobrecer ſeu | Reyno, no cabo deſta ſua Coronica | brevemente ha ſomrey, porq~ ver- | dadeyramente ſe ſayba. | [ title ] CAPITULO II. | Como ElRey D. Diniz cazou | com Dona Iſabel, filha delRey | D. Pedro Daraguam, e da | Rainha Dona Coſtana, | e de ſuas grandes vir- | tudes,e ſantidade. | S Endo ElRey D, Diniz de vinte | annos, idade aſas conveniente | para cazar, foy aconcelhado da | Rainha Dona Breatiz ſua madre, e | aſi requerido por parte do Reyno | de Portugal,que cazaſe para teer | eſperana de lhe dar Deos erdeyro | legitimo, que ho ſocedeſe, e loguo | lhe foy apontado na Ifante Dona | Iſabel Daraguam, que eſtava por | cazar filha delRey D. Pedro deſte | nome o IV. e dos Reys Dara- | guam ho undecimo, e da Rainha | Dona Coſtana, filha de Manfreu, | Rey dambas as Cezilias, que fora | filho do Emperador Federiquo,ha | qual Ifante Dona Iſabel por ſuas | muitas bondades, e grandes fremo- | ſura era nas Corres dos Reys, e | Principes Chriſtos muyto louva- | da, e por eſo le requeria delles | grandes, e muy altos cazamentos, | no que ElRey D. Pedro ſeu pay | nom podia conſentir vencido ſo- | mente de grande affeyam,que lhe | tinha, com que nom podia padecer | ha privaam de ſua ſanta converſa- | am, e da gracioſa prezena de ſua | viſta, e ſendo ElRey D. Diniz por | eſtes reſpeytos della muito conten- | te; eſtando em Eſtremoz no anno | de mil duzentos oytenta e hum an- II8I. | nos, avendo dous annos que ja | Reynava, ordenou ſeus Embayxa- | dores, e Procuradores para hirem | requerer ha dita Ifante Dona Iſabel; | Joa Velho, Vaſquo Pires, e Joa | Marrins,homens de ſeu Concelho, | e peſoas acerqua delle, de grande | autoridade, e boa eſtima, hos quais | chegram Corte delRey Dara- | guam, que eſtava em Barcelona, | | onde ſobre o meſmo caſo ſe acer- | taram outros Embayxadores del- | Rey de Frana, e delRey de Ingra- | terra, que para cazamentos de ſeus | filhos erdeyros enviavam requerer | ha dita Ifante. | Pelo que ElRey D. Pedro ven- | do que alguns deſtes Principes ja | ſe nom podia eſcuzar confirando, | que com hos fillios delRey de Fr- | a, e de Ingraterra pelos muito | conjuntos divididos de ſangue, que | com elles tinha, elle ſem diſpenſa- | a Apoſtoliqua ha nom podia di- | vidamente cazar, e que em caſo | que com cada hum delles cazaſe | nom ſaya de ſua caza Rainha, mas | Ifante, ouve por bem de outorgar, | que cazaſe com ElRey D. Diniz, | porque ſem mais longuas eſperan- | as, ella foſe loguo Rainha. Pelo | qual ho dito Joa Velho, que dos | ſobreditos Procuradores era peſoa | para eſo eſpecialmente deputada, | recebeo ha dita Ifante por molher | delRey D. Diniz, e depois de aſi- | narem tempo certo em que avia de | ſer trazida, hos Embayxadores ſe | tornaram a Portugal, e porque | antre os grandes guoſtos, e mui- | tos proveytos das Eſtorias, ha decla- | raam verdadeyra das linhagens, e | deſcendencias dos Principes, e Se- | nhores conſegue ho mais pequeno, | e vejo que hos Iſtoriquos, que dos | Reys, e ſeus feytos, que eram pre- | zentes eſcreveram elles, porque ſe- | milhantes declaraes de geraes | ſerem ha eſtes tempos rezentes pu- | briquas, e muy notorias, has cala- | ram, e nom eſcreveram, e por eſo | aho diante por ha longura do tem- | po, e has fraquezas das memorias | ſe cauzam duvidas, e confuzoens, | que muito deſcontentam. | Por tanto nom ſomente nom | pareceo couza injuſta, mas muy | neceſaria declarar algum tanto de | mais longe ha geraam de que eſta | Rainha Dona Iſabel deſcende, e | com que geraoens Reaes foy lia- | da. Porque he de ſaber, que ElRey | D. Pedro deſte nome ho terceyro, | e dos Reys Daraguam ho noveno, | cazou com ha Rainha Dona Ma- | ria, filha de D. Guilhermo de Mom- | pilher de que ouve hum filho, que | ho ſocedeo dito D. James deſte | nome o primeyro, e dos Reys Da- | raguam ho decimo, eſte D. James, | como nas Coronicas Daraguam ſe | affirma, foy concebido ha caſo, e | ſeu nome poſto por milagre, por- | que ElRey D. Pedro por ſua natu- | ral condiam, ou por ſeu vicio era | muito dado s molheres eſtranhas, | e muito pouquo Rainha ſua mo- | lher, ha que por conſentimento de | hum Camareyro delRey eſcondi- | da, e muy ſecretamente ſe lanou | de noyte na cama delRey em lu- | guar de huma moa, com que elle | tinha affeyam, e aquella noyte | concebeo do marido, e conhecida | por ElRey, que do caſo foy enver- | guonhado,ella ſe nom quiz alevan- | tar da cama ate ho outro dia muy | claro em que de muitas gentes ſe | fez alli vir conhecer, e daquelle | proprio dia de que mandou tomar | | | pubriquos teſtemunhos ha nove | mezes pario hum filho, com que | ElRey ouve muito prazer, e por | devaam, e mais ſegurana de ſua | vida, mandou loguo offerecer ho | menino ha huma Egreja, e enco- | mendallo ha Deos. | Preguntando ElRey pelo Offi- | cio, ou Pſalmos, que ſe rezavam | aho entrar della, foy certifiquado, | que ha eſte tempo hos Sacerdotes | cantavam Te Deum laudamus,e | daquella primeyra Egreja ho man- | dou levar ha outra ſegunda, onde | pela meſma maneyra ſoube, q~ aho | entrar della com ho menino ſe di- | zia Benedictus Dominus Deus Iſ- | rael, e ſendo ambos pay, e my em | conſulta do nome, que lhe poriam, | ha Rainha ſua madre dice, que ſua | vontade, e devaam era parindo fi- | lho, que ouveſe ho nome de cada | hum dos doze Apoſtolos, e para | eſo mandou loguo fazer doze can- | deas de cera por igual medida, e pe- | zo, e em cada hu~a hum eſcrito,e em | cada hum eſcrito ho nome de cada | hu~ dos doze Apoſtolos, e com ellas | juntas, e ha hum proprio momen- | to acezas mandou dizer huma Miſ- | ſa ſolene do Eſpirito Santo, e no | cabo della has candeas todas arde- | ram, ſalvo ha que em nome de San- | Tiaguo foy poſta, que fiquou mais | inteyra, e por eſo no ſeu nome de | James, foy loguo cazado com ha | Rainha Dona Lionor, filha delRey | D. Affonſo deſte nome ho noveno | de Caſtela, irma da Rainha Do- | na Orraqua de Portugual, de que | ouve hum filho D. Affonſo, que | faleceo, e foram ambos depois pela | Egreja aparrados, e depois elle ca- | zou com ha Rainha Dona Violan- | te, filha que foy de D. Andr Rey | Dumgria, de que ouve eſtes filhos | ha ſaber: D. Pedro, que apoz elle | Reynou em Araguam, e D. James, | que foy Rey de Malhorqua, e Me- | norqua, e D. Sancho que foy Ar- | cebiſpo de Toledo, e foy morto | em huma batalha em Andaluzia, | que ouve com hos Mouros, e Dona | Coſtana, que foy cazada com ho | Ifante D. Manoel de Caſtela avoo | da Ifante Dona Coſtana, molher, | que foy delRey D. Pedro de Por- | tugual, e Dona Violante, que ca- | zou com ElRey D. Affonſo ho de- | cimo de Caſtella,, avoo delRey D. | Diniz de Portugal, e Dona Iſabel, | que cazou com D. Felippe Rey de | Frana, filho, e erdeyro delRey S. | Luis. | E eſte Rey D. James foy ho que | tomou ſegunda vez Valena Dara- | guam aho Mouros por cerquo, e | fora, porque da primeyra vez,que | por ho Cide Ruy Dias foy tomada, | elles Mouros no proprio tempo de | ſua morte ha tornaram ha cobrar, | e ate eſte Rey ha tiveram. E eſte | Rey D. James depois de muito ve- | lho, enom podendo ja ſofrer ho | pezo,e carreguo do regime~to de ſeu | Reyno fez alevtar, e obedecer por | Rey aho Ifante D. Pedro ſeu filho, | e elle meteoſe Monge no Moeſtey- | ro de Santa Cruz, de Monges bran- | quos, onde jas ſepultado. | Eſte Rey D. Pedro ſeu filho deſ- | te nome ho quarto, e dos Rey Da- | raguam ho onzeno, contra vonta- | de de ſeu pay cazou c Dona Coſ- | tana, filha delRey Manfreu, que | foy dambas as Cezilias, filho baſ- | tardo de Federiquo II. Emperador | Dalamanha, e Rey de Cezilia,e de | Napoles, que foy Erege, e mo ho- | mem, e cruel, e perſeguidor da | Egreja, aſi como fora ſeu avoo, ho | outro Federiquo, que dicera Bar- | barroxa, ho qual Emperador Fede- | riquo II. ſendo doente em Fruel- | mela Luguar do Reyno Dapulha | por conſentimento de hum ſeu Ca- | mareyro foy afoguado, e morto | por eſte ſeu filho Manfreu, que ſe | chamava Principe de Tarento, pa- | ra loguo aver como ouve, ſeus te- | zouros, que eram muy grandes, e | eſta abominavel maldade fez por | tal que em algum teſtamento, que | ho pay podera fazer , nom deſpo- | zeſe de ſuas riquezas ho contrayro | do que dezejava. | E deſte Emperador fiquou hum | filho legitimom que chamavam | Conrado, que era em Alemanha, | e vindo para Napoles de Cezilia, | que direytamente lhe pertencia | tambem Manfreu ſeu irma em | hum paſtel ho fez matar com pe- | onha, e deſte Conrado fiquara | hum filho menino erdeyro dito | Conradino,que em miſtura de cer- | tos prezentes, e joyas tambem ſeu | tio ho quizeram matar c peonha, | mas ha Rainha my do menino | como muy prudente, e receoſa das | manhas de Manfreo aprezentou | em luguar do filho outro menino | en tudo conforme, que por elle lo- | guo morreo, ho qual Manfreu por | morte de Conrado ſeu irma com | has muitas riquezas, que tinha oc- | cupou loguo, e ouve o Reyno de | Cezilia, que ſendo ſobre eſo pelo | Papa Alexandre eſcommunguado, | e perſeguido com exercito para | que deixaſe ho Reyno, elle por | ſua ajuda meteo em Italia muitos | Mouros de Tunes, e Dafriqua c | que desbaratou ha gente do Papa, | e fez em Italia grandes deſtroies, | e levou della grandes deſpojos. | Pelo qual ho Papa Urbano IV. | enviou em Frana chamar ha Car- | lo irma delRey S. Luis ha quem | fez Alferes da Egreja, e lhe deu | hos Reynos de Napoles, e de Ce- | zilia, porque hos cobraſte de Man- | freu, que tiranamente hos uſurpa- | va, e Carlo ajuntou muita gente, | e com ajuda do Papa ouve batalha | com Manfreu junto de Benavente | em Italia onde ho dito Manfreu | foy morto, de que hos Reynos de | Cecilia, e de Napoles fiquaram lo- | guo pacifiquos ha Carlo, eſpecial- | mente, que depois da morte de | Manfreo tambem Carlo matou | em outra batalha ho Conradino | neto de Federiquo, ho que Man- | freu quizera nas joyas matar, por- | que com grande exercito veo con- | tra Carlo para cobrar hos Reynos | que dizia lhe pertencerem de di- | reyto, e na contenda foy morto, e | ſendo Carlo neſa poſe dambos | | | hos Reynos ſobreveo,que por qu- | to hos Francezes tratava has gen- | tes de Cezilia com inhumanos rou- | bos, e cruezas, e deſprezos, deſo- | neſtidades, diſolues: elles todos | de que ha Cidade de Palermo, foy | ho principio, indinados contra hos | Francezes ſendo ja para eſo ſe | cretamente exortados, e favoreci- | dos delRey D. Pedro Daraguam, | em hum dia hos mataram todos, e | para vinguana deſta rebeliam, e | mortindade dos ſeus, ElRey Car- | lo, que nom era em Cezilia aju- | dado de grandes potencias veo ha | Cezilia, e cerquou eſtreytamente | ha Cidade de Mecina, que loguo | com has outras Cidades da Ilha | enviaram pedir ſocorro aho dito | Rey D. Pedro, ha quem pediam | amparo, e ajuda, e por eſo lhe of- | fereceram ha entrega do Reyno, | que diziam lhe pertencer direyta- | mente pela Rainha Dona Coſtana | ſua molher, filha do dito Rey Man- | freu, de que nom fiquara outro er- | deyro legitimo, que ho ſocedeſe. | Por cujas preces, e requerimen- | tos, commovido ElRey D. Pedro, | principalme~te por cobrar ho Rey- | no de Cezilia,que lho ferecia,elle | com grandes frotas veo loguo ha | Palermo onde recebeo ha obedien- | cia, e Coroa do Reyno, e dahi or- | denou loguo deſcerquar Mecina | em cuja perda ſe ha perdeſe,toda | Cezilia ſe perdia, primeiro man- | dou requerer ha ElRey Carlo, que | ſe partiſe, e lhe deyxaſe ſeu Rey- | no, que por ſua molher direyta- | mente lhe pertencia, ho que Car- | lo deſprezou, como ha Embayxa- | da, e requerimento de grande ſo- | berba, e porm com medo delRey | D. Pedro, que pelo maar era muito | mais poderoſo, receoſo de lhe to- | lher hos mantimentos para ſeu | exercito, deyxou ho cerquo de | Mecina, e ſe foy ha Calabria, e | dahi mandou chamar ha Carlo | Principe de Salerno, ſeu filho que | era em Frana, ho qual com gran- | de poder ſe ajuntou com ſeu pay | em Roma, onde ſe queyxaram del- | Rey D. Pedro aho Papa Martinho | IV. da fora, e danos de Cezilia | feytos contra direyto, dizendo que | Carlo por armas, e em campo lhe | faria conhecer ſeu erro, e tirania. | Ha quem ElRey D. Pedro com eſcuzas | coradas das couſas paſadas | ſe mandou defender em Roma por | ſeus Embayxadores, hos quaes por | guanharem tempo, e eſcuzarem ha | yda dos Francezes ſobre Cezilia, | porque eſtavam muito poderoſos | concordaram em nome delRey D. | Pedro por juramentos ſolenes, que | ha contenda deſe Reyno ſe partiſ- | ſe por deſafio dambos hos Reys em | peſoas, e com cem Cavalleyros | cada hum fomente, e que foſe em | Bordeos, que ha eſe tempo era del- | Rey Dingraterra, e que aho Rey | vencedor fiquaſe livremente, e | ſem contradiam ho dito Reyno | de Cezilia, do que ElRey Carlo | foy muy contente, para concorda- | rem ho deſafio, e ElRey D. Pedro | deyxou Guovernador, e como Rey | | | de Cezilia ElRey D. James ſeu fi- | lho, e veoſe Araguam, e Carlo pa- | ra regimento, e defenam deyxou | tambem ſeu filho Carlo Principe | de Salerno, e paſou em Frana, pa- | ra cada hum com ſuas valias, que | levavam por ſegurana do campo | irem comprir ho deſafio para que | era aſinado dia certo no mez de Ju- | nho, ho qual dia Carlo pareceo em | Bordeos, com hos ſeus Cavalleyros | armados, deyxando ha huma jor- | nada ElRey Felippe de Frana c | grande ſeu exercito por ſegurador. | Mas ElRey D. Pedro nom pa- | receo pubriquo em Bordeos, e po- | rm ſe diz, que por nom quebrar | ho juramento, que fizera ſe moſ- | trou ahi alguns em ſecreto, e que | de como parecera tomou por ſua | eſcuza eſtormentos, e ſe volveo ha | ſeu Reyno com grande preſa,e por | eſte enguano de q~ ElRey deFran- | a, e Carlo ſeu tio, e ho Papa jun- | tamente foram muito eſcandaliſa- | dos, ho Papa eſcommungou El- | Rey D. Pedro, e deu contra elle | Cruzada, e concedeo ho Reyno | Daraguam com grande ſolenidade, | e com grande doaam ha Felippe | Conde de Valois, ſegundo genito | delRey Felippe de Frana, que ca- | zou com huma neta delRey Carlo | ſeu tio Principe de Salermo. E neſte | tempo antes de ſe executar ha Cru- | zada contra ElRey D. Pedro, hum | Rogerio Delora, Almirante del- | Rey D. Pedro com grande frota ſe | foy viſta de Napoles, onde Carlo | filho delRey Carlo fiquara por | Guovernador, ho qual por ſeu muy | riquo ſangue de que deſcendia nom | podendo ſofrer has muytas injurias | que do Almirante Daraguam em | ſua peſoa recebera,guiado mais do | favor de ſeu esforo, que do verda- | deyro fizo, nem dos preceytos de | ſeu pay, que nom guardou, fahio | com ſua frota, que tambem conſi- | guo tinha, e pelejou no maar com | ho Almirante, ho qual por ſer de | ſy meſmo tam afouto, e nas pelejas | do maar muy afortunado venceo, | e prendeo Carlo com muitos ho- | mens de ſua companhia, e prezo | com hos ſeus, loguo foram levados | ha Cezilia, e poſtos em carcere em | Mecina. | Aho qual infortunio de Carlo, | ElRey Carlo ſeu pay querendo | proverſe ſe foy ha Guayeta, e por- | que com effeyto nom podia ſeu de- | zejo ſatisfazer, de nojo adoeceo, e | ſegundo ſe diz morreo de triſteza, | pelo qual hos de Mecina, porque | eram por eſte caſo apertados pelo | Papa com grandes eſcmunhes,e | antreditos ſabendo ha morte del- | Rey Carlo por mais ſua vinguana | ſe foram ahos carceres, onde eſta- | vam hos Francezes para hos mara- | rem, e porque hos prezos eram ho- | mens, e bons Cavalleyros ſe poſe- | ram em defenam, e reſiſtencia, e | foram dos Cezilianos nos meſmos | carceres mortos ſem piedade, e | queymados, e aſi quizeram fazer | aho Principe Carlo, ſe ha Rainha | Dona Coſtana molher delRey D. | Pedro, que ha eſe tempo era em | | Cezilia lhe nom valera, porque eſ- | tranhou fazerſe tam crua juſtia; | ſem mandado,nem autoridade del- | Rey D. Pedro ſeu marido, e dally | concordaram, que Carlo foſe le- | vado prezo, como foy Araguam, | onde era, e avendo quatro annos, | que ho dito Carlos era prezo depois | da morte delRey D. Pedro, Rey- | nando em Araguam ElRey D. Af- | fonſo ſeu filho, foy por meyo del- | Rey D. Duarte Dingraterra ſolto | ſobre ha refens, que Carlo deu de | tre filhos ſeus legitimos, e ſinquo- | enta Cavalleyros nobres do Con- | dado de Proena, e pelas deſpezas | trinta marquos de prata, com con- | dia, q~ elle renunciaſe ho direyto | q~ tinha em Cezilia,e fizeſe renun- | ciar ha Carlo de Valois ho direyto | q~ ho Papa lhe dera em Araguam. | E por eſto, e por cazamentos q~ | depois antre elles ſe fizeram fiquou | ahos Reys Daraguam ho direyto | no Reyno de Cezilia; como quer | que ſobre eſta meſma contenda an- | tes de ſe fazer ha meſma concordia | ElRey Felipe de Frana, e ſte | Rey D. Pedro Daraguam falece- | ram ambos ſobre ho cerquo de Gi- | rona, ha ſaber, ElRey de Frana | por doena, e ElRey D. Pedro por | dezemparo, e treya dos ſeus, foy | morto ha ferro, como nas Coroni- | cas de Fra,e Daraguam mais lar- | guamente ſe decrara. | E deſte Rey | D. Pedro Daraguam, e da Rainha | Dona Coſtana ſua molher fiqua- | ram eſtes filhos,ha ſaber D. Affon- | ſo filho primeyro, ha q~ diſera ho | Caſto, q~ apoz eſte Reynou, e ſem | cazar morreo Frade no abito de S. | Franciſquo, e D. James ha q~ fiquou | ho Reyno de Cezilia, depois q~ elle | foy Rey Daraguam, e Dona Vio- | lante,que depois cazou com ElRey | Carlo, irmam de S. Luis Biſpo de | Toloza,e Dona Iſabel molher del- | Rey D.Diniz de Portugual. E tornando ho proceſp aho fio | de ſeu cazamento, que atraaz ley- | xey aho tempo, que eſte cazamen- | to ſe fez em Araguam, eram gran- | des guerras, e differenas em Caſ- | tella, antre ElRey D. Affonſo ho | decimo, e ho Ifante D. Sancho, ſeu | filho, cuja parte ElRey D. Pedro | Daraguam favorecia, e ſeguia, e | por eſte caſo receando enviar | ſua filha por terra ha ſeu marido | ElRey D. Diniz, ordenava que | vieſe por maar, mas por outros pe- | jos que da vinda do maar ſe offere- | ciam, ordenou de toda via vir por | terra, e em ſua companhia enviou | ho Biſpo de Valena, e muitos ou- | tros Cavalleyros dos milhores de | ſua terra, e lhe deu muy riquas jo- | yas douro, e de pedraria, e grande | bayxella de prata, e com ella veo | tambem ElRey ſeu padre ate ho | eſtremo de Caſtella, onde ante de | ſe eſpedirem falaram ambos apar- | tados por grande eſpao, e em ſe | eſpedindo ElRey della, elle com | olhos cheos de muy ſaudoſas la- | grymas lhe dice. | Filha, Deos que te chamou pera | eſte cazamento, e lhe prouve que de | minha caza ſaiſes Rainha, elle neſte | | | caminho te queyra guardar, pera | que nom recebas pejo, nem dano al- | gum, e Deos que na terra onde naſ- | ceſte te amou,e quiz que de todos ſem- | pre foſes amada, endereſa tua vi- | da, e teus feytos neſa pera onde | vaaz de maneyra que ſempre faas | couzas de ſeu ſanto ſervio, e te de | ſempre avena, e boa concordia com | teu marido. | E com eſto ſoltando-a dos bra- | os com que ha teve apertada,cho- | rando lhe deytou ha benam de | Deos, e ha ſua, e aſi ſe deſpedio | della com finaes de muito ſaudoſo, | e como entrou em Caſtella, veo | ha recebella aho caminho, ho dito | Ifante D. Sancho, ſeu primo com | irma, porque fora filho da Ra- | inha Dona Violante molher del- | Rey D. Affonſo de Caſtella, que | era irma delRey D. Pedro Dara- | guam, e do dito Ifante D. Sancho | de que ha Rainha Dona Iſabel, e | todolos de ſua companhia recebe- | ram muita honra, e boom trato, e | ho Ifante lhe dice: Senhora ElRey | voſo padre meu tio, em minhas ne- | ceſidades me fez ſempre tanto fa- | vor, e me deu tam grandes ajudas, | que por eſo, e principalmente por | quem vs ſois, eu com boa vontade | ate Portugual fora com voſquo, | mas por eſtas guerras em que ando, | que he neceſario que ſempre prove- | ja com minha peſoa, ho nom poſo | aguora fazer, e peovos que deſta | culpa me releveis, e ſabey que pera | has couſas de voſa honra, e ſervio | ſempre me achareis diligente, e mui- | to aguardecido,mas eu enviarey com | voſquo ho Ifante D. James meu ir- | ma, que vos acompanhe. | E aſi proſeguiram ſua viagem | ate cheguarem ha Braguana,on- | de ſua entrada fora concordada, e | alli eram ja, que eſperavam por | ella ho Ifante D. Affonſo, irma | legitimo delRey D. Diniz, e ho | Conde D. Guonalo, cazado com | Dona Lionor, tambem ſua irma, | filha baſtarda delRey D. Affonſo | Conde de Bolonha, e aſi outros | Perlados, e riquos homens do Rey- | no de Portugual,e dally ſe deſpedio | della ho Ifante D. James, e ſe tor- | nou pela Caſtella, e ho Ifante D. | Affonſo, e hos Perlados, e Senho- | res de Portugual trouxera ha Rai- | nha ha Tranquozo, onde veo El- | Rey D. Diniz, e ha recebeo em | peſoa, e depois de feytas ſuas ben- | es ordenadas pela Egreja, fize- | ram alli ſuas vodas com muy gran- | des feſtas, e com muy grandes ale- | grias no mes Daguoſto do anno de | mil duzentos oyte~ta, e dous annos, I282 | pera ho q~ no campo de Tranquozo | ſe fizeram grandes, e cuſtozas ca- | zas, e ElRey ſe partio dally com el- | la, e lhe ordenou loguo caza, e deu | ſeus officiaes, terras, e aſentamen- | to ſegundo ha ſua honra, e eſtado | compria. | E eſta Rainha Dona Iſabel poſ- | to que por obediencia, e mandado | delRey ſeu padre, e por neceſida- | de de bem, e paz deſtes Reynos, | foſe corporalmente cazada com | ElRey D. Diniz ha que tinha gran- | | | de amor, ella porm com todalas | obras e finaes de muy Santa, nom | leyxava eſpiritualmente de ſer ca- | zada com Deos, ha quem com tan- | ta abſtinencia, e continuas oraes | ſempre ſervia, e contemplava co- | mo ſempre fizera, ſendo donzella | em caza delRey Daraguam ſeu | padre, porque ſendo cazada, por | hum Breviayro por devoto coſtu- | me, tinha por ſeu deſenfadamento | mis familiar, em todolos dias re- | zava todalas horas Canonicas, e de- | pois deſo tomava outros livros de | couzas eſpirituaes, e devotas, e por | elles lendo retraida muitas vezes | com muitas lagrymas de devaam | ha viram chorar, e depois deſte | virtuoſo officio, que cada dia orde- | nadamente tinham por nom eſtar | ocioza cuſtumava por ſuas mos | lavrar, e fazer couſas douro,ſeda,e | prata, e ſobreſo com ſuas donas, e | donzellas praticava ſempre em | couſas devotas, e oneſtas, e porque | ſua fe foſe por obras mais prefey- | ta, e de moor merecimento, ella ha | moor parte de ſuas rendas dava ſe- | cretamenteha peſoas miſeraveis | em que ſabia, que avia verguonho- | zas neceſidades, eha eſtas era tam | liberal, e piedoza, e com tam lim- | po coraa, e tam graciozo roſtro | lhe dava o ſeu, que por ella muy | verdadeyramente ſe dizia, que das | viuvas, e orfans era piedoza madre; | e ella foy ſempre em todas as ſuas a- | verſividades, e deſcontentamentos, | que lhe ſocediam, muy armada de | paciencia, porque nella nunqua | foy conhecida ira, nem ſanha, hu- | ma ora mais que outras, e has vin- | guanas, que tomava dos males, e | deſcontentamentos, que dalguem | recebia, eram gracioſos perdes | ſem querer tomar per ſy, nem por | outrem alguma outra emenda. | Era em ſuas palavras muy man- | ſa, e em ſuas obras muy conforme | ha toda humildade, ſem algum ale- | vantamento de ſoberba, de maney- | ra,que ha graa do Eſpirito Santo, | de que era aceza de todo, cauſava | em ſua alma hum louvado aſoſe- | guo, e grande devaam, com que | hos dias que ha Egreja mandava | guardar ella ſem quebra dalgum | hos jejuava todos ha conduto, ſem | comer mais que huma ſo vez, e | alm deſo fazia jejuns de pa, e | aguoa todalas ſeſtas feyras do an- | no, e Veſperas dos dias de N. Se- | nhora, e ſobreſo em toda huma | quarentena, que vem em cada hu~ | anno de S. Joa Baptiſta, ate Sta | Maria Daguoſto, e ate ho S. Mi- | guel, e outra quoreſma dos Anjos, | que hee des ho dia de N. Senhora | Daguoſto, e aſi de dia de todolos | Santos ate Veſpera de Natal nom | comia, nem bebia ſe nom pa, e a- | guoa huma ſo vez no dia, de ma- | neyra que fazia eſte tam aſpero je- | jum has duas partes do anno, e aſi | teve outras muitas, e muy ſingula- | res virtudes, com que pareceo que | venceo ſuas foras humanas, e por | ellas aprouve ha N. Senhor fazer | em ſua vida muitos milagres, e de- | pois de ſua morte muitos mais, e | | | dos de ſua vida ſegundo achey por | inquiries de teſtemunhas dinas | de fe, e muy autorizadas foy, que | em Lisboa ha veo ver huma dona | do Moeſteyro Dodivelas, que por | huma aposſtemaam,e inchao que | tinha no eſtamago, era muito do- | ente,e deſpoſta ha morte, e ha Rai- | nha aho eſpedir della lha vio, e | benzeo com ho ſinal da Cruz com | que o Moeſteyro ſe achou loguo | aſi ſam,como ſe daquelle mal nun- | qua fora toquada. | E porque eſta dona ha todos ho | proviquava por milagre,ha Rainha | ha mandou chamar,e reprendendo-a, | e lhe mandou, que mais ho nom | diceſe, porque ſe algum bem rece- | bera nom fora de ſua ma,nem del- | la, que era peccadora, mas ſo da | virtude de Deos, que ho louvaſe. | E eſta Rainha por final da ſua hu- | mildade cuſtumava em todas has | feſtas da quoreſma lavar por | ſy hos pes ha doze homens, hos | mais leprozos,que ſe podia achar, | e eſto fazia aſi ſecretamente que | ElRey particularmente ho nom | ſoubesse, e eſtando em Santarem | depois, que hum dia fez eſte lava- | torio, mandou dar bem de comer | ahos pobres, como ſempre fazia, e | em ſe elles ſaindo eſcuzos do Pao | acertouſe, que hum porteyro com | ſanha deu ha hum cuydando q~ era | outro homem, tal golpe na cabea | de que loguo cahio em terra aſaaz | ferido, e huma dona, que eſto vio, | recolheo ho pobre em ſua caza on- | de loguo ha Rainha ho foy ver, e | depois de ho curar por ſua mam, e | lhe dar dinheyro pera ſua deſpeza | ſe deſpedio, e aho outro dia que | mandou ſaber de ſua diſpoſiam | achara-no de todo ſa. | E na Semana Santa, na Quinta | feyra de Lava pes, em lavando ha | treze molheres pobres enverguo- | nhadas, huma dellas acertou, que | tinha hum pe comeſto de pragua, | e dous dedos aſiſtolados, que eſta- | vam para cair, depois que ha Rai- | nha lhe lavou ho ſa, ella eſcondia | ho doente, e eſcuzandoſe por ſeu | mal de ho querer moſtrar, forada | dos roguos, e deſpejos da Rainha, | lho moſtrou, e nom ſomente lho | lavou manſamente, mas humildo- | ſamente lho beyjou na propria cha- | gua, e depois que ha todos deu de | comer, e veſtir, como tinha por | coſtume, em ſe ſaindo do Pao a- | quella molher doente indo na com- | panhia de outras ſe achou de todo | ſam. E huma Orraqua Vaſques | molher da Rainha, era de muitos | tempos doente de tal dor, que ca- | hia amortecida, e com tormentos, | que lhe dava eſcaſamente, e com | difficuldade ha faziam retornar | vida, e ſabendo ha Rainha, que has | muitas meyzinhas, e remedios dos | Fiſiquos lhe nom aproveytavam, | ella no dia de ſua payxam ha ben- | zeo c ho ſinal da Cruz, e aprouve | ha Deos,q~ loguo acordou,e depois | foy ſempre em ſua vida livre de | taes acidentes. Eſtando ha Rainha | em Alamquer muito doente de hu- | mores frios pera que hos Fiſiquos | | por meyzinha lhe mandavam be- | ber vinho no puquaro porque be- | bia, ella ho nom quiz fazer, tra- | zendolhe aguoa pera ella beber mi- | lagroſamente ſe tornou duas vezes | vinho no puquaro porque bebia. | Eſtes, e outros milagres muitos ſe | acha,que N. Senhor pelos mere- | cimentos deſta Santa Rainha fez | em ſua vida, e muitos mais depois | de ſua morte,de que aho diante por | ſua devaam, e louvor darey algu- | ma particular, e breve conta. | [ title ] CAPITULO III. | Do fundamento, e couſas, que | ouve para ElRey D. Diniz | aver algu~as Villas,e Caſ- | tellos de riba Dodiana, | q~ fora de Castella. | A Ho tempo que ElRey D. Af- | fonſo Conde de Bolonha fa- | leceo, e depois em alguns primey- | ros annos do Reynado delRey D. | Diniz, ElRey D. Affonſo de Caſ- | tella, ſeu avoo ate hos derradey- | ros dias de ſua vida, ſempre foy | perſeguido de grandes guerras, e | muitas neceſidades, cauſadas pela | errada deſobediencia, e desleal a- | levantamento, que ho i~fante D. S- | cho ſeu filho, e hos do Reyno de | Caſtella,e de Liam contra elle uſa- | vam, pelo qual ha Rainha Dona | Beatriz ſua filha muy pie- | doſa, e por lhe paguar em alguma | maneyra has dividas, que por obri- | guaam Divina, e humana lhe de- | via, loguo como ElRey D. Diniz | ſeu filho foy cazado, foy ha ElRey | D. Affonſo ſeu pay, que eſtava em | Sevilha, pera em tantas ſuas averſi | dades, e infortunios, como pade- | cia, ella ho ſocorrer, e confortar, | e aconſelhar, ſem ho nunqua ley- | xar ate ora da morte delRey, ha | que ella foy prezente, e cuja teſte- | menteyra principal com outro fi- | quou, e porque ella lhe ſocorreo | com todo ho dinheyro de ſua fa- | zenda, e com todalas joyas de ſua | peſoa, e com todalas rendas,e gen- | tes,que tinha,e podia aver de Por- | tugual, pelo qual neſte meyo El- | Rey D. Affonſo pelo grande amor, | que tinha Rainha ſua filha,como | jaa dice, e por lhe ſatisfazer has | boas obras, que della recebera fez | ha ella eſpecial doaam da Villa de | Niebla, que hee em Andaluzia ha | que chamam Reyno, com todolos | Caſtellos, e rendas que ha ella per- | tencem, e aſi lhe fez mais doaam | das Villas de Serpa,Moura,e Mou- | ram, Noudar,que ſa em riba Do- | diana, por carta que foy dada em | Sevilha quinta feyra quatro dias de | Maro do anno de mil duzentos I233- | trinta e tres annos. | E porque Moura, e Serpa, e | Mouram era da Ordem do Eſpri- | tal de S. Joa de Caſtella ho dito | Rey D. Affonſo pera milhor,e mais | livremente poder dar has ditas Vil- | las dita Rainha ſua filha, por ſe- | rem conjuntas aho dito Reyno de | | Portugual ante algum tempo, que | ſe fizeſe ha dita doaam elle por | autoridade, que ſe ouve do Gram | Meſtre, e por conſentimento do | Prior, e Freyres da dita Ordem em | Caſtella fez com elles eſcaybo das | ditas Villas pera lhe fiquarem li- | vres,e por ellas deu em Caſtella pe- | ra fiquarem dita Ordem pera | ſempre Touro, e ha Egreja de San- | ta Maria da Veyga, e hos direytos | de Cayrola, e has Martineguas, e | direytos de Guaronha, e de Feerne, | e de Paralyves, com outros Lugua- | res, e outras muitas rendas, e direy- | tos, que ſo expreſamente decra- | rados, ho qual eſcaybo ante da doa- | am ſe fez por carta feyta em San- | to Eſtevam de Guormas, tera fey- | ra onze dias de Maro de mil du- | I28I zentos oitenta e hum annos ſobeſ- | crita por Guarcia de Toledo, Se- | cratayro, ha qual doaam deſtas | Villas ElRey D. Affonſo antes tres | annos, que faleceſe, fez Rainha | Dona Breatiz ſua filha. Depois da | morte delRey D. Affonſo Conde | de Bolonha ſeu marido, em Rey- | ndo ElRey D. Diniz, como atraas | dice, e por virtude deſtas doaes | ElRey D. Diniz tinha aquerido ho | direyto deſtas Villas, que por El- | Rey D. Sancho de Caſtella ſeu tio, | e por ElRey D. Fernando ſeu filho | lhe foram empedidas, e embar- | guadas, como aho diante direy. | [ title ] CAPITULO IV. | Dos filhos legitimos, que ElRey | D. Diniz ouve da Rainha | Dona Iſabel, e aſi dou- | tros baſtardos. | E L Rey D. Diniz ſendo cazado | com muito amor, e concordia | com ha Rainha Dona Iſabel, ouve | della eſtes filhos, ha ſaber, ha Rai- | nha Dona Coſtana molher que | foy delRey D. Fernando deſte no- | me ho Terceyro de Caſtela, de q~ | aho diante direy, e go Ifante D. | Afonſo filho erdeyro delRey D. | Diniz, que apoz elle Reynou, ho | qual naſceo em Coimbra ha oyto | dias do mez de Fevereyro de mil I290 | duzentos e noventa, de que aho | diante em ſua propria Coronica fa- | rey inteyra decraraam. E lem | deſtes filhos legitimos, ElRey D. | Diniz ſendo cazado, ouve doutras | molheres com que teve afeyam | ſete filhos, e filhas baſtardos, cada | hum dos quaes foy filho de huma | madre, ha ſaber D. Affonſo San- | ches, que ſe chamou Dalbuquer- | que, ha que ElRey D. Diniz quiz | grande bem, e por quem ho Ifante | D. Affonſo foy com ſeu pay em | grandes deſvayros, como aho di- | ante direy, e D. Pedro que foy de- | pois cazado com Dona Branqua, | filha de Pedre Annes de Portel, fi- | lho de D. Joo de Boim, e de Do- | na Coſtana Mendes, filha de D. | Mem Guarcia de Souza, e outro D. | Pedro, que depois foy Conde em | Portugual, eſte foy ho que fez ho | livro das linhagens Deſpanha, e | foy ſingular homem, e D. Joa | Affonſo, e D. Fernam Sanches, e | Dona Maria, que cazou com D. | Joo de Lacerda, e outra Dona | Maria, q~ foy Monja no Moeſteyro | Dodivelas. | Hos quais filhos baſtardos El- | Rey D. Diniz aſi ouve, vencido da | ſobeja deleytaam de ſua propria | carne, com que afaſtandoſe da Rai- | nha ſua molher nom lhe guardan- | do ha inteyra ley do matrimonio, | ſeguia por induſimentos falſos, e | maos, ha que ſe inclinava mais por | ſua vontade,do q~ por ſua dinidade | Real, e por ſua conſciencia, e oneſ- | tidade ſobreſo devia,e por culpa,e | peccado deſo ſe diz, que em quan- | to ElRey D. Diniz ſe deu ha eſtes | apetitos nom licitos, ſempre decri- | naram as couſas dajuſtia, que | muito amou, e boa guovernana | de ſua caza, e fazenda, que ſobre | todos foya melhor ter, e ha Rainha | poſto,que neſte tempo era em ida- | de, e feyes, e deſpoſiam pera | ElRey ſe della muito contentar, e | ella dever ſentir hos taes aparta- | mentos, e ſolturas delRey, porm | ſe diz, que ella nom moſtrava re- | ceber por eſo payxam, nem eſcan- | dalo algum, antes como eſquecida, | e nom todo toquada de dores, e payxes | tam comuas ha molheres, nom | perdia ha devaam, e exercicio de | rezar, e encomendarſe ha Deos, e | de partir alegremente com ſuas | molheres em couſas honeſtas, e | de ſervio de Deos, e ſobre eſto fa- | zia ho que parecia mais duro, e me- | nos pera fazer, que era dar de veſ- | tir s armas, que criavam hos taes | filhos delRey, e fazer, e procurar | merces ahos ayos, que hos enſina- | vam. | E eſtas virtudes pera outras mo- | lheres nom coſtumadas, vendo-as | fazer tam ſem payxam Rainha | ſendo muy moa, cauzavam ha to- | das muy grande maravilha, mas | ElRey D. Diniz averguonhado | deſtas ſuas fraquezas, e temendo | ha Deos pr emenda de ſua juſtia, | e aſi por apaguar nodas, que tanto | danavam ha limpeza de ſua Real | dinidade, e ſingular condiam ſe | apartou dellas inteyramente, e com | grande ſerenidade ſe privou de to- | dos eſtes defeytos, e ſe poz no di- | reyto, e verdadeyro caminho, que | devia, e ſempre ate ſua morte ho | ſeguio, e guardou. | [ title ] CAPITULO V. | Do deſacordo, que ouve antre | ElRey D. Diniz, e ho Ifan- | te D. Affonſo ſeu irma. | E L Rey D. DIniz tinha hum ir- | ma lidimo ho Ifante D. Af- | fonſo, filhos ambos delRey D. Af- | fonſo Conde de Bolonha, e da Rai- | nha Dona Breatiz, e ha eſte Ifante | D. Affonſo fez ElRey ſeu pay doa- | | am muy ſolene das Villas de Por- | talegre, e Marvam, e de Caſtello | Davide, e Darronches, pera elle, e | ſeus filhos lidimos, ho qual Ifante | em vida delRey ſe padre, foy ca- | zado com ha Ifante Dona Violan- | te, filha do Ifante D. Manuel,filho | delRey D. Fernando II. de Caſtel- | la, e da Ifante Dona Coſtana, fi- | lha do primeyro D. James Rey | Daraguam, e ouve della hum filho | D. Affonſo, que foy ſenhor de Ley- | ria, e faleceo ſem filhos, e ouve | mais tres filhas, Dona Iſabel,e Do- | na Coſtana, e Dona Maria, que | todas cazaram grandemente em | Caſtella, ha ſaber Dona Iſabel ca- | zou com D. Joa ho torto, filho | do Ifante D. Joa, que ſe chamou | Rey de Liam, que morreo na Vei- | gua de Grada, e de Dona Maria ſua | molher, filha do Conde D. Lopo, | ſenhor de Biſquaya, e Dona Coſ | tana cazou com D. Nuno Guon- | alves de Lara, filho de D. Joa | Nunes de Lara, ha que diceram ho | Bom. Eſtes nom ouveram filhos, | e Dona Maria cazou com D. Tel- | lo filho do Ifante D. Affonſo de | Molina irma da Rainha Dona | Maria molher delRey D. Sancho, | e ouveram Dona Iſabel, que cazou | com D. Joa Affonſo Dalbuquer- | que neto delRey D. Diniz, filho de | Affonſo Sanches, ſeu filho baſtar- | do. | E avendoja ſinquo annos, que | ElRey D. Diniz era cazado, e ſete | que Reynava, ouve grande deſa- | cordo antre elle, e ho Ifante D. | Affonſo ſeu irma, e ha cauza prin- | cipal, era porque ElRey D. Diniz | nom queria, nem nunqua quiz le- | gitimar, e abilitar has filhas do | Ifante D. Affonſo pera erdarem | ſuas Villas, e Caſtellos de Portu- | gual depois de ſua morte,ſobre que | ha Rainha Dona Iſabel molher | delRey D. Diniz, e ho Ifante D. | Affonſo ſeu filho erdeyro, ſendo | ha eſ ambos confomes fizeram | ſolenes proteſtaes, e requerime~- | tos pera eſta abilitaam, e legiti- | maa nunqua ſe fazer por ElRey, | nem pelo Papa, aleguando muitos | inconvenientes ſe ſe fizeſe, e ou- | veſe efeyto, e ho principal era ha | grande deminuiam, e perda que | ſeria do Reyno, e Coroa de Portu- | gual ſe has ſobreditas Villas, e Caſ- | tellos, eſtando no eſtremo de Por- | tugual, paſaſem com ſuas filhas | do Ifante, que eram cazadas com | homens grandes, e poderoſos de | Caſtella, e ainda ſe diz,que avia re- | ceo do Ifante, que pubriquamente | dizia, que ho Reyno de Portugual | lhe pertencia, porque nacera lidi- | mo depois da morte da Condea | de Bolonha primeyra molher del- | Rey ſeu padre, e que ElRey D. Di- | niz ainda nacera em ſua vida della, | e nom podia erdar, mas com eſte | defeyto era ja deſpenſado pelo Pa- | pa, como na Coronica delRey D. | Affonſo, Conde de Bolonha ja | dice. | E por eſta deneguaam em que | ElRey D. Diniz ſe afirmou, ou por | outra qualquer couſa, ho Ifante ſeu | irmaos nas couſas da paaz, e da | guerra lhe nom obedecia com has | ditas Fortalezas aſi como ElRey | queria,e ho I~fante devia, pello qual | ouve guerra antre ambos na era de | II97 mil duzentos noventa e ſete, e ho | Ifante D. Affonſo com a ajuda, e fa- | vor, que ſeus genros com ſuas peſ- | ſoas, e gentes de Caſtella lhe da- | vam, fazia muito dano em Portu- | gual, eſpecialmente,que neſte tem- | po Regnando ja em Caſtella D. | Sancho, filho delRey D. Affonſo | ho decimo, elle matou em Alfaro | D. Lopo Conde, e ſenhor de Biſca- | ya, e D. Dioguo Lopes de Cam- | pos, que eram peſoas muy princi- | paaes,e pre~deo ho Ifante D. Joha, | ſeu irmao,cujo filho era D. Joha | ho torto,cazado com Dona Iſabel, | filha deſte Ifante D. Affonſo de | Portugual, e pella morte deſtes ſe- | nhores,e prizao doIfante D. Joha, | ouve contra ho dito Rey D. San- | cho grandes guerras em Caſtella. | E durando ellas ElRey D. Di- | niz, e ElRey D. Sancho teveram | viſtas em que por bem, e mayor aſ- | ſeſego de ſeus Regnos,concord- | ram cazamentos de ſeus filhos,que | eram pequenos ha ſaber, que ho | Ifante D. Affonſo, filho mayor del- | Rey D. Diniz,cazaſe com ha Ifan- | te Dona Beatriz, filha delRey D. | Sancho, como depois cazou, e que | ho Ifante D. Fernando,filho mayor | delRey D. Sancho cazaſe com ha | Ifante Dona Coſtana, filha del- | Rey D. Diniz; e ſobre eſte concer- | to, que ha tempo certo ſe avia de | fazer, e comprir com effeyto como | eſtes Principes, e Ifantes foſem em | idade, hos Rexs ſe tornra a ſeus | Regnos, e hos genros do Ifante D. | Affonſo de Portugual, e ſuas gen- | tes, que deſobedeciam ha ElRey | de Caſtella, ſe acolheram nos ſeus | Caſtellos de Portugual, onde has | terras, que eram delRey de Caſtel- | la faziam muito dano. E porque | ElRey D. Diniz era ſobrinho del- | Rey D. Sancho,irmaa de ſua my | ha Rainha Dona Breatiz, e por pa- | zes de cazamentos, eſtavam muy | concordes, e amiguos, ho dito Rey | de Caſtella enviou notifiquar eſtes | danos, e guerra. que das Villas, e | Caſtellos de Portugual ſeus natu- | raaes lhe faziam, pedindolhe que | ho paſadoquizeſe caſtiguar, e ho | futuro mais contra elle nom ſe fi- | zeſe, e ſe deſe luguar, | que em ſeu Regno entraaſe, e que | elle com ſuas foras ho emenda- | ria. | Aho que ElRey D. Diniz reſ- | pondeo, que de ſemelhantes couſas | lhe pezava muito, e que foſe certo | que nom eram feytas por ſeu con- | ſentimento, e prazer, mas que lo- | guo ſem ſer neceſaria ſua entrada, | proveria como ſe mais contra elle | nom fezeſe. Pello qual ElRey D. | Diniz encomendou, e mandou aho | Ifante ſeu irmaa, que nom fezeſe, | nem conſentiſe que aho dito Rey | D. Sancho, nem ha ſuas terras, e | vaſalos, ſe fezeſe guerra, nem da- | no das ditas Villas, e Caſtellos de | Portugual, dos quaes elle era obri- | guado fazer guerra, e manter paaz, | ſegundo elle lhe mandaſe. Ha que | ho Iffante D Affonſo nom quiz in- | teyramente obedecer aſi por reſ- | peyto de ſeus genros, ha que ſatis- | fazia, e aquolhia,como pella dene- | guaam da legitimaam de ſuas fi- | lhas, do que ſe moſtrava muito | agravado, dando por ſua eſcuza ha | nom obedecer com hos Caſtellos | contra ſua vontade, que elle pellas | couſas, e preroguativas de ſuas doa- | es feytas por ElRey D. Affonſo | ſeu pay,era de ſemelhante obrigua- | am, e ſervio relevado. | Pello q~ ElRey D. Diniz no an- | I399. no de mil duzentos noventa e nove | annos ajuntou ſuas gentes, e man- | dou loguo cerquar Arronhes, e | Marvam, e ha elle Ifante ſeu irma, | cerquou em Portalegre, e porque | ha eſte tempo Caſtello Davide, | que era tambem do Ifante, era ter- | mo de Marvam, e Luguar entram | mais cham que forte, por eſo ſe | nom cerquou, e durando eſte cer- | quo, em que de huma parte, e da | outra, em ambos hos Regnos ſe fez | dano aſaas, entrevieram ha concer- | to delRey, e do Ifante ambos ir- | maos, hos Perlados, e Senhores | principaes do Regno, e ſobre todos | ha Rainha Dona Iſabel, por cujo | virtuoſo meyo ho Ifante D. Affon- | ſo entreguou has Villas, e Caſtel- | los ha Ayres Cabral, que hos teve | em fieldade, e com menagem ate | que por elles deram aho dito Ifan- | te has Villas de Sintra, e Dourem, | com outros Luguares chos na Co- marqua de Lixboa, e antre has ou- | tras muitas, e muy ſingulares vir- | tudes, que ouve na Rainha Dona | Iſabel em quanto viveo, foy procu- | rar ſempre paaz, e amiſade de que | ſe ella prezou muito, porque aſi ho | fazia antre ElRey, e ſeus vaſallos, | de que tirava todolos dias, e eſcan- | dalos, e aſi antre outros quaeſquer | particulares do Regno, e ſe por | bem das ſemelhantes concordias | compria pagua de dinheyro pera | emenda dalgumas perdas, e danos | ha que has partes por algum caſo | nom podiam comprir, ella porque | amizade ſe nom defezeſe, de ſeu | proprio teſouro has mandava, de | maneyura, que has certas bolſas de | ſeu dinheyro nunqua fora arquas, | nem cofres, mas hos ventres, veſti- | dos, e neceſidades dos pobres, e | couſas piedoſas, em que todo lan- | ava, e ally tudo lhe crecia. | E eſte irmaa legitimo delRey | D. Dinizm e filho delRey D. Affon- | ſo Conde de Bolonha, e da Rainha | Dona Breatiz, faleceo no anno de | mil duzentos e noventa e nove an- I299 | nos, e jas ſepultado no Moeſteyro | de S. Dominguos de Lixboa, em | hum Moyme~to de pedra, que eſtaa | porta do Coro, eſto ponho por | tirar opiniam, e erro, que muitos | antiguos teveram, e eu ho vy, que | eſte que ally jazia, era ho filho que | ElRey D. Affonſo Conde de Bolo- | nha ouve de Dona Matildes Con- | dea de Bolonha ſua molher, ho | que nom hee (ſegundo ja tenho | dito) porque eſta hee ha verdade, | | que affirmo, e eu ha vy no proprio | letreyro, que tem ho dito Moyme~- | to, e aſi ho achey por outras eſcri- | turas aſas autentiquas. | [ title ] CAPITULO VI. Do que ſucedeo do cazamento | do Ifante D. Affoſo, filho | delRey D. Diniz, e do | Ifante D. Fernando, | filho delRey D. San- | cho de Caſtella: | N O tempo, que hos ditos ca- | zamentos antre eſtes Reys, e | ſuas viſtas ſe concordavam, foy lo- | guo acordado, e aſentado pera | moor firmeſa do cazamento do | Ifante D. Fernando com ha Ifante | Dona Coſtana, porque em algum | tempo nom ouveſe cauſa, nem ra- | zam pera ſe leyxar de fazer, que | ElRey D. Sancho pozeſe loguo, | como poz em poder, e fieldade de | Portugueſes eſtas ſuas Cidades, | Villas, e Caſtellos, ha ſaberm Bada- | lhouce, Moura, Serpa, Caceres, | Broguilhos, Acharces, Aguilar de | Neyva, com tal condiam, que ſe | ElRey D. Sancho, e ha Rainha | Dona Maria ſua molher, ou aquel- | la ha que ho Ifante D. Fernando te- | veſe em ſeu poder, nom compriſ- | ſem, e fezeſem fazer, ou ho meſ- | mo Ifante aho tempo que era limi- | tado, nom quizeſe cazar com ha | dita Ifante, q~ neſtes caſos hos ditos | Portugueſes, que hos ditos Caſtel- | los tinham, hos entreguaſem lo- | guo aho dito Rey de Portugual pe- | ra ſempre de ſeu Reyno, e Senho- | rio, e mais, que depois do caza- | mento ſer aſi feyto ſe ho dito Ifan- | te D. Fernando leyxaſe ha Ifante | Dona Coſtana ſua molher, e lhe | nom deſe de ſuas arras des mil ma- | ravedis douro, em que ſe concor- | daram, que neſte caſo tambem hos | ditos Caſtellos de Caſtella ſe entre- | guaſem ha Portugual. | E por eſta maneyra ElRey D. | Diniz poz em fieldade, epoder dos | Caſtelhanos hos Caſtellos, e Cida- | des da Guarda, e Pinhel, pera que | nom dando, e entreguando ha dita | Ifante aho tempo concordado, que | hos perdeſe, e foſem pera ſempre | de Caſtella. Mas ElRey D. Sancho | ho nom comprio aſi; porque deſe- | jando de desfazer ho dito cazamen- | to procurou contra ſua verdade da- | ver hos ditos Caſtellos da terceria, | e ho que pior foy, que hos ouve, e | tomou com mortes dalguns Alcay- | des Portugueſes, do que ElRey D. | Diniz foy muy anojado, porque de | ſua natural, e Real condiam nun- | qua ſe achou, que diceſe mentira, | aſi ſentio, e lhe doeo muito que- | braremlhe tam honeſtamente ha | prometida verdade; e porque antre | elles, era tambem concordado, que | de pormeyo ambos concordaſem, | procuraſem, e paguaſem has deſ- | penſaſoens Apoſtoliquas, que ſe | requeriam por ſerem muito paren- | tes. | ElRey D. Diniz enviou loguo | | por ſua querella aho Papa; | mas ElRey D. Sancho mudou ſua | meſagem em outra ſuſtancia, por- | que enviou ha ElRey D. Felippe | de Frana, requerendolhe huma | ſua filha pera ho Ifante D. Fernan- | do, ſeu filho, antre hos quais ouve | loguo prazer, e outorgua pera eſte | cazamento ſe fazer. Ho que ElRey | D. Sancho loguo fez ſaber ha El- | Rey D. Diniz ſem aſinar cauſa evi- | dente porque ho fizera, e com eſta | confiana, e esforo de Frana, elle | rompeo ha paaz, que tinha com | Portugual, e mandou loguo ſua | frota de naos, e guals aho Alguar- | ve, e nellas muita gente que por | maar, e por terra fizeram grandes | danos, aſi nos Chriſtos,como nos | Mouros fra daquelle Reyno, de | que levaram muitos cativos, e por | elles de ſeus reſguates, outra gran- | de ſoma de dinheyro de Portugual, | e aſi entraram has gentes do Rey- | no de Liam, e queymaram, e rou- | baram, e fezeram grandes danos | com mortes de muitos do Reyno | de Portugual. | ElRey D. Diniz maravilhado | deſtas roturas, e ſem razes delRey | D. Sancho, deſejando todavia com | elle paaz, e por nom virem ha ma- | yores, danos rompimentos, lhe en- | viou por algumas vezes requerer | aſi ha entregua de ſeus Luguares, | que contra direyto lhe tinha toma- | dos, como emenda dos outros da- | nos, e perdas, e tomadias que em | ſeus Reynos vaſallos, e fazendas | dellas contra ho aſento de ſua paaz | tinha recebidas, e aſi que compriſ- | ſe ho cazamento de ſeu filho com | ha Ifante Dona Coſtana como ti- | nha aſentado, ſobre ho que lhe en- | viou por ſeus Embaixadores, e Pro- | curadores ho Biſpo de Lixboa, e | Joa Sima Meyrinho moor, q~ na | Corte delRey D. Sancho andava | ſem algum deſpacho detidos. | E porq~ ho cazamento de Fran- | a, que ElRey D. Sancho tinha por | feyto ſe deſconcertou, e deſeſpe- | rou vendo que de neceſidade lhe | convinha concertarſe com ElRey | D. Diniz, aſi no cazamento de ſua | filha, como em lhe fazer emenda | dos males, danos paſados, enviou | ha elle por Embaxador D. Mauzi- | nho Biſpo de Palena, por ho qual | lhe mandou dizer, que ſua vontade | era de todo concertarſe com elle, e | que pera eſo enviaſe ſeus aponta- | me~tos ahos ditos ſeus Embaixado- | res, que ainda eram em ſua Corte, | com hos quaes ſe concordaria co- | mo foſe razam, e ha ſeu contenta- | mento. Aho que ElRey D. Diniz | ſatisfez, mas hos ditos ſeus Embai- | xadores vendo, que ha concruzam | delRey D. Sancho era de longuas, | e de negaes ſem cauſa ſe torna- | ram ſem duvida ha Portugual ſem | nhum deſpacho. | E no tempo deſtas deſavenas, e | guerra antre ElRey D. Sancho, e | ElRey D. Diniz, ho Ifante D.Joa | ſeu tio, irmao da Rainha Dona | Beatriz ſua madre, e D. Joa Af- | fonſo Dalbuquerque, neto delRey | D. Diniz,filho de Affonſo Sanches, | ſeu filho baſtardo, acertouſe que | entrara ha correr terra de C,amo- | ra com muita gente, que levavam | com D. Joa Nunes de Lara,filho | que foy de D. Nuno Guonalves | de Lara,que diceram ho Bom, ho | qual era deſavindo delRey D. San- | cho, e tendo elle cſiguo pouquos | Cavalleyros pera peleja fayo, e ho | eſperou, e na peleja que ouvetam | foy delles prezo, e traſido ha Por- | tugual ha ElRey D. Diniz, ha quem | ElRey D. Sancho, pello dito Biſpo | de Palena enviou pedir, que ho | quizeſe ſoltar, e enviarlho,porque | elle ho queria recolher, e ſerviſe | delle, e fazerlhe honra, e merce,eſ- | pecialmente tornarlhe ſuas terras, | que lhe tinha tomadas, e nom por | desleal,mas porque fora ſempre ha | ſervio, e da parte delRey D. Af- | fonſo, com que ElRey D. Sancho | ſeu filho teve guerra, como ja di- | to hee. | ElRey D. Diniz, como homem | muy liberal ſobre todolos Reys de | ſeu tempo, enviou loguo com mui- | tos Cavalleyros, e Fidalguos de ſua | caza, ho dito D. Joa Nunes ha | Caſtella, ha que deu grandes dadi- | vas, e fez muita merce, e D. Joa | Nunes fiquou por vaſalo delRey | D. Diniz, e ha ſeu ſervio, e ha ſua | boa vontade, e como homem bo, | e aguardecido nunqua depois lho | neguou, e por eſo depois em Caſ- | tella nom compriam com elle aſi | como lhe tinham prometido, e elle | por eſo ſe foy ha Frana, e de guer- | ra tornou depois ha Caſtekkam como | aho diante direy. E tornando | Eſtoria ha ElRey D. Diniz, elle co- | mo vyo que ElRey D. Sancho con- | tra direyto, e rezam lhe falecera de | todo, e nom compria alguma cou- | ſa das muitas, que com elle concor- | dra, bem entendo que nom que- | ria com elle paaz, e amor, como | por bem, e aſeſeguo de ſeus Rey- | nos ſempre deſejara, e porm por- | que era Rey de grande coraam, e | que lem das perdas que recebera, | ainda por eſtes caſos recebia algu- | ma quebra de ſua grande honra, e | bo nome, determinou aparelhar | loguo ſua fazenda, e ho que lhe | compria, e mandalo deſafiar pera | pubriqua guerra, e entrarlhe por | ſua terra, e della nom ſair ate nom | aver emenda, e em comprimento | de todo ho que requeria, e de di- | reyto lhe era devido. | Neſte tempo ante dalguma deſ- | tas couſas aver efeyto, morreo El- | Rey D. Sancho eſtando na Cidade | de Toledo, na era de mil duzentos I295 | noventa e ſinquo, ſendo ainda m- | cebo. Ha cauſa de ſua morte ante- | cipada, e ſua tam pouqua vida mui- | tos ha reportaram ha ſentena da | Ley de Deos, e pela deſobediencia, | e maao trato,que com deſamor fe- | zera ha ElRey D. Affonſo ſeu pay, | como atraas ſe dice, ElRey D. San- | cho leyxou hora de ſua morte por | ſeus teſtamentos, e tutores de | ſeu filho Rainha Dona Maria ſua | molher, e ho Ifante D. Anrique ſeu | tio, irmao delRey D. Affonſo ſeu | padre, ho qual Ifante ha eſte tem- | po fora ſolto da prizam em que por | muitos annos jouve em Italia, qu- | do prezo por Carlo Rey de Na- | poles em Ceſilia, na batalha em | que Corradino ſeu competidor | nos ditos Reynos foy morto, em | cujo favor, e ajuda ho dito Ifante | viera, e ha eſtes encomendou em | ſeu teſtamento, que compriſem | com ElRey D. Diniz ho que tinha | concordado, aſi no cazamento dos | filhos, como na entregua das Vil- | las de Moura, e Serpa, e dos outros | Luguares que ha Portugual perten- | ciam. | Depois do falecimento delRey | D. Sancho, loguo ElRey D. Diniz | mandou por ſeus meſegeyros re- | querer ha ElRey D. Fernando, que | novamente comeara de Reynar | e aſi Rainha Dona Maria, e aho | Ifante D. Anrique, ſeus tutores,que | quizeſem comprir hos cazamen- | tos, e fazer ha entregua das Villas, | ſegundo com ElRey D. Sancho ſeu | pay eſtava concordado, e elle em | ſeu teſtamento leyxara aho tempo | de ſua morte. Aho que ElRey D. | Fernando com acordo, e autorida- | de dos ditos tutores nom ſatisfez, | ſegundo ElRey D. Diniz eſperava | antes pelo contrayro, poendo ahos | cazamentos entrepoſies de tem- | po, que tinham ſemelhana de de- | negaes, e aſi eſcuzas entregua | dos Luguares, chamandoſe Senhor | delles em ſuas meſmas cartas, da | repoſta que enviou, de que ElRey | D. Diniz ſe ſentio muy eſcandali- | zado, e pera determinadamente ſa- | ber ho que por ſua honra, e por ſua | juſtia compria, tornou ha enviar | ha ElRey D. Fernando Joa Anes | Redondo, e Mem Rodrigues Re- | botim, ſeus Cavalleyros, e peſoas | principaes, hos quais eſtando pre- | ſentes ha Rainha Dona Maria, e | ho dito Ifante D. Anrique, e aſi | muitos Cavalleyros, e peſoas prin- | cipaes do Conſelho de Caſtella, | elles pera juſtificaam da cauſa del- | Rey D. Diniz, e do Reyno de Por- | tugual diceram ha ElRey D. Fer- | nando muy particularmente todal- | las ajudas que elle, e ElRey D. Af- | fonſo ſeu padre tinham feytas ha | ElRey D. Sancho, e ha ElRey D. | Affonſo ſeu padre, e avoo do dito | Rey D. Fernando, hos quais mui- | tas vezes prometeram fazer entre- | gua dos Luguares ha Portugual, | mas ainda para acender mais mal | com ſuas gentes por maar, e por | terra lhe fizeram muitos danos em | ſeus Reynos, e vaſallos, ſem ho | quererem emendar podendo-o fa- | zer. Pello qual hos ditos Embaixa- | doresm diceram contra ElRey D. | Fernando. | Senhor eſtas couſas que aſima re- | latamos tam breves, ſam mais intey- | ramente ſabidas por certas, e ver- | dadeyras por ha Rainha voſa ma- | dre, e por eſtes Senhores, que aqui | eſtam preſentes, e por ellas ElRey N. | Senhor ſe maravilhou delRey D. | Sancho voſo padre poer tardana, e | eſcuza na emenda, e ſatisfaam del- | las, pois eram juſtas, e de razam, e | porque ha tenam com que eſto fazia | | elle ho nom entrepretava ha bem,por | eſo em ſua vida ho mandou deſa- | fiar para entrar, e pr guerra em | ſeus Regnos, e aver emenda do que | juſtamente pedia, e depois de ſeu fa- | lecimento ElRey N. Senhor por al- | gumas vezes vos enviou roguar co- | mo ha filho, e aconſelhar como ami- | guo, que has couſas que por ElRey | voſo padre lhe eram prometidas, | vs lhas quiſeſes comprir, e aſi rece- | berdes ſua filha ha Ifante Dona | Coſtana por voſa molher, aſi como | antes fora concordado, e vs na re- | poſta que lhe enviaſtes em luguar de | lhe mandardes entreguar hos ditos | Caſtellos, e Luguares de que era for- | ado, vio nella que vos chamaſtes del- | les Senhor, e por eſo hee muito ano- | jado de vs, e de quem vos aconſe- | lhou muito eſcandalizado; e porque | eſte eſcandalo, e agravo que de vs | tem, nacem de taaes couſas, razes, | que por ſua honra, e eſtado nom con- | vem paſarem ſem juſtia,e emenda, | elle por ns finalmente, vos manda | dizer huma couſa,que pella eſperan- | a q~ de vs tinha, e pellos grandes di- | vidos q~antre vs ha lhe he muy cara | de fazer, e porm hee de ſua honra,e | ſervio aconſelhado que ſem treſ- | pao ha faa ha ſaber, que vs da- | qui em diante buſqueis outro amiguo | que ponhais em ſeu luguar, porque | elle querera com ſuas foras, e poder | trabalhar de vos penhorar pera ſua | entregua nos Regnos de Caſtella, e | Liam, e que vs pera eſo envia en- | geytar voſa amizade, e como ha imi- | guo deſafiar, pera q~ vos faais preſ- | tes, porq~ em ſua vinda nom tardar | muito. | Deſtas razes, e deſafio pubri- | quo, que eſtes Embaixadores de | Portugual fezeram ha ElRey D. | Fernando de Caſtella fora alguns, | que eram preſentes aſaas maravi- | lhados, e outros poſtos em deſvay- | rados penſamentos. E porm eſpe- | rando hos ditos Embaixadores al- | guma repoſta, porque lhaa nom | deram ſe tornaram deſcontentes ha | Portugual, onde ElRey D. Diniz | dobrandoſe por eſo has couſas de | ſua entrada em Caſtella, ajuntou | loguo ſuas gentes, e com aſaas po- | der ſe foy ſua Cidade da Guarda, | pera dahy entrar loguo em Caſtel- | la, maas antes que entraſe, veo hy | ho Ifante D. Anrique tio, e tutor | delRey D. Fernando, e ſobre prati- | cas, apontamentos, e concordias, | que antre elles ſobre eſtas couſas | ouve, concertaram que ambos foſ- | ſem dahy, como foram Cidade | Rodriguo, que hee em Caſtella, | onde eſtavam ElRey D. Fernando, | e ha Rainha Dona Maria ſua ma- | dre, e ally outra vez todos ſe con- | cordaram ſobre ho cazamento,que | ate certo tempo loguo limitado, | ſe ouveſe de fazer. | E aſi foy deſpachada ha entre- | gua de Serpa, e Moura, ſobre que | ha Rainha, e Ifante em nome del- | Rey D. Fernando paſaram ſua car- | ta por hum Eſtevam Pires Adian- | tado moor do Regno de Liam,que | era Alcayde, e tinha has ditas Vil- | las de Serpa, e Moura pera que ſe | entreguaſem ha Joha Rodrigues | Porteyro da Camara delRey D. | Diniz, pera que eſte has entreguaſ- | ſe, como entreguou ha Coguomi- | nho, Cavalleyro delRey D. Diniz, | porque elle poz loguo nella por | Alcayde hum Martim Botelho, e | outro Loureno Martins Guano | que eſta carta delRey D. Fernan- | do paſou em Cidade Rodriguo ha | I295 vinte Doutubro do anno de mil du- | zentos noventa e ſinquo annos, a- | ſelada com tres ſelos pendentes, ha | ſaber, ho delRey no meyo, e ho da | Rainha mo direyta, e ho do | Ifante D. Anrique eſquerda, e | ſobre eſta concordia, que foy fir- | mada com grandes, e ſolenes jura- | mentos, ElRey D. Diniz (e tornou | pera dentro de ſeu Regno. E ſendo | depois cheguado ho tempo em que | ElRey D. Fernando avia de receber | por molher ha Ifante Dona Coſ- | tana, e comprir outras couſas em | que fiquaram em Cidade Rodri- | guo concertados, ElRey D. Diniz | por ſeu meſegeyro hos mandou | requerer, porque elle tornou ha | Portugual ſem ha repoſta, e con- | cruzo que ElRey eſperava enton- | ces, e veo com palavras, que moſ- | travam craros ſinais de verdadeyra | denegaam das couſas prometi- | das. | ElRey D. Diniz anojado deſto, | com coraam pera ſua emenda, e | vinguana muy cheo de ſanha de- | terminou ſem mais tardar entrar | loguo de guerra em Caſtella, e pera | eſto concertou, e apercebeo muy | bem ſeus Caſtellos das frontarias, | em que leyxou bos fronteyros, e | ajuntou outra vez ſuas gentes pera | mais poderoſo entrar em Caſtella, | e ajuntaremſe com ElRey D. Diniz | contra ho Ifante D. Fernando Rey | de Caſtella, ho Ifante D. Pedro | erdeyro Daraguam, que depois foy | Rey, que era primo com irmaa da | Rainha Dona Iſabel de Portugual, | e ho Ifante D. Joha,que ctra El- | Rey D. Sancho ſe chamava Rey de | Liam, e era filho delRey D. Affon- | ſo ho decimo avoo delRey D. Di- | niz, e D. Joha Nunes de Lara, a- | quelle, que ſendo prezo em Portu- | gual foy por ElRey D. Diniz envia- | do ſolto, e com grande honra en- | viado ha Caſtella, como atraas | dice. | E ſendo ja todos juntos no eſ- | tremo da Comarqua da Beyra pera | entrar em Caſtella, veo ha ElRey | D. Diniz ha Ifante Dona Marga- | rida, molher que fora do Ifante D. | Pedro, e com ella D. Sancho de | Ledeſma ſeu filho, e por deſcon- | tentamentos, que tinha delRey D. | Fernando pedio ha ElRey D. Di- | niz por mercee, que ho recebeſe | por vaſallo, do que ha ElRey a- | prouve, e lhe poz loguo grande | contia de dinheyro em ſeu ordena- | do, e lhe mandou que loguo ſe apa- | relhaſe pera entrar com elle em | ſeu ſervio, e porque ho dito D. | Sancho, que ſoomente viera pera | receber muito dinheyro que levou, | ou por lhe cometerem outros par- | tidos em que mais conſentio elle, | nom tornou ha ſervir ElRey D. | Diniz, e com ſeu dinheyro ſe foy | pera ElRey D. Fernando ho quaal | como ſoube que ElRey tinha todas | ſuas gentes percebidas pera entrar | em caſtella, mandou logo per- | ceber em Sevilha ſuas gualees, e | frota que de guerra vieram aa coſta | de Portugal , e entraram no porto | de reſtelo,mea leguoa de Lixboa, | onde tomaram naaos de Portugal | carreguadas de mercadorias, e has | levaram. E ho Almirante de Por- | tugal que ha eſe tempo eſtava em | Lixboa por cobrar ha preza, e pera | vinguana do maal que ſe fezera, | armou logo com grande triguan- | a outras gualees, e foy empoz da | frota de Caſtella, que ainda al- | canou no maar onde todos ouve- | ra grande, e crua guerra, mas em | fim ho Almirante de Portugal fi- | cou vitorioſo, e tomou ahos con- | trayros ſuas naaos, e gualees, e mais | has que conſiguo levavam, e trou- | xe tudo aho porto de Lixboa. | [ title ] CAPITULO VII. Como ElRey D. Diniz entrou | em Caſtella, e da crua guer- | ra, que de huuma parte; e | da outra ſe fazia. E LRey D. Diniz com ſuas gtes | beem ordenadas entrou por has | Comarquas de Cidad Rodriguo, | e de Ledeſma, e na frontaria hos | Portuguezes tomara por fora em | hu~u Caſtello, q~ dize~ Torres, todo- | los contrayros, q~ nelle acharam, e | dahi foy ElRey D. Diniz fazendo | crua guerra ſem alguma reziſtencia | nem contradiam corenta leguoas | por Caſtella ate ho Luguar de | Simancas que hee duas leguoas de | Valedolid, onde ElRey D. Fernan- | do eſtava, e ha tena de todos era | que ElRey D. Diniz ho hya cer- | quar pera que repartiam ſuas eſ- | tancias de que ha huuma parte da- | vam ha ElRey D. Diniz, e ha ou- | tra c ha gente Daraguam davam | ha D. Affonſo de Lacerda, que era | com elle contra ElRey D. Fernan- | do, porque ſe chamava Rey de | Caſtella por ſer filho primeyro do | Ifante D. Fernando de Lacerda, e | neto delRey D. Affonſo ho deci- | mo, e ha outra parte davam aho | Ifante D. Joham que ſe chamava | Rey de Liam, e porm ho cerquo ſe | nom poz; mas ElRey D. Diniz ſe | tornou ha hu~u Caſtello de Medina | que dizem Paſardes, e tomaram-no | ſem reſguardo, nem reziſtencia, e | ſem reverencia entraram ha Egre- | ja, e eſpedaaram has Imagens dos | Sctos, e ha deſpojaram de todo ho | que nella acharam, e com muita | crueza mataram ahos que ſe nella | acolheram, ſem perdoarem algu~ua | idade de machos, nem femeas. | De que hos Caſtelhanos movi- | dos primeyramente por ſua crueza | e depois por ſua vinguana nos | luguares; e couzas ſemilhantes que | pera exercitar ſua ſanha ſe lhes offe- | reciam ho nom faziam menos, | porque na Comarqua, e frtaria de | Riba Dodiana algu~us Capitaens, e | ſenhores de Caſtella, dos quaaes era | D. Affonſo Pires de Guſman ſe | ajuntaram nom pera dar batalha | ha ElRey D. Diniz, mas pera en- | trar, como entraram em Portu- | gal, onde entraram com muitas | gentes Dandaluzia, e da ſua fron- | taria, da quaal entrada mataram, | e cativaram de Portugal muitos | homens, e molheres ſeem alguu~a | piedade; e levaram grandes roubos | de teerra. | Aho encontro do quaal fayo ho | Meſtre Davis com has gentes, que | pode, e ouveram ambos muy dura | peleyja em que ouve muitas mor- | tes, e danos dambas as partes, no | fim da quaal ho Meſtre foy ven- | cido por has menos gentes, que | tinha, e muitos dos ſeus foram | mortos, e nove centos cativos, que | vendia, e reſguatavam em Caſtel- | la por muy pouquo preo, porque | outro tanto ſe fazia de Caſtelhanos | cativos em Portugal, porque de | huu~a parte, e da outra hos que ſe | cativavam aſi ſe vendiam como | ſervos, ainda que ſe acha que hos | Caſtelhanos neſta qualidade de | crueza uzava contra hos Portu- | guezes em mais eſtremo, e c me- | nor piedade, porque ha todos ſe | diz que hos punham em barreyras, | e nellas muy cruamente hos mata- | vam aas ſetadas; Pelo quaal hos | coraes de hu~us, e outros aſi eram | neſta guerra acezos em odio, e ira; | que pareciam arder, pera todos ma- | tarem, queymarem, e deſtroirem | ſeemalguu~a piedade, nem tempe- | rana, como faziam. | [ title ] CAPITULO VIII. Dos grandes maales, e danos que | de huu~ Regno ha outro ſe fa- | ziam, e dalguu~s Luguares de | Caſtella, que hos Mouros | tomaram. | H os periguos, danos, mortes, | perſeguioens, e trabalhos | durando eſta guerra eram tantos | nos maares, e teerras dambos eſtes | Regnos de Portugal, e Caſtella, | em que huu~s ahos outros por odios | e vinganas ſe guerreavam, que por | aſperos ja ſe nom podiam ſofrer, | por que ha todolos Luguares que | cheguavam ha que cerquas fortes | nom defendiam, logo eram entra- | dos, roubados, e deſtroidos de todo, | e hos Caſtelhanos tornaram ha | cobrar ho Caſtello de Torres, | que fora tomado na frontaria de | Caſtella, e dos Portuguezes que | ha guardavam nom fiquou nhum | que ha ferro nom morreſe, e com | ha nova deſta crueza de que El- | Rey D. Diniz foy logo certifi- | quado com ſuas gentes em muy | mayor ſanha, e pera mais deſtroi- | am contra hos Luguares da Co- | marqua de Salamanca porque an- | dava, porque nom valiam Egrejas, | nem cazas ſagradas, e piedozas ha | alguu~s que ſe ha ellas acolhiam, | porque nellas aſi eram morros | roubados, & cativos, como ſe fo- | ram outras quaeſquer cazas profa- | nas. | E com certida deſta crua guer- | ra de que ElRey de Grada foy | certifiquado, porque era na terra | dos Chriſtos,nom achou que ho | reziſtir, entrou com mayor esforo | pela parte Dandaluzia, e aſi guer- | rearam hos Mouros que por fora | guanharam ha fortaleza de Que- | ſada, e Alcaudete, com tres outros | Caſtellos, e entraram ho arrabalde | de Jaem. E com eſtas tam danoſas | entradas de taaes dous Rex con- | trayros em Caſtella, nem ElRey D. | Fernando nem ha Rainha ſua ma- | dre, nem hos do ſeu concelho | abrandaram has vontades pera c- | prir com El Rey D. Diniz ho que | lhe tinham prometido, crendo que | elle por neceſidades que ocurriam, | ou por grandes deſpezas que na | guerra fazia has nom poderia tanto | tempo ſofrer, e ſe partiria da teerra, | mas veendo ElRey D. Fernando, e | ha Rainha Dona Maria, e ho Ifan- | te D. Anrique ſeu Tutor, que eſta | maginaam pelas obras, e conti- | nuaam delRey D. Diniz cada vez | mais crecia acordaram de dar ha | Villa de Tarifa ahos Mouros por | ſua, porque com ſuas peſoas, e | poder hos vieſem ajudar contra | ElRey D. Diniz, porque hos mo- | radores Dandaluzia eram com en- | tradas dos infieis ja ta deſtroidos, | que vendo ha entrada dos Mouros | ho quizeram aſi fazer. | [ title ] CAPITULO IX. Da razam porque ElRey D. | Diniz deſiſtio deſta guerra, | e ſe tornou ha Portugual. | A Via hum anno, e tres mezes | que ſta guerra antre Caſtella, | e Portugual durava tam crua antre | hos Caſtelhanos, e Portuguezes, | no quaal tempo ha Rainha Dona | Iſabel, que eſtava em Portugal | por ſeus Sanctos dezejos, e muitas | virtudes com que nacera recebia | deſta diſcordia grande nojo, e | muita triſteza, e pera que tantos | maales com beem, e paaz de todo | ceſarem, de contino c devotas, e | perſeveradas lagrymas fazia ſuas | oraoens ha Deos, pera que c ſua | piedade hos remediaſe, com ſegu- | ra paaz, pois elle por paaz, e ſalva- | am do mundo, aho mundo qui- | zera vir, e com eſto nom leyxava | hos outros meyos, e intereſes ſe- | cretos que pera efeyto deſo ahos | Rex, e ahos de ſeu Concelho ſem- | pre apontava, mas aprouve ha | Deos, que vendo ElRey D. Fer- | nando, e ſeus Tutores, e hos do ſeu | Concelho, e principaaes ſenhores | de Caſtella que ha deſtroyam de | ſua teerra por armas, e guerra ja ſe | nom podia cobrar, nem vinguar, | antes hya cada vez em pior, e mais | dano acordaram por melhor tomar | ho remedio da paaz, e ſatisfazer ha | ElRey D. Diniz nas couzas que | juntamente requeria, porque com | eſo outra ſe remedeaſe, e compu- | zeſe em aſeceguo, como fez. | Porque ſobre eſte acordo loguo | enviaram roguar, e pedir ha ElRey | D. Diniz que andava guerreando | Caſtella que leyxaſe ha guerra, e | que ha paaz, e concordia ſe faria | antre elles, como elle quizeſe, e | com eſto foy muy contente, e con- | fiou que compririam com elle, e | poz loguo defeza que mais ſe nom | fizeſe guerra nem maal em Caſtel- | la, e com eſto em ſe tornando pera | ſeu Regno veyo loguo por riba de | Coa, onde loguo por cerquos, e | combates cobrou ha ſeu poder ho | ſenhorio de todolos Luguares da- | quella Comarqua, que aguora ſam | de Portugual, porque eram de D. | Sancho que ſe fizera ſeu vaſallo, e | de ſua contia, e ordenado recebe- | ram ElRey muito dinheyro, com | que depois ho deſervio, como | atraas dice, hos quaaes Luguares | nom eram enta ta afortalezados | como ElRey depois hos fez, e | por elles ſe deu booa ſatisfaam | em Caſtella aho dito D. Sancho | por taal q~ c elles fizeſe, como fez | outro Eſcaybo antre Portugal, e | Caſtella,como aho diante direy. | [ title ] CAPITULO X. Dos cazamentos, e Eſcaybos q~ | depois da concordia ſe fez era | antre eſtes Rex em Alca- | nizes. | C Omo eſta concordia antre | hos Rex, e ſeus Regnos foy | ſobre ſeguranas apontada como | dice, ElRey D. Fernando, e ha | Rainha ſua madre, e ho Ifante D. | Anrique ſeu Tutor pera ſe tudo | fazer com mais firmeza, e mayor | autoridade ſendo feyto por prazer, | e conſentimento de todolos do | Regno, chamaram ſobre eſte cazo | ha Cortes geraaes que ſe logo fize- | ram em C,amora, onde por todo- | los Eſtados dambolos Regnos de | Caſtella, e de Liam foy concor- | dado que por cearem danos , | perdas, e outros grandes inconve- | nientes que da guerra com Portu- | gal ſe ſeguiam era beem que ha | paaz ſe fizeſe com outorgua dos | cazamentos, e das outras couzas, | que ElRey D. Diniz requeria | ſegundo fora apontado, e concor- | dado antre elle, e ElRey D. Sancho | e ſobre eſo enviaram loguo Em- | bayxadores, e Procurador ha El- | Rey D. Diniz que era em Coim- | bra Alonſo Peres de Guſmam pera | lhe certifiquarem ho q~ nas Cortes | fora aſentado, e pera has couzas | loguo averem devido efeyto con- | cordaram viſtas das peſoas Reaes | no Luguar Dalcanizes, que hee | em Caſtella, pera onde hos Rex | loguo partiram, e ſe ajuntaram no | mez de ſetembro de mil duzen-I297. | tos e noventa e ſette annos, e com | ElRey de Caſtella foram ha Rai- | nha Dona Maria ſua madre, e ho | Ifante D. Anrique ſeu Tutor, e | defenſor dos Regnos, e com elles | hos Ifantes, e ſenhores que aho | diante direy na Eſcritura do eſcay- | bo onde ſam particularmente no- | meados. | E com ElRey D. Diniz foy ha | Rainha Dona Iſabel, ſua molher | que levou conſiguo ha Ifante Dona | Coſtana ſua filha, e ho Ifante D. | Affſo irmaa delRey, D. Diniz, e | hos Biſpos, e ſenhores q~ na carta do | eſcaybo particularme~te eſta no- | meados, e ho Ifante D. Affonſo er- | deyro ficou na Villa de Trancozo | em Portugal hos quaaes todos ju~tos | aſentaram principalme~te entre ſi, e | ſeus Regnos, e ſenhorios ha paaz, | e ſeguridade por corenta annos, nos | quaaes foſem verdadeiros amiguos | damiguos, e imiguos de imiguos, e | que todalas peſoas dequalquer | eſtado, e condiam que foſem que | de hum Regno aho outro durando | ho tempo da paaz fizeſem guerra, | dano, ou maal, que foſem loguo | entregues aho Rey, e Regno da- | nificados pera delles ſe fazer juſti- | a inteyra ſegundo foſe ha quali- | dade do crime, e porque ouveram | por beem que hos cazamentos que | ſe aly haviam de fazer nom ſe | concertaſem, nem fezeſem atee | que todalas entreguas e eſcaybos | das Villas, e Luguares de hu~ Reg- | no ha outro foſem feytos, e con- | cordados, e como atraaz elles eſta | apontados. Foy loguo feyta huma | carta de concordia das ditas couzas | cujo treslado de verbo averbo tor- | nado fielmente por mim Coroniſta | de Caſtelhano em Portuguez de | proprio original que vy, e jaaz no | Tombo he que ſe ſegue. | E M nome de Deos amem, ſaybam quantos eſta carta virem, e leer ouvirem | que como foſe contenda ſobre Villas, termos, e partimentos, poſturas, | e preytos antre ns D. Fernando pela graa de Deos Rey de Caſtella, e de | Liam, e de Toledo, e Dalgeriza, Sevilha, e Cordova, e de Murcia, e Jaem, | e do Alguarve, e ſenhor de Molina de huma parte, e D. Diniz pela meſ- | ma graa de Deos Rey de Portugual, e do Alguarve, da outra por raza | deſtas contendas ſobre ditas nacem antre ns muitas guerras, e omezios, e | exceſos em tal maneyra que de noſas terras dambos foram muitas roubadas | queymadas, e eſtraguadas em que ſe feez hy muito pezar ha Deos noſo | Senhor por morte de muytos homens, vendo, e guardando que ſe aho diante | foſem deſtas guerras, e diſcordias que eſtavam noſas terras dambos em | tempo, e ponto de ſe perder por noſos peccados, e de vir as maos do imiguos | da noſa fee, e em fim por apartar tam grande deſervio de Deos, e da | Santa Egreja de Roma, noſa madre, e tam grandes danos, e perdas noſas, | e da Chriſtandade, por ajuntar paaz, amor, e grande ſervio de Deos, e da | Egreja de Roma ho ſobredito Rey D. Fernando com Concelho, e outorgua- | mento, e por autoridade da Rainha Dona Maria minha madre, e do | Ifante D. Anrique meu tio, e meu Tutor, e guarda dos meus Regnos, e | dos Ifantes D. Pedro, e D. Felippe meus irmaos, e de D. Dioguo | de Faram Senhor de Biſcaya, e de D. Sancho filho do Ifante D. Pedro, | e D. Joham Biſpo de Tuy, e D. Joham Fernandes Adiantado moor de Ga- | liza, e D. Fernam Fernandes de Molina, e D. Pedro Ponte, e D. Guarcia | Fernandes de Villa mayor, e D. Affonſo Peres de Guſmam, e D. Fernam | Pires, Meſtre Dalcantra, e D. Eſteva Pires, e D. Telo Juſtia moor da mi- | nha Caza, e doutros Ricos homens boons de meus Regnos, e da Irmndade de | Caſtella, e de Liam, e dos Concelhos deſtes Regnos, e de minha Corte. | E eu ElRey D. Diniz ſuſo dito com ccelho, e outorgua da Rainha Dona | Iſabel, minha molher, e do Ifante D. Affonſo meu irmao, e D. Marti- | nho Acebiſpo de Braga, e D. Joham Biſpo de Lixboa, e D. Sancho | Biſpo do Porto, e D. Vaſco Biſpo de Lameguo, e do Meſtre do Templo | Davis, e de D. Affonſo meu mordomo mor, ſenhor Dalbuquerque, e do | D. Martim Gil meu Alferes moor, e de D. Joham Rofrigues de Bri- | teyros, e de D. Pedre Annes Portel, e de Loureno Soares Valadares, e | de Martim Affſo, e de Joham Ferndes de Lima, e de Joham Mendes, e de Fernam Pires de Barboza meus Ricos homens, e de Joham Simam meyrinho | moor, de minha caza, e dos Concelhos de meus Regnos, e de minha Corte ouve- | mos acordo de nos avirmos, e fazermos avenas antre ns neſta maneyra que | ſe ſegue, a ſaber, que eu Rey D. Fernando ſobredito entendendo, e conhe- | cendo que hos Caſtellos, e Villas da terra Darronhes, e Darecena com todos | ſeus termos, direytos, e pertenas que eram de direyto de Regno de Por- | tugual, e de ſeu Senhorio que hos ouve ElRey D. Affonſo meu avoo del- | Rey D. Affonſo voſo padre contra ſua vontade, ſendo eſtes Luguares | delRey D. Affonſo, e que outro ſi os tiveram ElRey D. Sancho | meu Padre, e eu, e por eſo pus com voſquo em Cidade Rodri- | guo, que vos deſe, e entreguaſe has ditas Villas, e Caſtellos, ou eſcaybos | por elles apaar dos voſos Regnos de que vs, vos paguaſeis, de dia | I334 de Sam Miguel que paſou da era de mil trezentos trinta e quatro annos | ate ſeis mezes, e porque volo aſi nom comprio douvos por eſas Villas, e | Caſtellos, e pellos ſeus termos, e pellos frutos daquelles que ahi ouvemos | meu avoo ElRey D. Affonſo, e meu padre ElRey D. Sancho, e eu outro | ſi atee ho dia doje, Olivena, e Campo mayor, que ſam apaar de Ba- | dajos, e Sam Felizes dos Gualeguos com todolos ſeus termos, e direytos, e | pertenas, e com todo ſenhorio, e jurdiam Real, q~ ajades vs, e voſos ſoceſ- | ſores por erdamento pera ſempre aſi ha poſeſam, como ha propriedade, | e tiro de mim e do Senhorio de meus Regnos de Caſtella, e de Liam hos ditos | Luguares, e todo direyto que eu ha hy hey de hos aver, e douvolo, e po- | nho-o em vs, e voſos ſuceſores, e no Senhorio de Portugual, pera | ſempre. | Outro ſi meto no voſo Senhorio, e de voſos ſoceſores do Regno de Portu- | gal para ſempre ho Luguar que dizem Onguela, que hee junto de Campo | mayor acima dito, com todos ſeus termos direytos, e pertenas, e dou ha | vs, e ha todos voſos ſoceſores do Senhorio de Portugal toda jurdiam | direyto, e Senhorio Real que eu tenho, e devo ter de direyto no dito Luguar | Douguela, e tiro de my, e do Senhorio de Caſtella, e de Liam, e ponho | em vs, e em todos voſos ſoceſores, e no Senhorio do Regno de Portugal | pera ſempre ſalvo ho Senhorio direytos, e herdades, e Egrejas deſte Luguar | Donguela, que hos aja ho Biſpo, e Egreja de Badajos atee que com elles faa | que volas ſolte aſi como deve. Todas eſtas couzas de ſuſo dittas vos fao | porque nos quiteis dos ditos Caſtellos, e Villas Darronches, e Darecena ede | ſeus termos, e dos fruytos que dahy ouvemos ElRey D. Affonſo meu avoo, | e ElRey D. Sancho meu padre, e eu. | Outro ſi eu ElRey D. Fernando entendendo, e conhecendo que vs | tendes direyto em alguu~s Luguares dos Caſtellos, e Villas do Sabugual, e | Alfayates, e de Caſtel Rodriguo e Villar mayor, e de Caſtel bom, e Dalmey- | da, e de Caſtel milhor, e Monforte, e doutros Luguares de riba de Coa, hos | quaaes vos Rey D. Diniz te~des aguora em voſa mao, e porq~ vs vos partis, | e tiraaes do direyto que tinheis em Valena, e em Ferreyra, e no Eſparragual | que agora tem ha Ordem Dalcantra em ſua mao, e do direyto que aviades | em Aya monte, e em outros Luguares que aviades em Liam, e em Gua- | liza, e aſi porque vs vos partis, e tiraaes das demandas que me vs fazieis | por reza dos termos que ſam antre ho meu Senhorio, e ho voſo, por eſo eu | me parto, e tiro dos ditos Caſtellos, e Villas, e Luguares do Sabugual, e | Alfayates, e de Caſtel Rodriguo, e de Villar mayor, e de Caſtel bom, e | Dalmeyda, e de Caſtel milhor, e de Monforte, e dos outros Luguares de | Riba de Coa, qie aguora vs tendes em voſa mao, com todos ſeus termos | e pertenas, e partome de toda ha demanda que eu tenho ou poderia ter contra | vs, ou contra voſos ſoceſores por rezam deſtes Luguares ſobreditos de Riba | de Coa, e cada huu~ delles, e outro ſi me parto de todo direyto, ou jurdiam, ou | Senhorio Real tambem na poſeſam como na propriedade como em outra ma- | neyra qualquer que ho eu ahy tenha, e ho tiro de my todo, e de meus Senhorios | e de meus ſoceſores, e dos Senhorios dos Regnos de Caſtella, e de Liam, e | ponho em vs, e em voſos ſoceſores, e no Senhorio do Regno de Portugual | pera ſempre, e mando, e outorguo que ſe por ventura aa alguns privilegios ou | cartas ou eſtromentos parecerem, que forem feytos antre hos Rex de Caſtella, | e de Liam, e hos Rex de Portugal ſobre eſtes Luguares ſobre ditos davenas, | ou de poſturas, demarcaoens, e em outra qualquer maneyra ſobre eſtes Lugua- | res que ſejam contra, vs ou contra voſos ſoceſores, ou em voſo dano, ou | em dano do Senhorio de Portugal, que daqui em diante nom valham nem | tenham ha menagem, e firmeza nem ſe poſam ajudar dellas eu, nem meus | ſoceſores, has quaaes todas revogo pera sempre. | E eu ElRey D. Dinis aſima dito por Olivena, e por Campo mayor, e | por Sam Felizes dos Gualegos que me vs dais, e por Onguela, que meto em | men Senhorio ſegundo aſima he dito, eu me parto, e tiro dos Caſtellos, e | Villas Darronches, e Darecena, e de todos ſeus termos, e direytos, e de | todas ſuas pertenas, e de toda ha demanda que eu tenho, ou poderia ter | contra vs, ou contra voſos ſoceſores por razam deſtes Luguares ſobreditos, | e de cada hu~u delles que ElRey D. Affonſo voſo avoo, e ElRey D. | Sancho voſo padre, e vs ouveſtes, e recebeſtes, e deſtes Luguares dou | ha vs, e ha voſos ſoceſores todo direyto, e jurdia, e Senhorio Real, que | eu ey, e de direyto poderia aver neſes Caſtellos, e Villas Darronches, e | Darecena, por qualquer maneyra que ho eu ahy ouveſe, e ho tiro do meu, | e de meus ſoceſores, e do Senhorio do Regno de Portugal, e ho ponho em | vs, e em voſos ſoceſores, e no Senhorio do Regno de Caſtella, e de Liam, | pera ſempre, outro ſi eu ElRey D. Diniz, porque vs, vos tiraaes dos Caſ- | tellos, e Villas do Sabugual, e Dalfayates, e de Caſtel Rodriguo, e de Villar | mayor, e de Caſtel bom, e Dalmeyda, e de Caſtel milhor, e de Monforte; | e doutros Luguares de Riba de Coa, com ſeus termos que eu aguora tenho | em minha maa aſi como aſima hee dito, eu tambem me tiro, e aparto de to- | do direyto, que eu ey em Valena, e em Ferreyra, e no Eſparragual, e em | Aya monte, outro ſi me parto de todalas demandas que tenho, e poderia | teer contra vs, em todolos outros Luguares de todos voſos Regnos, e Se- | nhorios em quaalquer maneyra, outro ſi me parto de todalas demandas que eu | tinha contra vs por razam dos termos que ſam antre ho meu Senhorio, e ho | voſo ſobre que era contenda. | Eu ElRey D. Fernando de ſuſo dito por my, e por todos meus ſoceſ- | ſores com concelho, e outorguamento, e autoridade da Rainha minha madre, | e do Ifante D. Anrique, meu tio, e meu Tutor, e guarda de meus Regnos | prometo ha booa fee, e juizo ſobre eſtas couzas aſima ditas, e cada huuma del- | las pera ſempre nunqua vir contra ellas por my, nem por outrem defeyto, | nem de direyto nem concelho, e ſe aſi nom fizer que fique por perjuro, e por | tredor como quem mata ſeu ſenhor, outra, e Caſtello, e nos Rainha, e ho | Ifante D. Anrique aſima dito outorguamos todas eſtas couzas, ou cada | huuma dellas, e damos poder, e autoridade ha ElRey D. Fernando pera | fazellas, e prometemos por booa fee por ns, e por ho dito Rey D. Fernan- | do, e juramos ſobre hos ſantos Evangelhos, ſobre hos quaaes pozemos noſas | maos, e fazemos menagem ha vs Rey D. Diniz, que ElRey D. Fer- | nando, e ns tenhamos, e cumpramos, e guardemos, e faamos teer comprir, | e guardar todalas couzas ſobreditas, e cada huu~a dellas pera ſempre, e de | nunqua virmos contra ellas por ns, nem por outrem defeyto, nem de di- | reyto, nem concelho, e ſe aſi ho nom fizermos fiquemos perjuros, e tredores | como quem mata ſenhor, ou trae Caſtello. | E eu ElRey D. Diniz, por my, e por ha Rainha Dona Iſabel minha mo- | lher, e polo Ifante D. Affonſo meu filho erdeyro, e por todolos meus vaſalos, | e ſoceſores, prometo aa booa fee, e juro ſobre hos Sanctos Evangelhos ſobre | que ponho minhas maos, e fao menagem ha voos Rey D. Fernando por | voos, e por voſos ſoceſores, e ha voos Rainha Dona Maria, e ha voos | Ifante D. Anrique de teer, e guardar, e comprir todas eſtas couzas acima | dictas, e cada huu~a dellas pera ſempre, e nunqua vir contra ellas por my, | nem por outrem defeyto, nem direyto, nem concelho, e ſe aſi nom fizer que fi- | que por perjuro, e tredor como quem mata ſenhor, ou trae Caſtello. E porque | todas eſtas couzas ſejam mais firmes, e mais certas, e nom poſam vir em du- | vida, fazemos deſto fazer duas cartas em huu~ teor, que hee huu~a como outra | ſeladas com noſos ſellos de chumbo de noos ambos os Rex, e dos ſelos das Rai- | nhas ſobredictas, e do Ifante D. Anrique, e em teſtemunho de verdade; | das quaaes cartas cada huu~ de noos hos Rex ha de teer ſenhas: feyta em Al- | I297. canizes quinta feyra doze dias do mez de Setembro da era de mil duzentos no- | venta e ſete annos. | E aalem deſte eſcybo geral ſe | paſaram outras cartas particulares | pera hos Lugares que ſe avia den- | tregar por virtude das quaaes El- | Rey D. Diniz mandou tomar poſ- | ſes, que ſe fizera ſolenemente com | deſnaturamentos dos vaſallos, de | Caſtella, tornando aho Senhorio | de Portugal, de que ha eſtromen- | tos na Torre do Tombo, e por eſ- | tas Villas, & Caſtellos de Riba de | Coa, q~ era de D. Sancho ſabeen- | do ElRey D. Fernando, que lhos | avia de dar ha ElRey D. Diniz lo- | go por acordo das Cortes de C,a- | mora, deu ElRey por ellas em ſua | ſatisfao aho dicto D. Sancho, e | ha Dona Margarida ſua molher has | Villas de Galiſteu, e de Grada, e | de Moranda em Caſtella, e porque | deſtes eſcybos poderia nacer du- | vida, porque Sa Felizes dos Gale- | gos nom hee oje de Portugal, aſi | como ſa Olivena, e Campo | mayor, e Ouguela, que com elles | fora dados por Arronches, e Da- | racena, hee de ſaber, que ElRey D. | Diniz ouve delles ha poſe, como | dos outros Lugares, e lhe fez ho | Caſtello, e Alcacer, que teem, mas | depois fez delle doaa ha D. Af- | fonſo Snaches ſeu filho baſtardo, e | ſeu Mordomo moor, que por con- | ſentimento delRey ſeu padre, ho | deu c mais certa forma de dinheiro | ha D. Affonſo de Molina por ame- | tade Dalbuquerque, de que ho di- | cto Affonſo Sanches foy Senhor, e | porq~ ElRey D. Affonſo ho Quar- | to, irmao deſte Affonſo Sanches | em vida delRey ſeu padre, teve c | elle imizade, e competencia, logo | como Regnou ho deſterrou de | Portugal, e ſe foy pera Caſtella, | onde foy mais Senhor de Mede- | lim, e doutras Villas, e ſe fez vaſ- | ſallo delRey D. Fernando, por on- | de Portugal perdeo Sa Felizes, | pella dicta doaam delRey D. Di- | niz, e por eſte deſterro de Affonſo | Sanches, nom ouve Albuquerque, | como aho diante mais largamente | ſe diraa. | [ title ] CAPITULO XI. Como ElRey D. Fernando ca- | zou com ha Ifante Dona Coſ- | tana, e ho Ifante D. Affonſo de | Portugal com ha Ifante Dona | Breatis de Caſtella, e das mena- | gens, que ſobreſo ſe fizera, e da | deciſa, que fez nas contendas | que avia antre hos Principes | Deſpanha, e da grandeza, e | prudencia com que nella | ſe ouve, e muitas mer- | cees que fez. | T Anto que fora acabados hos | dictos eſcybos, e concordias, | e todalas outras couzas ſobre q~ an- | tre hos Rex avia alguu~as duvidas, e | debates, logo ElRey D. Fernando | recebeo por palavras de prezente | ha Ifante Dona Coſtana filha del- | Rey D. Diniz, e pero ho dicto ca- | zamento ſeer pera ſempre mais fir- | me, aſi no eſpiritual, como no | temporal, ho dicto Rey D. Fernan- | do, e ha Rainha Dona Maria ſua | madre, juraram ſolenemente que | ho dicto Rey nunqua por outra | nhuu~a molher deyxaria ha Ifante | Dona Coſtana, ſalvo por ſua mor- | te, e eſto fizeram, porque nom ti- | nham avida diſpenſaam do Papa, | que por ſeerem muito parentes, era | neceſaria, ha quaal logo procura- | ram, e ouveram, e em ſe acabando | ho dicto recebimento, ElRey D. | Fernando dice por ſy aho Ifante D. | Anrique, e ahos outros Ifantes, e | Senhores nomeados, que era pre- | zentes, neſta maneyra. | Porque deſte cazamento, q~ Deos | quis me foſe, eu ſam muito honra- | do, e contente folgaria que por nhuu~ | cazo, ſalvo por morte antre noos am- | bos nunqua ſe desfizeſe, ca vos rogo, | encomendo, e mando, q~ pera mayor | firmeza, e ſegurana delle jureis aqui | ahos Sanctos Evangelhos, e faais | por voos preyto, e menagem ha El- | Rey D. Diniz, que nunqua leyxa- | rey ha Ifante Dona Coſtana ſua fi- | lha, minha molher, e ſendo cazo que | eu ha queyra leyxar, ho que Deos | nom mande, que voos me desſirvaes, | e ſejaes com voſas peſoas, teerras, | e vaſallos contra my, e com tudo | ajudeis, e ſirvaes ha ElRey D. Di- | niz, e ha ſeus ſoceſores atee que tor- | ne ha viver com ella, aſi como com | minha molher em toda ſua vida, e ſe | eu for vivo, que aalem deſo cumpra | inteyramente todalas couzas que an- | tre nos aqui ſa poſtas, e concorda- | das, e pera eſto melhor, e mais livre- | mente ho poderdes fazer, eu dagora | pera enta vos ey pera eſo por deſ- | | naturados, e vos quito todolos prey- | tos, e menagens, e juramentos, que tee | ho dia doje como vaſallos me tinheis | feyto pera quando eu nom comprir | ho que diſe, vos ſervirdes, e ajudar- | des ha ElRey D. Diniz, e ha ſeus | ſoceſores que vos para eſo requere- | rem. | Hos quaaes juramentos fora | ſolenemente tomados, e aſi has me- | nagens dadas pera ho ſobredicto | por ſy ho comprirem, e manterem | de que ſe tomaram eſtromentos | pubricos, que ElRey D. Diniz trou- | xe conſigo ha Portugal, e outros | taaes de ſeus juramentos, e outros | juramentos fizeram muitos outros | grandes Senhores de Caſtella, que | ha eſte tempo eram auzentes, e hos | enviaram ha ElRey D. Diniz muy | autenticos, porque aſi foy concor- | dado, mas de huu~s, nem doutros | nom ouve neceſidade, porque El- | Rey D. Fernando depois deſto vi- | veo beem, e honeſtamente, e com | mais amor, e conformidade com | ha dicta Rainha Dona Coſtana | ſua molher, e em ſeu poder faleceo. | E aſi hos Rex fora ſempre depois | em toda ſua vida em muita paaz, e | concordia, e ſobre ha entrega dos | dictos Lugares nom ouve, nem ſe | ſeguio fora feyta por Caſtella, | nem alguu~a reſiſtencia. | Acabadas eſtas couzas ElRey | D. Fernando ſe partio Dalcanizes | com ha Rainha ſua molher, e El- | Rey D. Diniz trouxe logo pera | Portugal conſigo, e por Eſpoza do | Ifante D. Affonſo ſeu filho, ha | Ifante Dona Breatis irma delRey | D. Fernando, e filha delRey D. | Sancho, e da Rainha Dona Maria, | ha quaal ſeendo ainda muy moa, | andou muy honradamente em ca- | za delRey D. Diniz, em quanto | ambos era ſoomente cazados por | palavras de futuro, cujo prometi- | mento ſe fez por elles em Coimbra | na era de mil trezentos e ſete annos | onde ElRey Diniz deu logo aho | Ifante ſeu filho, ſeendo em idade de | ſete annos, caza muy honrada, e de | muitos vaſallos, e de muy ricos ho- | mens, e de ſeu aſentamento lhe deu | grande contia de dinheyro, e mui- | tos Lugares de ſua jurdia, e pera | teer peſoas de ſeu Concelho, e pe- | ra officiaes de ſua caza, e fazenda | lhe deu hos homens mais princi- | paaes, que em ſeu Regno ſentio, q~ | era melhores, e mais pertencentes | aſy, como foy D. Martinho Arce- | biſpo de Braga, e ho Conde D. | Martim Gil de Souza, Alferes | moor, e aſi outros eſcolhidos pera | todolos outros officios. E aalem do | ordenado de ſua caza, que muy | perfeytamente tinha, ſe acha que | deu mais aho Ifante D. Affonſo | oyto mil livras, que valia do pre- | o dagora ha tres mil e duzentos | cruzados, de que pudeſe fazer | beem, e mercee de como quizeſ- | ſe. | E depois ho dicto Ifante re- | cebeo por palavras de prezente | ha Ifante ſua molher, e ſe fize- | ra ſuas feſtas, e vodas em Lix- | boa, e ElRey lhe deu Vianna, e Te- | rena, e ho Caſtello Dourem, e ha | teerra Darmamar junto de Lame- | go, e ha ſua molher muitas teerras, | e grandes joyas, e riquezas, como | aho diante ſe diraa. | E poſto que eſtes cazamentos, e | booa concordia foſe feyta antre | eſtes Rex, nem por eſo ElRey D. | Fernando fiquou em paaz, que | nom leyxou de teer em ſeus Reg- | nos guerras, e grandes deferenas, | com ElRey D. James deſte nome | ho Seguu~do Rey Daraga irmaa | da Rainha Dona Iſabel, molher | delRey D. Diniz, por raza do | Regno de Murcia, e com D. Af- | fonſo de Lacerda ſeu primo com | irmaa, que tambem ſe chamava | Rey de Caſtella, e com ho Ifante | D. Joham ſeu tio, que ſe chamava | Rey de Liam, hos quaaes eram aju- | dados, e favorecidos de muitos, e | grandes Senhores de Caſtella, e de | Liam, contra ho dicto Rey D. Fer- | nando, q~ por teer no meſmo Regno | tam grandes contrayros, padecia | grandes afrontas, e era poſto em | muitas neceſidades, nas quaaes ſe | ſocorreu muitas vezes ha ElRey | D. Diniz ſeu ſogro, com que ſe vio | em Fonte guinaldo junto do Sabu- | gal, e em Baldahouſe, que com | gentes darmas, e muito dinheyro | de ſeu tezouro, durando ſuas guer- | ras ho ajudou, e ſoſteve grande- | mente, atee que com todos hos di- | ctos ſeus contrayros, e competido- | res ho poz por ſy em paaz, e aſoce- | go, como aho diante direy, porque | nas derradeyras viſtas, que tivera | em Badalhouſe, que foy na era de | mil trezentos e tres annos ſe acha I303. | por certa arrecadaam de deſpeza | do tezouro delRey D. Diniz, que | elle deu de graa aho dicto Rey | D. Fernando ſeu genro huu~ mi- | lha de maraveds, que ſeguu~do | ha valia, e conta das moedas fazia | numero de ſincoenta e ſinco mil | cruzados dos noſos, e mais lhe deu | huu~a copa de huu~a eſmeralda, que | foy avaliada em doze mil e tantas | dobras douro. | E porque nom fiquem ſuſpenſas | has cauzas, e fundamentos, q~ ouve | pera antre eſtes Rex, e Senhores | aver has guerras, e competencias | que dice, e porque ha Eſtoria ſe en- | tenda melhor, e nom fique confu- | za, farey dellas huu~a breve, e ſuſ- | tancial decraraam. E primeyra- | mente D. Affonſo de Lacerda ti- | nha guerra com ElRey D. Fernan- | do ha quaal ficra comeada do | tempo delRey D. Sancho, porque | D. Affonſo era filho primeyro ligi- | timo do Ifante D. Fernando de La- | cerda, e da Rainha Dona Branca | filha delRey Sa Luis de Frana, | ho quaal Ifante ſeendo jurado por | erdeyro dos Regnos de Caſtella, e | de Liam, faleceo em vida delRey | D. Affonſo ho Decimo de Caſtella | ſeu pay teendo jaa filhos, ha ſaber | eſte D. Affonſo de Lacerda, e ou- | tro D. Fernando, dos quaaes D. Af- | fonſo era ho mayor, aſi por ſer ne- | to do dicto Rey D> Affonſo, como | por contrato do cazamento feyto | antre ElRey Sa Luis de Frana, e | ho dicto Rey ſeu avoo devera erdr | hos Regnos de Caſtella, e de Liam, | e por eſta cauza ho dicto D. Affonſon- | ſo de Lacerda andando deſterrado | em Araga, elle em vida delRey | D. Sancho ſeu tio, em tempo deſte | Rey D. Fernando de Caſtella ſeu | filho, ſe chamou, e intitulou Rey | de Caſtella, e porque ho titulo, e | Regno de Liam, elle hos deu aho | Ifante D. Joha ſeu tio, pera que | ho ajudaſe, como logo direy. | E porque ho dicto Rey D. Af- | fonſo de Caſtella ſeu avoo, lhe ti- | nha dado ho Regno de Murcia, | que elle ganhara ahos Mouros em | que tambem por ElRey D. Sancho | ouve ctradia, como atraaz fica | decrarado eſte dicto D. Affonſo de | Lacerda pera teer ajuda, e favor del | Rey D. James Daraga, q~ era ſeu | tio, pera has couzas de Caſtella lhe | deu ho direyto, q~ tinha no Regno | de Murcia, c toda ſua Conquiſta, | por beem do quaal aſi durando ho | tempo da titoria delRey D. Fer- | nando em quanto foy moo ho di- | cto Rey D. James ouve, e conqui- | ſtou ho dicto Regno de Murcia, q~ | pertencia ha Caſtella, e ho nom | quizera ſoltar aho dicto Rey D. | Fernando, ſobre que tinha guerra, | ha quaal ElRey D. Diniz antre el- | les tambem concordou quando foy | ha Aragam, como aho diante di- | rey, e ho dicto Rey D. Fernando | tinha mais guerra com ho Ifante | D. Joha ſeu tio, irmaa delRey | D. Sancho ſeu pay, ho quaal Ifan- | te ſe chamava Rey de Liam com | outorga, e conſentimento do dicto | D. Affonſo de Lacerda ſeu ſobri- | nho, que do dicto Regno, como | Rey de Caſtella, e de Liam, lhe fi- | zera doaam, porque foſe em ſeu | favor contra ElRey D. Fernando, | e lhe ajudaſe ha ganhar Caſtella. | E ha eſte partido contra ElRey | D. Fernando, e em ajuda do Ifante | D. Joha favorecia, e ajudava | muito D. Joha Nunes de Lara, | q~ tinha grande teerra com muitas | gentes, e Fortalezas, eſte era de- | zavindo, e fra do ſervio delRey | D. Fernando, porque ha Rainha | Dona Maria ſua madre, e ho Ifante | D. Anrique ſeu Tutor, nom com- | pria com elle has couzas, que El- | Rey D. Scho lhe prometera qu- | do ElRey D. Diniz da priza em | que eſtava em Portugal ho enviou | ſolto, e honrado ha Caſtella, como | atraaz fica, e por eſo deyxan- | do ſuas Fortalezas de Caſtella ha | recado, ſe foy ha Frana, e depois | tornandoſe pera Aragam, e Navar- | ra, trouxe deſtes Regnos conſigo | muita gente, com que entrou em | Caſtella, e fez nella muito dano eſ- | pecialmente ma teerra de D. Joha | Affonſo Dalfaro, que era delRey | D. Fernando, ha quaal teerra cor- | reo, e eſtragou por tres dias, no ca- | bo dos quaaes ho dicto D. Joha | Affonſo com muita gente delRey | que conſigo tinha, veyo buſcar ho | dicto Joha Nunes, ho quaal con- | fiando dos Navarros, e Aragone- | zes ahos primeiros encontros lhe | fogira todos, e elle ficou ſoomen- | te com vinte, e ſeis Cavalleyros de | ſua caza, hos quaaes como boons, | leaes, e esforados morrera todos | antre elle, e ſendo muito ferido foy | na batalha prezo. | E por eſo hos ſeus das muitas | Fortalezas, que por elle tinha em | Caſtella nom leyxaram ſempre de | fazer ha guerra como dantes fa- | ziam, pelo quaal na priza onde ho | dicto Joha Nunes jazia pera ſer | ſolto, ouve taal concordia, que elle | deſe como deu aho Ifante D. An- | rique tutor, e defenſor, por molher | ha Dona Johana Nunes, ha que | diſera Palombinha, e que elle | Joha Nines cazaſe, como cazou | com Dona Maria filha de D. Dio- | go Senhor de Biſcaya, com grande | acreſeentamento de dinheyro, por | contia aalem do que tinha. E tanto | era ho poder, e valor deſte Joha | Nunes em Caſtella, que tanto que | depois deſta ſua priza, e deſta ſua | concordia delRey D. Fernando, e | delle foy feyta, logo por ho Ifante | D. Joha, e D. Affonſo de Lacer- | da, que ſe chamava Rey de Caſtel- | la, ſe foy logo pera Aragam, e con- | ſentio na concordia, que aho dian- | te direy; e ho Ifante D. Joha por | eſo tambem leyxou ho titulo de | Rey de Liam, e quebrou hos ſelos | de Rey que trazia, e veyo beyjar ha | ma ha ElRey D. Fernando, e fi- | cou por ſeu Vaſallo, e depois eſte | Ifante D. Joha ſendo Tutor del- | Rey D. Affonſo, filho deſte Rey | D. Fernando juntamente com ho | Ifante D. Pedro, em huu~a ora por | afronta, e ſem feridas, ambos mor- | reram na Veyga de Grada, e do di- | cto Ifante D. Joha ficou filho er- | deyro D. Joha, ho que diſera | ho torto, Senhor de Biſcaya, de que | atraaz dice. | E feytas aſi eſtas concordias c | ho Ifante D. Joha, e c D. Joha | Nunes, ainda ficava ha ElRey D. | Ferndo duas arduas contendas por | concordar de q~ ſ3e eſperava grdes | guerras, e muitos danos ſe nom ſe | atalhaſem, e huu~a era antre ElRey | D. James Daraga ſobre ho Regno | de Murcia, e ha outra antre D. Af- | fonſo de Lacerda, ſobre ho Regno | de Caſtella como atraaz dice. E ſe- | endo neſte tempo Prezidente na | Egreja de Roma ho Papa Benedi- | cto Undecimo, q' era homem San- | cto, que ſobre todos mais deſejou, e | procurou ha paaz, e amizade dan- | tre hos Rex, e Principes Chriſtaos | ſabendo deſta diſcordia, que antre | eſtes Rex avia, lhe enviou huu~ | Nuncio com ſeus Breves, enco- | mendandolhe com tantas razoens, | que deziſtiſem do maal da guerra, | e eſcolheſem ho beem da paaz, e | pera antre elles ſe beem fazer como | devia ſe louvaſem em alguu~ boom | Juiz,, que antre elles compriſe, e | concordaſe ſuas contendas, e que | Sua Santidade ajudaria ha comprir | ſua determinaa. | E hos Rex ambos de Caſtella, e | Aragam obedecendo ahos conce- | lhos, e mandados do Papa ſe con- | cordaram, e enviaram dizer, que | antre elles nom podia aver melhor | Juiz, nem mais competente, que | ElRey D. Diniz de Portugal, e pe- | diam ha Sua Santidade, que pera | elle ho fazer ſem eſcuza, e com | mayor obrigaa lho quizeſe en- | comendar, porque aalem de ſer | Rey muy juſto, e de muy craro jui- | zo, tinha com elles ambos muy | eſtreyto devido, porque era ſogro, | e primo com irmaa delRey D. | Fernando de Caſtella, cunhado, e | primo delRey D. James Daragam, | cazado c ha Rainha Dona Iſabel | ſua irma. Da quaal couza prou- | ve muito aho Papa, e ha encomen- | dou com grande afeya ha ElRey | D. Diniz, que por lhe obedecer, e | fazer couza dina de taal Rey, e aſi | por has continuas preſes da Rai- | nha Dona Iſabel ſua molher com | que lho pedia, aceytou ho juizo | por ſua parte, em que tambem en- | trou ha determinaa, e concor- | dia ſobre ha contenda, que era an- | tre ElRey D. Fernando, e ho Ifan- | te D. Affonſo de Lacerda, que tra- | zia o ſello, e armas direytas do | Regno de Caſtella, ſobre que am- | bos tinham guerra, acerca das | quaaes couzas ante de ſe finalmen- | te concordarem ho Ifante D. Jo- | ha, tio delRey D. Fernando, de | que atraaz dice, foy como ſeu pro- | curador lia ElRey D. James Dara- | gam, e aho Ifante D. Affonſo de | Lacerda, e com elles praticou, e | aſentou hos Juizes, que aviam de | ſeer, e has couzas particularmente | ſobre que ElRey D. Diniz avia | com hos outros Juizes dentender, | e dar ſua ſentena. | E ſentara, que no tocava | ha ElRey D. Fernando com ElRey | D. James ſobre ho Regno de Mur- | cia, foſem Juizes ElRey D. Diniz, | e ho dicto Ifante D. Joha, e D. | Ximeno Biſpo de C,aragoa, e | que na contenda, e diferena, que | era antre hos dictos Rex D. Fern- | do, e D. Affonſo de Lacerda, foſ- | ſem Juizes hos dictos Rex D. Diniz | e D. James ſoomente ſobre huu~s, | e outros fizeſem ſeus compromiſ- | ſos autorizados, e aſellados de ſeus | ſellos de chumbo, ha ſaber ho del- | Rey D. James Daragam feyto ha | vinte dias Dabril da era de mil tre-I304 | zentos, e quatro annos, e pera ſe- | gurana delle eſtar pela ſentena | que ſe deſe, poz em ha refens hos | Caſtellos de Arica, e de Verdejo, e | de Gomir, e de Borja, e de Malom. | E ho Compromiſo delRey D. Fer- | nando, foy ha tres de Mayo da era | de mil trezentos e quatro annos. | E com eſtes Caſtellos no dicto | Compromiſo logo aſinados por | ha refens, e ſeguranas decomprir | quaalquer ſentena, e determina- | am, que pelos dictos Juizes ſe deſ- | ſe, ha ſaber Alfaro, Cerveyra, O- | toom, & Sancto Eſteva, e Aten- | a. E tanto que eſtes Compromiſ- | ſos fora concordados hos Rex de | Caſtella, e Daragam, e aſi ho Ifan- | te D. Affonſo de Lacerda ha que | tocava, enviaram por ſeus Embai- | xadores pedir ha ElRey D. Diniz, | que logo quizeſe hir em peſoa por | quanto has dictas contendas final- | mente ſe avia de ſentenciar, e de- | terminar pelos Juizes atee Sancta | Maria Dagoſto, do que ha ElRey | logo preſtes, e ſe foy aa Cidade da | Guarda, donde logo partio, e en- | trou em Caſtella por Cidade Ro- | drigo, no mes de Junho da dicta | era, e levou conſigo ha Rainha | Dona Iſabel ſua molher, e ho | Ifante D. Affonſo ſeu irmaa, e | D. Pedro ſeu filho, e ho Conde D. | Joha Affonſo, e Prelados, e In- | ſanoens, e Cavalleyros em nume- | ro de mil peſoas, afora outras | muitas gentes pera que feez preſ- | tes has gentes de ſeus Regnos, e na | Guarda aprovou, e eſcolheo della | ha que quiz, que foy muita, e muy | honrada, e ha mais riqua, e con- | cerrada de ſuas peſoas, cavallos, | arreyos, e veſtidos, que atee quelle | tempo em ſemelhante cazo ſe viſ- | ſe, e pera eſta ida ouve ElRey D. | Diniz grandes ajudas de dinheyro | de ſeus poovos. | Ante q' ElRey partiſe da Guar- | da, chegou ha elle Diogo Garcia | de Toledo, Cavalleyro da Caza | delRey D. Fernando, e com elle | dous ſeus eſcudeyros com has fral- | das das capas cheyas de chaves da- | quellas Villas, e Caſtellos por on- | de ElRey D. Fernando foy certifi- | cado q' ſeria ha ida, e vinda delRey | D. Diniz, e nellas lhe fazer preſtes | has pouzadas mantimentos, e cou- | zas que ha elle, e ha ſuas gentes | compriſe, e mais entregarlhe a- | quellas chaves, que eram das Vil- | las, Caſtellos por onde avia de | paſar pera nellas pouzar, e fazer | dellas livremente todo ho que qui- | zeſe, como de ſuas proprias. El- | Rey D. Diniz lhe dice, que ha El- | Rey D. Fernando elle lhe gradecia | muito ſeu convite, e aſi ho offere- | cimento de ſuas Villas, e Caſtellos, | de que lhe rogava, que ho ouveſe | todo por eſcuzado, e que por eſcu- | zar alguu~s bolios, e alevantamen- | tos de ſuas gentes com has de Caſ- | tella, elle nom eſperava de pouzar | em Villas, e povoaoens, antes ho | mais alongado dellas que podeſe, | pera que levava muitas, e booas | tendas, em que ſe alojaria. | E porm aly por acordo de peſ- | ſoas, que ho beem ſabia concor- | dou todas has jornadas, e aloja- | mentos, que faria, atee Araga, e | foy acordado, que Diodo Garcia, | dous, ou tres dias ſempre foſe, co- | mo foy diante pera lhe fazer trazer | hos mantimentos, e couzas neceſ- | ſarias, que ElRey mandava ha to- | dos pagar muy liberalmente, e por | eſo lhas trazia com boa graa, | e em grande abaſtana, em que | chegando ElRey D. Diniz aa Vil- | la de Coelhar, que hee em Caſtel- | la, ho veo receber ElRey D. Fer- | nando, e com elle ho Ifante D. Jo- | ha, e outros muitos grandes, e | Senhores de Caſtella, e depois de | averem prazer, e conſultarem an- | tre ſy has couzas, que pedia, ſe | partira da ly com fundamento de | todos irem, como foram atee So- | ria, e fora apartados por dous ca- | | minhos, e nom muito afaſtados | por reza de huu~s, e outros averem | melhor ſuas provizoens, e manti- | mentos, e de Soria donde ElRey | de Caſtella ſe eſpedira delle, El- | Rey D. Diniz, e ha Rainha ſua | molher, e ho Ifante D. Joha de | Caſtella paſaram ha Grada, que | hee ho derradeyro Lugar de Caſ- | tella, fronteyro Daraguam, onde | com muitos, e nobres Cavalleyros, | e Donas Daragam hos veyo rece- | ber ElRey D. James, e ha Rainha | Dona Branca, ſua molher, e aho | outro dia comera todos com El- | Rey D. Diniz, que de baxellas | douro, e de prata, e doutros Reaes | comprimentos, hia tam abaſtado, | e apercebido, como pera convite | de tantos, e taaes Rex, e em ſeus | proprios Regnos devidamente ſe | requeria. | Acabados hos convites ElRey, | e ha Rainha Daragam ſe volvera | ha Tarraona, e ElRey D. Diniz, | e ha Rainha ſua molher, e ho Ifan- | te D. Joha aho outro dia ſe fora | aa meſma Cidade onde era con- | cordado, que pera determinaa | de ſeus debates todos avia de ſeer | juntos, ſalvo ElRey de Caſtella, | que nom avia de ſeer prezente, por- | que ho dicto D. Joha ſeu tio por | todas ſuas couzas hya por ſeu Pro- | curador ſoficiente. Tanto que eſ- | tes Rex, e Senhores fora juntos | em Tarraona ouvira has partes, | e ſeus Procuradores ſobre has cou- | ſas, que cada huu~ tocava, ElRey | D. Diniz, e ho Ifante D. Joha, e | D. Ximeno, Biſpo de C,aragoa | Juizes arbitros, e deputados, que | era pera hos debates, e duvidas | que avia antre ElRey D. Fernan- | do de Caſtella, e ElRey D. James | Daragam ſobre ho Regno de Mur- | cia. | Ahos oyto dias do mez Dagoſ- | to do dicto anno, deram ſentena | ha ſaber, que Cartagena, e Guada- | mir, e Alicante, e Acheche, com | ſeu porto de maar, e com todos | ſeus termos, e com todo ho que lhe | pertencia, e podia pertencer, aſi | como Talha Agoa de Segura, an- | tre ho Regno de Valena, e antre | ho mais alto cabo do termo de Vi- | lhena, tirando deſto ha Cidade de | Inice, e de Molina, e ſeus termos | todos, e outros ſobredictos Luga- | res ficaſem, e foſem pera ſempre | DelRey Daragam, e de ſeu Se- | nhorio, ſalvo, que Vilhena ficaſe | ha D. Joha Manuel, e que o Se- | nhorio, e propriedade ficaſe ha | ElRey Daragam, e que ha Cidade | de Murcia, e de Molina, e Monte | Agudo, e Loreyna, e Alfama, com | todolos ſeus termos, e todolos ou- | tros Lugares, que ſa do Regno | de Murcia, tirando hos ſobredictos | Lugares, ficaſem ha ElRey de | Caſtella, e que ſe ſoltaſem prizio- | neyros de huu~a parte, e da outra, e | aſi quaaeſquer arefens, e ſeguras | dadas por elles, e que eſte contrato | juraſe ElRey D. Fernando em peſ- | ſoa, e fizeſe jurar, ha todolos Gr- | des Senhores de ſeu Regno. | E eſta ſente~a com outras mui- | tas crauſulas, que aqui nom fazem | aho propozito, foy dada no Luguar | de Torrelhas, ſentenceada junto | de Tarraona Sabadooyto dias do | mez Dagoſto, da era de mil tre- | zentos annos. E aho pubricar da | dicta ſentena era prezentes ho | dicto Rey D. James Daragam por | ſy, e por ElRey D. Fernando co- | mo ſeus Procuradores ſoficientes | era prezentes Ferna Gomes ſeu | Chanarel, e Notayro moor do | Regno de Toledo, e Diogo Gar- | cia, ſeu Chanarel moor do Selo | da puridade, e Mordomo da Rai- | nha Dona Coſtana, ſua molher, | hos quaaes todos conſentiram na | dicta ſentena, ha cuja pubricaa | eram em peſoas prezentes, Gran- | des Senhores do Regno de Portu- | gal, e de Caſtella, e Daragam, e na | dicta ſentena ſa particularmente | nomeados. | E tanto que eſta ſentena foy pu- | bricada, logo no meſmo dia, lugar, | e anno, prezente has meſmas teſte- | munhas, ElRey D. Diniz, e ElRey | D. James ſobre contenda, que era | antre ElRey D. Fernando, e D. Af- | fonſo de Lacerda, que ſe chamava | Rey de Caſtella por ccordia dam- | bos, dera, e pronunciara outra | ſentena porque ho dicto D. Af- | fonſo de Lacerda ouveſe pera ſy | no Regno de Caſtella livres pera | ſempre eſtas couzas, ha ſaber Alva | de Tormes, e Bejar, e Val de Ar- | najem, e Mananares, e Alga boa, | e hos montes Daguda de Magam, | e Povoa da C,ara com ſeu Alfoz, | e ha teerra de Lemos, e Robayana, | que hee no Xarafe, e ametade Del- | la, e Baldava, e hos moinhos, e ha | Ilha de Sibilla, que fora de D. | Joha Mateus, e hos moinhos, e | ha Cidade de Fornachuellos, que | fora de Nuno Fernandes de Val- | denebro, e Incaſta, e hos moinhos | de Cordova. E que ho dicto D. | Affonſo de Lacerda, entregaſe ha | ElRey D. Fernando certos Caſtel- | los, que tinha de Caſtella, e que | leyxaſe pera ſempre ho titulo, e | ſelo, que tinha de Rey de Caſtella, | com outras muitas ſeguranas de | juramentos, e de Caſtellos, que | ElRey D. Fernando poz em are- | fens atee trinta annos. E ha pubri- | cao deſta ſentena ho dicto D. | Affonſo de Lacerda non quis eſtar | por vergonha em peſoas, poſto que | nella conſentio, e aprovou. Das | quaaes ſentenas hos dictos Juizes, | mandaram paſar ſuas cartas ha ſe- | ladas de ſeus ſelos. | E dadas cada huu~a das partes | ha q~ tocava, e com eſtas concordias | aſi feytas toda Eſpanha cercada | de Rex Chriſtaos della, ficou em | paaz, e ha ſecego, e ElRey D. Di- | niz, e ElRey Daragam, com has | Rainhas ſuas molheres ſe partiram | logo de Tarraona, e ſe vieram to- | dos Aguda, onde ElRey de Caſtel- | la com ha Rainha Dona Maria ſua | madre, hos eſtava eſperando, e hos | ſayram ha receber grandemente, | acompanhaados com todo ſeu Eſ- | tado, e com ha mayor honra, que | enta ſe pode fazer E hos Rex co- | meram aquelle dia com ho dicto | Rey D. Fernando, e has Rainhas | Dona Iſabel de Portugal, e Dona | Branca Daragam, comeram com | ha dicta Rainha Dona Maria de | Caſtella, e ally veyo D. Fernando | de Lacerda, irmao manor de D. | Affonſo de Lacerda, chamado por | mandado delRey D. Diniz, e tra- | zido Dalmaa donde eſtava pelo | Conde D. Pedro ſeu filho, onde | eſtava, ElRey D. Diniz lhe deu | grandes joyas, e fez grande mercee, | e aſi fez ficar por vaſallo del- | Rey D. Fernando, que depois lhe | fez muita honra, e acrecentamen- | to, porque depois da morte do Ifan- | te D. Anrique ſeu tio, e tutor ca- | zou ho dicto D. Fernando com | Dona Johana Nunes de Lara, que | foy molher do Ifante, como atraaz | ſe dice, com que ouve muita teerra, | e grande fazenda, de que ouve fi- | lhos horados. | E ally em Aguda hos tres Rex | Deſpanha, que eram juntos, e aſi | ho Ifante D. Joha por contrato | feyto firmram todos quatro ſuas | amizades, e lianas, pera dahy em | diante elles, e ſeus ſuceſores ſerem | pera ſempre amigos de amigos, e | imigos de imigos, e ſe por ven- | tura alguum delles em ſua vida, ou | depois alguum, que delles deſcen- | deſe foſe contra eſta paaz, e ami- | zade, e liana, que hos outros dous | foſem contra elle, por guerra, ou | por outra quaalquer maneyra lhe | fazerem guardar, e cumprir eſta | poſtura, ha quaal queriam, que | foſe confirmada pelo Papa com | cenſuras, e penas de grandes exco- | munhoens, em que logo encorreſe | aquelle qua ha quebraſe, e foſe | contra ella, e que cada huu~ ſem po- | der de preocupaa dos outros po- | deſe por ſy empetrar, e aver eſta | confirmaa do Papa. | E com eſta concordia feyta, e | acabada, hos Rex muy alegres, e | contentes ſe deſpediram, ha ſaber | ElRey Daragam pera Tarraona, | e ElRey D. Diniz pera Soria, onde | eſperou ElRey D. Fernando ſeu | genro, e ambos dally por deſveyra- | dos caminhos, ſe viera ha Valha- | dolid onde eſtava ha Rainha Dona | Coſtana filha delRey D. Diniz | e molher delRey D. Fernando. | E porque nom paſaſem ſem | lembrana, e por hora, e louvor | delRey D. Diniz has muitas gran- | dezas, e grandes nobrezas de que | neſta jornada em dous Regnos eſ- | tranhos, e c tamanhos Rex uzou | hee de ſaber por certa verdade que | ElRey D. Diniz chegou ha Tar- | raona ante de darem, e pronun- | ciarem has dictas ſentenas, El- | Rey D. James Daragam ſeu cu- | nhado, pera ha guerra dos Mouros, | e pera outras neceſidades, que ſe | lhe offereciam lhe pedio empreſta- | dos des mil dobras douro, dizen- | do, que por penhor da paga dellas, | lhe faria quaaeſquer eſcrituras, e | daria fieldade de que~ quizeſe atee | pagar has dictas dobras, hos Caſ- | tellos de ſeu Regno, que por beem | tiveſe, e lhe mandaria delles fazer | preyto, e menage; E ElRey lhe di- | ce, que ho empreſtimo das dees | mil dobras era eſcuzado, mas que | que daquellas, e doutras tantis por | que foſem vinte mil, lhe fazia gra- | a, que pois elle has tinha, que era | razam de lhas dar, e elle Rey Da- | ragam de has receber delle, pois | lhe compria, e dellas tinha neceſ- | ſidade, has quaaes logo lhe man- | dou entregar. | E aalem deſo deu mais aa Tai- | nha Dona Branca ſua molher mui- | tas, e muy ricas joyas douro, e pe- | dras preciozas. E aſi ho fez ha to- | dolos Senhores de ſua Corte ha | que tambem deu muy ricas joyas | douro, e prata, de ſuas baxellas, e | muitos panos douro, e de ſeda, de | que pera eſo foy logo de ſeu Reg- | no muy percebido. ElRey Dara- | gam nom quiz nhuu~a couza, ſalvo | que elle ſoo ſem outro alguum, co- | meo alguu~as vezes com elle. Eſta | maneyra teve ElRey D. Diniz com | ElRey D. Fernando ſeu genro, aqui | em Valhadolid ſe ajuntaram a ſy | has Rainhas Dona Maria, e Dona | Coſtana, ahos Ifantes D. Pedro, e | D. Joha, deu muy grandes dadi- | vas, em joyas douro, e pedraria de | grandes preos, e nom ſoomente | ho fez aſi ha todolos grandes Se- | nhores, e nobres homens, que era | na Corte, mas ainda ſe acha, e lee | por muy certa verdade, que ahos | que era auzentes lhas enviava por | ſeus meſageiros, e diſto principaal- | mente foy ElRey D. Diniz muito | louvado, e ficou delles louvado em | perpetua memoria, que tamanhos | Rex como eram ElRey de Caſtel- | la, e ElRey Daragam, e has Rai- | nhas ſuas molheres receberam del- | Rey D. Diniz em ſeus Regnos, e | proprias teerras tantas, e tam gran- | des graas, ſendo elle tanto pera | lhas dar ha elles, parecendo beem, | e raza de ho receberem delle. | E no cabo deſtas repartioens ſe | acha, que huum Cavalleyro hon- | rado, que era prezente de que | por ventura a nobreza delRey D. | Diniz ſe eſquecera, ſe aggravou ha | elle em peſoa com palavras, que | pareciam de fidalguia, eſtando El- | Rey comendo em huu~a meza de | prata, que comſigo trazia, ElRey | com ho roſtro muy alegre lha m- | dou logo dar, porque era jaa ha | pea menos principal de ſeu tezou- | ro, que lhe ficara. E de Valhado- | lid ElRey D. Diniz, e ha Rainha | Dona Iſabel ſua molher ſe deſpedi- | ram delRey, e das Rainhas, e Ifan- | tes de Caſtella, e alegre, e muito | honrado ſe tornou ha ſeu Regno | de Portugal. E neſta jornada tar- | dou da entrada de Junho do dicto | anno de mil trezentos, e quatro, | em que entrou em Caſtella, e elle | era ha deſte tempo de idade de quo- | renta, e tres annos, e avia vinte e | ſinco annos, que Regnava. | [ title ] CAPITULO XII. Das ajudas, que ElRey D. Fer- | nando de Caſtella, ouve del- | Rey D. Diniz, pera ha | guerra dos Mouros | de Grada. | P Oſto que ElRey D. Fernando | ficaſe em paaz com ElRey | Daragam, e com D. Affonſo de | Lacerda, como dicto hee, porm | elle como era Rey Catholico, e de | grande corao, ha quiz converter | em guerra contra Mouros imigos | da Fee, eſpeciaalmente em con- | quiſtar, e cobrar ho Regno de Gra- | da ſe podeſe, e pera mais facil- | mente, e com menos trabalho ho | poder fazer, dezejou em ſua ajuda | ha ElRey Daragam, aho quaal | por ſeus Embayxadores convidou | pera eſta empreza, ho quaal ha a- | ceytou, com taal condio, que el- | le pera ho Regno, e Senhorio Da- | raga ouveſe pera ſempre ho Reg- | no Dalmeyria, que eſtimaram ſeer | ha ſetima parte do Regno de Gra- | da, e com eſte partido antre elles | concertado, ElRey D. Fernando | eſtando em Alcal de henares, ho | fez ſaber ha ElRey D. Diniz ſeu | ſogro, e lhe pedio, que pera guerra | ha elle tam juſta, e de tam ſancta | memoria, e principalmente pera | logo hir ſobre Algezira, ho quizeſ- | ſe ajudar com alguumas gentes de | ſeus Regnos, e empreſtarlhe alguu~ | dinheyro de ſeu tezouro. | Aho que ElRey D. Diniz lou- | vando ſeu propoſito, e confiana | ſatisfez, que lhe enviou ho Conde | D. Martim Gonalves de Souza ſeu | Alferes moor, c ſete centos de ca- | vallo beem aparelhados, e mais lhe | empreſtou dezaſeis mil e ſeis centos | marcos de prata, em penhor dos | treze mil marcos delRey D. Fer- | nando, e atee lhos pagar lhe deu ha | Cidade de Badalhouce com ſeu al- | cacer, e com todolos Caſtellos, ter- | mos, tendas, e direytos Seculares, | e Eccleſiaſticos, que ha ella perten- | cem, e que ElRey nella avia, e que | ElRey de Caſtella durando ho di- | cto empenhamento, nom lanaſe | na dicta Cidade, e ſeus Caſtellos, e | termos, peytas, nem ſervios, nem | ſe fizeſe juſtia por elle, mas por | ElRey D. Diniz, e por ſeus ſoceſo- | res, hos quaaes poriam Juſtias, | nem has gentes ſerviria ninguem, | nem na paaz com ElRey de Caſtel- | la, mas com ho dicto Rey D. Di- | niz. | Deſte empenhamento em que | ſe conteem muitas crauzulas, e ſo- | lenidades, e ſeguranas ſe fez carta | ha ſelada do ſelo de chumbo feyta | em Valhadolid ha tres dias de Ju- | lho da era de mil trezentos e nove I309 | annos, com outorga da Rainha Do- | na Coſtanam e da Ifante Dona Lia- | nor, que era dambos, ha filha pri- | meyra, e pelos trezentos e ſeis mar- | cos de prata, q~ ho dicto Rey D. Fer- | nando deu ha penhor, aho dicto | Rey D. Diniz, has Villas Dalcou- | chel, e Brugilhos com ſeus termos, | rendas, e Juſtia, e ſervio de gen- | tes com todalas crauzulas, e ſole- | nidades da carta decima, porque | ambas foram feytas em huu~ dia. | E ElRey com ſeu poder junto, | foy cercar Algezira, ſobre que jou- | ve huu~ teempo, e durando aſi eſte | cerco, D. Joha Nunes de Lara, | que diceram ho Boom aquelle, que | ſe fez vaſallo delRey D. Diniz co- | mo atraaz dice, tomou principaal- | mente Gibaltar ahos Mouros. E | tambeem no dicto cerco, foy aho | dicto Rey de Caſtella noteficada | ha deſtroiam dos Templarios ſo- | bre que ElRey D. Diniz, e elle ſe | concordaram como aho diante di- | rey, e porque falleceram ha ElRey | de Caſtella hos mantimentos pera | has muitas gentes que tinha, ale- | vantou ho cerco Dalgezira, e ha | nom tomou deſta vez, e tornouſe | per Caſtella, e dahy ha pouco | teempo ElRey D. Ferndo de Caſ- | tella avendo quinze annos, que | Regnava, e ſeendo de idade de vin- | te e quatro annos faleceo em Jaem | de morte ſupitanya, e emprazado, | ſeguundo fama, por dous Cavalley- | ros, que contra direyto no Lugar | de Martos mandou matar, e no dia | de ſua morte ſe comprira hos trin- | ta dias pera que elles ho empraza- | ram, e por ſua morte ficou por ſeu | erdeyro, e ſocceſor ElRey D. Af- | fonſo ſeu filho, em idade de huu~ | anno, e vinte dias, como aho dian- | te ſe diraa. | [ title ] CAPITULO XIII. Como ElRey D. Diniz ordenou | em Coimbra ho primeyro | Eſtudo, que ouve em | Portugal. | E LRey D. Diniz aſi como foy | dotaado de muitas boondades | naturaes, aſi tambem nom lhe | faleceram has outras virtudes em | todo Reaes, cuja prova, e exem- | plo, ſa ſuas excellentes obras, | muy louvadas, ha todos moſtrava, | que foy Principe muy prudente, e | de muy ſingular concelho, e na fala | Portuguez de ſeu tempo aſaaz co- | pioſo, e de muita graa, e tratava | com grande humanidade ha todos | aquelles, que com elle converſavo, | e por eſo era de todos muy amado | eſpeciaalmente, que todos ſeus cuy- | dados eram honrar, e acreſcentar | mais ſua teerra, e aſi procurar que | foſe abaſtada, e provida daquellas | couzas porq~ ſeus vaſallos, e natu- | raaes foſem mais nobres, e melhor | enſinados, ſobre ho quaal ſe diz | que huu~ dia eſtando com hos ſeus | Prelados, e nobres homens em | concelho, lembrandoſe com moſ- | tranas de ſentimenti, que ſeus | Regnos careciam de Eſcolas, e Eſ- | tudos de que outras teerras eram | muy abaſtadas, lhes falou neſta | maneyra. | Aho boom Principe, que da maa | de Deos aa muitos de reger ſobre to- | | do lhe conveem, que trabalhe, e cum- | pre que elle, e hos ſeus ſubditos ſobre | todas has virtudes abracem ha vir- | tude da Juſtia, e amem, e ſigam hos | fruytos della, porque hos merecimen- | tos ſam taaes ante Deos, e de tanta | eſtima, que nom ſoomente daa por el- | les neſte mundo alegre, e pacifica vi- | da em quanto duramos, mas ainda | no outro pera alma nom nega ha glo- | ria eterna, e bem aventurana pera | ſempre, certamente ho Rey em hos | Regnos, que por graa de Deos lhe | ſam encomendados nom pde fazer | melhores obras, nem officios de moor | valor, que procurar que viva nelles | hos homens em fee, e juſtia, e faam | obras ſanctas, juſtas, e oneſtas, e por- | que eſto ſe nom pde aſi beem conſe- | guirm e aver efeyto ſem aver no Reg- | no varoens em toda doutrina, e cien- | cias divinas, e humanas beem enſi- | nados, e concirando eu que meus | Regnos pela Providencia, e boon- | dade de Deos, nom ſoomente ſa a- | ſaaz providos de todolos mantimen- | tos do maar, e teerra, mas abaſtados | de oneſta gente darmas, e de boom | uzo, e exercicio dellas aſi beem dezejo | de todo meu coraam, que tambeem | aja avondana de homens leterados, | e muy ſabedores, e por eſo propus | em minha vontade por beem comum | de meu Regno, e grande proveyto de | meus vaſallos, e naturaaes, fazer | nelle huum Eſtudo geraal, e muito | honrado, onde todalas ciencias ſe | lea, e q~ ſeja feyto neſta Cidade de | Coimbra, que hee no meyo do Regno, | e abaſtada das couzas neceſarias, e | aſaaz temperada dos ares pera ſau- | de dos homens, e poreem ante que ho | pozeſe em obra volo quiz aſi notifi- | car pera me dizerdes voſo concelho, e | parecer. | Aho quaal todos reſponderam | louvando muito ſua tenam, pedin- | dolhe por mercee, que obra tam | ſancta, e tam virtuoza, e de tanto | proveyto, e de tanto ennobreci- | cimento de ſeus Regnos logo ha | exequtaſe. Pera ho quaal ElRey | ſopricou logo ſobreſo aho Papa | Joa XXII. que por ſuas Bullas | lhe enviou has graas, e privilegios, | que lhe foram pedidos, e fundou | ho dicto Eſtudo cujos fundamentos | parecem agora muy pequenos, e | pera elle fez vir boons leterados | doutras teerras pera que hos Rex | dellas por mandado do Papa, e por | requerimento delRey deram con- | ſentimento, hos quaaes por falayros | ordenados leram nelle alguu~ teem- | po, e elle foy ho primeyro Eſtudo, | que ouve em Portugal, mas depois | floreceo mais ho da Cidade de Lix- | boa, ha que ho de Coimbra ſe mu- | dou, onde agora ſe leem todas has | ſete artes, e ciencias pubricamen- | te, e ſa pagos hos Meſtres por | ſalayros dos Rex, que depois Reg- | naram em Portugal. | [ title ] CAPITULO XIV. Como foy feyto em Portugal | Meſtre de San-Tiago izen- | to da Ordem de Ucres de | Castella. | H Os COmendadores Cavalley- | ros, e Freyres da Ordem de | San-Tiago, que avia em Portugal | atee eſte tempo delRey D. Diniz, | todos eram ſogeytos aho Meſtre de | San-Tiago de Caſtella, cujo Con- | vento, e cabea era Ucres, de quem | por muitas vias, e maneyras rece- | biam individamente muitos aggra- | vos, e opreſoens, chamando-hos | ſem tempo, e ſem neceſidade ha | Capitolo, e poendo nelles por le- | ves cazos ſentenas deſcomunhes, | ha quaal couza ſentio muito El- | Rey D. Diniz, e como era Princi- | pe que ſempre dezejou, e procurou | acrecentamento, e izenam de ſeus | Regnos, e vaſallos, enviou notifi- | car todas eſtas couzas aho Papa | Nicolao IV. e ſupricou ha Sua S- | ctidade, que deſe licena, e auto- | ridade pera que hos dictos Freyres, | e Comendadores de ſeus Regnos, | podeſem antre ſy eleger Meſtre da | ſua Ordem, que de todo foſe izen- | to do Meſtre de Caſtella, ha que | ho Papa deu poder aſoluto, e carta | de ſentena, e em todo ſatisfez, e | deſo vieram ha eſte Regno ſuas | Bullas inteyras, por virtude das | quaaes elegera por primeiro Meſ- | tre de San-Tiago de Portugal huu~ | D. Loureno Annes. | Sobre ho quaal ho Meſtre com | favor delRey de Caſtella, como | deſcontentes, e agravados de ſeme- | lhante izena ſopricaram aho Pa- | pa Celeſtino, que ſocedeo ha Ni- | colao IV. e delle ouveram Reſcri- | to ſorreticio com crauzulas revoca- | torias das conceſoens paſadas, a- | nulando ha eleyam do Meſtre de | Portugal, e hos Juizes que foram | dados por exequtores procediam | por excomunhoens, e cenſuras con- | tra ho Regno de Portugal, e re- | quereram Prelados delle, que has | foſem cprir atee antredicto ahos | quaaes procedimentos ElRey D. | Diniz, e ho dicto Meſtre, e Freyres | de Portugal intrepuzeram ſuas a- | pelaoens, e devolveram ho feyto | aho meſmo Papa Celeſtino que | mandando ha ſeus Leterados co- | nhecer da cauza achouſe ho Reſ- | crito de Caſtella, nom ſeer verda- | deyramente impetrado, e ho Papa | Celeſtino aprovou ha ſentena pe- | la primeyra conceſa feyta, dada | pelo Papa Nicolao, ſeu anteceſor, | e que ho Meſtre de San-Tiago de | Portugal, e do Algarve nom reco- | nheceſe ſuperioridade ſalvo aho | Papa, e ahos Rex que Regnaſem | nos Regnos de Portugal, ſobre hos | quaaes letigios ſe fizeram por El- | Rey grandes deſpezas, e deſte tem- | po ateegora, ſempre ouve Meſtre | da Ordem de San-Tiago em Por- | tugal, e no Algarve, cujo primey- | ro Convento foy logo em Alcacer | do Sal, e depois ſe mudou ha Pal- | mella onde agora eſtaa. | [ title ] CAPITULO XV. Do fundamento q~ teve ha Or- | dem do Templo de Salama | em Jeruſalem, e como foy | desfeyta, e ſe fez ha | Ordem de Christo. | N O anno de noſo Senhor Jeſu | Chriſto de mil cento e oyto | annos, ſendo Papa na Egreja de | Deos Gelazio II. Regnando em | Jeruſalem Valdovino deſte nome | ho primeyro, e dos Rex de Jeruſa- | lem ho ſeguu~do, que ſocedeu ha | ſeu irmaa Gudufre primeyro Rey | ſe acha, que dous homens devotos | dos quaaes huu~ ouve nome Ugo | de Paya, naturaal da cerqua de | Troya, e outro ho Ficu Sancto ho- | mem Frances, eſtes com dezejos | de ſervirem ha Deos leyxados hos | goſtos, e douras de ſuas fazendas, | e natureza, ſe fora aa Cidade San- | cta de Jeruſale~ pera nella viverem, e | por ſua defena acabarem ſuas vi- | das, ahos quaaes ho dicto Rey Val- | dovino porque conheceu que era | homens de boom esforo, e de ſin- | gular devaa, mandou dar huu~a | pouzada dentro dos ſeus Paaos, | que eram junto com ho Templo | de noſo Senhor, e hos Conegos | do dicto Te~plo lhe dera huu~ Al- | tar, e Capella apartado pera que | melhor, e mais quietamente com- | proſem ſuas devaoens. | E por ſuas boondades que por | todos foram viſtas, e experimenta- | das ElRey, e ho Patriarca, e aſi | hos Perlados, e nobre, e devota | gente, que era em Jeruſalem, lhe | mandava abaſtadamente por eſ- | mola hos mantimentos, e provi- | zam, & ho primeyro encargo que | ho Patriarca por pendena, e re- | miſam de ſeus peccados lhe deu, | foy que com ha gente devota, que | ſe ha elles quizeſe ajuntar, guar- | daſem hos caminhos por onde hos | Romeyros vinham ha Jeruſalem, | porque dos muitos ladres, e maal- | feytores nom recebeſem hos rou- | bos, e danos, que muitas vezes re- | cebiam, ho que elle quanto foy | poſivel fizera, e continuara com | grande honra, trabalho, e muito | cuidado atee nove annos, nos | quaaes foram grandemente ajuda- | dos deſmolas por ElRey, e por ho | Patriarca, e por todalas outras | naoens, que eram em Jeruſalem, | e neſtes annos nom fizera alguu~a | mudana dos Abitos ſeculares, c | que primeyro viera, mas aho an- | no decimo depois de ſua chegada | lhe foy dada Regra por ho Papa | Honorio II. ha quaal S. Bernaldo | compoz, e lha deu com Abitos | brancos por humildade, e nelles | por defora huu~a Cruz vermelha | por ſenificaa do ſangue de Chriſ- | to, e tomra Religia em que | fizera voto de caſtidade, e obe- | diencia, e renunciara pera ſempre | ho proprio. | Hos quaaes antre todolos outros | Cavalleyros, e calidades de Chriſ- | taos, q~ nas partes dultra maar pela | Fee, e defena da Teerra Sancta | peleyjavam eſtes ſobre todos com | mais devaam, e esforo faziam | com mais louvada avantagem, que | por ſeus grandes merecimentos, e | ſervios, e fama era aſi celebra- | dos, e eſtimados em todo ho mun- | do, que hos Rex, Principes, e Se- | nhores de toda Chriſtandade aven- | do nelles has ajudas, e eſmolas por | muy beem empregadas no fervor | deſta primitiva devaa, e Religia | lhe dera em ſeus Regnos, e Senho- | rios grdes teerras, Cidades, Villas, | e Caſtellos, com muitas rendas, e | poſeſoens. E neſta Ordem por | ſua grande devaa fizera muitas | gentes profiſam, e antre hos Ca- | valleyros avia outros Religioſos | Freyres ſergentes, que trazia has | meſmas Cruzes vermelhas, mas | nos mantos avia antre elles defe- | rena, e ordenaram antre ſy pen- | da, e bandeyra, que diante elles | levava nas batalhas ſeu Alferes, e | era a metade de branquo, e ameta- | de de preto, por ſenefiquaam que | na Fee ſempre foſem limpos, caſ- | tos, e humildoſos, e firmes, e no | meyo della ha Cruz vermelha. | por ſerem do principio aloja- | dos junto com ho Templo, como | atras dice, por eſo foram chama- | dos Templarios, dos quaaes ho Pa- | pa, e ho Patriarca fizera alguu~s | antre hos outros mais principaaes, | ha que chamara logo Abbades | Bentos, e depois fora dictos Meſ- | tres, e repartidos pelos Regnos, e | Provincias da Chriſtandade, de | que ſoo em Jeruſalem avia deſtar | como eſtava ho Gra Meſtre delles | ha que todos avia dobedecer co- | mo obedecia. Ha eſte chamava | ho Gra Meſtre do Templo de Sa- | lama em Jeruſalem, e no princi- | pio, e fundamento conſta que hos | Cavalleyros, e Freyres vivia, e | guardava ha Religia em muita | profiſa, e louvados coſtumes, por | eſo fora ſempre em todos ſeus | feytos muito vitorioſos, e bema- | venturados, que por exemplo da | verdadeyra Fee, muitos delles com | grande confiana, e conſtancia ſo- | frera morte, Cruz, e martyrios, | e incomportaveis cativeyros, ſem | moſtrarem alguu~a fraqueza dos co- | raes, nem da fee que ſoſtinham, | e tam grande foy ha fama, e boom | nome da Religia, e diſciplina Mi- | litar deſtes Cavalleyros da Ordem | do Templo, que hos Rex Deſpa- | nha, que naquelle tempo Regna- | va, porque nella ainda avia gran- | des Regnos, e poderoſos Rex Mou- | ros por conquiſtar mandaram por | elles ha ultra maar, e nas conquiſ- | tas, e batalhas dos infieis por grde | ajuda hos trouxera conſigo, e aſi | por armas boondade, e esforo reſ- | pondera ſempre aa confiana que | delles era conhecida, e por eſo na | meſma Eſpanha por hos Rex, e | Principes, e Senhores della, e dou- | tras gentes particulares em ſeus teſ- | tamentos elles fora erdados de | muitas Villas, teerras, e grdes ren- | das has quaaes elles aſi dava ha | obras piedozas, e meritorias, e aſi | has repartia pelos fieis Chriſtaos | que craramente parecia que todo | ho q~ lhe dava por eſmola queſe | era ho proprio, e verdadeyro pa- | trimonio de Chriſto. | Mas depois como nellas crece- | ra grandes Senhorios, e grandes | riquezas, logo ſeguu~do ſe delles | diz, ha que muitos nom da ver- | dadeyra autoridade, ha cobia | ocupou nelles, e em ſua Ordem ho | galardam dos virtuoſos merecime~- | tos paſados, porque has virtudes, | e boondades em que era profeſ- | ſos convertera logo em todos ſeus | contrayros, em que fizera ho c- | trayro do que ante fazia, de ma- | neyra, que por autoridade do Papa | ſe izentara da obediencia do Pa- | triarca de Jeruſalem, e aſi de todo- | los outros Prelados, ahos quaaes | denegava depois hos dizimus, pri- | micias, e rendas com que mo prin- | cipio fora delles ajudados, e ſuſ- | tentados, trazendo-os em deman- | das, e letigios como ſe diz, que ho | fizera no Regno Daragam onde | tivera guerra contra has Egrejas | Catredaes, e riquos homens da- | quelle Regno. | [ title ] CAPITULO XVI. Do principaal fundame~to, e ver- | dadeira cauza pera eſta Or- | dem dos Templarios ſeer | deſtroida. | P Or morte do Papa Benedicto | XI. que faleceu em Italia na | Cidade de Peroſa, antre hos Car- | deaes, que eram prezentes ouve | diſcordia na criaa do futuro Su~- | mo Pontifice porque huu~s que- | ria, que foſe Italiano, e outros | procurava, que Frances foſe, | Regnando entam em Frana El- | Rey Felippe a que por ſobre nome | dicera Fremozo, mas por ſuas o- | bras de ſobeja cobia, e grande ti- | rania, foy avido por aſaas feyo, e | disforme, e por eſtucia, e engenho | de Nicolao Cardeal Partenes, que | era Vara aſtuto, e muy prudente, | foy elegido por Papa, ſendo auzen- | te, e nom Cardeal D. Reyma, Ar- | cebiſpo de Bordeos, e foy chamado | Clemente V. na quaal criaa hos | Italianos conſentira porque eſte | Arcebiſpo era grande imigo deſte | Rey de Frana, cuja parcialidade | pareceu q~ ſeguia, ho quaal Rey por | avizo do dicto Cardeal Partenes | antes de ſeer pubricada a eleya | do dicto Arcebiſpo em huu~ Abba- | dia ſe foy com elle ha ver, e concer- | tar ſecretamente, e conveyo aho | dicto Arcebiſpo pera ſeer Papa ou- | torgar, e prometer tudo ho que | ElRey de Frana lhe pedio, por- | que ſem ſua concordia, e amizade | elle nom avia de ſeer elegido, e | criado em Papa, ſeguundo foy cer- | tificado, e aly lhe pedio ElRey ſeis | couſas has quaaes ho Arcebiſpo c | juramento ſobre ho Sacramento | da Oſtia que fez, e com ha refens | de huu~ ſeu irmao, e dous ſobri- | nhos que lhe deu, lhe prometeu de | comprir logo como foſe Papa, das | quaaes has cinquo logo declarou, e | huu~a ſem ha dizer reſervou em ſy | pera depois ha aſinar, e pedir quan- | do lhe compriſe. | E depois da criaa do Papa hos | Cardeaes do Conclave ho avizara | ha elle em Bordeos, e aly tomou | ho dicto nome de Clemente V. d- | de tambem mandou ahos dictos | Cardeaes, que eram em Italia que | logo ſe vieſem, como viera ha | Lia de Frana, onde avia de ſeer | como foy coroado, e logo aly de- | pois de ſua coroaa comprio com | ElRey has cinquo couzas, que lhe | prometera, e aſi ha que nom quiz | pedir, e declarar ha reſervou pera | depois no anno de Chriſto de mil | trezentos e ſete annos. Ho Papa | mudou ſua Corte aa Cidade Pitan- | ſis, onde ElRey de Frana lhe pe- | dio exequa da ſexta couſa que | lhe pedira, e pera ſy reſervara, ha | quaal era que tiraſe pera ſempre | do Catalogo, e numero dos Papas, | ho Papa Bonifacio VIII. ſeu pre- | deceſor, e como de Erege, e tre- | dor lhe mandaſe queymar ho cor- | po, e hos oſos. | E ha cauza deſto era porque eſ- | te Papa ho tinha excommungado, | e privado do Regno de Frana, e | como de juro dado aho Emperador | Dalemanha, e por vingua deſo, | ElRey de Frana manhoſa, e encu- | bertamente mandou prender ho di- | cto Bonifacio na Cidade de Pavya | em Italia, e daly foy levado ha Ro- | ma, onde logo faleceu, e por eſta | cauza ElRey de Frana, que ficava | excommungado ha elle Papa de | ſua memoria tinha grande odio, e | porm ho Papa Clemente com ha | dezoneſtidade, e injuſtia deſte | requerimento pelo juramento que | tinha feyto, e ha refens que tinha | dados que corria riſquo de morte, | foy muito torvado, e poſto em | penſamento, e avido ſobreſo con- | celho por ganhar tempo de dilaa | em que ha vontade delRey, por | ventura ſe amanſaria, dilatou ha | dicta exequam da ſexta promeſa | pera Concilio geral ha q~ convocou | hos Princepes, e Prelados pera ha | Cidade de. . . .que era fra da | jurdiam delRey de Frana, pela | quaal cauza, e por logo nom com- | prir, elle ſe moſtrou do Papa mui- | to aggravado. | E durando has pendenas deſte | injuſto, e torpe requerimento del- | Rey, que ho Papa nunqua quiz | outorgar, acteceo que huu~ Prior | de Monte Falca de Toloza, que | era deſta Ordem, e Religia dos | Templarios homem perverſo, e | maao, que por ſeus erros, e gran- | des crimes jazia prezo em Pariz, | condenado por ſentena ha carce- | re perpetuo, e com elle outro cha- | mado . . . . . homem cheyo | de todalas maldades, e treyoens, | hos quaaes ambos por ſeerem de | muy malinos eſpiritos, por tenta- | rem alguu~ caminho de ſua delibe- | raa notificaram, e certificaram | ha certos officiaaes delRey de Fr- | a, ho quaal ſabiam ſeer Rey gran- | de tirano, e ſobre todolos homens | mais cobioſo, que ho Meſtre, C- | mendadores, e Freyres da Ordem | do Templo, eram todos Ereges, e | culpados em tam abominaveis cri- | mes, que por inquiria logo ſe pro- | variam por hos quaaes ha Ordem | devia ſeer desfeyta, e ElRey aver | pera ſua Coroa toda ſua fazenda, | que em Frana era muita. | Ha quaal couza ſignificada ha | ElRey elle movido mais de cobia, | que por guardar verdade, nem fa- | zer juſtia requereo aho Papa, e ho | inclinou malicioſamente, que des- | fizeſe eſta Ordem cheya de mui- | tos erros, e offenſas que lhe apon- | tou, ha que o Papa ſeguundo ſe diz, | pelo afrouxar da promeſa do Papa | Bonifacio, com que ho apertava | logo ſatisfez, porque ſem fazer | muito exame, nem ver has certas | provas que ſe requeriam acerca do | que contra hos Templarios ſe di- | zia, nem ſe guardar alguu~a ordem | de direyto juizo foram em Frana | todos prezos, e ſeus beens tomados, | e ElRey hos apropriou logo aa ſua | Coroa, e aſi ho notificou logo aho | Papa, e mandou por ſuas Bullas | que aſi ho fizeſem todolos outros | Rex, e Principes Chriſtaos em cu- | jos Regnos, e Senhorios avia ha di- | cta Religia, e foy logo prezo em | Pariz ho Meſtre do Templo, que | era huu~ homem por linhagem, e | autoridade de muy principaal de- | vaa, e avia nome Jacobo, e com | elle ſeſenta nobres Cavalleyros da | dicta Ordem, contra hos quaaes | por artigos formados ſe poz: Que | aho tempo de ſua profiſa que todos | fazia ſecreta, coſpia em Chriſto | Crucificado, e que indiſtintamente, e | ſeem eſcuza, e com eſpecialidades | feyas, e muy deshoneſtas, uzavam | antre ſy do abominavel peccado de | contra natura, e que juravam que | juſta, e injuſtamente ſempre aſi aju- | daria, e conſervaria ha dicta Or- | dem, e que elles Templarios como | tredores da Teerra, e Caza Scta fo- | ram cauza de ſe perder corrutos de | dadivas pelos infieis. | E ſobre alguu~as provas de teſte- | munhas falas, que ſobreſo foram | dadas, ElRey mandou mtere eſtes, | e outros muitos ha muy aſperos | tormentos pera que com elles con- | feaſem hos delictos que dezejava | pera logo aver has teerras que co- | biava. E porque alguu~s deſtes tu- | do eſto negava fora retornados | ahos carceres em que longamente | foram reteudos, e por ſe tomar del- | les ha concruza que ElRey deze- | java, foram levados fra de Pariz, e | poſtos aa viſta do poovo em huu~ | alto cadafalo de madeyra ns das | carnes, e atados hos corpos ha | ſenhos paaos, logo ha huu~, e depois | aho outro, lhe pozeram fogo ahos | pees, e aſi pouquo ha pouquo, por | todolos membros acima atee ſerem | de todo queymados, dizendo ha | cada huu~ alto, q~ ſe confeaſe ſeus | erros que ſeria perdoados, e livres | com piedade, e miſericordia, cujos | amiguos, e partes movidos de ſua | compayxam hos conſelhava, e a- | tavam, que por nom morre- | rem c tantas cruezas confeaſem | por nom perecerem. | Aho que muitos com medo das | atormentadas mortes, que via pa- | decer, fonfeſara todolos maalles, | e erros que lhes eram preguntados, | aho que outros em que avia mais | esforo nunqua quizeram obede- | cer, antes com muitas lagrymas, e | grandes prantos que fizera ſe eſ- | cuzava aſirmando, que dos ſeme- | lhantes crimes elles, e hos da Or- | dem eram de todo inocentes, e en- | comendando ſuas almas ha Deos, | e aa Virgem Maria ſua madre era | contentes de acabar como acaba- | va em tormento de ſuas vidas, e | deſtes fiquaram reſervados, q~ nom | foram aho pubrico tormento, ho | dicto Jacobo Meſtre da dicta Or- | dem em Fra, e huu~ ruy Dalfino | ſeu praceyro, e Frey Ugo Paradi, | e huu~ outro dos mais principaaes | da Ordem, que jaa fora officiaaes | da Caza delRey de Frana, hos | quaaes foram levados aa Cidade | de Lia onde ho Papa, e ElRey | era prezentes, ante hos quaaes | hos ſobredictos aconſelhados de | ſeus imigos por averem relevamen- | to da priza, e por ſalvarem has vi- | das, com mercee, e honra, que lhe | foy prometida ſe diz, que confeſa- | ra alguu~s dos crimes, e malleficios | que lhes era poſtos. | E porque ha cfiſa deſtes ſeen- | do pubrica parecia, que era prova | ſufficiente pera hos dictos artigos | ſeerem verdadeyros, e beem pro- | vados, ho Papa ha requerimento | delRey tornou ha enviar ha Pariz | hos dictos prezos, onde quiz que | pubricamente confeaſem ho que | tinha em ſecreto confeſado, e por | autoridade de Juizo enviou dous | Cardeaes pera depois da dicta con- | fiſa darem ahos culpados alguu~a | pendena piedoſa, e condenarem | ha dicta Ordem ha perdia, e deſ- | truia dos beens que tinha, hos | quaaes prezos poſtos em outro pul- | pito muy alto aa viſta dos Cardeaes | e de muitos poovos, que eram jun- | tos, foy perante elles lido, e pubri- | cado em alta voz ho proceſo, que | do dicto cazo era feyto, em que era | eſcrita ha confiſa que hos dictos | prezos fizera, ho quaal como foy | acabado, ho dicto Meſtre Jacobo | como peſoa mais principaal ale- | vantado em pee, e pedindo com | grandes brados lugar de ſilencio ſe | diz, que perante todos dice. | Que aquelles erros, e crimes por- | que foram peruntaados Deos ſabia | que elles nunqua has cometera, nem | has avia nelles, nem na ſua Religia, | que ſempre fora, e era muy ſancta, | e hos Freyres della de muy honeſta | | vida, e de muy limpa converſaam, | e crentes inteyramente na ſancta Fee | Catolica de Jesu Chriſto, mas que | nem por eſo deyxara de confeſar q~ | era dino da crua morte, que ſe lhe | aparelhava ha quaal elle com paci- | encia ſofreria pois por temor delRey | que era prezente, e com branduras do | Papa elle maliciozamente, e com gr- | de mentira confeara alguu~s dos di- | ctos crimes, que nom devera. | E com eſto ſem ho acabarem | beem douvir ſe deu toda via ſen- | tena contra elle, e hos Cardeaes, | e hos outros Prelados ſe partiram, | e logo ſe tornaram aho Papa, pelo | quaal ho dicto Meſtre, que era c- | padre delRey, com Frey Delfim | ſeu companheyro fora levados | ante hos Paaos Reaes de Pariz | onde ElRey era prezente, e aly d- | dolhe pouquo ha pouquo ho fogo | por mayor tormento como deram | ahos outros, fora de todo queyma- | dos, ſem nunqua ſe quererem des- | dizer, antes no meyo das mayores | chamas ſe diz, q~ elles nunqua dey- | xara de confeſar, e defender ha pu- | reza de ſua Religia, e que na opi- | nia de todos como verdadeyros | Martyres morrera, e por taaes ſe | diz, q~ fora avidos, e revere~ciados, | e ſeus oſos de muitos guardados, | mas Frey Ugo, e outro ſeu parcey- | ro, e aſi outros c elles com eſpto, | e temor de ta cruas mortes confeſ- | ſara hos dictos crimes contra ha | dicta Religia, por ſalvarem has vi- | das, que da ly ha pouquos dias por | ſeus peccados vilmente perdera, | ha quaal ſentena d condenaa | ctra ha dicta Ordem do Templo, | Freyresm e Cavalleyros della, ſocce- | deo no mez de Dezembro do anno | de mil trezentos e nove annos. No | quaal tempo ſe compriam cento e | quorenta e huu~ annos, que ha dicta | Orde~ fora principiada do tempo do | Papa Gelaſio, como atraas fiqua. | [ title ] CAPITULO XVII. Como ho Papa, e ElRey de Fr- | a noteficara ha ElRey D. | Diniz eſta condenaa | dos Templarios, e de | ſua Ordem. | A Quaal condenaa, e cauzas della, ho Papa fez ſaber por | ſua Bulla ha ElRey D. Diniz, e c | moſtranas de grande ſentimento | encomendou, que logo fizeſe em | ſeus Regnos prender todolos Frey- | res da dicta Ordem, e hos remete- | ce ahos Biſpos, e Ordinarios, em | cujos Biſpados foſem prezos, pera | delles tirarem inquiries, e ſabee- | rem de ſeus delictos ha verdade, e | averem juſto caſtigo, e aquelles | que confeaſem hos dictos crimes, | e deles ſe arrependeſem foſem ha | piedozo perdam recebidos, e aſi | tomaſe todos ſeus beens, e teerras | que tiveſem, e ſobre eſtiveſe atee | ſe determinar no Concilio Geral | ho que de todo ſe fizeſe, ha quaal | couza ElRey de Fra notefiquou | ha ElRey de Caſtella, e ha ElRey | D. Diniz, e lhes enviou ho tresla- | do do proceſo, e ſentena que con- | tra elles foy dada, pedindolhes com | razoens, que pareciam teer cor de | juſtia, e oneſtidade que quizeſem | em ſeus Regnos inteyramente c- | prir ho que lhe ho Papa encomen- | dava, e elle nos ſeus tinha jaa feyto, | e com ha noteficaa deſte maal | tam grande, e tam univerſaal, El- | Rey D. Diniz, e todolos de ſeu | Regno foram muy maravilhados. | E porque has cauzas, e funda- | mentos do Papa, e delRey de Fr- | a, porque inteyramente foy deſte | cazo informado vinha poſtas em | taal ordem, e aſi clarificadas q~ pa- | reciam muy verdadeyras, crendo | ElRey D. Diniz que ha dicta Or- | dem por eſo nom eſcuzaria de ſeer | desfeyta, e hos beens della perdi- | dos, e dados ha outrem, antes de | tudo mandou logo tomar toda ha | fazenda, e Lugares da dicta Or- | dem, e tudo teve em ſy, e na peſoa | do Meſtre, que avia nome Vaſquo | Fernandes, e nos Cavalleyros, e | Freyres da dicta Ordem nom ſe a- | cha que ElRey, nem outrem fizeſ- | ſem alguu~a exequam de mortes, | prizoens, nem outra pena alguu~a, | antes em muitas partes parece cla- | ro que muitos deſtes fora recolhi- | dos aa nova Ordem de Chriſto, q~ | ſe depois fez, como aho diante di- | rey, e nella viveram beem, e oneſ- | tamente como boons Religioſos, | porque ho dicto Vaſquo Ferndes, | Meſtre que era, foy recolhido aa | Ordem de Chriſto, e lhe deram ha | comenda de Caſtello novo em que | viveo, e acabou. | E porque como ha noteficaa | deſte desfazimento logo geral, ſe | dice que ho Papa determinava a- | trebuir has teerras, e beens deſta | Ordem do Templo aa Ordem do | Eſprital de S. Joha de Jeruſalem, | e ha ElRey D. Diniz pareceo que | ſeria grande inconveniente pera ho | aſecego, e obediencia de ſeus Reg- | nos ho que aſi por iguaal medida | tocava ha Caſtella, enviou logo a- | ptar eſpecificamente ha ElRey D. | Fernando ſeu genro, que eſtava no | cerquo ſobre Algezira, hos pejos q~ | ha elles, e ha eſtes Regnos neſta | conceſa, ſe aa Ordem de S. Joha | ſe fizeſe viria, e ambos por eſo ſe | concordara por contrato jurado, | com pena de dz mil marquos de | prata, que ſeendo cazo que ho Pa- | pa quizeſe dar, ou atrebuir eſtes | beens dos Templarios ha quaal- | quer Ordem ſem ſuas vontaades, e | conſentimento, que elles contra to- | dos ho defendeſem, e nom conſen- | tiſem, e que huu~ ſem ho outro c | ho Papa, nem outro quaalquer ſe | nom podeſe ſobre eſte cazo con- | cordar, nem fazer avena, e con- | cerro, por quaalquer maneyra que | foſe ſoo ha dicta pena, ſobre fize- | ra contrato eſcrito, e aſelado com | juramentos, e menagens de ſempre | aſi ſe comprir, e que ElRey Dara- | gam ſe quizeſe, como quiz, foſe | neſta ccordia, e chegouſe ho tem- | po do dicto Concilio, que ho dicto | Papa Clemente V. atermou ahos | Rex, e Princepes Chriſtaos pera | determinaa da Ordem do Tem- | plo, e de ſuas couzas, e aſi pera ſa- | beer ho que ſe determinaria acer- | qua do Papa Bonifacio VIII. que | ElRey de Frana requeria ha pa- | gamento de ſua memoria, e que | ſeus oſos foſem queymados, ho | quaal ſe celebrou na Cidade de | Viena, na Provincia de Narbona, | 1311. no mez de Outubro da era de mil | trezentos e onze annos, que foram | juntos grandes Rex, e Senhores, e | aſi Embayxadores, e Procurado- | res, e nelle primeyramente ſe de- | terminou que ho requerimento, | q~ ElRey de Frana fazia acerqua de | ſe declarar por Erege ho dicto Papa | Bonifacio, e ſeus oſos queymados, | e ſua memoria perdida, era injuſto, | e taal que por alguu~a maneyra por | muitas cauzas ſe nom devia com- | prir. | Do que ElRey de Frana ſe mo- | ſtrou muito anojado, e aggravado | do Papa, e no dicto Concilio fora | pubricamente lidos hos dictos pro- | ceſos ctra hos Tem- | plarios, e ſua Ordem, pelo quaal | depois de muitas amiraes, e nom | menos opinioens ſe confirmou ha | ſentena contra elles, ha ſaber que | foſem todos prezos, e aprezenta- | dos ha juizo da Sancta Egreja, e | aquelles que ſe quizeſem arrepen- | der daquellas maaldades, e tornar | ha devida pendena, nom foſem | prezos, mas que lhe deſem alguu~ | remedio ſaudavel pera ſuas almas, | e hos que pelo contrayro, foſem | oſtinados, foſem prezos, e de juſto | juizo punidos, e foy poſto por Edi- | cto geral pera ſempre, que dahy | em diante alguem nom entraſe | mais na dicta Ordem, e Religiam, | nem trouxeſe Abito della, nem ſe | chamaſe Templario, e que todos | ſeus beens, aſi moveis como de tais, | que tinham em toda Chriſtanda- | de foſem, como foram dados, e | aplicados aa Ordem do Eſprital de | S. Joha, por ſeerem hos Cavalley- | ros della firmes, fieis, e conſtantes | guerreyros pela Fee de Jeſu Chriſ- | to. | Mas ha entrega deſtes beens | nom foy inteyramente feyta aa di- | cta Ordem de S. Joha; porque | em muitas partes hos Rex, e Se- | nhores ouvera pera ſy muitas cou- | zas, e dellas dera ha outras peſ- | ſoas particulares, q~ ſempre depois | has tivera, e logo na conceſam | deſtes beens, e fazendas foram ti- | rados aquelles, que ha dicta Ordem | do Templo tinha nos Regnos de | Portugal, e de Caſtella, e Araga, | cuja aplicaa, e conceſa, que | pelos Embayxadores deſtes Rex | foy com muytas cauzas, e razoens | empedida em ſe nom dar, e fazer | ha dicta aa Ordem de S. Joha. E | mandou ho Papa, e Concilio jun- | tamente que eſtes beens eſtiveſem | aſi ſocreſtados atee que ho Papa | com mayor deliberaa, e mais reſ- | guardo tornaſe aver has dictas | couzas, e razoens que hos dictos | Rex Deſpanha tinham alegados, e | quizeſem por ſy mais alegar, pera | hos dictos beens nom ſeerem da- | dos aa dicta Ordem de S. Joha, | porque depois de todo beem viſto, | e examinado deteerminaria ho que | foſe juſtia. | Hos Embayxadores delRey D. | DIniz, e DelRey de Caſtella nom | partiram da Corte do Papa pera | Eſpanha, atee ho negocio dos da | Ordem do Templo nom aver final | concruza. Ahos quaaes pelo Pa- | pa foy mandado, que finalmente | apontaſem hos fundamentos, que | fazia, e rezoens que davam pera | nom ſeerem com hos outros dados | aa dicta Ordem de S. Joha, e dos | fundamentos principaaes, e de | moor ſuſtancia, que foram aponta- | dos, ho primeyro foy: Que quan- | do hos Rex Deſpanha ſeus anteceſ- | ſores mandaram chamar hos Tem- | plarios pera ha guerra, e conquiſta | dos infieis, que nella avia, tambeem | chamaram, e vieram outro ſy da | Ordem do Eſprital, e de huu~s, e ou- | tros por uzarem beem de ſeus officios | de Cavallaria, tinham dados em | ſeus Regnos, e Senhorios muitas Vil- | las, e teerras, e rendas, com que cada | Ordem tinha por ſy grande poder, | has quaaes todas juntas aa Ordem | de S. Joha, ella teria dobrada po- | tencia em cazo, que ſe diceſe que has | da dicta Ordem refariam ha guerra | contra hos imigos da fee, e no ſervio | delRey, e do Regno outra tanta gen- | te quanta era ha dos Templarios | quando ſerviam, eſto diceram que | ſeria quando hos da dicta Ordem de | S. Joha quizeſem, cujas vontades | por ſuas grandes foras que teriam, | ſe nom poderiam forar, nem ſojugar | de que ſe ſeguiria outro tam impoſi- | vel, e grande inconveniente que nom | convinha pera ho beem, e ſegurana | dos Regnos, que quando eſtes do Eſ- | prital nom quizeſem guardar divi- | da lealdade elles ſeguu~do hos muitos | Caſtellos, e Fortalezas que tinham | por eſtremos de ſeus Regnos teendo | taal deſpoſia, e poder poderiam | meter na teerra, e alevantar no Reg- | no outro novo, e contrayro Senhorio, | com que tudo ſe lhe deſpe~deſe, e deſ- | troiſe, e denegariam ha obediencia | ahos Rex, e Prelados, como, e quan- | do quizeſem ſeguu~do em Aragam | hos dictos Templarios em outros tem- | pos por ſeu grande poder jaa fize- | ram. | E alem deſtas razoens aponta- | ra hos dictos Embayxadores ou- | tras caſi ha eſtas conformes que a- | qui ſa eſcuzadas. Durando ho | quaal debate, e ante de ſe concruir | ho dicto Papa Clemente V. fale- | ceu, e depois de ſua morte ha dous | annos, e tres mezes antre hos Car- | deaes ouve diſcordia antre has eley- | a do ſoceſor, e ceſando ſeus de- | bates, e ſeendo conformes foy em | eleya criado Papa ſeu ſuceſor, | ho Papa Joha XXII. no quaal | tempo da dicta diſcordia, e voca- | am da Cadeyra de S. Pedro, hos | Embayxadores, e Procuradores | dos Regnos ſe viera ha Eſpanha, | ſem ſe tomar final aſento ſobre has | couzas dos Templarios, que que- | ria, e no meſmo tempo antes da | determinaa ElRey D. Diniz ou- | ve pera ſy todalas rendas dos beens, | e propriedades delles, e hos con- | verteo no que lhe pareceu ſervio | de Deos, e beem de ſeus Regnos, | aho quaal ho dicto Sancto Padre | eſcreveo, que pera determinaam | deſta couza, que ficara ſuſpenſa | enviaaſe ha elle ſeus Procura- | dores, hos quaaes log enviou | huu~ Pero Martins Conego de Co- | imbra, e Joha Loureno de | Monaraas Cavalleyro, que eram | peſoas de boom ſaber, e aacerca | delRey de booa autoridade. | E chegados ante ho Papa dice- | ra ha Sua Santidade em ſuſtancia, | e ahos Cardeaes que eram prezen- | tes has rezoens, e cauzas acima a- | pontadas pera hos beens, e fazen- | das dos Templarios nom virem aa | Ordem de S. Joha, ha quaal ſe | nom podia ajuntar, e encorporar | ſeem grande perjuizo delRey, e do | Regno de Portugal, e com eſto di- | cera mais, que pera Sua Santidade, | e ho Sagrado Collegio dos Car- | deaes muy claramente verem que | ElRey D. Diniz nom contrariava | taal conceſa por alguu~a cobia q~ | tiveſe daver hos beens, Lugares, e | teerras dos dictos Templarios, mas | que antes hos queria pera ſervio | de Deos, e defena, e exalamen- | to de ſua ſancta Fee, que ſoubeſem | que ho dicto Rey tinha no ſeu Reg- | no do Algarve huu~ Caſtello muy | forte, que dizia Craſto Marim, | que era na frontaria dos Mouros | Deſpanha, e Dafriqua, na quaal | Fortaleza ſe podia fazer novo Con- | vento, e nova Religia, em que en- | traſem novos Cavalleyros de Jeſu | Chriſto lidadores por defena da | ſua ſancta Fee, e por ſeu acrecenta- | mento. | Ho quaal Caſtello lhe aprazia | tirar da Coroa de ſeu Regno, e da- | lo de todo por ſeu iſento aa dicta | nova Ordem que ſe fizeſe em que | averia muitos Cavalleyros de conti- | noa, e foroſa reſiſtencia contra hos | imigos da Fee, e que eſtes beens | dos Templarios dividamente ſe po- | deria conceder, e apropriar, e po- | rm pediam ha Sua Santidade em | nome delRey D. Diniz, que aſi ho | quizeſe outorgar, pelo quaal ho | Papa, e Cardeaes vendo ha ſancta | tena, e boom dezejo delRey aa- | cerca do ſervio de Deos, e de ſua | Fee, ſatisfez em todo ha ſas oneſ- | tas petioens, e ouve por beem de | ſe fazer ha nova Ordem de Caval- | laria de Chriſto, que agora hee, aa | quaal hos dictos beens, e couzas | dos dictos Templarios foſem pera | ſempre atrebuidas, e que hos Frey- | res della fizeſem ſua profiſa pela | Regra, e Eſtatutos da Ordem de | Calatrava, e q~ ho Abbade Dalcoba- | a, que pelo tempo foſe vizitaſe | eſta Ordem; com outras mais crau- | ſulas, e ſolenidades que nas Bullas | da nova inſtituia ſa conteudas, | has quaaes hos dictos Procurado- | res trouxeram ha ElRey D. Diniz, | que era na Villa de Santarem, com | que foy muy alegre. | E aly foy feyta, eſtabelecida, e | decrarada ha dicta nova Ordem de | Chriſto, e foy logo della ho pri- | meyro Meſtre D. Frey Gil Martins, | que enta era Meſtre Daviz, e foy | eſto feyto, e celebrado na dicta Vil- | la de Santarem no mez de Mayo da | 1320era de mil trezentos e vinte annos, | avendo jaa doze annos, q~ ha dicta | Ordem do Templo era jaa deſtroi- | da por cobia do dicto Rey Felip- | pe de Frana, ha cujas culpas Deo | que hee em todo juſto, nom tardou | muito com juſtia, e pena, porque | eſte Rey Felippe correndo monte | ho cavallo em que corria arraſtran- | do como touro ho matou, e delle | ficara tres filhos, e huu~ filha Do- | na Iſabel, ha ſaber ho mayor Fe- | lippe, e ho ſeguu~do Luis, e ho me- | nor Carlos, e ha filha Dona Iſabel | que cazou com ElRey D. Anrique | Dingraterra, hos quaaes todos mor- | reram ſem delles ficar erdeyro de | Frana, e ficou deſta vez eſtinta ha | geraa dos Rex de Frana, que | viera de Ugo capet. | Nos quaaes annos que ha Or- | dem de Chriſto nom foy feyta, El- | Rey D. Diniz recolheo pera ſy has | tendas da dicta Ordem do Templo | como dice, e dellas ouve ſolene | quitaa dada, e outorgada pelo | dicto novo Meſtre de Chriſto fun- | dada em razoens que parecia aſaas | juſtas, e oneſtas, e por compenſaſ- | ſa deſo deu aa dicta Ordem ho | Caſtello de Craſto Marim, onde | primeyramente foy ordenado ho | Convento della, e depois ſe mudou | aa Villa de Thomar, onde era ho | Convento dos do Templo. | Ha quaal Ordem de Chriſto por | proprios Meſtres, e com nomes de | Meſtres ſe governou, e regeo atee | ho tempo do Ifante D. Anrique, | filho legitimo delRey D. Joha | deſte nome ho primeyro de Portu- | gal, que da dicta Ordem foy ho | primeyro, e perpetuo adminiſtra- | dor, ho quaal por ſua ſingular de- | vaa, e grandeza de animo por | nom ſeer cazado, nem teer filhos, | acrecentou muito na dicta Ordem | ha que procurou, que foſem dadas | muitas rendas com jurdiam do | Eſpiritaal das Ilhas de Guinee, que | elle primeyramente deſcobrio, e | depois ha dicta Ordem em rendas, | e comendas, e jurdioens, e em pri- | vilegios, e liberdades foy muito | mais ennobrecida, e acrecentada | em tempo delRey D. Manuel N. | Senhor, que della tambem por au- | toridade Apoſtolica foy perpetuo | Governador ha que creceram re- | oens, edeficios, e excellentes Or- | namentos, e novas comendas, e | ha vintena das grandes riquezas | das Indias, Arabia, Perſia, que elle | como Princepe vituozo, e de | grande animo, novamente man- | dou deſcobrir, e achou, como em | ſua Coronica mais propria, e lar- | gamente hee decrarado. | [ title ] CAPITULO XVIII. Da diſcordia, que ouue antre | ElRey D. Diniz, e ho Ifan- | te D. Affonſo ſeu filho | erdeyro, e has cauzas | porque. | A Traaz fica eſcrito has defi- | culdades, e trabalhos com | que ElRey D. Diniz cazou ho Ifan- | te D. Affonſo ſeu filho, com ha | Ifante Dona Breatiz, filha delRey | D. Sancho de Caſtella, e por lhe | teer grande amor, e afeya como | ha reza requeria, lhe deu ſua caza | em Lixboa, com muitas, e grades | feſtas, pera que de ſeus poovos ou- | ve grandes ajudas, e aſi ſe acha, que | aalem de muitas Villas, e teerras, | que tinha lhe ordenou mais de ſeu | aſentamento, em cada huu~ anno | oytenta mil livras, que eſtimadas | ſeguu~do ha valia da prata daquelle | teempo, valiam da moeda dagora | trinta e dous mil cruzados, ha re- | za de duas mil livras, e meya huu~ cru- | zado, que hee verdadeyra conta, e | afaaz aprovada, como outras vezes | jaa dice, e aſi em todalas couzas, | que ocurriam ſe vio que ho honra- | va, e eſtimava muito, e tinha cuy- | dado de lhe criar ſeus filhos, por- | que jaa atee eſte teempo elle ouve- | ra ho Ifante D. Affonſo, que me- | nino faleceu em Penella, e aſi ouve | ho Ifante D. Diniz, que ſeu avoo | ElRey D. Diniz com grande amor | criava em ſua caza, e nella faleceu | moo, porque ElRey foy tam ano- | jado, e triſte que nom ſabia, nem | podia com nhuu~a couza ſeer ledo, | nem conſolado, e em tanto eſtre- | mo ſentio ha morte deſte ſeu neto, | que ho Papa lhe eſcreveo ſobreſo | huu~ Breve de conſolaam, cheyo | de muita prudencia, e grades con- | fortos. | E por eſtas cauzas aalem das ou- | tras obrigaes naturaaes, e Reaaes | que nelle avia, nom hee de duvidar, | que ho Ifante D. Affonſo devera | ſempre de amar, e obedecer ſobre | todos ha ElRey D. Diniz ſeu padre, | e aſi lhe acatar por aver abenam | de Deos, e ha ſua, ho que em prin- | cipio de ſua idade, em ſeendo Ifan- | te nom ſe acha ſeer aſi, antes ho | contrayro, cuja verdade, e declara- | am em cazo, que por ſua graveza | nom ſeja doce, nem gracioza cou- | za pera ouvir, porm ha neceſida- | de de ſua Eſtoria, que eſcreveo obri- | ga, e conſtrange ami que ho nom | cale, principaalmente por moſtrar, | que hos lizongeyros, e maaldizen- | tes antre hos padres, e hos filhos | nunca ajam lugar, nem ſejam ou- | vidos, que ſe eſtes nom foram cri- | dos, nom ouvera tantas cauzas | de deſavena dantre ElRey, e ſeu | filho, e aſi pera que ſe ſayba quam | grande erro hee daar pena, e caſti- | go ha alguu~as peſoas por quaal- | quer maal, que delles ſeja dicto po- | ſto que traga em ſy muita cor de | verdade, atee elle ſem payxa nom | ſeer primeyro ſabido, e juſtificado, | e tambem porque nos erros, e gra- | veza, que ſe vir nas deſobediencias, | e deſacatamentos que ho Ifante te- | ve ha ElRey ſeu padre ſe vejam, e | reſprandea mais craro has boon- | dades, e merecimentos dos filhos, | quando acerqua de ſeus padres uſa- | rem ho contrayro. | E porque neſtas deſavenas del- | Rey, e de ſeu filho ouve, e ſe paſa- | ra muitas, e muy largas couzas, | que ſeria muy longas pera eſcre- | ver, eu dellas ſoomente apurarey | brevemente has principaaes, e has | que pera eſta Eſtoria mais neceſa- | rias me parecerem. E ſeguu~do ho | que acho, e pude comprender, tres | rezoens ouve, e todas ſem cauza, | nem reza, porque ho Ifante D. | Affonſo ſe moveo ha eſta ſua deſo- | bediencia contra ſeu padre, das | quaaes ha primeyra foy em Beja | por ſentir que ElRey D. Diniz que- | ria grande beem ha D. Affonſo S- | ches, e aho Conde D. Joha Af- | fonſo ſeus filhos naturaaes, hos | quaaes ſeguu~do ſe acha nom ſer- | viam, nem catava aho Ifante co- | mo elle deſejava, e merecia, e deſte | conto nom era ho Conde D. Pedro | tambem ſeu irmao baſtardo, e de | todos hos baſtardos ho mais velho | porque ſempre ſeguio ha parte do | Ifante, e por eſo foy ha requeri- | mento de Affonſo Sanches deſter- | rado de Portugal pera Caſtella, e | todas ſuas teerras, e fazenda toma- | das, e depois retornado, como aho | diante ſe diraa, e ha ſeguu~da cauza | foy ha grande cobia, e deſorde- | nado deſejo, que ſempre teeve de | aver, e cobrar pera ſy has riquezas, | e tezouros delRey ſeu padre, e ha | terceyra por querer, que em toda | maneyra ElRey deyzaſe, e tiraſe | de ſy ha Juſtia, e Governana do | Regno, e livremente ha deyxaſe | ha elle. | E porm em alguu~as deſtas cou- | zas nom avia cauza, nem reza que | pera ho Ifante nom foſe grande er- | ro querellas, e muito mais procu- | rallas, porque ElRey querer beem | ha D. Affonſo Sanches, e aho C- | de D. Joha era grade reza, e | aſi por ſeerem ſeus filhos, como | por hos achar ſempre em todalas | couzas muy conformes aa ſua von- | tade, e ha ſeu ſervio muy obedien- | tes, eſpeciaalme~te que ha afeya, | que ElRey lhes moſtrava nom em- | pedia, nem mingoava ho do Ifante | ſeu filho, mas como ho amor, e ſe- | nhorio ſempre querem ſeer ſenho- | res, por eſo ſa muy amiude muy | cheos de ciumes, e ſoſpeyta, pelo | quaal ho beem, que ElRey moſ- | trava ahos outros ſeus filhos cauza- | va na vontade do Ifante muy duvi- | doſa tena, com que enganando- | ſe cuydava, que ElRey ho nom a- | mava tanto, quanto devia, e por | eſo por todalas maneyras, que po- | dia trabalhava, e procurava de a- | partar, e deſavir eſtes filhos delRey | ſeu padre, aſi como logo fez aho | Conde D. Pedro ſeu irmao, que | era ho mayor dos filhos baſtardos, | ho quaal por couzas craras, que lhe | fez entender, ho tirou da obedien- | cia, e ſeu ſervio delRey em que | antes andava, e ho recolheo pera | ſy, porque favorecia ſua parte, e di- | zer, e requerer que ho regimento | da Juſtia do Regno devia ſeer to- | do do Ifante, aho que ElRey con- | trariava com muita rezoens aſaaz | juſtas, por has quaaes aconſelhava | ho filho, que ho taal requerimen- | to ouveſe por eſcuzado. | E porque ho Ifante vio, que El- | Rey ſeu padre em nhuu~a parte deſ- | tas lhe nom ſatisfazia, aconſelhado, | e induzido falſamente de huu~ Go- | mes Loureno Vogado de Beja, fi- | lho de huu~ Carpinteyro, que de- | pois foy Freyre de San-Tiago, teve | taaes meyos, e inteligencias com | ha Rainha Dona Maria de Caſtel- | la ſua ſogra, que ella enviou pedir | ha ELRey D. Diniz, que por quan- | to deſejava ver muito ſua filha, e | ſeu genro, e hos Ifantes ſeus netos, | que jaa tinha, ouveſe por beem | que elles ha foſem ver ha Caſtella, | e porq~ ElRey por ſecretos meyos | que laa trazia ſoube, e entendeu | craramente, que has taaes viſtas | na eram pera alguu~ beem, nem | aſecego ſeu, e de ſeu filho antes pe- | ra alguu~a torvaa, e dano dambos, | e do Regno, falou ſobreſo aho | Ifante, e lhe rogou, e encomendou | que por ſua benam eſcuzaſe ſua | ida, ha quaal foſe certo, que ha el- | les, nem ha Portugal nom trazia | proveyto, antes era fundada, e re- | querida pera ſeu desſervio, e da- | no da teerra, e q~ abaſtava por prin- | cipaal pera elle deyxar de hir ha | Caſtella, em cazo que outro nom | ouveſe dezejar elle, e querer que | nom foſe, ha que elle por aver ſua | bena devia mais de obedecer que | aa Rainha ſua ſogra. | E com tudo eſto, e com mais | outras alegaoens, e inconvenien- | tes que ElRey lhe poz, ho Ifante | nom deſiſtio de ſeu propoſito, e | ſem licena, e contra vontade del- | Rey foy todavia, e levou ha Caſ- | tella ha Ifante Dona Breatiz ſua | molher, e depois de conſultarem | em Cidade Rodrigo has couzas ſo- | bre que foram, que todas era con- | tra ho goſto, honra, e ſervio del- | Rey, ho Ifante ſe tornou ha Portu- | gal, e nom ſe paſaram muitos dias, | que logo nom veyo ha ElRey D. | Diniz em nome da Rainha Dona | Maria ſogra do Ifante, huu~ Pero | Rondel Ouvidor da Juſtia em ca- | za delRey D. Fernando de Caſtel- | la, e da ſua parte, aa ſua grande inſ- | tancia lhe requereo, e pedio que | por alguu~as cauzas coradas, que a- | pontou deſe ho Regimento da Juſ- | tia aho Ifante D. Affonſo ſeu fi- | lho. Do quaal requerimento El- | Rey c grandes eſtranhamentos ſe | eſcuzou, maravilhandoſe muito da | boondade, e prodencia da Rainha | requerer taal couza, e ta contrayra | ha toda reza, e oneſtidade, porque | elle quando em cazo de velhice, ou | por outro empedimento que tivera, | requerera aho Ifante ſeu filho pera | tomar ſemelhante regimento, ain- | da elle como filho obediente ſeen- | do ſeu pay vivo, e em booa idade | pera reger como era, ſe devera deſ- | ſo eſcuzar, quanto mais querer for- | ar ho que boom filho nunca fi- | zera, e deſta repoſta delRey ha | que ho Ifante era prezente, elle co- | mo aggravado, e muy anojado ſe | deſpedio logo de ſeu pay, e foy ſem- | pre andar apartado delle. | [ title ] CAPITULO XIX. Das couzas que ho Ifante capi- | tulou pera matar Affonſo S- | ches ſeu irmao, ou ho deſ- | terrar fra do Regno. | P Orque ha maginaam, e ſoſ- | peyta que ho Ifante tinha do | beem, que ElRey queria ha Affon- | ſo Sanches ſeu filho, ho trazia em | muita door, e cuydado, pera deſto | ſeer livre, elle cta ho q~ ha ſeu Real | ſangue, e Eſtado devia, fantaziou | em ſua memoria huu~ engano com | que falſamente, e com alguu~ acha- | que ho mataſe, ou ElRey ho deſ- | terraſe do Regno, e eſto fez, q~ ho | Ifante falou ſecretamente com huu~ | Pedro Guilhelme, e com outro Pe- | ro Gonalves, que vivia com elle, | e em q~ ſe muito fiava, ahos quaaes | mandou que foſem fra da teerra, | e de laa trouxeſem eſcrituras com | ſinaaes, emoſtranas de ſeerem | pubricas, e muy autenticas, e ver- | dadeyras, porque craramente ſe | moſtraſe, que elles de mandado do | Ifante foram buſcar, e achara ho- | mens ha que ho dicto Affonſo San- | ches peytara porque trouxeſem, | e deſem peonha aho Ifante D. | Affonſo, de que logo morreſe. E | eſtes paſado alguu~ tempo depois, | que manhoſamente partiram do | Regno, tornaara ha elle, e trou- | xeram aho Ifante, que eſtava em | Coimbra eſtromentos pubricos eſ- | critos em Caſtelhano, que perante | hos Juizes da Cidade, foram logo | pubricados, e tomados delles auto- | rizados trelados, cuja ſuſtancia | era. | Que ahos trinta e huu~ dias do | mez de Novembro da era de mil tre- | zentos ſincoenta e ſete annos, ante ha | porta de Sancta Maria de Maga- | zela, prezente Joha Pires, que a- | quelle anno fora Algoazil, e Diogo | Dias, e Vaſco Fernandes Alcay- | des, e Joha Preto, Tabaliam do | Lugar, nove vaqueyros que vinha | por ſy nomeados, c outros vaquey- | ros de Ruy Sanches Davilla, trou- | xeram prezos aho dicto Lugar de | Magazela cinco homens de Senho- | rio de Portugal, antre hos quaaes | vinha huu~ acavallo, que parecia de | reza, e boom entendeer, e que hos | dictos vaqueyros diſeram, que no | Lugar que dizem Aguama termo | da Magazela, aquelle homem de ca- | vallo com outros traziam prezo ou- | tro homem Portuguez, que tinha fey- | a De ſcudeyro, ho quaal bradando | dizia, homens do Senhorio de Caſtel- | la acorreyme, que Portuguezes me | levam prezo pera em ſua teerra me | matarem, e que ha eſtes brados hos | dictos vaqueyros acodira, e que- | rendo livar ho prezo Portuguez da- | quelles Portuguezes que ho traziam, | que ho dicto homem de cavallo dice- | ra apreſadamente ahos ſeus de pee: | Matay elle tredor porq~ nom fique | com vida. E que huu~ delles lhe dera | huu~a lanada por huu~ brao, e que | ho de cavallo ſobreſo lhe arremeſara | ha lana que trazia, e ho atreveſara | por detraaz atee hos peytos, e que | hos vaqueyros vendolhe fazer taal | crime lanaram mao logo de quatro | homens ſeus, e q~ ho de cavallo quere~- | dolhos tirar, e defender, huu~ dos va- | queyros arrancou huu~ dardo, e ho fe- | rio, e ho Eſcudeyro quando vira hos | ſeus homens prezos, dicera ahos va- | queyros, que nom tinham raza de | prenderem, nem fazerem maal ha | elle, vem ahos ſeus, pois nom fizera | mais maal, que matar ſeu imigo, e | que pera verem que elle demandava | raza, que ho deyxaſem, e que elle | era contente de ir a cavallo peran- | te hos Juizes de Maguazela, e que | elles depois de ho ouvirem manda- | riam ho que foſe juſtia. | Eque ante de irem pera ho dicto | Lugar, que ho Cavalleyro rogou ahos | vaqueyros, que pera certida do que | dizia, chegaſem aaquelle lugar onde | jazia ho ferido Portuguez, hos | quaaes chegando ha elle ho Caval- | leyro dicera aho ferido. Amigo eu | ſao Pero Gonſalves, Eſcriva do | Ifante D. Affonſo de Portugal, e | voos ſabeis beem ha maaldade, e | treya que tendes feyta, c Gar- | cia Dalmuche, que eu fiz matar nas | manchas Daragam por ambos buſ- | cardes, e ordenardes peonha pera | mataarem ho Ifante meu ſenhor, e | agora lembrevos, q~ eſtais em tem- | po da rependimento, e de dizerdes | ha verdade, por nom perderdes ha | alma, pois jaa perdeſtes ho corpo. E | que ho ferido reſpondera, que tudo | era verdade, e que por eſto elle tinha | tratado, e buſcado contra ho Ifante | aquelles Portuguezes que ho trazia | prezo, ho quaal logo falecera, e que ſo- | bre eſto em chegando ahos Alguazis | do lugar, ho dicto Pero Gonſalves | moſtrara huu~a carta aberta patente | do Ifante, porque geraalmente fazia | ſabeer, que elle enviava ho dicto Pe- | ro Gonalves contra alguu~s que pro- | curavam de fazer maaos feytos con- | tra elle, e que porem ho encomendava | aas Juſtias dos Lugares pera que | lhe deſem ha ajuda, e favor, que elle | requereſe, e aalem deſto, que ho dicto | Pero Gonſalves requeria mais ahos | dictos Juizes, que perguntaſem hos | vaqueyros aacerqua do que ho Eſcu- | deyro morto em morrendo confeara, | hos quaaes diceram todo ho que a- | traaz hee eſcrito, e mais que ho dicto | ferido em querendo morrer dicera. | Eu nacy em na maa hora antre | todolos homens da teerra, de que ſa | naturaal, e aſi aquelle por cujo con- | celho eſto fiz, porque certo hee que | Garcia Dalmuche, e eu com outros | buſcamos, e compuzemos peonha | pera matar ho Ifante, mas quiz ha | ſua booa ventura, que por ella ſe nom | obrou couza, que lhe danaſe. E com | tudo diceram, que ho Ifante ſe guar- | daſe, e que perguntado ho ferido pelo | nome daquelle do ſangue do Ifante | por cujo concelgo, e mandado eſta pe- | onha ſe ordenava, que elle reſpon- | dera, que pera que era perguntar ho | que todo ho mundo ſabia, e que mais | nom deria, e com eſto pedira confiſ- | ſam, e em lhe tirando ha lana, que | tinha atraveſada logo morrera, pelo | quaal hos dictos Alguoazis, e Al- | cayde, viſto eſto mandaram que ho | dicto Pero Gonſalves, e hos ſeus ſe | foſem em booa ora, e livres, e lhe | mandaram daar hos eſtromentos pu- | bricos, com muitas teſtemunhas, que | ſobre eſto pediram. | E depois que eſtes eſtromentos | em Coimbra ſe pubricara, de que | todos fora hy eſpantados, ho Ifan- | te mandou moſtrar ho treslado del- | les ha ſeu padre, por Nuno Martins | Barreto, e por Ruy Garcia do Ca- | zal, e pedirlhe que logo deſe ha | Affonſo Sanches ha emenda, e caſ- | tigo, que em tam feyo cazo mere- | cia. Do que ElRey foy aſaaz ma- | ravilhado, e poſto em muy triſtes | penſamentos, ainda que logo co- | nheceo, que todo eram manhozas | envenoens, e maal compoſtas, e | ahos meſageyros do cazo, reſpon- | deo por maneyra, que fora elles | contentes, e ſobreſto ElRey enviou | logo aho Ifante, Fernam Rodri- | gues Bugalho, e Lopo Eſteves Dal- | varengua, peſoas de que fiava, pe- | los quaaes lhe enviou certificar ho | nojo, e triſteza que do cazo paſa- | do tinha recebido, ho quaal era de | calidade, que fazendoſe contra ho | mais pequeno vaſallo ſeu, elle ho | eſtranharia, e punyria muy grave- | mente, quanto mais contra elle ſeu | filho, que elle amava de coraa, e | ſua couzas aſi lhe doyam, e toca- | vam como ſe foſem feytas, e orde- | nadas contra ſua Reaal peſoa, e | que foſe certo, que quaalquer ſeu | irmao lidimo, ſe ho tivera, que | contra elle fizeſe ſemelhante trey- | am, que ſeem nhuu~a piedade lhe | mandaria tirar ho coraa pelas eſ- | padoas, como aho mais vil homem | de ſua teerra, e que porem ElRey | lhe rogava, que hos proprios origi- | naes de que vira hos treslados lhe | quizeſe mandar, e que logo lhos | tornaria, porque por elles ſe queria | beem informar pera ſabeer ha ver- | dade donde tanto maal nacera, e | quaaes era hos participantes nelle, | pera tudo emmendar, e caſtigar | com penas, e riguores que elle vi- | ria. | Aho que ho Ifante reſpondeo, | que ſe maravilhava muito delRey | ſeu padre, huu~ feyto tam craro, e | de taal importancia querello poor | em vagarias, nas quaaes elle nom | queria poor ſeu corpo, vida, e hon- | ra, porque ſe ElRey tiveſe vonta- | de de ho eſtranhar, e punir como | lhe enviava dizer aſaaz provado eſ- | tava ho erro pera na exequa del- | le nom procederem interlucutorias | nem tantas delongas, e que jaa em | cazos, que menos relevava, e com- | prova que nom era tam abaſtante, | mas por ſoo proſunam lhe vira | proceder contra muytos, e punillos, | e que aſi ho devia fazer neſte cazo, | e que hos originaes por ſeerem eſ- | critos em papel, e por ſe nom per- | derem tinha muy beem guardados | antre duas tavoas, e que ha ElRey | hos moſtraria quando foſe neceſ- | ſario, e que porm, que ſobreſo | mais ſe avia de fazer com moſtran- | as da meaa. | [ title ] CAPITULO XX. Da diligencia que ElRey fez pe- | ra ſaber ha verdade dos | estromentos de Ma- | guazella. | C Om eſta repoſta do Ifante em | que poreceo, que elle ſe cer- | rava pera prefeytamente ſe nom ſa- | ber ha verdade do cazo, que deſe- | java, ElRey pera tirar de ſy ſoſpey- | oens, e eſcrupulos da vontade, an- | tes de tudo ouve por beem denviar, | como enviou, por meſageyro avi- | zado com ſua carta de rogo ahos | do Concelho de Maguazella, en- | comendandolhes, que do cazo que | nos eſtromentos era particularme~- | te apontado, lhe mandaſem dizer | ha verdade, e que vieſe por todos | beem autorizada, hos quaaes jun- | tos todos em ſeu conſiſtorio mara- | vilhados primeyramente de taal | novidade, reſponderamlhe ſuſtan- | cialmente, que todalas couzas con- | teudas nos dictos eſtromentos nem | ſoomente huu~a nom fora, nem era | verdade, porque naquella Villa | nom avia, nem nunca ouvera taaes | homens, que foſem juſtias, nem | Tabaliaens, nem taaes vaqueyros, | nem memoria de taal feyto, como | aquelle aconteceſe em Maguazel- | la, nem em ſeu termo, nem em to- | da aquella Comarqua, ſobre que | fizeram grandes diligencias de que | enviaram ha ElRey D. Diniz ſuas | certidoens aſinadas por todos, e | aſeladas com ho ſelo do Conce- | lho. | E com eſta repoſta de Magua- | zella, em ha falcidade foy ho Ifan- | te beem compreendido, e ElRey | foy muito maravilhado, e recebeo | grande nojo, que lhe pareceram | comeos, e fundamentos que ho | Ifante lanava, e fazia pera deſco- | bertamente lhe deſobedecer, e ho | desſervir, e pera alguu~a temperan- | a, e reſguardo deſto ElRey fez | ajuntar em ſua Camara ha D. Jo- | ha Mendes de Briteyros, e Mar- | tim Affonſo de Souza, e Gonale | Anes de Berredo, ſeus ſobrinhos, e | D. Pedro Eſtao Meſtre de San- | Tiago, e D. Gil Martins Meſtre de | Chriſto, e D. Vaſquo Meſtre Da- | viz, e Vaſquo Pereyra, e Vaſquo | Martins de Rezende, e outras peſ- | ſoas nobres de ſua Corte, e em | Concelho, e perante elles todos fez | leer ha carta, e titolo que hos de | Maguazella lhe enviaram, e aca- | bada de leer, ElRey perante todos | logo dice. | Certo hee, que ha alguu~s parece- | raa eſta minha fala eſcuzada, pois | ha fao com payxam, que nom poſo | dizer has muitas mercees, e grandes | beneficios que tenho feytos aho Ifante | meu filho, que apoz elles nom diga hos | erros, e deſobediencias, e deſagrade- | cimentos, que contra my teem come- | tidos, e cada dia comete, e porm ha | door, que tenho em minha alma, e ha | ſanha que encende ho meu coraam, | ſa tamanhas, que me foram meu | proprio fizo, pera que has nom poſa | encobrir, e dellas me fazem que vos | diga alguu~as, aho menos pera ſaber- | des minha fortuna, e minha deſcul- | pa, e ſobreſo procurardes, e dardes | ha eſto alguu~ remedio, e concelho pois | eu jaa nom ſey, nem poſo. | Beem ſabeis todos, quam honra- | damente, e com quanta proſperidade | ſempre criey ho Ifante, e quanto de | coraam ſempre ho amey, e por eſte | grande mor, q~ lhe tinha nom ſeendo | inda em idade de ſeis annos, lhe dey | caza apartada com muita teerra, e | grande contia, e com boons, e honra- | dos vaſallos, ho que hos Rex de Por- | tugal meus anteceſores, ha ſeus fi- | lhos erdeyros de tam pouca idade | nunqua coſtumaram fazer, porque | cazados, e em moores idades ſempre | andavam com ſeus padres em ſua | caza, atte que lhe apartavam has | ſuas ſem teerem vaſallos, nem ſer- | vidores proprios, e pera prova deſto | ſabeis, que como quer que ElRey D. | Affonſo meu avoo, filho delRey D. | Sancho ſendo Ifante, foſe cazado | com ha Ifante Dona Orraqua, e ti- | veſe filhos, ſempre porm andou em | caza del Rey ſeu padre, e ſe El Rey | D. Affonſo Conde de Bolonha ho | fez ha my foy em tempo que eu avia | jaa dezoyto annos, e avia catorze | que elle jazia em cama ſeem ſe poder | ſoſter, e alevantar, de maneyra que | depois, que me apartou caza, e aſinou | teerra nom viveo mais que dezanove | mezes, e quantos trabalhos, perigos, | e deſpezas, eu com muito de minha | cazam e teerra paſey, por ſe fazer | ſeu cazamento com ha Ifante Dona | Breatis ſua molher, vs todos ho ſa- | beis pois tambeem ho paſaſtes comigo | e ho conhecimento, que elle deſto teem, | e ho galardam que por eſo me daa, | ſam nojos, e deſobediencias que an- | dando em minha caza, e fra della | ſempre me fez, e que todas aqui nom | diga alguu~as por minha ſatisfaam | ſeraa forado, que ha aponte. | Primeyramente deſpedindoſe de | my, e de meu ſervio ho Conde D. | Martim Gil pela contenda, que an- | tre elle, e Martim Sanches meu filho | avia ſobre partilha derana, por ſee- | rem ambos cazados com duas irmas | poſto, que eu ſoubeſe que ho dicto meu | filho por ſeer ſeu, aacuſta do muito | dinheyro meu que por compoſiam, | que dey aho dicto Affonſo Sanches, | hos concordey, e ſeendo ho Conde | meu vaſallo, e meu Alferes moor, e | Mordomo do Ifante, que eram offi- | cios pera me teer muito em mercee, e | avia por ello obrigaam pera me le- | almente ſempre ſervir, elle antes, | que ſe de my eſpediſe, errando neſo | ha ley de nobreza, e fidalguia, que co- | mo nobre devera guardar, ſe foy fa- | zer vaſallo delRey de Caſtella, e lhe | fez preyto, e menagem contra my ſo- | pena de tredor, que toda ſua vida ho | ſerviſe contra my, quando elle man- | daſe, convocando pera ſy alguu~s | homens honrados de meu Regno, pera | que foſem contra meu ſervio. | E como que, que ho Ifante deſto | foſe beem ſabedor, nom eſtimou ho | grande dano, desſervio, e deshonra, | que ſe deſo podia ſeguir ha my, que | ſam ſeu pay, e aa Coroa de meu | Regno de que hee ſocceſor, mas antes | por eſtos erros ho ama, e eſtima, e fia | mais delle do que antes fazia, e lhe | eſcreve cartas de grande favor, e | lhe faas mercees como ſe ha my, e ha | elle has mereceſe, ha quaal couza | nom ſey ha quem nom parea muito | eſtranha ſe nom a elle, que ſendo | meu filho, e vaſallo, e ha quem meus | Regnos pertencem de direyto ho aa | por beem ſem teer lembrana deſtas | obrigaoens polas quaaes de razam | naturaal, e divina, devia querer | maal, e deſamar muito ha quem c- | tra my uza de tanta treyam. Tam- | bem ſabeis, q~ eſtando Affonſo San- | ches meu filho, concertado com Dona | Iſabel ſobre eſcaybo de Medelim por | Aguiar, e ſeendo dia antre elles cer- | to, e aſinado pera ho dicto concerto ſe | fazer ſopena de dous mil marquos de | prata, e vindo a eſo ho dicto Affon- | ſo Sanches por meu mandado, e con- | ſentimento, ho Ifante ſayo ha elle | com voos, e tena de ho matar, poſ- | to que lhe eu mandaſe dizer por Jo- | ha Rodrigues de Vaſconcellos, que | ho nom per ſeguiſe, e ho deyxaſe, que | hia por meu mandado, elle ho nom | quiz fazer, e me mandou dizer, que | ho que comeara havia de acabar, | aho que eu por evitar tamanho maal | como ſe aparelhava, ſabi fra em | peſoa, e voos comigo, e porm nom | ſe pacifiquou ho cazo ſeem ho dano | que viſtes. | E outro ſy Vaſquo Paaes Daze- | vedo, que em Caſtella contra my, e | meu ſervio dice alguu~as couzas, que | nom devia, querendoſe dellas alim- | par perante my, por ha culpa de | maao ha Martim Reymondo ſeu ſo- | brinho, q~ era preſente lhe dice que lhe | poeria de praa has maos, e ho cor- | po, por proca q~ ſeu tio nunqua taal | dicera, e que lhe faria confeſar, que | nom dizia verdade, ho Ifante tomou | ha parte de Vaſquo Paaes, e falou | por elle palavras deſcompoſtas, e por | Affonſo Martins querer alimpar, e | eſcuzar ſeu tio, hos do Ifante ho | quizera logo matar, e perante my | ſeem acatamento de minha peſoa ho | fizera, ſeem meu filho tornar a eſo, | como devera, conſentindo em tama- | nha injuria, como ha my era feyta. | E ſabeis mais, que dous ſobrinhos do | Biſpo de Lixboa confiando, e esfor- | andoſe como nom deviam, que pela | parte que de my dava, e booa vonta- | de que tinha ha ſeu tio, poderiam por | favor eſcapar de quaalquer crime, e | maleficio que cometeſem, e fizeſem, | elles ſobre ſegurana mataram pu- | bricamente no meyo do dia, e da Ci- | dade huu~ filho do nobre homem, e | boom Cavalleyro Eſtevam Eſteves, | e por ha fieldade, e graveza do cazo | ſeer taal hos mandey logo prender, e | fazer pubricamente juſtia, e de todos | aquelles que foram em ſua ajuda, e | por eſo ho dicto Biſpo com meu deſa- | mor, porq~ eu quiz fazer juſtia, ſe foy | ha Roma onde por todalas maneyras | que pode procurou ho meu nojo, e deſ- | ſervio, do quaal ho Ifante perdeo to- | da ſoſpeyta, e ho teem por boom, e | leaal ſervidor, e ſia delle, e lhe faaz | honra, e mercee, e ha todolos ſeus, ſa- | beendo notoriamente q~ niſo me deſ- | ſerve, e anoja. | E alm deſtas couzas q~ dice, ou- | tras mais deſta calidade teem ho | Ifante contra my feytas, que atee qui | ſoportey, eſperando que c crecimen- | to dos dias, e da honra, e eſtado que | tinha ſe temperaſe, e emendaſe, por- | que com ha emenda deſo, que em ſy | fizeſe refreaſe ha my que nom diceſe | maal de peſoa de meu ſangue, eſpe- | ciaalmente delle, que depois de minha | morte aa eſta teerra de ſoceder em | meu lugar: mas porque vejo que elle | cada dia, tira ho beem do beem, e a- | crecenta maal ha maal, ho deſcubro | ha voos outros pera que neſo me deis | concelho com remedio. | Aho que cada huu~ dos Senho- | res, que eram prezentes, reſponde- | ra com ha door, e triſteza que por | eſo tinha, e pera booa paaz, e con- | cordia antre ElRey, e ho Ifante, de- | ram ſeu voto, e offereceram ſuas | foras, e booa vontaade. Mas ho | Ifante veendo que has couzas paſ- | ſadas pera morte, ou deſterro de | Affonſo Sanches ſeu irmao, nom | tinhamſocedido aa ſua vontade pe- | ra eſprimentar ſe com ho poovo | do Regno ho podia fazer, ordenou | eſtando elle em Coimbra, e aſi em | Santarem onde ElRey era, que ſe | diceſe como por muitos dos ſeus | pubricamente ſe dizia, que ElRey | com aſinados, eſelos ſeus, e de trin- | ta, e duas Cidades, e Villas princi- | paaes de ſeus Regnos, enviara car- | tas de certida aho Papa porque | lhe certificava, que ho Ifante D. | Affonſo por falecimento de fizo | naturaal, e por outros grandes de- | feytos que tinha, nom era auto pera | ſeer Rey, orque como parvo, e | deſmemoriado andava tirando, e | comendo has aranhas das paredes, | e que por eſo pedia a Sua Santi- | dade por mercee, que lhe tiraſe ha | ſoceſa, e abilitaſe ho dicto Af- | fonſo Sanches pera depois de ſua | morte Regnar, porque pera taal | ſoceſa era muy pertencente, e | que elle das rendas do Regno man- | tiveſe ho Ifante ſeu irmao em ſua | vida. | Das quaaes couzas ſeendo El- | Rey D. Diniz certificado, recebeo | por ello grande pezar, e muito ſen- | timento, e enviou logo Lourence | Anes Redondo, e Pero Eſteves ſeus | vaſallos aho Ifante, ha que dice- | ram todo ho paſado, que hos ſeus | diziam, e ho nojo em que por eſo | ElRey eſtava, por difamarem ſeem | cauza de ſua boondade, e concien- | cia, e da lealdade, e boom nome | das Cidades, e naturaaes de ſeus | Regnos, e ho que deſto mais ſentia | aſi era que ho Ifante ſabeendo que | eſtas falcidades aſi ſe diziam, nom | has eſtranhar, e caſtigar com gran- | des penas, e muita eſpereza, como | taal cazo requeria, por onde pare- | cia, que ellas naciam de toda ſua | vontade, e conſentimento, mas que | pera todos ſaberem craramente | deſo ha verdade, e que nunqua | taal malicia, e treya por elle, nem | pelos ſeus fora, nem ſoomente cuy- | dada, que elle daria por eſo taaes | penas por dezafio, e reto poſeſem | hos corpos, e has vidas, aaquelles | que eſto diziam, e aſacavam, e que | por ſuas bocas lhe fariam confeſar | que eram muy falſos, e tredores, e | que pera mais abaſtana, e moor | comprimento elle eſcreuera logo | aho Papa em quem nom avia pay- | xam dodio, temor, nem afeya, | pera que por ſuas Bullas, e letras | patentes, e com outorgua, e apro- | vaam dos Cardeaes, enviaſem | deſto teſtimunho, e dizer ha verda- | de. E eſto paſou na era de mil tre- | zentos e vinte annos. Mas ho | Ifante reſpondeo que taaes couzas | nunqua ouvira, nem ſabia dellas | parte, e porm ElRey notificou | tudo aas Cidades, e Villas de ſeus | Regnos, que ſobre eſto enviaram | logo pubricos eſtromentos de mui- | ta lealdade, afirmando cada huu~ | que combateriam em campo ha | quaaeſquer que contra ElRey, e ſeu | Regno taaes treyens, e falcidades | aſacaſem, porque nunqua paſara | aſi, nem elles por ſua lealdade has | conſentiram. | [ title ] CAPITULO XXI. Dalguu~as couzas mais, que ho | Ifante fez contra vonta- | de, e ſervio DelRey | ſeu padre. | C Omo ho Ifante andava poſto | em deſobediencia, e com pou- | quo acatamento delRey, nom o- | lhava has couzas de ſeu ſervio, e | da juſtia com aquelle reſguardo, | que devia, pelo quaal ElRey era | poſto em grande cuydado, e muita | pena, porque ho Ifante pera mais | danamento de ſua boondade ſol- | mente trazia, e acolhia em ſua ca- | za muitos maalfeytores obrigados | grandemente por ſeus crimes aa | juſtia, com que hos do Ifante to- | mavam grande cuzadia de fazerem | ho maal que queriam, porque nom | receavam pena, nem caſtigo dos | maales que fizeſem, nem ElRey | podia delles tomar ha emenda, que | mereciam, e antre eſtes era huu~ | Eſteva Gonſalves Leyta, vaſallo | do Ifante, e outro ſeu irmao, e | com outro em ſua companhia, par- | tiram da caza do Ifante ſeendo elle | aallem do Douro, e foram teer oo | caminho ha Eſteva Fernandes | Cavalleyro, e vaſallo delRey, e | ha Gonſalo Fernandes, vaſallo de | Ferna Sanches, e ſeem cauza ha | ambos hos mataram, e acolhera- | ſe aa caza do Ifante, que hos nom | quiz entregar ha ElRey, que com | grande inſtancia lhos mandou pe- | dir pera delles fazer juſtia. Outro | ſy, huu~ Payo de Meyra, e Joha | Coelho vaſallos do Ifante, huu~ de | huu~a parte, e outro de outra, ſeem | alguu~ temor delRey, e de ſuas juſ- | tias, fizeram de Cavalleyros, e de | outras muitas gentes, huu~ grande | ajuntamento, e ambos ouvera pe- | leja em q~ morreram muitos, antre | ho quaaes foy Lopo Gomes Da- | breu, que era huu~ dos melhores | Cavalleyros, que avia em ſua linha- | gem. | Pelo quaal inſulto, ElRey por | ſeu meyrinho hos mandou deſter- | rar fra do Regno, e elles foraſe | logo pera Caſtella, mas dahy ha | pouquos dias ſe tornaram pera ca- | za do Ifante, em que achara boom | acolhemento, e muita mercee. Ou- | tro ſy, huu~ Xeres Portel vivendo | com ho Ifante, com outro foy rou- | bar ho Moeſteyro do Marmelar de | quanto tinha, e elle, e hos ſeus por | fora ſe lanaram aas molheres ca- | zadas, e virgens, que acharam pela | teerra, e quizera matar ho Come~- | dador do dicto Lugar ſe nom ſe eſ- | condera, e cheyos de roubos, e de | maleficios ſe foram pera caza do | Ifante que hos emparou, e favore- | ceo. E aſi depois Affonſo Novaes, | e Mem Martins Barreto, vaſallos | do Ifante, e ſeus moradores parti- | ram de ſua caza, e com homens de | cavallo, e de pee armados, foram | ſeem cauza matar D. Giraldo Biſpo | Devora, que era do Concelho del- | Rey, e vivia com elle, e tambeem | muitos homiziados, e maal feyto- | res, que por ſeus homizidios, e fo- | gidas de cadeas, e delitos andavam | fra do Regno, vinhaſe ſoltamen- | te pera caza do Ifante de quem re- | cebiam emparo, e mercee, hos | quaaes em grande numero aly aſi- | nou, e hos cazos porque eram obri- | gados aa juſtia, cuja mais particu- | lar delcaraam nom hee aqui ne- | ceſaria. | E poſto que ElRey por muitas | vezes, e por muitos com cauzas | evidentes enviaſe rogar, e mandaſ- | ſe eſtreytamente aho Ifante, que | lanaſe de ſua caza hos taaes ho- | mens maalfeytores, e que daly | em diante nom acolheſe outros ſe- | melhantes, elle ho nom queria fa- | zer, antes inſiſtia, e faria tudo con- | tra vontade delRey, pela notefica- | am, que ElRey fez aho Papa Jo- | ha XXII. das deſobediencias, e | pouquo acatamento de q~ ho Ifante | aacerqua delle uzava. E aſ do que | neſte Regno falſamente ſe dizia, | que ElRey aſaquando defeytos do | dicto Ifante lhe ſuplicara pela legi- | timaam do dicto Affonſo Sanches | pera Regnar, e Sua Santidade em | repoſta deſto enviou ha ElRey D. | Diniz pera ſy, e aſi ha todolos Eſ- | tados de ſeus Regnos, ſuas Bullas | pate~tes, em q~ c palavras de padre | boom, e piedozo ſe doe, e maravi- | lha da diſcordia antre ho pay, e ho | filho, e aſi afirma, e daa teſtemu- | nho da verdade, que aquellas difa- | maoens, elle como Vigayro indi- | nho de Chriſto, que do Ceo de- | cendeo por dar teſtemunho da ver- | dade, afirmava ſeerem falſas, e que | em ſeu tempo taaes requerimentos, | e ſuplicaoens nunqua lhe foram | feytos, nem has provizoens de taal | couza nom ſe concedaram, nem | paſaram em ſeu tempo, nem dos | Papas Clemente V. e Benito XI. | ſeus Predeceſores, cujos regiſtros | pera moor juſtificaam deſto man- | dara com deligencia buſcar, e po- | rm que ha todos por muitas, e | booas cauzas, que apontou, enco- | mendava que por ſervio de Deos | e por boom aſecego do Regno pro- | curaſem antre todos paaz, e ami- | zade, e concordia, como era reza, | ha quaal Bulla ElRey por ſua lim- | peza mandou moſtrar aho Ifante, | e aſi pubricar em ſua caza, e por | todolos Lugares principaaes do | Regno, ha que hos poovos reſpon- | diam conformes aa verdade, de que | ſe tiraram eſtromentos pera limpe- | za delRey, e do Regno. | [ title ] CAPITULO XXII. Como ho Ifante ſe partio de Co- | imbra pera Lixboa, e do que | lhe aconteceo com ElRey | no caminho. | E ſtas Bullas autentiquas, que | ho Papa enviou por certeza | que has ſoſpeytas do Ifante contra | ElRey, e contra Affonſo Sanches, | nom eram verdadeyras, nom aſo- | cegaram ha vontade do Ifante pera | deyxae de ter odio, e deſamor aho | dicto Affonſo Sanches, porque | quando ho deſamava, e queria ma- | tar, e deſterrar, beem ſabia que has | cauzas, que contra elle punha, to- | das eram fingidas; nem abrandou | de ſua dureza pera com hos rogos | do Papa ſeer obedie~te ha ElRey ſeu | padre, como por Prgadores, e | grandes homens em pubriquo, e | em ſecreto lhe era dicto, antes con- | tinuava no que tinha comeado, | pelo quaal deyxando ha Ifante ſua | molher em Coimbra, e com ella | ho Conde D. Pedro ſeu irmao, | partio da y, e levando conſiguo | hos maalfeytores, e degradados, e | outra gente armada, foy caminho | de Leyria com fama de yr ha Lix- | boa em romaria ha S. Vicente, mas | ha verdadeyra tenam de ſua yda, | era pera tomar, e teer Lixboa con- | tra ElRey ſeu padre, e ElRey eſ- | tando em Santarem, e ſeendo cer- | tifiquado da maneyra em que ho | Ifante ya, ouve taal atrevimento | por grande ſeu deſprezo, ca pare- | cia nom aver alguu~ temor, nem | vergonha delle, nem de ſua juſtia, | eſpeciaalmente pelo Ifante vir com | tantos omiziados tam junto delle, | e como quer que ho ſeu primeyro | movimento foy acodir logo ha eſo | com mais trigana, e moor aſpere- | za, porm ouve por beem enviar- | lhe primeyro dizer por Pero Eſte- | ves, e Gomes Anes ſeus vaſallos, | que lhe rogava lanaſe fra de ſua | companhia hos maalfeytores que | levava, porque elles mais pa- | recia yr fazer almogavaria em | teerra de imigos, que comprir com | devaa ſua romaria em ſua teerra | propria. | Aho que ho Ifante nom quiz ſa- | tisfazer, e neſte cazo eſtes meſa- | geyros levara provizoens porque | em nome delRey ouvera hos di- | ctos maalfeytores por degradados | fra do Regno, ho que com favor | do Ifante nunqua quizera fazer, e | ha cazo ElRey por eſte cazo em | muita ſanha, moveo logo contra | Lixboa, e ha Rainha Dona Iſabel | ſua molher com elle, e indo jaa ho | Ifante diante, em chegando ElRey | aho Lumiar, que he huu~a legoa de | Lixboa, ſoube que ho Ifante ſeen- | do avizado da ira delRey, com ſeu | medo ſe partira pera ha Villa de | Cintra, e ElRey dice contra hos | ſeus. Pareceme que ho Ifante meu fi- | lho, ſabeendo quanto me anojava por | elle trazer eſtes omiziados afaſtado | oyto legoas, que agora por me mais | deſprazer, e menos acatar ſe foy com | elles, e hos tem conſigo nom mais de | quatro, e porque ſa maales, que pe- | ra Deos, e pera ho mundo jaa ſe nom | podem ſofrer hee beem, que pera mais | nom creceerem, vamos logo ſobreſtes | homens, que ſa cauza deſto, e tra- | balhemos polos aver. | Pelo quaal ElRey mandou logo | fazer preſtes ſua gente, que muito | ante manha armados partiram, e | foram contra ho lugar onde eſtava | ho Ifante, e dice, que ElRey orde- | nou eſto ſeer feyto muy cedo, e ſe- | cretamente, porque ha Rainha ho | nom ſoubeſe, e da ſua ida nom a- | vizaſe ho Ifante. mas ha Rainha | maravilhada por ſentir no Lugar | tanta revolta, e veer tanta trigana, | e rumores daparelhos darmas, e ca- | vallos, como ſoube que era contra | ho Ifante ſeu filho, foy poſta em | muita anguſtia por taal, que nom | ſabia que remedio pozeſe, e po- | rm ſe diz, que tantos homens | mandou aho Ifante, e pera tantos | Lugares, e com taal preſa que an- | te delRey chegar ha Cintra elle era | jaa avizado de ſua ida. E em tanto | ha Rainha ſe ſocorria ha Deos, ha | que em Miſas, e oraes com mui- | tas lagrymas pedia guardaſe ho | Ifante da ira delRey ſeu padre, e | por beem de todos hos pozeſe em | paaz, e amor. | E como ElRey chegou ha Cin- | tra onde era ho Ifante, elle como | vio ſeu penda, e ſuas gentes, ar- | mouſe logo, e mandou armar hos | ſeus, e pozeraſe contra ElRey em | dous lugares com moſtrana daſ- | pera peleja, ha quaal nom ouve, | porque ho Ifante, e hos ſeus por | quaalquer cauza, que foſe partira | daly, e nom eſperara ha ElRey. E | eſta ſe acha, que foy ha primeyra | vez, que ho Ifante ſe armou contra | ElRey ſeu padre pera com elle pe- | lejar em cazo, que nom pelejaſe. | ElRey tomou por ſatiſfaa, par- | tiſe ho Ifante, e pera ho ſeguir nom | deu lugar ha grande ſanha, que | contra elle tinha. ElRey partioſe | tambem de Cintra, e em chegan- | do aa Aldea de Bemfiqua, ſoube | que ho Ifante eſtava day huu~a le- | goa em huu~a Aldea, que dizem | Alvogas, de que ElRey foy muito | mais anojado, porque lhe pareceo | que ha ſoberba do Ifante, e ſeu deſ- | prezo contra elle, ya cada vez em | mayor crecimento, pelo quaal El- | Rey determinou de yr ſobre ho | Ifante ho quaal porque deſta deter- | minaa foy logo avizado, tam- | bem com hos ſeus maalfeytores, e | com outras gentes com maao con- | celho esforado, aſentou logo em | ſua vontade eſperar ElRey, e dar- | lhe batalha, como ſe fora a huu~ | imigo eſtranho. | ElRey como ſoube ha maneyra | em que ho Ifante eſtava lhe man- | dou dizer: Que pois diabo cujas | carreyras elle ſeguia, ho punha em | taal determinaa contra elle, que | era ſeu pay, e ſeu ſenhor, que eſo | nom era ſalvo pera lhe dar ho caſti- | go, que por ſeus grandes erros mere- | cia, e que por eſo eſperaſe, e nom fo- | giſe. Pelo quaal ho Ifante vendo, | que por foras, e por reza tinha | contra ElRey, ſeu partido mais fra- | co, nom eſperou ElRey, e ſe tor- | nou pera Coimbra, e ElRey ha | Bemfica, e da y ha Santarem, e | nom ſeem muitas lamentaoens, e | grandes maravilhas por ver ſeu fi- | lho tam ſeem raza contra ſy, ſeem | nunqua querer amanar. | [ title ] CAPITULO XXIII. Como ho Ifante levou ha molher, | e hos filhos ha Caſtella, e hos | Lugares, que tomou ha | ElRey ſeu padre. | C Omo ho Ifante foy em Co- | imbra, logo levou ſua molher, | e filhos Alcanizes, que hee em Caſ- | tella, ho quaal tinha huu~ Fernam | Martins Dafoncequa, e aly ha dey- | xou acompanhada dalguu~s Eſcu- | deyros, e ſe tornou pera Coimbra, | onde por ſuas cartas cheyas de pie- | dades, e palavras, promeſas, e ne- | ceſidades, que apontou logo fez | chamamento de todos ſeus vaſal- | los, e ſervidores dizendo, que ho | ſocorreſem, porque ElRey queria | vir ſobrelle, e deſtroilo, ou matalo, | ſeem cauza. E ElRey que eſtava | em Santarem quando ſoube ha mu- | dana, que ſeu filho fizera da mo- | lher, e dos filhos pera Caſtella, e | percebia ſeem cauza tantas gentes, | era por eſo cada vez mais anojado, | porque como prudente ſabia, que | nom podia delle tomar vinguana, | que pera todos nom foſe muy pe- | riguoza, e porm pareceolhe que | hos taaes ajuntamentos nom eram | ſe nom pera ho Ifante vir ſobre elle | incitado de alguu~ eſpirito diaboli- | co ho tentar pera batalha, maravi- | lhado de ho Ifante jaa nom canar | de ſeus odios, e perſeguioens. | Ha eſto proveo, e atalhou com | cartas geraaes, que logo enviou ha | todalas Cidades, e Villas do Reg- | no encomendandolhes, que ſe nom | enganaſem das palavras coradas, | que ho Ifante mandava ſemear, c | que hos enganaſe, e deſviaſe de | ſeu ſervio, porque hos afagos, e | promeſas, que em ſuas cartas aas | gentes fazia nom era pera com elles | conquiſtar, nem guerrear ſe nom | ha elle ſeu padre, e com eſto man- | dou ElRey geraalmente pubriquar | por tredores todos aquelles, que | pera taal ajuntamento mais acodiſ- | ſeem aho Ifante, nem com elle an- | daſem, ainda que foſem proprios | ſeus vaſallos, contra hos quaaes | aſi aſperamente procederia, como | contra aquelles, que cometeſem | treya contra ha Reaal peſoa de | ſeu Rey, e Senhor, e que day por | diante mandava ha todos ſeus Al- | caydes, e juſtias, e ha todolos ou- | tros ſeus naturaaes q~ ha todos eſtes | que deſobedeceſem ſeu mandado, | mataſem ſem receo dalguu~a pena, | que por eſo ouveſem, e aſi man- | dou, e defendeo que nom acolheſ- | ſem ho Ifante, nem hos ſeus nas | Villas, e Caſtellos, nem lhe deſ- | ſem mantimentos, nem outra couza | alguu~a, antes aſi ho eſquivaſem, e | fizeſem contra elles, como contra | imigos delRey, e de ſeus Regnos, | e deſto ſe paſaram muitas provi- | zes, e cartas que fora enviadas, | e pubriquadas por todo ho Reg- | no. | Mas ho Ifante nos Lugares on- | de ſe achava nom conſentia darem- | ſe taaes cartas, nem ſerem feytas | ſuas pubriquaoens, nem obedecer | ha couza que ElRey mandaſe. E | andando has couzas neſte dana- | mento, ElRey apartou de ſy ha | Rainha, e ha mandou A lanquer, | com fundamento de fazer ſeus ne- | gocios ſecretamente ſeem ho ſaber | ha Rainha ſua molher, de quem | prezomia, que ho Ifante era logo | avizado, e logo foy certifiquado, | que hos da Villa de Leyria, deram | nella entrada aho Ifante, e que ti- | nha jaa ho Caſtello, e irado ElRey | por eſte feyto moveo, logo contra | Leyria com tena de queymar, e | deſtroir todos aquelles, que foram | em conſentimento da entrada do | Ifante, porque ha pena deſtes foſ- | ſe ahos outros exemplo, e quando | chegou ha Alcobaa jaa y achou | muytos moradores de Leyria, que | com medo de ſua ira aly ſe acouta- | va, como ha Caza ſagrada, que | lhes podia valer, hos quaaes poſ- | poſto todo acatamento Daltares, e | das ſepulturas dos Rex ſeus avoos, | ha que ſe abraavam, mandou El- | Rey logo tirar, e eſtando pera iro- | zamente delles mandar fazer crua | juſtia lhe chegou recado, que ho | Ifante por fora entrara ho alcacer | de Santarem, ha que ElRey com | grde preſa logo acodio e ho Ifan- | te receozo delRey, e de ſua ira, e | poder que trazia, deyxou ha Santa- | rem, e ſe foy ha Torres Novas, | onde ſe diz, que foy ho enterra- | mento de Affonſo Vaas Pemintel, | que era ſeu Cavalleyro, ha que | queria grande beem. | E tanto que ElRey chegou ha | Santarem, logo mandou ha Lou- | rence Anes Redondo, que jaa eſta- | no alcacer de Leyria, q~ logo dece | paſe, e mataſe todos aquelles que | dera ha entrada da Villa aho Itan- | te, em comprimento do quaal, de- | cepou, e queymou nove homens | dos melhores, e mais principaaes | da Villa. ElRey mandou tornar | aho Moeſteyro Dalcobaa hos pre- | zos, que da y levara pera juſtiar, | que depois de ſua ira ſeer tempera- | da, ouve por beem que lhes valeſe | a Egreja, e mais Alcobaa, em que | tinha ſingular devaa. Ho Ifante | nom menos perſeguido, que deſo- | bediente, e contumaas partio de | Torres Novas, echegou ha Tho- | mar, onde pera ſy, nem pera hos | ſeus, e ſuas beſtas nom achou alguu~ | genero de mantimentos, nem fer- | ragem, porque atee hos moinhos, | e acenhas achou de ſuas ferramen- | tas, e engenhos, de todo deſconcer- | tados, por taal que nom podeſem | moer mantimentos pera ho Ifante, | e com eſto elle ſe foy aho Caſtello | da Villa, e ſeem ho poder tomar to- | mou por fora todolos mantimen- | tos, que nella achou, e da y ſe foy | pera Coimbra. | Da quaal ſe apoderou, e tomou | ho Caſtello ho derradeyro dia de | Dezembro de mil trezentos evin- | 1321 te huu~ annos, e logo da y tomou | ho Caſtello de Monte moor ho Ve- | lho, donde mandou dizer aho C- | de D. Pedro ſeu irmao, que anda- | va em Caſtella deſterrando, que ſe | vieſe aa Cidade do Porto, porque | elle hia pera laa, e no caminho to- | mou ho Ifante ho Caſtello da Fey- | ra, q~ hee em teerra de Sancta Ma- | ria, de que era Alcayde por ElRey | Goualo Rodrigues de Macedo, e | da y foy tomar ho Caſtello de | Guaya, do quaal, e aſi do outro de | Monte moor que jaa fora tomado, | era Alcayde por ElRey Gonalo | Pires Ribeyro, e da y ſe foy aho | Porto, e ho tomou, e ali chegou ho | Conde D. Pedro, que ſempre an- | dou em ſua companhia, e da y ſe | foy aa Villa de Guimaraens esfor- | ado de huu~ Martim Anes de Bri- | teyros, que fez crer aho Ifante que | por inteligencias, que tinha dentro | na Villa, lhe faria entregar, mas ho | Ifante chegou ha ella, achou de- | fenſor dentro Mem Rodrigues de | Vaſconcelos, que era nobre ho- | mem, e boom Cavalleyro, e com | elle boons Eſcudeyros, e outra gen- | te da Villa, e com quanto foy pelo | Ifante grandemente requerido c | dadivas, e mercees, e ameaado | com morte, e outras penas pera | que lhe entregaſem ha Villa, e ho | Caſtello, elle ho nom quiz fazer, | dizendo que em quanto ElRey ſeu | padre foſe vivo, ha quem tinha | feyto menagem, nom entregaria | ha Villa, nem ho Caſtello ſe nom | ha elle, e que atee ſobreſo morrer | ho defenderia. | Ho Ifante mandou combater ha | Villa da quaal couza ſeendo ElRey | avizado, ajuntou logo muitas gen- | tes dos Concelhos da Eſtremadu- | ra, e das Ordens, e ſe veyo lanar | ſobre Coimbra, que eſtava pelo | Ifante, e nom entrou logo na cer- | qua, porque eſtava beem guardada, | e lha defenderam, mas paſou no | alcacer, que eſtava acerqua de Sa | Loureno. E avendo jaa dez dias | que ho Ifante jazia em cerquo ſo- | bre Guimaraens, foy avizado, que | ElRey tinha cerquada Coimbra, | pelo quaal deyxou ho cerquo da | Villa, e ſe veyo ha Coimbra pera | ha ſocorrer, e com elle ho Conde | D. Pedro, e ante que chegaſe aa | Cidade ſe preytejou com ElRey, | que ſe alevantaſe, como alevantou, | e ſe foſe ha S. Martinho do Biſpo, | e ho Ifante chegou aa Cidade, e | pouzou em Sancta Cruz, e ElRey | porque ho Ifante dilatou ha con- | cordia, que prometera, veyo-ſe lo- | go pera S. Franciſquo donde ſe fez | muito dano, e grande eſtrago no | arrabalde, e nos olivaes, porque de | huu~a parte, e da outra eram aly | juntos hos mais dos Fidalgos, e ge~- | tes que avia em Portugal, e antre | huu~s, e outros avia barreyras, e re- | payros, de que eſcaramuavam, e | pelejavam, em que de huu~a parte, e | da outra com door de muitos, mor- | ria muita gente, porque hos pays | ſeem vtade, e certa ſabedoria ma- | tavam hos filhos, e hos filhos ahos | pays, e huu~s irmaos, e amigos ha | outros ſeem alguu~a piedade, nem | miſericordia. | [ title ] CAPITULO XXIV. Como ElRey, e ho Ifante foram | concordados por meyo, e inter- | ceſa da Rainha Dona Iſa- | bel, e da maneyra que neſ- | ſo teve, e das mena- | gens que pera ſegu- | rana deſo ſe fi- | zeram. | E Por eſta diſcordia, que antre | ElRey, e ho Infante avia, ha | Rainha Dona Iſabel era triſte, e | anojada, e por aver antre elles booa | paaz, e amor como era raza fazia | ha Deos, e mandava fazer muitas | oraoens, e devaoens, e ſeendo | certifiquada deſtas mortes, e maales | tam grandes que deſta deſaventura | ſe ſeguiam, ella de ſua propria, e | virtuoza vontade partio Dalanquer | donde eſtava, e ſe veyo ha Coim- | bra, e por ſy falou ha todolos Se- | nhores, que eram com ElRey, e | com ho Ifante, e aſi com ho Con- | de D. Pedro, e com elles por ſua | ſancta interceſam banhada com | piedozas lagrymas, aſentou que era | beem fazerſe logo paaz, e concor- | dia, e ha Rainha com ElRey, e com | ho Ifante concordou, que ambos ſe | partiſem da ly, e ſe foſem ha ou- | tros lugares , dde por peſoas ſem | ſoſpeyta ſe veriam has couzas que | ho Ifante requeria pera dellas lhe | ſerem outorgadas aquellas que foſ- | ſeem de razam, e oneſtidade, e El- | Rey com prazer, e conſentimento | deſto, ſe foy ha Leyria, e ha Rai- | nha, e ho Ifante ſe foram da y ha | Pombal, e aly concertaram. | Que ElRey deſe aho Ifante | Coimbra, e Monte moor com ſeus | Caſtellos, e ha Fortaleza da See do | Porto, porque ha Cidade ainda en- | tam nom era cerquada, e por ellas | fez ho Ifante menagem ha ElRey, | pera de todas fazer guerra, e man- | ter paaz, como elle mandaſe, e aſi | acrecentou aho Ifante pera ſeu ſo- | portamento, mais contia de dinhei- | ro, e panos aalem do que tinha, e | ElRey perdoou aho Ifante, e ahos | ſeus todo ho paſado, e ho Ifante | ahos delRey, e ho rogo do Ifante | foy tambem perdoado ho Conde | D. Pedro, que foy reſtituido ha to- | do ho que tinha, e lhe era tomado, | e deſtas couzas moſtrou ho Ifante | ſeer muy ledo, e muy contente, e | dice, que nom menos obrigava, e | tanta alegria tomava das mercees, | e acrecentamentos, que delRey ſeu | padre entam recebia, como de ſeer | ſeu filho, pera por ellas da y em di- | ante, beem, e leaalmente ho ſervir | ſempre ſeem alguu~ nojo, nem eſ- | candalo. E ſobreſo lhe fez pubri- | qua, e ſolene menagem, e tomou | por eſo juramento dos Sanctos E- | vangelhos ſobre que poz has maos | e no Altar de S. Martinho do Pom- | bal prezente ha Rainha, e muitos | Fidalgos, que ſobpena de ſeer tre- | dor, e de encorrer na maaldia de | Deos, e na ſua, daly em diante ſem- | pre ho ſerviſe, e lhe foſe obedien- | te aſi como deve ſeer boom filho, | e leal vaſallo ha ſeu padre, e ha ſeu | Senhor, e que da y em diante nom | acolheſe mais nhuu~s maalfeytores, | antes hos que podeſe aver prende- | ria, e entregaria ha ElRey, e has ſuas | juſtias, e hos que trazia lanaria | fra logo de ſua caza, e de ſeu fa- | vor. | E pera mais firmeza, e moor ſe- | gurana rogou, e encomendou aho | Conde D. Pedro ſeu irmao, e ha | Martim Anes de Souza, e ha Gon- | ale Anes de Briteyros, e Affonſo | Telles, e ha Gonale Anes de Ber- | redo, e ha Lopo Fernandes Pa- | checo, e ha Payo de Meyra, todos | riquos homens de Portugal, e ha | outros nobres ſeus vaſallos, que fi- | zeſem, como fizeram outro taal | juramento, e menagem, como elle | tinha feyto, e ho Ifante tambem pe- | dio aa Rainha por mercee, que pe- | ra mayor, e mais ſeguro penhor | deſta concordia, e porque ElRey | da y em diante mais deſcanaſe ſo- | bre ello, que tambem ella quizeſe | fazer por elle eſte juramento, e me- | nagem ha ElRey, e ella tambem | aſi ho fez, como cada huu~ dos ou- | tros. E outro ſy ElRey pera ſatis- | faam do Ifante, e de todos tam- | bem fez no Altar da Capella de S. | Sima de Leyria, ſolene juramento | de nunqua falecer aho Ifante em al- | guu~a deſtas couzas, que lhe prome- | tera, e outorgara. E foram eſtes ju- | ramentos feytos no mez de Mayo, | no anno de mil trezentos e vinte 1323. | tres, e acabadas eſtas concordias de | que todo Regno pareceo, que rece- | bia muito prazer, e deſcano, El- | Rey, e ha Rainha, e ho Ifante ſe | fora ha Santarem, e da y ha Lix- | boa, onde todos eſtivera atee San- | cta Maria Dagoſto, e da y ho Ifan- | te ſe tornou pera has teerras, que | lhe ElRey dera. | [ title ] CAPITULO XXV. De huu~a carta do Papa Joha | XXII. aho Ifante D. Affonſo | filho DelRey D. Diniz, | ſobre has dezavenas | com ſeu pay. | D Eſtas dezavenas, e roturas, | que avia antre ElRey, e ſeu | filho, ante de aſi ſeerem concor- | dados, ho Papa por qaalquer ma- | neyra que foſe, foy muito inteyra- | mente informado do que lhe mui- | to pezou, porque tinha grande, e | particular afeya ha ElRey D. Di- | niz, que ho avia em todo por Rey | excellente, e por ha Sua Santidade | parecer, que ſeus Sanctos conce- | lhos, e booas amoeſtaoens podia | niſto muito aproveytar, enviou ſua | carta de Bulla aho Ifante D. Affon- | ſo, cujo theor tirado por mi fiel- | mente de Latim em lingoagem hee | ho que ſe ſegue. | JOANNE BISPO | Servo dos ſervos de Deos. | A Ho amado em Chriſto filho D. Affonſo enviamos eſte eſcrito de mais | ſaa concelho, com muita torvaam de noſa alma, muy ameude ou- | vimos como ho imigo ſemeador de odio, e enveja, por eſtorvar ho boom eſta- | do, e paaz do Regno, e ſeu louvado regimento com ſua maaldade te poz em | coraa de te levantares contra teu pay, e como primeyramente ſoou em noſ- | ſas orelhas taal fama de deſobediecia, que por toda ha teerra hee jaa muy | eſpargida, fez ha voos grande nojo, e encheo de muita amargura noſa pa- | ternal afeyam, e pois noos teemos neſta vida taal lugar, e poder porque | aho Rey pacifico no dia do grande Juizo, avemos de dar conta das almas, | aprazate, e nom te agraves ſe ha tua duramente por ſeu beem reprendemos, | e porque ha palavra de Deos nom ſeja atada na noſa boca, e falemos com | eſpirito de liberdade, por eſo nom podemos encobrir tamanho maal como hee | perſeguir aquelle que te criou, e gerou, e eſtragares tam ſeem tento ha teerra | (que atee eſpargeres por ella ho ſangue) devias ſempre defender, quem hee | aquelle que ſeem grande torvaa do eſpirito poſa ouvir, que huu~ Rey tam | nobre ha juizo do quaal hos Rex izentos doutras teerras com grande vontade | ſe ſometem, e obedecem ha ſeu mandado, e concelho, ſeja por ty com injurias | ſeem razam, e ſem ſeus merecimentos tam anojado, e perſeguido, e porem | nom ſabemos quaal couza agora digamos primeyro, ou quaal recontaremos | por derradeyro, nem ſabemos ſe choremos ho beem que perdes, ou ſe nos doa- | mos do maal que fazes, dize em que te errou teu padre, ou de que ho repren- | des, e que te nom fez de graas, e beneficios que deveſe fazer, cremos por ſua | confiana, que nhuu~a couza de erro te fez, mas afirmamos, que avondana | de booa vontade, que te ſempre moſtrou, foy verdadeyra cauza de lhe ſeeres | tam deſobediente, mas agora prouveſe ha Deos, que ainda melhor ſoubeſ- | ſes, e entendeſes com melhor avizo, e eſguardaſes no que te compria de fa- | zer, quem he aquelle que ſeem grande door, e triſteza poſa recontar, que hos | direytos, e obrigaoens do parenteſco antre aquelles, que ſam conjuntos com | tanta afinidade de ſangue, ſejam aſi quebrantados, quem conſentiraa ſeem | amargozo coraam, que ho filho ante do tempo, nom ſoomente queyra abre- | viar hos annos de ſeu padre, mas ainda que com malicioſos cometimen- | tos ſe trabalhe de hos acabar mais cedo, ho quaal tu ſabe, que jaa mais vive | por teu proveyto, que pelo ſeu, porque quaalquer couza de beem que faz, e | ajunta jaa todo he pera ty, e com muitos trabalhos, e deſpezas afirmou e acre- | centou ſeu Regno, porque tu depois de ſua morte podeſes viver nelle, gran- | de, e poderoſo, porque te trigas ante tempo por cobrares aquillo, que ha na- | tureza ainda te nom quer dar? Nom ſabes, que diz Salama, que nom ave- | raa ha benam no fim dos dias, ho que aa erdade ſe atrigar primeyro que de- | ve? Tu juntamente perdes ha alma, e ha fama por averes antes de tempo ho | que depois aas de perder, e ſegues ho contrayro deſto nom curando de tua pro- | pria ſaude. | Has lex, e direytos de todalas naoens mandam, que hos filhos em quaal- | quer eſtado alto, e baxo ſempre obedeam ha ſeus padres, e hos amem. Pois | dize, onde hee aqui ho amor, onde hee ha reverencia do filho aho padre, onde | ha ley de natureza, onde finalmente he ho temor de Deos? Ha elle aprouveſe | ora que ſoubeſes quam alegre, e quam doce couza hee ho filho obedecer, e hon- | rar ha ſeu padre, e quam maa, e deſaventurada hee ha deſobediencia, e deſ- | prezo, que ho filho contra elle moſtra, de maneyra, que como ſe afaſta de obe- | decer, logo nom parece filho. Nom ſabes, que Felipo dos Emperadores ho pri- | meyro Chriſtao, poſto que deſe ho regimento do Imperio ha ſeu filho delle | em ſua vida, lhe nom era menos obediente, que cada huu~ de ſeus Cavalley- | ros, e avia por grande prazer teer vivo ſeu pay, e lhe obedecer? E ho Empe- | rador Decio, quiz em ſua vida Coroar ſeu filho, e elle ho refuzou, dizendo: | Receo tomar Coroa, e ho regimento do Imperio, que me pde eſquecer | cujo filho ſam, pelo quaal mais quero nom ſeer Emperador, que reger, e | ſeer filho deſobedie~te, Reja ho Imperio meu padre, e ho meu ſenho- | rio, de que mais contento ſeja em ſua vida ſempre lhe obedecer. | E muitos que ho contrayro deſto uzaram perſeguindo, e nom obedecendo | ha ſeus padres, huu~s morreram maa morte, outros cayram em taal cativey- | ro de que nunqua ſayram, porm meu filho muito amado rogote, que ames, e | honres ha teu padre, e toma aquillo, que ha igualdade da natureza em ſeu | tempo te ofrecer, e nom queyras aver por fora deſtroydo ho Regno, que teu | aa ſeer, beem ſabemos que ho arroydo da tempeſtade diaboliqua armou ho | filho contra ho pay, e armou huu~ irmao contra outro, alevantou hos ſogeytos | contra ho ſenhor, e porm hos beens, e fazendas em deſtroiam, e hos corpos em | eſtrago, e ho que hee mais amargo, que vos poz has almas em deſeſperaam de | ſua ſaude, teu padre moſtra, e chora has injurias, que por ty lhe ſam fey- | tas, e noos em eſpecial avemos compayxam delle, quanto ha opiniam do poo- | vo, elle hee por ty injuſtamente, e contra raza aggravado, e per ſeguido, que | couza hee, que alguu~s maaldizentes que contigo vivem avorrecidos de Deos, | buſquando palavras prazenteyras, e maliciozas de ſuas lingoas por morde- | duras peonhentas, e concelhos enganozos ſam ouzados de encher tuas orelhas | de vento prazenteyro, e agradavel com que ho amor natural, que ha teu pa- | dre, ha teu irmao devias, hee todo corrompido, quaal he ho entendimento | aſi boom como tudo, que nom entenda quam maa, e quam nojoza couza hee | andares armado contra teu padre, e ajuntares ha ty omiziados, e maalfeyto- | res, com que te rebelas contra elle? Quaal couza hee mais contra ha Ley de | Deos, e da natureza, que ho padre movido pela injuria de ſeu proprio filho, | mover tambem tambem armas contra elle? E que por outra couza nom diziſtiſes do | que fazes, por eſta ho devias fazer. | Sabe, que tu nom combates has Villas, e Fortalezas dos imigos, nem ga- | nhas teerra alhea, mas deſtrues ho Regno, que por direyto te hee devido, ho | quaal parece que nom queres, pois nom obedeces aaquelle, que te gerou. O' obra | merecedora de gram doeſto! O' mantebia muy dina de ſeer chorada! prouveſ- | ſe ha Deos filho meu muito amado, que com lima de melhor razam tu eſquaal- | drinhaſes todas eſtas couzas, mas certame~te ho teu odoor filial jaa perdeo ſeu | boom cheyro, antes hee jaa convertido em fedoranto, ha preſena do padre | injuriado, quem poderaa ſofrer ſeem amargura, que huu~ irmao por ſoo odio | ſeem outra injuria ſe mova contra outro, ha procurarlhe com todas ſuas for- | as ha derradeyra queda de ſua morte, com ſua infamia, e deſonra tam pu- | briquada? Ha quem nom avorreceraa muito, que hos ſogeytos ſejam tam ou- | zados, que cortados hos noos, e rota ha preytezia de ſua leaaldade, ſe traba- | lhem de ſometer, e derribar ha Reaal Alteza de ſeu ſenhor, que ſeguu~do por | fama commuu~, e muy notoria ſomos certifiquados, hos vaſallos fo meſmo | Rey, por teu favor ſe alevantaram contra elle, querendo querer tam deſo- | neſto, que elle nom aja poderio ſobre ſeus Regnos? Pois ſeendo deſto tantas | vezes combatido, que queres que neſto faamos, por ventura calarnos emos, | e nom te daremos ho ſao Concelho, que aas miſter? Certamente nom. | Antes eſguardando todas eſtas couzas com muy afiquado dezejo, como | ha filho muito amado te rogamos, que ames, e honres teu padre, e lhe obedeas, | e por eſo teus dias ſeram longuos ſobre ha terra, e eſto por teu beem te di- | zemos, nom te aggraves, porque todo noſo dezejo, e tenam hee que vivas em | paaz e obediencia com elle, pelo quaal com humildozas preces, rogamos aho | muy alto Deos, que ſobre toda ha teerra ſenhorea, em cuja mao ſao hos po- | derios dos homens, e hos direytos dos Regnos, que elle preſtes, e beninamente | queyra eſguardar ſobre ty, e ſobre hos moradores deſes regnos de guiza, que | de voos aparte toda dezavena, e hos coraoens de todos fire em booa con- | cordia, e humildade, e noos de noſa parte devotamente pediremos aaquelle | Senhor, cuja providencia em ſua ordenana hee certa, e nom enganada, que | em taal maneyra esforce ha Reaal ſeda deſe Regno, que aproveyte aſi, e | ahos ſeus, e hos Reja de taal maneyra, que vam pera ſaude perduravel com | folgana de paaz. | E ſe ho teu Reaal reſplandor aſi moſtrado, nom quizer penſar, e obedecer | ha eſto que te avemos dicto, obedecendo em tudo ha teu padre, noos por ha | que com toda ha afeyam dezejamos paaz neceſaria, e por taal que poſamos | trazer noſo dezejo ha boom efeyto, em ha noſa vontade amoeſtamos filho lo- | go ha ty ſopena de excmunham, e ha todolos outros de quaalquer eſtado que | ſejam aſi peſoas Eccleſiaſticas, como ſeculares, que torvam, ou anoja eſe | Rey, e ſeu Regno como nom devem, ou contra elle em pubriquo, ou em ſecre- | to te dam ajuda, concelho, ou favor, daqui em diante ſe cavidem, e ho nom | faam, porque em outra maneyra ainda, que ſeja com grande door noſa, ſee | certo que paſados oyto dias da pubriquaam deſta noſa carta, noos manda- | mos aho venerado irmao Biſpo Devora, que logo excommungue ha ty, e ha | todos aquelles, que ſe ha chegarem, ainda que ſejam Biſpos, e quaaeſ- | quer outras mayores, e ſuperiores peſoas, que torvem ha paaz de teu padre | contiguo, ſeem embargo de quaaeſquer privilegios que tenham, que deſta noſ- | ſa carta nom fizerem menam, paaz, e aſecego, venha ha ty, e ha eſes Reg- | nos como dezejamos, por maneyra, que hos perigos das almas ſejam eſcuza- | dos, e ha ty crea titulo de honra acerqua dos homens, e abaſtana de mereci- | mentos ante Deos. | Eſta carta, ou Bulla do Papa foy | dada aho Biſpo Devora, que ha fi- | zeſe pubriquar aho Ifante eſtando | ElRey em Lixboa, mas porque ha | eſe tempo ElRey eſtava jaa em al- | guu~a concordia com ſeu filho, nom | foy pubriquada, mas depois em ou- | tras voltas, e deſobediencias, que | ho Ifante cometeu ſe pubriquou | com que ha final paaz antre elles ſe | comprio, como aho diante direy. | [ title ] CAPITULO XXVI. Como ha Rainha Dona Maria | de Caſtella depois da morte del- | Rey D. Fernando ſeu filho, | teve viſtas com ElRey D. | Diniz, ha que trouxe El- | Rey D. Affonſo menino | neto dambos, e do que | concertaram. | E LRey D. Fernando de Caſtel- | la, genro delRey D. Diniz fa- | leceu de morte ſupitanea em Jaem | emprazado de dous ſeus vaſallos, | que ſeguu~do ſe diz mandara injuſ- | tamente matar, como atraaz bre- | veme~te toquey, e por ſua morte fi- | quou ſeu ſuceſor, e erdeyro ho | Ifante D. Affonſo ſeu filho primo- | genito em idade de huu~ anno, e vin- | te e ſeis dias, ho quaal fiquou logo | em poder da Rainha Dona Conſ- | tana ſua madre, filha delRey D. | Diniz, e tambem em poder da Rai- | nha Dona Maria ſua avoo, e por- | que ha dicta Rainha Dona Conſ- | tana da y ha pouquos annos logo | faleceu, ho dicto Rey D. Affonſo | fiquou principaalmente em poder | da dicta Rainha Dona Maria ſua | avoo, e ſobre eſtas titurias deſte | Rey, ouve antre hos Ifantes, e gran- | des Senhores de Caſtella, grandes | competencias, e muitas differen- | as, e diſcordias, de que ſe ſeguio | muito maal, e eſtrago nos Regnos | de Caſtella, e em fim ſe tomou por | concruzam, que com ha dicta Rai- | nha Dona Maria foſem juntamen- | te tutores, como foram, ho Ifante | D. Pedro, filho da dicta Rainha | Dona Maria, e ho Ifante D. Joha, | tio delRey, filho que fora delRey | D. Affonſo Decimo, ho quaal Ifan- | te D. Joha, que em outro tempo | eſteve em Portugal, e ſe chamava | Rey de Liam durando ſua titoria, | e depois da morte da Rainha Dona | Coſtana, Dona Maria confiando | da muita verdade, e grande poder | delRey D. Diniz, e aſi na razam, | que tinha daconcelhar, e ajudar ha | ElRey D. Affonſo ſeu neto, con- | certou em Guinaldo Lugar de Caſ- | tella viſtas c elle, aas quaaes con- | tra vontade dos grandes de Caſtel- | la trouxe ho dicto Rey D. Affonſo | ſeendo muy moo, aly pratiqua- | ram ſobre hos deſvayros de Caſtel- | la, em fim dos quaaes ha Rainha | lhe pedio, que ſe lembraſe delRey | ſeu neto, e de ſeus Regnos, e que | lhos ajudaſe ha conſervar, e defen- | der polas grandes neceſidades, que | deſo tinham. | Aho que ElRey reſpondeo: Que | lhe agradecia muito taal confiana, e | quando ſuas foras, poder, e ſabeer | pera eſo lhe compriſem, que nunqua | com tudo lhe faleceria, como pelas | obras poderia ver . E com eſto con- | cordado ha Rainha, e ElRey D. Di- | niz ſe tornaram pera Portugal, e | ſobre eſto paſado logo da y ha | pouquos dias hos dictos Ifantes D. | Pedro, e D. Joha tutores, e junta- | mente com grande poder entrara | na Veyga de Grada, pera fazerem | guerra ahos Mouros, onde ſeendo | elles perſeguidos ambos dafronta, | e deſmayo, e ſeem ſeer feridos mor- | reram em huu~a ſoo hora, ha ſaber | ho Ifante D. Pedro, e logo ho Ifan- | te D. Joha, como atraaz breve- | mente jaa dice, e na Coronica de | Caſtella mais compridamente ſe | contem da quaal morte dos Ifantes | como ElRey D. Diniz foy ſabedor, | moſtrou receber por eſo ſentimen- | to, porque eram boons Principes, | e com elle muito conjuntos em | ſangue, e logo enviou ſeus Em- | bayxadores ha ElRey, e aa Rainha | de Caſtella, ha notifiquarlhe, que | da morte dos Ifantes, lhe pezava | muito porque eram boons Caval- | leyros, e aviam com elle tam gran- | de divido, e que pois era chegado | ho tempo em que lhe compria ſua | ajuda, e favor, que lhe tinha ofre- | cido, lhes pedia que lhe fizeſem | ſabeer ho que delle lhes compria, e | que foſem certos, que elle em peſ- | ſoa, e com ajuda, e poder de ſeus | Regnos, contra todos hos iria aju- | dar, e ElRey, e ha Rainha lhe reſ- | pondera, que taal lembrana com | taal vontade, e ofrecimento lhe | gradecia ſingularmente, que era | ſinaaes com que ho cazo parecia, | que lhes tinha grande amor, e que | quando lhes compriſe ho envia- | riam requerer. E pera mais favor | das couzas delRey D. Fernando, | ElRey D. Diniz notifiquou aho | Papa ho eſtado perigozo em que | has couzas de Caſtella pela morte | dos Ifantes eſtavam, pedindo ha | Sua Santidade, que ho favoreceſe | certifiquandolhe com eſo ha von- | tade com que eſtava pera em tudo | ho ajuda, e defender, e ho Papa | lhe reſpondeo, dandolhe muitas | graas, e louvores por ſua boonda- | de, e manificencia por querer com | tam boom dezejo encarregarſe da | defenſa, e emparo dos Regnos de | ſeu neto. | [ title ] CAPITULO XXVII. Como ho Ifante D. Affonſo ſe a- | parelhou pera pelejar com ho | Ifante D. Felipe, que contra- | riava ho aſecego de Caſ- | tella, e como ho Ifante | D. Felipe ſe foy. | P Or morte deſtes Ifantes, e tu- | tores, que dice ElRey D. Af- | fonſo, fiquou inda em poder da | Rainha Dona Maria ſua avoo, pelo | quaal D. Joha, que diceram ho | Torto, filho do Ifante D. Joha, | que morreo na Veyga de Grade, e | aſi D. Joha Manuel filho do Ifan- | te D. Manuel, e ho Ifante D. Feli- | pe tio delRey, filho da Rainha Do- | na Maria, todos tres tambem con- | tendera pera ſeer tutores delRey | com ha Rainha, ſobre que outro ſy | ouve grandes diſcordias, debates, | e partioens de que por ſeus deſ- | vayros, ha que ſe nom achava re- | zoado meyo, que elles quizeſem | ſe ſeguiram outros muitos maalles, | e danos ha Caſtella, porque cada | huu~ ſojugava, e mandava auſoluta- | mente ha parte do Regno, que po- | dia antre hos quaaes era ho Ifante | D. Felipe, que ſeem outorga del- | Rey, e do Regno, e por ſua ſoo | vontade, e cobia procurava ſoju- | gar, e mandar ſua parte do Regno, | aſi como fizera aa Cidade de Ba- | dalhouſe, que tinha cerquada, com | que ſua teerra eſtragava de todo. | E eſtando ElRey D. Diniz em | Santarem, ElRey D. Affonſo ſeu | neto lhe enviou pedir q~ por quan- | to elle eſtava em Valhadolid don- | de ainda nom podia ſahir, nem re- | mediar por ſy ho maal, e danos, que | ho Ifante D. Felipe fazia, que lhe | rogava muy aſiquadamente, que ſe | lembraſe da ajuda, e defena que | muytas vezes lhe prometera, e que | em comprimento della mandaſe | dizer aho Ifante D. Felipe, que ce- | aſe, e ſe apartaſe daquella teerra, | e dos malles que nella fazia. E | quando por reſpeyto delRey D. | Diniz ho nom quizeſe fazer, que | entam ho fizeſe por aquella Cida- | de, e por ſeus vizinhos, como em | ſimilhante cazo elle faria por ou- | tros ſeus naturaaes, que taal pade- | ceſem. | Aho quaal ElRey D. Diniz reſ- | pondeo, que muy degrado ho faria | como elle por obra logo veria, pelo | quaal eſcreveo com triguana aho | Ifante D. Affonſo ſeu filho, ha que | quiz dar eſte cargo por moor auto- | ridade, que elle mandaſe, como | mandou dizer aho Ifante D. Felipe, | que por muitas cauzas, que lhe a- | pontou, nom fizeſe dano, nem | maal ahos da Cidade de Badalhou- | ſe, e ſe alevantaſe de ſobre ella, e | que ſe ho fizeſe, que lho grade- | ceria muito, e quando nom quizeſ- | ſe que elle em peſoa lho defende- | ria, e porque ho Ifante D. Felipe | reſpondeo aho Ifante, mais duro q~ | temperado, ElRey D. Diniz, que | deſta repoſta foy avizado ouve del- | la, e do Ifante D. Felipe grande deſ- | prazer, e mdou logo ha todos ſeus | vaſalos, que com ſuas gentes, e ar- | mas ſe foſem pera ho Ifante ſeu fi- | lho, aho quaal ſe ajuntou grde po- | der, c ho quaal moveo pera Bada- | lhouſe, e ho Ifante D. Felipe ſaben- | do de ſua yda, e do poder que leva- | va, alevantouſe forado, e foy pera | Sevilha, e ho Ifante D. Affonſo che- | gou ha Elvas onde vio alguu~as du- | vidas, que antre hos da Villa, e Ba- | dalhouſe ſobre ſeus termos, e to- | madias avia, e depois de hos con- | cordar, ſe tornou pera Santarem | onde era ElRey, e da y ſe foy pera | Coimbra onde tinha ſua molher, e | aſento de ſua caza. | [ title ] CAPITULO XXVIII. Como ho Ifante D. Affonſo re- | quereo ha ElRey D. Diniz | ſeu padre, que fizee Cor- | tes aas quaaes depois | nom quis vir. | A Vendo jaa huu~ anno, e ſete | mezes, que ha concordia an- | tre ElRey, e ho Ifante era feyta por | alguu~as cauzas, e razoens, que ale- | gou da minguoa de Juſtia, e ou- | tros defeytos, que dizia aver no | Regno, lhe pedio, que pera reme- | dio de tudo fizeſe, e quizeſe fazer | Cortes, has quaaes ElRey por nom | aver dellas tanta neceſidade quize- | ra eſcuzar, em fim por ſatisfazer | aho Ifante, e aſi pera notifiquar | ahos fidalgos, e poovos hos aggra- | vos, e nojos, que do Ifante depois | de ſuas avenas recebera, prouve- | lhe fazelas em Lixboa pera onde | chamou ſeus poovos, como em taal | cazo hee coſtume, onde tambem | foy ho Ifante, e ho dia em que ſe | ouve de fazer ha fala pubriqua, e | propoſia coſtumada, ElRey m- | dou dizer aho Ifante, que vieſe aas | Cortes pera nellas eſtar comoha el- | le em taal auto convinha, e ho Ifan- | te ſe eſcuzou fazelo, e de tantas de- | longas, e ſeem razoens uzou aacer- | qua deſo, q~ ElRey ouve por beem | cometelas ſeem elle, e porq~ ElRey | vio que ho Ifante em todo ſe deſ- | viava do que lhe tinha jurado, e | prometido porque ho Conde D. | Pedro ſeu filho, era peſoa de grde | credito aacerqua do Ifante, e tinha | grande caza lhe dice: Que ſe lem- | braſe da menagem, e juramento, que | em Pombal fizera, e que hos nom que- | braſe, nem foſe por alguu~ reſpeyto | contra ſeu ſervio. E eſto lhe dice | por alguu~s alevantamentos, que no | Ifante jaa ſentia. E ho Conde lhe | reſpondeo: Senhor, eu ſey beem ho | que ſobreſo devo fazer, e de my ſe | dee ſeguro, que nunqua vos venha | nojo, nem deſprazer, nem desſervi- | o, porque beem conheo, que nom aa | peſoa neſe mundo ha que tam obri- | gado ſeja como ha voos. E ſobreſta | ſegurana dice, que com ſua licen- | a ſe queria yr ha Santarem com | ho Ifante, e que na jornada ho nom | deſerveria, e que logo ſe tornaria | pera elle, e aſi ho fez. | [ title ] CAPITULO XXIX. Como ho Ifante ſobre huu~a vin- | da, que contra vontade delRey | quizera fazer ha Lixboa, | foram perto de pelejar, | e porque ho leyxa- | ram de fazer. | P Aſadas eſtas couzas, e has | Cortes acabadas eſtando ainda | ElRey D. Diniz em Lixboa foy cer- | tifiquado, que ho Ifante ſeu filho | de Santarem onde eſtava queria y | vir, e porque ſoube que nom vinha | com ſam propozito lhe mandou | rogar, e encomendar por ſua ben- | am, e ſobpena de maldiam de | Deos, e da ſua, que por aquella vez | eſcuzaſe ſua yda, e ho nom quizeſ- | ſe neſo anojar, pois ſabia que taal | yda ha elle nom relevava, e podia | cauzar muito maal, e ho Ifante lhe | enviou dizer, que nom ſabia raza | porque lhe pezaſe ſendo ſeu filho, | q~ vieſe ha Lixboa, onde elle eſtava | pera ho ver, e ſervir, e que por eſo | nom avia de leyxar dyr. E deſta de- | terminaam que ho Ifante tomou, | pezou muito ha ElRey, e foy por | eſo contra elle acezo em grande | ſanha, e ſabeendo que ho Ifante to- | da via proſeguia ſeu caminho, e | q~ era jaa no Lumiar, ſayo contra | elle com ſuas gentes armadas, e em | ſaindo lhe mandou dizer, que logo | ſe tornaſe por beem, e quando nom | que ho faria tornar por maal, e com | ſeu pezar. E ho Ifante ho nom quiz | fazer, antes abalou, e ſe poz junto | com ElRey procurando todavia | contra ſua vontade entrar em Lix- | boa, e hos delRey concertandoſe | por ſeu mandado pera lhe defender | ha entrada, foram de huu~a parte, e | da outra poſtas, e ordenadas ſuas | azes pera batalha, e nellas alevan- | tadas huu~as meſmas bandeyras das | Quinas contrayras, e pera eſo jaa | toqua trombetas, e anafins, que | traziam em ſe comeando alguu~a | rotura antre hos homens bayxos, | alguu~s dambalas partes ſe diz, que | morreram de pedras, e dardos, que | ſe arremeſava. | E com eſta triſte nova, que aa | Rainha chegou, ella por eſcuzar | com ſua ſancta peſoa outra mayor | rotura antre ho pay, e ho filho, com | grande pezar cavalgou em huu~a | mula, e paſando por meyo das azes | ſeem alguu~a peſoa yr diante, nem | ha levar pela redea, nem tam pou- | quo eſperar pela companhia, que | ha ella por ſua Reaal peſoa ſe de- | via, e ſeem medo dos muitos peri- | gos ha que ſe oferecia, chegou logo | aho Ifante ſeu filho, ha que eſtra- | nhou ho cazo muito de taal vinda | pois era contra vontade delRey ſeu | padre, acuzando-o pela quebra da | menagem que dera, e dos grandes | juramentos q~ em Pombal ha Deos | fizera, rogandolhe que ſe tornaſe, | e nom anojaſe ha ElRey em tantas | couzas, e aho menos ho fizeſe por | ſeu amor della que por elle, e por | ſeu rogo tinha feytos hos juramen- | tos, e prometimentos, que ſabia, | hos quaaes porpoſta ha conciencia, | e honeſtidade hos via por elle de | todo quebrados, e ſobreſto tornou | logo ha ElRey cuja ira poz em taal | temperana com que outra vez tra- | tou avena antre elles. | Donde ſe diz, que ho Ifante jaa | ſobre concordia com ſoo ſeis de ca- | vallo veo falar ha ElRey, e pedir- | lhe perdam, dizendo, que lhe obe- | deceria em todo, como ha ElRey | ſeu padre, e ſeu Senhor, e q~ ElRey | lhe reſpondera, que ha elle nom | agradecia ſua taal obediencia, mas | aaquelles ſeus boons, e naturaaes | vaſallos que com elle eſtavam, di- | zendolhe que ſe partiſe ſe quizeſ- | ſe, e ſeria beem aconcelhado fazel- | lo, e que onde quer que foſe ſe mais | lhe dezobedeceſe laa ho iria tomar | pela garganta. E com eſto ho man- | dou ur ha Santarem, e ElRey ſe | tornou ha Lixboa. | [ title ] CAPITULO XXX. Como has gentes delRey, e do | Ifante pelejaram ſobreſo em | Santarem, e do que | ſe fez. | P Aſados alguu~s dias depois deſ- | te alvoroo, ElRey ſe foy de | Lixboa pera Santarem, e entrando | no termo da Villa foy avizado no | caminho, que hos moradores della | por mandado do Ifante que y era, | eſtavam pera ho nom acolher na | Villa, mas ElRey com quanto avia | entam grandes chuvas nom leyxou | por eſo de continuar ſeu caminho, | e foy pouzar ha hu~as cazas, que fo- | ram de Rodrigo Affonſo Redon- | do, e hos ſeus ſe agazalharam em | muy eſtreyto lugar que hos do | Ifante lhe leyxaram, e ſobre co- | mer por razoens, que hos do Ifante | ouveram com hos delRey, ſe ale- | vantou huu~ grande, e perigoſo aroi- | do ha que ElRey, e ho Ifante aco- | diram em peſoas cada huu~ ha ſeu | bando apartado, e porm depois de | alguu~s mortos, eferidos dambalas | partes foy procurada, e poſta tre- | goa ſobre ha tarde antre ElRey, e | ho Ifante, e hos ſeus, e porque hos | Cavalleyros, e nobres homens que | ſe achara neſtas roturas, e pelejas, | vendo ho grde dano, q~ delles ſeem | cauza ſe ſeguia, pediram ha ElRey | por mercee, que por muitas cauzas, | e razes muy urgentes, que lhe ale- | garam lhes deſe licena pera en- | tenderem finalmente em ſua con- | cordia com ho Ifante. | Aho que ElRey reſpondeo muy | aſpero: nom querendo que ſobre | tantas paazes, e tantas concordias | firmadas, e menagens ta ſeem cau- | za quebradas ſe fizeſem mais ou- | tras com tanta quebra, e deſprezo, | mas que queria caſtigar ho Ifante | como merecia, e como faria ha huu~ | ſeu imigo mortaal. E porm tanto | aprofiaram aquelles Senhores com | ElRey, e aſi teraram Affonſo | Sanches, e ho Conde D. Pedro ſeus | filhos, que ElRey aprouve eſtar ha | todo boom remedio, e aſeceguo que | antre elles ſe deſe, polo quaal ſe | diz, que hos Cavalleyros, e Eſcu- | deyros que ElRey conſigo aly ti- | nha, eram por todos quorenta, e | hos do Ifante trezentos e vinte, e | huns deſtes ſe ajuntara aho Moeſ- | teyro de S. Domingos das Donas, e | hos outros em Sancta Maria de | Marvilla, e eſtes eſcolheram vinte | e coatro peſoas, homens de beem, | e de conciencia, e de booa inclina- | am, ha ſaber, doze por parte del- | Rey, e doze por parte do Ifante, | que logo foram nomeados, hos | quaaes determinaſem, e compu- | zeſem todolos debates, e conten- | das, que entam avia antre ElRey, | e ho Ifante, e que ſua determina- | am, e compoſia foſe inteyra- | mente guardade, e comprida, e foſ- | ſe por maneyra feyta, que della | nom ſe ſeguiſem mais deſvayros, | ſeguu~do ſe logo apontaram, e no- | mearam outras peſoas, que tudo | dentro de ſeſenta dias tornaſem | logo ha concordar em toda ſua | proſperidade, e quaalquer dos del- | Rey, e do Ifante que contrayro foſ- | ſe, que pelo meſmo feyto cayſe em | cazo de treyam, e nom ſe de livrar | ſe nom poendo ſeu corpo ha quatro | Cavalleyros, que lho quizeſe | combater, e nom ho fazendo, que | ficaſe encartado, e quaalquer do | povo ho podeſe matar ſeem pena. | E aly pedio ho Ifante ha ElRey, | por grande mercee, que tiraſe ha | Affonſo Sanches ſeu filho, ha teer- | ra, e has quantias dos maravedis, | que delle tinha, e aſi ho officio de | ſeu Mordomo, e ha Mem Rodri- | gues de Vaſconcellos ho Meyri- | nhado moor. Ha que ElRey reſ- | pondeo: Que lhe parecia couza mui- | to contra raza, e ſeem juſtia dar ha | eſtes pena ſee~ culpa, e fazerlhes maal | tendolhe beem mercee merecida, e que | fazendolho nom ſabia, que conta da- | ria deſo ha Deos, e aho mundo, aho | que por ſua Reaal dinidade era obri- | guado, e porm por comprir, e aſe- | gurar ha vontade do Ifante ſeu fi- | lho prouvelhe outorgar todo o que | quiz, e lhe pedio. | E deſta vez ſe partio Affonſo | Sanches pera Albuquerque cujo | era, e fiquou vaſallo delRey de | Caſtella. E aſi foram de huu~a par- | te, e da outra perdoados neſta con- | cordia todos aquelles que ſerviram, | e ſeguiram quaalquer partido, e aſi | que ſe fizeſe entrega das couzas, | que nas pelejas foram tomadas. E | concordaram mais, que ſe ho Ifan- | te D. Pedro filho do dicto Ifante | D. Affonſo, que jaa era nacido vieſ- | ſe em taal idade, que ſaindo do | mandado de ſeu padre, quizeſe vir | contra ElRey D. Diniz ſeu avoo, | que ho Ifante ſeu padre ſempre foſ- | ſe contra elle com ElRey ſeu padre, | e ſeem elle. E aſi concordaram, que | foſe dado mais certa contia de di- | nheyro aho dicto Ifante D. Affon- | ſo, e que nunqua mais lhe podeſe | pedir, nem ElRey dar, e que pera | ſegurana de todo ſe pozeſem de | cada parte dous Caſtellos, dos | quaaes ho ifante polla ſua poz ho | Caſtello de Gaya, e ho Caſtello da | Feyra, e ElRey ho Caſtello de Ce- | lorico da Beyra, e ho de Faria. | E foram aſinados quatro Juizes | logo nomeados pera determinaa, | ſeem revogaa de todalas duvidas | e debates que antre ElRey, e ho | Ifante ouveſe, hos quaaes nom po- | deſem eſtar, nem eſtiveſem nos | Lugares onde taaes Jizes ſe ou- | veſem de fazer, e que ha parte de- | ſobediente, e danifiquada hos Caſ- | tellos da outra revel foſem logo | entregues, e que ha parte deſobe- | diente pagaſe mais duzentas livras | de pena has quaaes repartiſem hos | Juizes, e Fidalgos do Regno antre | ſy, e q~ hos Fidalgos, e nobres do | Regno ſobpena de treya hos fi- | zeſe~ pagar inteyramente ha quaal- | quer, que eſta concordia quebran- | taſe, e com ha dicta pena logo el- | les ſe vieſem ha ElRey, | ou aho Ifante quaalquer deſtes, que | aas determinaoens dos Juizes foſ- | ſe obediente, e eſtas concordias, e | convenas foram feytas em Santa- | rem ha vinte e ſinquo de Feverey- | 1324 ro do anno de mil trezentos e vinte | e quatro, huu~ anno antes da morte | delRey, que ſe tornou ha Lixboa, | e ho Ifante ha Coimbra. | [ title ] CAPITULO XXXI. Da morte delRey D. Diniz | D Epois deſtas concordias aca- | badas, ElRey D. Diniz ſe foy | ha Lixboa como dice, e da y ha | huu~ anno ſe partio da dicta Cidade, | e ſe tornou pera Santarem, e indo | aacerqua do Lugar, que ſe diz Vil- | la nova adoeceo de infirmidade, | que conſigo traaz todalas dores, e | accidentes mortaaes de que ſe ſen- | tio mais maal tratado, e ho Ifante | ſeu filho, que era em Leyria aviza- | do deſo por ha Rainha Dona Iſa- | bel ſua my, que era com ElRey | ho veo logo vizitar, e concordara | de ho levarem ha Santarem em an- | das, e em colos de homens, e ha y | jouve doente por alguu~ te~po ſeem | alguu~ melhoramento, na quaal ha | Rainha ſempre foy prezente, e nas | couzas de ſua cura, e remedios era | mais deligente, e humildoza que | quaalquer lutra ſimpres molher, | que em ſemilhantes neceſidades | nom teem quem has eſcuze, e ven- | do ella que has afiquadas dores, e | payxoens da doena delRey eram | continuas, e pareciam mortaaes, | duvidando da vida delRey eſtando | em ſua Camara, e prezente alguu~s, | que y eram, dice ha todos neſta | maneyra. | Porque eu tenho grande eſperan- | a em Jeſu Chriſto meu Senhor, e | nom menos confiana na Glorioza | Virgem ſua Madre, e aſi ſingular | devaam na Ordem, e Abito de | Sancta Clara, aſi como ſempre ha | tiveram aquelles de que deſcendo, | ſempre puz em minha vontade, que | falecendo primeyro ElRey meu Se- | nhor, e marido, eu acabar ha vida no | dicto Abito, e por eſo ho tenho feyto, e | aa muitos dias q~ comigo ho trago, e em | minha arqua, por taal q~ ſe por ven- | tura aconteceſe delRey meu Senhor, | primeyro que eu falecer, ho que Deos | nom queyra, eu veſtiſe logo ho dicto | Abito por lembrana de minha triſte- | za, e por final de tamanha mudana | deſtado, que eu mais nom devo teer, | nem por fazer no dicto Abito profiſ- | ſam, nem obedecer ha alguu~a Ordem | que nom hee minha tenam fazello. | Eſpecialmente porque eu por minha | idade, e grandes infirmidades nom | poderia ſoportar hos grandes encar- | gos, e trabalhos da Religiam, mas | poſto que eu eſte Abito viſta, e traga, | por eſo nom leyxarey minha Caza, | nem has Donas, e Donzelas, que co- | migo vivem, mas prazendo ha Deos, | eſpero trazer eſtas, e tomar outras | como filhas, e irmas, e cazallas, e | aviallas com ho que eu poder de meus | beens, e fazenda, porque como dice, | eu proponho nom fazer profiſa neſ- | ta Ordem, nem em outra alguu~a, | nem tenho em alguu~a feyto voto pu- | briquo ſolene, nem ſecreto, e eſto di- | go porque em cazo, que no meu corpo | viſta ho dicto Abito, que minha al- | ma fique livre pera de minha fazen- | da ſeem alguu~ outra cargo, nem obri- | gaam de Rellgiam poder deſpoer li- | vremente todo ho que por beem tiver, | e aſi ho tenho dito, e decrarado mui- | tas vezes aho Ifante D. Affonſo | meu filho, e ha Frey Joha meu Con- | feſor. | E com eſto ſendo ha doena del- | Rey cada vez mais perigoza, e mor- | taal, teendo muy craro conheci- | mento, que hos dias de ſua vida ſe | acabavam, elle como Princepe vir- | tuozo, prudente, e muy catolico, | proveo ſeu teſtamento, que tinha | feyto c grande devaam, e muito | temor de Deos, e ho confirmou, no | quaal mandou, que ho ſeu corpo ſe | enterraſe no ſeu Moeſteyro de S. | Diniz Dodivellas da Ordem de | Ciſtel, ou de S. Bernardo, que elle | de novo fundou, e dotou, no quaal | entam avia oytenta Freyras de Co- | gula com voto de enarramento, | que nom teem has dos outros Mo- | eſteyros deſta Ordem, e em que jaa | tinha feyta ſua ſepultura, e de ſua | fazenda, apartou no dicto teſtame~- | to pera ſoos deſcargos de ſua alma, | trezentas e ſinquoenta livras, que | taxadas pelo preo dagora ha ra- | zam da valia da prata, e ouro, que | dquelle tempo tinham ho valor, e | preo, que agora teem hos duca- | dos, e cruzados douro, como mui- | tas vezes jaa dice, e eſta ſoma man- | dou q~ logo ſe tiraſe da torre do te- | zouro de Lixboa, que agora hee do | Tombo em que tinha grandes te- | zouros, e ſe entregaſem ha ſeus teſ- | tamenteyros, de que ho principaal | foy ha Rainha Dona Iſabel ſua mo- | lher, e ha eſtes mandou, que tiveſ- | ſem eſte dinheyro de ſua mao no | tezouro da See da dicta Cidade, | de que cada huu~ tiveſe ſua chave | pera nom aver embargo, nem eſ- | torvo quando delle quizeſem deſ- | pender, e comprir hos legados, e | couzas, que ordenava, e leyxou ha | ſua Capella toda aho dicto Moeſ- | teyro Dodivellas. | E toda outra ſua fazenda, e bay- | xellas douro, e prata, e joyas, e cola- | res, pedrarias, e panos aho Ifante | D. Affonſo ſeu filho erdeyro, e deſ- | tes cento e corenta mil cruzados | ordenou muitas, e grandes eſmolas | repartidas por todolos Moeſteyros, | e Eſpitaaes, e Cazas piedozas do | Regno, e aſi certa ſoma pera caza- | mentos de moas orfas, e pera | criaam de meninos engeytados, e | tambem dellas ordenou, que huu~ | Cavalleyro de booa vida, e vergo- | nhoſa eſtiveſe em Jeruſalem, e ſer- | viſe por elle na guerra contra hos | infieis dous annos, e pera eſto or- | denou tres mil livras, que era mil | e duzentos cruzados, e quando ſe | nom achaſe Cavalleyro, ou | nom ouveſe deſposiam pera yr ha | Ultra-maar, que eſte dinheyro ſe | converteſe em veſtir pobres, e en- | vergonhados, e outro ſy ordenou, | que outro boom homem de booa | vida foſe eſtar em Roma duas | quarentenas, e que por elle andaſe | todalas Eſtaoens em que ganham | has Indulgencias plenarias, e ha eſ- | te ordenou mil livras, e depois deſ- | to confeando ſeus peccados com | grande contria, e arrependimen- | to delles, recebendo ho Corpo de | N. Senhor, e todolos outros Sacra- | mentos como Rey muy Catolico, | e fiel Chriſtao acabou ha vida d- | do ſua alma ha Deos em Santarem, | ha ſete dias de Janeyro do anno de | mil trezentos e vinte ſinquo, em | idade de ſeſenta, e quatro annos, | dos quaaes Regnou quorenta e ſeis. | E ha Rainha que era prezente ſe | apartou logo em huu~a Camara, e | das maos de huu~as Freyras ſecu- | lares, que conſigo trazia recebeo | logo, e veſtio ho Abito de Sancta | Clara, que trazia feyto, como jaa | dice, e ſendo nelle veſtida ante de | ſe fazer do corpo delRey alguu~a | mudana, ella prezente muitas que | ha ouviam, dice eſtas palavras: Pois | Deos por ſeus grande poder, e porfun- | do Juizo ouve por beem, que ha mor- | te delRey meu Senhor, e marido ante | paſaſe ha minha, e ſeem ſua vida | eu fiquo, e ſam tanto como morta, e | de razam eu jaa morri com elle, e por | eſo eu quis logo mudar hos veſtidos, | e trajos que vedes, que ſameſtes Abi- | to pardo cingido com eſta corda, e eſ- | te veeo branquo, que ponho ſobre mi- | nha cabea porque ha vida, que ſeem | elle viver ſeja com doo, e triſteza pe- | ra ſempre,e eſto nom fao por ſeer | Freyra, nem teer feyto alguu~ voto, e | obrigaam de Religiam como teenho | dicto, mas por minha humildade, por- | que nelle ſirva ha Deos, nas couzas | em que ha ſua graa me ajudar. | E com eſto acabado ho corpo | delRey fiquou concertado, como | devia, e com muitas tochas acezas, | e acompanhado da meſma Rainha, | e do Ifante D. Affanſo ſeu filho, e | do Conde D. Pedro, e D. Joha | Affonſo, e doutros Prelados, e ri- | quos, e nobres homens do Regno, | que aly eram juntos, e aſi de mui- | tos Clerigos, e Religiozos que com | elle ya rezando, e encomendan- | do ſua alma ha Deos, foy levado | aho dicto ſeu Moeſteyro de S. Di- | niz Dodivellas, onde nom ſeem | grandes prantos, e lamentaoens | foy metido em ſua ordenada ſepul- | tura, e depois de ſeu enterramento, | fiquou y ha Rainha por alguu~ tem- | po comprindo ſeus legados, e fa- | zendo outras muitas eſmolas, deva- | oens, e oraes, por beneficio, e | deſcargo de ſua alma. E da vida que | depois eſta Rainha, e como aca- | bou, e quantos milagres fez Deos | por ſeus rogos, e merecime~tos, e on- | de jaas, direy na Coronica delRey | D. Affonſo ſeu filho, em cujo tem- | po, e Regnando ella depois faleceo, | que foy onze annos depois da mor- | te delRey D. Diniz, como ſe diraa. | [ title ] CAPITULO XXXII. Das obras, e couzas notaveis, | que ElRey D. Diniz ſe fez | em ſua vida. | H As obras, e feyoens, e cou- | zas notaveis que eſtes muy ex- | cellente Rey D. Diniz fez em toda | ſua vida aalem das que neſta Coro- | nica tenho eſcritas, em cazo que | por deſvayrados tempos has fizeſe, | e mandaſe fazer, porque da certi- | dam dos annos, e tempos em que | ſemelhantes obras ſe fizeram, eſta | Eſtoria que delle eſcrevo, nem hos | que ha lerem nom teem alguu~a fi- | nal neceſidade, e aſi juntas ſe com- | prendem, e entendem melhor, por | tanto has reſervey pera eſte derra- | deyro capitolo, e has mais princi- | paaes ſa eſtas, primeyramente elle | fez muitas Lex, e Ordenaoens em | ſeu tempo, e deu boons foraaes ha | muitos Lugares de ſeus Regnos, | fez ho Eſtudo de Coimbra, que foy | ho primeyro de Portugal, e fez ho | primeyro Meſtre de San-Tiaguo | izento de Caſtella, e ordenou pri- | meyramente ha Ordem de Chriſ- | to, e fez nella ho primeyro Meſtre, | como jaa dice. Eſte Rey em ſeu | tempo fez quazi de novo todalas | Villas, e Caſtellos de riba Dodia- | ana, ha ſaber: Serpa, Moura, Oli- | vena, Campo mayor, Ouguella, | cujos alcaceres, e Caſtellos fez de | fundamento com muitas deſpezas, | e aſi fez na dicta Comarqua dan- | tre Tejo, e Odiana hos Caſtellos | de Monforte, e Darronches, Por- | talegre, e Marvam, Alefrete, Caſ- | tello Davide, Borba, Villa Vioza, | Arrayolos, Evora monte, Veyros, | e hos Alandroal, Monaraas, e Nou- | dar, e acreſcentou ho Caſtello de | Jurumenha, e fez ho Redondo, e | ho Aſumar, e fez ha Torre, e Al- | cacer de Beja, e na Comarqua da | Beyra, e riba de Coa, fez de novo | eſtes Caſtellos, ha ſaber, Avoo, que | agora hee do Biſpo de Coimbra, | ho Sabugal, Alfayates, Caſtel Ro- | driguo, Villar mayor, Caſtel boom | Almeyda, Caſtel melhor, Caſtel | mendo, Sam Felizes dos Galegos, | que tem agora Caſtella, e nom fez | ho Caſtello de Monforte de riba | de Coa, que tambeem lhe foy dado | por eſtar em maa deſpoziam da | teerra, e ſua fora pera defena do | Regno, nom ſeer muito neceſaria, | fez mais Pinhel, e ſeu Caſtello, e | nas Comarquas dantre Douro, e | Minho, e Tralos montes fez eſtas | Villas, e Fortalezas, ha ſaber, cer- | quou Guimaraes da cerqua, que | agora teem, e Braga, e Miranda de | Douro, e ſeu Caſtello, e Monam, | e Craſto Laboreyro, e povoou de | novo, e fez hos Caſtellos de Vi- | nhaes, e vila frol, Alfandega, Mi- | randella, Freyxo Deſpada Cinta, | Villa nova de Cerveyra, e fez de | novo, e do primeyro fundamento | Villa Real, que fazem numero de | corenta, e coatro Villas, Caſtellos, | e Fortalezas do Regno, de que al- | guu~as fez novamente, e outras re- | formou, e fez de novo hos Caſtel- | los, e aſi fez outras muitas povoa- | oens, aſi como Muja, Salvateerra, | Atalaya, Ceyceyra, Montargil, e | outras ſemilhantes, e fez ha rua no- | va de Lixboa, e aſi ho Moeſteyro | de Sam Diniz Dodivellas em que | jaas, ho quaal logo ha pouquos an- | nos, que Regnou mandou come- | ar, e em ſua vida ſe acabou em ds | annos, e foy logo dado aas molhe- | res Monjas, pera que foy ordenado, | porque ho Moeſteyro de Sancta | Clara de Coimbra fez, e dotou ha | Rainha Dona Iſabel ſua molher, e | nelle jaas, como aho diante direy. | DEO GRATIAS [ title ] INDEX DAS COUZAS NOTAVEIS O numero denota a pagina. | [ A ] | ElRey D. Affonſo III. D E Por- | tugal, | em que dia, e anno faleceo.p.1. | Fez doaa das Villas de Porta- | legre, e Marva, e dos Caſtellos | da Vide, e Arronches a ſeu filho | o Ifante D. Affonſo. pag. 16. | D. Affonſo , Chamado o Caſto fi- | lho de D. Pedro Undecimo Rey | de Araga, na cazou mas mor- | reo Religiozo Franciſcano. p.7. | D. Affonſo , Rey de Caſtella, Avo | delRey D. Diniz de Portugal, | fez doaa a ſua filha a Rainha | Dona Breatriz, my do dito Rey | D. Diniz, das Villas de Niebla, | Serpa, Moura, e Moura. pag.13 | Principe D. Affonſo. Filho herdei- | ro delRey D. Diniz em que an- | no, e lugar naceo. pag.14. Ten- | do ſete annos, lhe nomeou ſeu | pay officiaes para a ſua caza. pag. | 35. Em que parte ſe recebeo c a | Ifante Dona Beatriz. pag.35. | Diſcordias, que teve injuſtas c | ſeu pay. pag. 61. e 62. Parte pa- | ra Caſtella contra vontade de | ſeu pay. pag. 63. Intenta matar | a ſeu irma Affonſo Sanches, e | quanto machinou para eſte fim. | pag. 64. Continua em machinar | novas falſidades contra ſeu ir- | ma. pag. 70. He avizado pelo | Papa Joa XXII. a que deziſta | do odio contra ſeu irma, e na | ceſa de o perſeguir. pag. 73. In- | tenta batalhar com ſeu pay, mas | deziſte deſte intento. pag. 74. | Toma os Caſtellos de Coimbra, | Montemor, e Feira, e a Cidade | do Porto. pag. 77. Faz levantar | o ſitio que tinha poſto a Badajos | o Ifante D. Felippe. pag. 86. | Ifante D. Affonſo , Filho delRey | D. Affonſo III. de Portugal, ca- | zou c Dona Violante, filha do | Ifante D. Manoel, filho del- | Rey D. Fernando II. de Caſtel- | la, e da Ifante Dona Coſtan- | a. pag. 16. Que filhos teve deſ- | te matrimonio. pag. 16. Deulhe | ſeu pay as Villas de Portalegre, | e Marva, e os Caſtellos da Vi- | de, e Arrouches. ibi. Differeren- | as que teve com ſeu irma El- | Rey D. Diniz. ibi. Fez guerra a | ſeu irma, e mata a D. Lopo | Conde, e ſenhor de Biſcaya, e a | D. Diogo Lopes de Campos. | pag. 17. Cede das contendas, | que tinha com ſeu irma por in- | tervena de ſua cunhada Santa | Iſabel, pag. 18. Em que anno fal- | leceo, e onde eſt enterrado. ibi. | Infante D. Affonſo , Filho do In- | fante D. Affonſo, e Dona Conſ- | tana filha de D. Jaymes pri- | meiro Rey de Araga, e neto | delRey D. Affonſo III. de Por- | tugal, foy ſenhor de Leiria, e fa- | leceo ſem filhos. pag. 16. | Affonſo Pires de Guſma , Acom- | panhado de muitos Capitaens | entra em Portugal onde obra al- | gu~as hoſtilidades, e priziona no- | vecentos homens. pag. 26. | D. Affonſo Sanches , Chamado de | Albuquerque, foy filho natural | delRey D. Diniz. pag. 14. Seu | filho D. Joa Affonſo de Albu- | querque cazou c Dona Iſabel, | filha de D. Tello, e Dona Maria | neta delRey D. Affonſo III. de | Portugal. pag. 16. He notavel- | mente aborrecido por ſeu irma | o Principe D. Affonſo. pag. 64. e | 70. | Arrouches , O ſeu Caſtello, foy doa- | do por ElRey D. Affonſo III. de | Portugal a ſeu filho o Infante D. | Affonſo. pag. 16. He cercado | por ElRey D. Diniz. pag. 18. | [ B ] | Dona Beatriz M y delRey D. | Diniz, foy ſe- | nhora das Villas de Niebla, Ser- | pa, Moura, e Moura por doa- | a que dellas lhe fez ſeu pay D. | Affonſo Rey de Caſtella. pag. 13 | Benedicto XI. Manda Nuncio para | pacificar a ElRey D. Fernando | de Caſtella com ElRey D. Jay- | me de Araga, e o Infante D. | Affonſo de Lacerda. pag. 38. In- | ſinua a ElRey D. Diniz, que ſeja | medianeiro neſtas pazes. pag. 37. | Dona Branca , Filha de Pedre An- | nes de Portel, cazou com D. Pe- | dro filho natural delRey D. Di- | niz. pap. 14. | [ C ] | Carlos , I Rma de S. Luis Rey de | Frana, recebe a inveſti- | dura dos Reynos de Secilia, e | Napoles do Papa Urbano IV. e | vence na batalha de Benavente | a Manfreu Rey de ambas as Si- | cilias, na qual morreo. pag. 6. | Cerca a Cidade de Meſina, e le- | vanta o ſitio. pag. 7. Queixa-ſe | ao Papa Martinho IV. da vio- | lencia com que o queria deſpo- | jar de Secilia ElRey D. Pedro de | Araga. ibi. Dezafia a eſte Rey | para Bordeos. pag. 8. Morre em | Meſina. ibi. | Celeſtino V. Confirma o privilegio | concedido por ſeu Anteceſor | Niculao IV. de que ſe elegeſe | Meſtre da Ordem de San-Tia- | go em Portugal independente | do de Caſtella. pag. 48 | Clemente V. Como foy eleito, e das | promeſas, que fez a ElRey Fe- | lippe de Frana chamado o Fer- | mozo. pag. 52. | Rainha Dona Coſtana , Filha de | Manfreu Rey de ambas Secilias, | mulher delRey D. Pedro de A- | raga, e my da Infante Dona | Iſabel, que cazou com ElRey | D. Diniz de Portugal. pag. 3 | Dona Conſtana , Filha de D. Jay- | mes Decimo Rey de Araga, e | a Rainha Dona Violante, cazou | c o Infante de Caſtella D. Ma- | noel, Avo da Infante Dona | Conſtana mulher, que foy del- | Rey D. Pedro I. de Portugal. | pag. 5. | Dona Conſtana , Filha delRey D. | Diniz de Portugal, e a Rainha | Santa Iſabel, cazou com D Fer- | nando III. de Caſtella. pag. 14. | Dona Conſtana , Filha dos Infan- | tes D. Affonſo, e Dona Violan- | te, foy cazada com Nuno Gon- | ſalves de Lara de quem na teve | geraa. pag. 16. | [ D ] | ElRey D. Diniz E M que tempo | foy aclamado | Rey, e que idade tinha. pag. 1. | Virtudes, aces heroicas, que | praticou. pag. 1 e 2. Hoſpedou | magnificamente no ſeu Reyno a | peſoas muito grandes de Caſ- | tella. pag. 2. Prendeo a Joa | Nunes de Lara, ſenhor de Biſ- | caya, e o ſoltou fazendolhe gr- | des merces. pag. 3. Caza com a | Infte Dona Iſabel, filha delRey | D. Pedro IV. de Araga, e que | idade tinha quando ſe recebeo. | pag. 4. Celebraſe eſtes deſpo- | zorios em Trancozo. pag. 10. Fi- | lhos legitimos, e naturaes que | teve. pag. 14. Diferenas, que | teve c ſeu irma o Ifante D. | Affonſo. pag. 16. Aviſta-ſe com | ElRey D. Sancho de Caſtella, e | ajuſta com elle os cazamentos | de ſeus filhos D. Affonſo, e Do- | na Conſtana. pag. 17. Ordena | a ſeu irma D. Affonſo, que ſe | na faa hoſtilidade algu~a con- | tra D. Sancho de Caſtella, e lhe | na obedece. ibi. Manda cercar | Arronches, Moura, e Portale- | gre, onde eſtava ſeu irma. pag. | 18. Por intervena de ſua Eſ- | poza Santa Iſabel ſe pacifica c | ſeu irma, e eſte lhe entrega as | Villas, e Caſtellos, que tinha em | ſeu poder. ibi. Manda Embay- | xadores a ElRey de Caſtella D. | Sancho porque lhe largue os | Lugares, que lhe tem uzurpado. | pag. 20. Por morte de D. Sancho | manda novos Embayxadores a | ſeu filho D. Fernando, e do que | lhe diſera os Embayxadores, e | de como ſe concertara eſtes | Princepes. pag. 23. Prepara-ſe | com exercito para vingar a in- | cſtancia das promeſas delRey | de Caſtella. pag. 24. Recebe por | ſeu vaſallo a D. Sancho de Le- | deſma, filho dos Infantes D. Pe- | dro, e Dona Margarida, e lhe | aſima copioza renda. ibi. Entra | por Caſtella com exercito, onde | faz muitas hoſtilidades. pag. 25. | Toma o Caſtello de Medina. ibi. | He ſolicitado por ElRey de Caſ- | tella a q' celebre c elle pazes, e | aſim o executa. pag. 28. Aviſta- | ſe em Alcanizes com ElRey de | Caſtella para ajuſtar as pazes, e | os cazamentos mutuos de ſeus | filhos, e de q~ modo ſe celebrou | eſte acto. pag. 28. e 29. Parte de | Alcanizes donde traz em ſua | companhia a Dona Beatriz, fi- | lha delRey D. Fernando de Caſ- | tella, para molher de ſeu filho D. | Affonſo. pag. 35. Das peſoas q~ | nomeou para officiaes da Caza | que fez ao Princepe ſeu filho. | pag. 35. Eſcrevelhe o Papa Be- | nedicto XI. para que ſeja media- | neiro entre as diſcordias delRey | de Caſtella, e o de Araga. pag. | 39. Parte a Caſtella acompa- | nhado da Rainha Santa Iſabel, | e muitos Cavalheiros a compor | as diſcordias, que havia entre os | Reys de Caſtella, e Araga. pag. | 40. Paſa a Granada com Santa | Iſabel, onde he recebido magni- | ficame~te por ElRey D. Jaymes, | e a Rainha Dona Maria. pag. 41. | He arbitro em Tarraona entre | as contendas que havia entre D. | Fernando de Caſtella, e D. Jay- | mes de Araga ſobre o Reyno | de Murcia, e como os compoz. | ibi. Voltando de Tarraona he | recebido por ElRey de Caſtella, | e a Rainha Dona Maria, onde | deu precioſas joyas a D Affonſo | de Lacerda. pag. 43. Firma pa- | zes com os Reys de Caſtella, e | Araga. pag. 43. Na aceyta | ds mil dobras de ouro a ElRey | D. Jaymes de Araga que lhe | tinha empreſtado. pag. 43. e 44. | D muitas, e precioſas joyas | Rainha Dona Branca, mulher | delRey de Araga, e aos Senho- | res daquella Corte. pag. 44. A | meza de prata em que comia | mandou dar a hum Fidalgo que | por eſquecimento na tinha ſido | premiado como os outros. pag. | 44. Que idade tinha, e em que | anno fez eſta jornada a Caſtella. | ibi. Manda Martim Gonſalves | de Souza ſeu Alferes mr com | ſetecentos Cavallos a ElRey D. | Fernando para ajuda da guerra | contra os Mouros, e lhe empreſ- | ta dezaſeis mil, e ſeis marcos de | prata para o meſmo fim. pag. 45. | Funda em Coimbra os primei- | ros eſtudos, que houve em Por- | tugal, e como alcanou do Papa | Joa XXII. privillegios para el- | les. pag. 47. Izenta os Cavallei- | ros de San-Tiago da obediencia | do Meſtre de Caſtella, e inſtitue | Meſtre em Portugal por Bulla | de Niculao IV. pag. 48. Ajuſta | com D. Fernando de Caſtella, | os bens dos Templarios dos ſeus | Reynos na foſem dados pelo | Papa a outra Ordem. pag. 56. | Repreſenta por ſeus Embayxa- | dores ao Papa Joa XXII. na | ſer conveniente, que as rendas | dos Templarios ſe deſem aos | do Hoſpital de S. Joa. pag. 59. | Inſtitue a Ordem Militar de Jeſu | Chriſto a quem aſina as rendas | que era dos Templarios. ibi. | Aſina para gaſto de ſeu filho D. | Affonſo quando cazou com a | Infante Dona Beatriz, alem de | muitas Villas que lhe deu, ou- | tenta mil livras de prata. pag. 61. | Sentimento q~ teve com a morte | de ſeu neto o Infante D. Diniz. | ibi. Relata-ſe as diſcordias que | teve com o Princepe ſeu filho. | pag. 61. e 62. Manda o proceſo | que eſte Princepe tinha machi- | nado para matar ſeu irma D. | Affonſo Sanches, e acha ſer fal- | ſo. pag. 67. Pratica que fez na | prezena dos ſeus vaſallos qu- | do deſcubrio ſer falſo tudo qu- | to tinha machinado o Princepe | ſeu filho contra D. Affonſo San- | ches ſeu irma. pag. 67. e 68. He | buſcado por ſeu filho para lhe | dar batalha. pag. 24. Manda a | Loure~o Annes Redondo, q~ ma- | te a todos os que dera entrada | em Santarem ao Principe ſeu | filho, e aſim ſe executa. pag. 77. | Por intervena da Rainha San- | ta Iſabel, ſe concerta com ſeu fi- | lho D. Affonſo. pag. 78. e 79. A- | viſtaſe em Guinaldo com a Rai- | nha Dona Maria, e o que aqui | paſou. pag. 84. Significa aos | Reys de Caſtella o ſentimento | que teve com amorte dos Infan- | tes D. Pedro, e D. Joa. pag. 85. | Pedelhe ſeu neto ElRey D. Af- | fonſo de Caſtella os danos que | fazia naquelle Reyno ſeu tio o | Infante D. Felippe, e o obriga a- | levantar o ſitio de Badajos, pag. | 86. Celebra Cortes em Lisboa, | onde na aſiſte o Princepe D. | Affonſo ſeu filho. pag. 87. Sem | embargo de que na queria que | entraſe em Lisboa ſeu filho, eſte | o executa com gente armada de | que ſe ſeguira muitas mortes. | pag. 88. Em Santarem depois de | huma grande contenda, ſe com- | poem com o Princepe. pag. 89. | Legados que diſpoz, antes de | morrer. pag. 92. e 93. Em q~ lugar | dia, e anno morreo. pag. 93. Foy | levado a enterrar ao Moſteyro | de S. Diniz de Odivellas que el- | le fundara. ibi. Das aoens he- | roicas que obrou, e das Villas, e | Cidades que fundou, e reedifi- | cou. pag. 94. e 95. | Diogo Garcia , Chanceller mr do | ſello da puridade delRey D. | Diniz, e Mordomo mr da Rai- | nha Dona Cſtana ſua mulher | aſiſte em Tarraona com o meſ- | mo Principe para compor as | diſcordias, que havia entre D. | Fernando de Caſtella, e D. Jay- | mes de Araga. pag. 42. | [ E ] | ElRey Felippe de Frana C Ha- | ma- | do o Fermozo, como concorreo | ſer Pontifice Clemente V. | a quem pedio que queimaſe o | corpo de Bonifacio VIII. pag. | 52. A' ſua inſtancia extinguio o | Papa a Ordem dos Templarios, | pag. 53. Morre deſgraadamen- | te, e que filhos deixou, pag. 60. | Infante D. Felippe , Tio delRey de | Caſtella, cerca a Badajos, e he | obrigado a levantar o ſitio pelo | Princepe D. Affonſo, filho del- | Rey D Diniz, pag. 85. e 86. | ElRey D. Fernando , Terceiro de | Caſtella, cazou c Dona Conſ- | tana filha delRey D. Diniz, e | Santa Iſabel, pag. 14. Com que | circunſtancia, e conveniencias | foy contratado eſte cazamento, | pag. 19. He requerido por El- | Rey D. Diniz, que largue os Lu- | gares, que lhe tinha uzurpado, e | da pratica que lhe fizera Joa | Annes Redondo, e Mem Rodri- | gues Rebotim Embayxadores | de Portugal, pag. 22. Recebe-ſe | por palavras de prezente com a | Infante Dona Conſtana, e da | pratica que fez aos circunſtan- | tes, pag. 34. Sahe a receber a El- | Rey D. Diniz com o Infante D. | Joa na Villa de Coelhar, pag. | 40. Pede ſocorro a D. Diniz | para continuar a guerra contra | os Mouros, e lhe manda ſetecen- | tos cavallos, e lhe empreſta pa- | ra a meſma empreza dezaſeis | mil, e ſeiscentos marcos de prata | pag. 45. Dalhe em caua deſte | empreſtimo as Cidades de Ba- | dalhouſe, Alconchel, e Brugi- | lhos, ibi. Cerca Algezira, e le- | vanta o ſitio, pag. 46. Onde mor- | reo, e de que idade, pag. 46. | [ G ] | Gibraltar F Oy tomado aos Mou- | ros por Joa Nunes | de Lara, pag. 46. | D. Fr. gil Martins , He eleito pri- | meiro Meſtre da Ordem militar | de Jeſu Chriſto, inſtituida por | ElRey D. Diniz, pag. 60. | Guimares , O ſeu Caſtello he de- | fendido por Mem Rodrigues de | Vaſconcellos, contra a invaſa | do Infante D. Affonſo, pag. 77. | [ H ] | Infante D. Henrique F Ilho del- | Rey D. | Joa o I. de Portugal, foy per- | petuo adminiſtrador da Ordem | de Chriſto, pag. 60. | Honorio II. Deu regra aos Tem- | plarios, pag. 49. | [ I ] | D. James D E Rey de A- | raga, e avo pa- | terno da Infante Dona Iſabel, | mulher de D. Diniz de Portugal | como naceo, e a cauza porque | lhe puzera o nome de Jayme, | pag 4. e 5. Tomou ſegunda vez | Valena de Araga aos Mouros | pag. 5. Acabou a vida feito M- | ge, ibi. Cazou c Dona Lianor | filha delRey D. Affonſo Nono | de Caſtella, e foy ſeparado pela | Igreja deſte matrimonio, ibi. | Caza ſegunda vez com Dona | Violante, filha de D. Andr Rey | de Ungria de quem teve muitos | filhos, ibi. | D. Jaymes , Rey de Malhorca, e | Minorca, foy filho de D. Jaymes | Decimo Rey de Araga, e da | Rainha Dona Violante, pag. 5. | D. James , Filho de D. Pedro Un- | decimo Rey de Araga a quem | ficou o Reyno de Secilia, foy | depois Rey de Araga, pag. 9. | Joa XXII. Concede privilegios | para os Eſtudos que em Coim- | bra inſtituio ElRey D. Diniz, | pag. 47. Expede huma Bulla na | qual conſola a D. Diniz nas diſ- | cordias que tinha com o Prince- | pe ſeu filho, pag. 72. Eſcreve hu~a | carta a eſte meſmo Princepe ſo- | bre as diſcordias, que tinha com | ſeu pay, pag. 80. | D. Joa , Infante de Caſtella ſendo | deſterrado daquelle Reyno, he | recebido em Portugal por ſeu | tio ElRey D. Diniz, pag. 2. | D. Joa Affonſo , Foy filho natural | delRey D. Diniz, pag. 15. | Joa Nunes de Lara , Senhor de | Biſcaya, foy prezo por ElRey | D. Diniz a quem mandou ſoltar, | e lhe fez grandes merces, pag. 3. | e 21. Tomou Gibraltar aos Mou- | ros, pag 46. | Joa Velho , Com Vaſquo Pires, e | Joa Martins ſa mandados por | Embayxadores a Araga a ajuſ- | tar o cazamento delRey D. Di- | niz com a Infante Dona Iſabel | filha de D. Pedro Rey de Ara- | ga, pag. 3. | Rainha Santa Iſabel , Filha de D. | Pedro Undecimo Rey de Ara- | ga, ſendo pretendida de mui- | tos Princepes para Eſpoza, he | preferido entre todos ElRey D. | Diniz de Portugal, pag. 3. Ac- | panhada do Biſpo de Valena, e | outros Cavalheiros, parte para | Portugal, e como della ſe deſpi- | dio ſeu pay, p. 9. Sahe a recebella | em Caſtella ſeu primo c irma, | o Infante D. Sancho, e das pala- | vras, que lhe diſe, pag. 10. Che- | ga a Bragana, onde he corteja- | da pelo Infante D. Affonſo ir- | ma delRey D. Diniz, e outros | Cavalheyros, ibi. Entra em | Trancozo onde ſe recebeo com | ElRey D. Diniz, ibi. Virtudes | que praticou em toda a ſua vida, | e milagres que fez, pag. 10. 11. | e 12. Por ſua intervena, e de- | ligencia, ſe ajuſtara as diſcor- | dias delRey D. Diniz com o | Princepe ſeu filho. pag. 78. e 79. | Segunda vez pacifica ao meſmo | Princepe com ſeu pay, pag. 88. | Por morte de ſeu Eſpozo ſe veſte | no habito de Sta Clara, pag. 93. | Edifica o Convento deſta Santa | em Coimbra, e o dorou da ſua | fazenda, e nelle eſta ſepultada, | pag. 95. | D. Iſabel , Filha do Infante D. Af- | fonſo de Portugal, e a Infante | Dona Violante, foy cazada com | D. Joa o Torto, filho do Infan- | te D. Joa chamado Rey de | Lia, pag. 16. | D. Iſabel , Filha de D. Jaymes De- | cimo Rey de Araga, e da Rai- | nha Dona Violante, cazou com | o Princepe D. Felippe filho her- | deyro de Sa Luis Rey de Fran- | a, pag. 5. | [ L ] | Rainha Dona Lianor F Ilha de Af- | fonſo Nono | de Caſtella, irma de Dona Ur- | raqua Rainha de Portugal, ca- | zou c D. Jaymes Decimo Rey | de Araga, e he ſeparada de ſeu | marido pela Igreja, pag. 5. | D. Lopo , Conde, e Senhor de Biſ- | caya, he morto em Alfaro pelo | Infante D. Affonſo irma del- | Rey D. Diniz, pag. 17. | D. Loureno Annes , He eleyto | primeyro Meſtre em Portugal | dos Cavvalleiro de San-Tiago, | pag. 48. | [ M ] | Manfreu R Ey de ambas Seci- | lias de quem foy fi- | lho, pag. 6. Foy ſogro delRey | D. Diniz de Portugal, pag. 3. | Matou com veneno e ſeu pay, e | irma, pag. 6. He morto em a | batalha junto de Benavente em | Italia que lhe deu o Principe | Carlos, irma de Sa Luis Rey | de Frana, pag. 6. | ElRey D. Manoel , Foy perpetuo | adminiſtrador da Ordem de | Chriſto, pag. 60. | Dona Maria , Filha natural del- | Rey D. Diniz, foy cazada com | D. Joa de Lacerda, pag. 15. | Dona Maria , Filha natural del- | Rey D. Diniz, foy Freyra no | Moſteyro de Odivellas, pag. 15. | Dona Maria , Filha dos Infantes | D. Affonſo, e Dona Violante, | foy cazada com D. Tello, filho | do Infante D. Affonſo de Moli- | na, pag. 16. | Martim Gonſalves de Souza , Al- | feres mr delRey D. Diniz, he | mandado por eſte Princepe c | ſetecentos cavallos a ajudar a El- | Rey de Caſtella na guerra con- | tra os Mouro, pag. 45. | Mem Rodrigues de Vaſconcellos , | Suſtenta o Caſtello de Guima- | res por D. Diniz contra a inva- | za do Princepe D. Affonſo, | pag. 77. | Meſina , Cercada pelo Infante | Carlos irma de Sa Luis Rey | de Frana, e levanta o ſitio obri- | gado por D. Pedro Rey de Ara- | ga, pag. 7. | Mouros , Ganha as Fortalezas de | Queſada, e Alcaudete com ou- | tros Caſtellos no arrebalde de | Jaen, pag. 27. | [ N ] | Nicolao IV. C Oncede a ElRey | D. Diniz, que os | Cavalleyros de San-Tiago ſe | exima da obediencia do Meſtre | de Caſtella, pag. 48. | Nuno Gonſalves de Lara , Filho de | Joo Nunes de Lara, cazou c | Dona Conſtana filha dos In- | fantes D. Affonſo, e Dona Vio- | lante, pag. 16. | [ O ] | Ordem militar D E Jeſu Chriſ- | to quando foy | inſtituida por ElRey D. Diniz, e | quem foy o ſeu primeiro Meſtre | pag. 60. | Orraqua Vaſques , He curada mi- | lagroſamente de hum achaque | pela Rainha Santa Iſabel, pag. | 12. | [ P ] | D. Pedro U Ndecimo Rey de | Araga, foy filho | de D. Jaymes, e a Rainha Dona | Violante, e pay da Infante San- | ta Iſabel, pag. 5. Com quem ca- | zou, pag. 6. Recebe obedien- | cia do Reyno de Secilia, pag. 7. | He dezafiado para Bordeos pelo | Infante D. Carlos irmo de So | Luis Rey de Frana, ibi. He ex- | commungado pelo Papa, pag. 8. | Morreo violentamente ſobre o | cerco de Girona, pag. 9. Filhos | que teve, ibi. Pratica que fez a | ſua filha quando partio para ſe | receber com ElRey D. Diniz, | ibi. | D. Pedro , Filho natural delRey D. | Diniz, cazou com Dona Branca | filha de Pedre Annes de Portel, | pag. 14. | D. Pedro , Conde de Barcellos fi- | lho natural delRey D. Diniz, | foy o author das linhagens de | Portugal, pag. 15. | [ S ] | ElRey D. Sancho D E Caſtella | ajuſta com | ElRey D. Diniz cazar ſeus fi- | lhos D. Fernando, e Dona Bea- | triz com os Infantes D. Affonſo, | e Dona Conſta, filhos daquel- | le Princepe, pag. 17. Falta s | condies prometidas para eſtes | deſpozorios, pag. 19. Manda hu~a | armada ſobre o Algarve com | que fez muitas hoſtilidades, pag. | 20. Manda por ſeu Embayxa- | dor o Biſpo de Palena a tratar | pazes com D. Diniz, e no con- | clue o que intenta, ibi. Em que | lugar, e anno morreo, pag. 21. | Infante D. Sancho , Primo com ir- | mo da Infante Dona Iſabel, | veyo recebella a Caſtella quan- | do vinha deſpozarſe com ElRey | D. Diniz de Portugal, pag. 10. | D. Sancho , Arcebiſpo de Toledo, | e filho de D. Jaymes Decimo | Rey de Araga, e da Rainha | Dona Violante, foy morto na | batalha de Andaluzia contra os | Mouros, pag. 5. | D. Sancho de Ledeſma , Filho dos | Infantes D. Pedro, e Dona Mar- | garida, deſcontente delRey de | Caſtella, veyo fazerſe vaſallo | delRey D. Diniz, o qual lhe aſ- | ſinou huma grande renda, pag. | 24. Volta para Caſtella, pag. 25. | [ T ] | D. Tello F Ilho do Infante D. Af- | fonſo de Molina, ca- | cou com Dona Maria, filha dos | Infantes D. Affonſo, e Dona | Violante, e netto de Affonſo III. | de Portugal, pag. 16. | Templarios , Quem fora os ſeus | inſtituidores em Jeruſalem, e | que habitos trazio, pag. 49. | Aoens heroicas, e virtuozas q~ | obrava, pag. 50. Sa extinctos | violentamente por Clemente V | inſtancia de Felippe de Frana | chamado o Fermozo, pag. 52. e | 53. No Concilio celebrado em | Vianna da Provincia de Narbo- | na ſe promulgou a extina deſ- | ta Ordem, pag. 57. As rendas | deſta Ordem ſa applicadas do | Hoſpital de S. Joa, ibi. | [ V ] | Valdovino R Ey de Jeruſalem | manda hoſpedar | dentro do ſeu Palacio aos pri- | meyros fundadores da Ordem | do Templo, pag. 49. | Vaſco Fernandes , Meſtre dos Te~- | plarios em Portugal quando ſe | extinguio eſta Ordem, pag. 56. | Dona Violante , Filha de D. An- | dre Rey de Ungria, caza com | D. Jaymes Decimo Rey de Ara- | ga de quem teve muitos filhos, | pag. 5. | Dona Violante , Filha de D. Jaymes | Decimo Rey de Araga, e da | Rainha Dona Violante, cazou | c D. Affonſo Decimo de Caſ- | tella av delRey D. Diniz de | Portugal, pag. 5. | Dona Violante , Filho de D. Pedro | Undecimo Rey de Araga, ca- | zou com ElRey Carlos irma | de Sa Luis Biſpo de Toloza, | pag. 9. | Dona violante , Filha do Infante D. | Manoel filho delRey D. Fer- | nando de Caſtella, e da Infante | Dona Conſtana foy cazada c | o Infante D. Affonſo filho de | Affonſo III, de Portugal, e que | filhos teve, pag. 16. | Urbano IV. D a inveſtidura dos | Reynos da Secilia, e Napoles ao | Principe Carlos irma de S. | Luis Rey de Frana, pag. 6. | [ title ] FIM. |\""
            ],
            "application/vnd.google.colaboratory.intrinsic+json": {
              "type": "string"
            }
          },
          "metadata": {},
          "execution_count": 40
        }
      ]
    },
    {
      "cell_type": "markdown",
      "source": [
        "###Cleaning"
      ],
      "metadata": {
        "id": "iUpsJZtmwjH8"
      }
    },
    {
      "cell_type": "code",
      "source": [
        "stop_words = set(stopwords.words(\"portuguese\"))"
      ],
      "metadata": {
        "id": "VRYSMG5wwZaA"
      },
      "execution_count": 41,
      "outputs": []
    },
    {
      "cell_type": "code",
      "source": [
        "def clean(text):\n",
        "    text = text.lower()\n",
        "    text = re.sub(r'ſ', 's', str(text))\n",
        "    text = re.sub(r'&', 'e', str(text))\n",
        "    text = re.sub(r'-[ ]{2,}.*\\n[ ]{2,}', '', str(text))\n",
        "    text = re.sub(r'[ ]{2,}.*\\n[ ]{2,}', ' ', str(text))\n",
        "    text = re.sub(r'[àáâãäå]', 'a', str(text))\n",
        "    text = re.sub(r'[èéêë]', 'e', str(text))\n",
        "    text = re.sub(r'[ìíîï]', 'i', str(text))\n",
        "    text = re.sub(r'[òóôõöø]', 'o', str(text))\n",
        "    text = re.sub(r'[ùúûü]', 'u', str(text))\n",
        "\n",
        "    text = re.sub(r'\\[.*?\\]', '', str(text))\n",
        "    text = re.sub(r'\\(.*?\\)', '', str(text))\n",
        "\n",
        "    pattern = re.compile(r'\\d+')\n",
        "    text = pattern.sub(lambda x: num2words(int(x.group()),\n",
        "                                           lang='pt'), str(text))\n",
        "\n",
        "    pattern = re.compile(r'\\s{2,}')\n",
        "    text = pattern.sub(' ', text).strip()\n",
        "\n",
        "    text = re.sub(r'[^\\w\\' ]', '', str(text))\n",
        "    text = re.sub(r'\\n', '', str(text))\n",
        "\n",
        "    text = [w for w in word_tokenize(text) if w not in stop_words]\n",
        "\n",
        "    return text"
      ],
      "metadata": {
        "id": "epgYoJ1IwgtX"
      },
      "execution_count": 42,
      "outputs": []
    },
    {
      "cell_type": "code",
      "source": [
        "df['Text'] = df['Text'].apply(clean)"
      ],
      "metadata": {
        "id": "_8gBGjFTxjhd"
      },
      "execution_count": 43,
      "outputs": []
    },
    {
      "cell_type": "code",
      "source": [
        "df['Text'][1]"
      ],
      "metadata": {
        "colab": {
          "base_uri": "https://localhost:8080/"
        },
        "id": "vhFd4rx_xmUp",
        "outputId": "ef413cd6-9cb4-46f9-bb85-221a888dbfc1"
      },
      "execution_count": 44,
      "outputs": [
        {
          "output_type": "execute_result",
          "data": {
            "text/plain": [
              "['chronica',\n",
              " 'alto',\n",
              " 'esclarecido',\n",
              " 'principe',\n",
              " 'dom',\n",
              " 'diniz',\n",
              " 'sexto',\n",
              " 'rey',\n",
              " 'portugal',\n",
              " 'composta',\n",
              " 'ruy',\n",
              " 'pina',\n",
              " 'fidalgo',\n",
              " 'casa',\n",
              " 'real',\n",
              " 'chronista',\n",
              " 'mor',\n",
              " 'reyno',\n",
              " 'fielmente',\n",
              " 'copiada',\n",
              " 'original',\n",
              " 'conserva',\n",
              " 'archivo',\n",
              " 'real',\n",
              " 'torre',\n",
              " 'tombo',\n",
              " 'offerecida',\n",
              " \"'\",\n",
              " 'magestade',\n",
              " 'sempre',\n",
              " 'augusta',\n",
              " 'delrey',\n",
              " 'd',\n",
              " 'joao',\n",
              " 'v',\n",
              " 'senhor',\n",
              " 'lisboa',\n",
              " 'occidental',\n",
              " 'officina',\n",
              " 'f',\n",
              " 'r',\n",
              " 'r',\n",
              " 'y',\n",
              " 'r',\n",
              " 'i',\n",
              " 'n',\n",
              " 'm',\n",
              " 'dcc',\n",
              " 'xxix',\n",
              " 'todas',\n",
              " 'licenas',\n",
              " 'necesarias',\n",
              " 'chronica',\n",
              " 'delrey',\n",
              " 'd',\n",
              " 'diniz',\n",
              " 'sexto',\n",
              " 'portugal',\n",
              " 'senhor',\n",
              " 'augustisimos',\n",
              " 'pes',\n",
              " 'v',\n",
              " 'magestade',\n",
              " 'chega',\n",
              " 'obrigaçao',\n",
              " 'offerecerlhe',\n",
              " 'chronica',\n",
              " 'senhor',\n",
              " 'rey',\n",
              " 'd',\n",
              " 'diniz',\n",
              " 'duodecimo',\n",
              " 'avo',\n",
              " 'senhor',\n",
              " 'he',\n",
              " 'historia',\n",
              " 'hũ',\n",
              " 'gloriosos',\n",
              " 'prin',\n",
              " 'cipes',\n",
              " 'monarchia',\n",
              " 'portugueza',\n",
              " 'porq',\n",
              " 'fez',\n",
              " 'tao',\n",
              " 'conhecido',\n",
              " 'prudencia',\n",
              " 'q',\n",
              " 'dous',\n",
              " 'grandes',\n",
              " 'reys',\n",
              " 'gerao',\n",
              " 'arbitro',\n",
              " 'juiz',\n",
              " 'contendas',\n",
              " 'perturba',\n",
              " 'vao',\n",
              " 'paz',\n",
              " 'vasallos',\n",
              " 'foy',\n",
              " 'tao',\n",
              " 'venturoso',\n",
              " 'receo',\n",
              " 'ter',\n",
              " 'espoza',\n",
              " 'huma',\n",
              " 'matrona',\n",
              " 'grandeza',\n",
              " 'virtudes',\n",
              " 'milagres',\n",
              " 'veneramos',\n",
              " 'hoje',\n",
              " 'coroada',\n",
              " 'ceo',\n",
              " 'licito',\n",
              " 'pasar',\n",
              " 'limites',\n",
              " 'hu',\n",
              " 'ma',\n",
              " 'dedicatoria',\n",
              " 'bem',\n",
              " 'podia',\n",
              " 'mostrar',\n",
              " 'mundo',\n",
              " 'semelha',\n",
              " 'ça',\n",
              " 'neto',\n",
              " 'avo',\n",
              " 'bastarmeha',\n",
              " 'dizer',\n",
              " 'aquel',\n",
              " 'la',\n",
              " 'virtude',\n",
              " 'verdadeiramente',\n",
              " 'principe',\n",
              " 'he',\n",
              " 'libera',\n",
              " 'lidade',\n",
              " 'sendo',\n",
              " 'ella',\n",
              " 'tam',\n",
              " 'celebrado',\n",
              " 'elrey',\n",
              " 'd',\n",
              " 'diniz',\n",
              " 'v',\n",
              " 'magestade',\n",
              " 'praticado',\n",
              " 'sorte',\n",
              " 'deixa',\n",
              " 'infinita',\n",
              " 'mente',\n",
              " 'excedido',\n",
              " 'real',\n",
              " 'pesoa',\n",
              " 'v',\n",
              " 'magestade',\n",
              " 'guarde',\n",
              " 'deos',\n",
              " 'vasallos',\n",
              " 'dezejao',\n",
              " 'miguel',\n",
              " 'lopes',\n",
              " 'ferreyra',\n",
              " 'excellentissimo',\n",
              " 'senhor',\n",
              " 'd',\n",
              " 'francisco',\n",
              " 'xavier',\n",
              " 'menezes',\n",
              " 'quarto',\n",
              " 'conde',\n",
              " 'ericeyra',\n",
              " 'concelho',\n",
              " 'magestade',\n",
              " 'sargento',\n",
              " 'mor',\n",
              " 'batalha',\n",
              " 'exercitos',\n",
              " 'deputado',\n",
              " 'junta',\n",
              " 'tres',\n",
              " 'estados',\n",
              " 'perpetuo',\n",
              " 'senhor',\n",
              " 'villa',\n",
              " 'ericeyra',\n",
              " 'senhor',\n",
              " 'anciao',\n",
              " 'oytavo',\n",
              " 'senhor',\n",
              " 'caza',\n",
              " 'louriçal',\n",
              " 'comendador',\n",
              " 'mendas',\n",
              " 'santa',\n",
              " 'christina',\n",
              " 'sarzedello',\n",
              " 's',\n",
              " 'cipriano',\n",
              " 'anguey',\n",
              " 'ra',\n",
              " 's',\n",
              " 'martinho',\n",
              " 'frazao',\n",
              " 's',\n",
              " 'payo',\n",
              " 'fragoas',\n",
              " 's',\n",
              " 'pedro',\n",
              " 'elvas',\n",
              " 's',\n",
              " 'bertholameu',\n",
              " 'covilha',\n",
              " 'todas',\n",
              " 'ordem',\n",
              " 'christo',\n",
              " 'academico',\n",
              " 'academia',\n",
              " 'real',\n",
              " 'historia',\n",
              " 'portugueza',\n",
              " 'hum',\n",
              " 'cinco',\n",
              " 'censores',\n",
              " 'della',\n",
              " 'etc',\n",
              " 'm',\n",
              " 'senhor',\n",
              " 'buscar',\n",
              " 'amparo',\n",
              " 'v',\n",
              " 'excellencia',\n",
              " 'he',\n",
              " 'effeito',\n",
              " 'prudente',\n",
              " 'rezao',\n",
              " 'porque',\n",
              " 'pesoa',\n",
              " 'achao',\n",
              " 'todas',\n",
              " 'aquellas',\n",
              " 'circunstan',\n",
              " 'cias',\n",
              " 'segurao',\n",
              " 'protecçao',\n",
              " 'he',\n",
              " 'v',\n",
              " 'excellencia',\n",
              " 'tao',\n",
              " 'affavel',\n",
              " 'tao',\n",
              " 'benigno',\n",
              " 'pa',\n",
              " 'ra',\n",
              " 'todos',\n",
              " 'suaviza',\n",
              " 'facilita',\n",
              " 'dotes',\n",
              " 'aquelle',\n",
              " 'justo',\n",
              " 'temor',\n",
              " 'acha',\n",
              " 'tempo',\n",
              " 'anima',\n",
              " 'dezejo',\n",
              " 'conseguirem',\n",
              " 'pre',\n",
              " 'tendem',\n",
              " 'detem',\n",
              " 'suspende',\n",
              " 'grandeza',\n",
              " 'procurao',\n",
              " 'valedor',\n",
              " 'po',\n",
              " 'rem',\n",
              " 'v',\n",
              " 'excellencia',\n",
              " 'tal',\n",
              " 'sorte',\n",
              " 'he',\n",
              " 'inclinado',\n",
              " 'favorecer',\n",
              " 'valem',\n",
              " 'patrocinio',\n",
              " 'offerencendo',\n",
              " 'occazioes',\n",
              " 'occuparem',\n",
              " 'uni',\n",
              " 'camente',\n",
              " 'nacera',\n",
              " 'todos',\n",
              " 'nao',\n",
              " 'fallo',\n",
              " 'ba',\n",
              " 'excesiva',\n",
              " 'generozidade',\n",
              " 'v',\n",
              " 'excellencia',\n",
              " 'faz',\n",
              " 'publica',\n",
              " 'todo',\n",
              " 'genero',\n",
              " 'pesoas',\n",
              " 'copiozisima',\n",
              " 'sele',\n",
              " 'isima',\n",
              " 'livraria',\n",
              " 'beneficio',\n",
              " 'attrahido',\n",
              " 'geralmente',\n",
              " 'todos',\n",
              " 'excellentisimo',\n",
              " 'senhor',\n",
              " 'hum',\n",
              " 'daquelles',\n",
              " 'frequencia',\n",
              " 'muita',\n",
              " 'especialidade',\n",
              " 'recebido',\n",
              " 'favores',\n",
              " 'v',\n",
              " 'excellencia',\n",
              " 'tomo',\n",
              " 'confiança',\n",
              " 'pedir',\n",
              " 'queira',\n",
              " 'real',\n",
              " 'presença',\n",
              " 'magestade',\n",
              " 'chronica',\n",
              " 'delrey',\n",
              " 'd',\n",
              " 'diniz',\n",
              " 'porque',\n",
              " 'desta',\n",
              " 'forte',\n",
              " 'meyo',\n",
              " 'tao',\n",
              " 'illustre',\n",
              " 'valedor',\n",
              " 'ficara',\n",
              " 'desculpado',\n",
              " 'atrevimento',\n",
              " 'excellentisima',\n",
              " 'pesoa',\n",
              " 'v',\n",
              " 'excellen',\n",
              " 'cia',\n",
              " 'guarde',\n",
              " 'deos',\n",
              " 'muitos',\n",
              " 'annos',\n",
              " 'b',\n",
              " 'maos',\n",
              " 'v',\n",
              " 'excellencia',\n",
              " 'criado',\n",
              " 'miguel',\n",
              " 'lopes',\n",
              " 'ferreyra',\n",
              " 'prologo',\n",
              " 'prologo',\n",
              " 'amigo',\n",
              " 'leitor',\n",
              " 'qui',\n",
              " 'dou',\n",
              " 'chronica',\n",
              " 'serenisimo',\n",
              " 'rey',\n",
              " 'd',\n",
              " 'diniz',\n",
              " 'portugal',\n",
              " 'outro',\n",
              " 'argumento',\n",
              " 'palavra',\n",
              " 'empe',\n",
              " 'nhey',\n",
              " 'prometi',\n",
              " 'dar',\n",
              " 'impresas',\n",
              " 'todas',\n",
              " 'chro',\n",
              " 'nicas',\n",
              " 'manusscritas',\n",
              " 'reys',\n",
              " 'deste',\n",
              " 'reyno',\n",
              " 'ellas',\n",
              " 'digna',\n",
              " 'deste',\n",
              " 'beneficio',\n",
              " 'delrey',\n",
              " 'd',\n",
              " 'diniz',\n",
              " 'porque',\n",
              " 'duvida',\n",
              " 'soberanos',\n",
              " 'desta',\n",
              " 'monar',\n",
              " 'chia',\n",
              " 'mereceo',\n",
              " 'elle',\n",
              " 'hum',\n",
              " 'lugar',\n",
              " 'mayor',\n",
              " 'distincçao',\n",
              " 'aqui',\n",
              " 'veras',\n",
              " 'hum',\n",
              " 'prin',\n",
              " 'cipe',\n",
              " 'tao',\n",
              " 'altamente',\n",
              " 'respeitado',\n",
              " 'grande',\n",
              " 'prudencia',\n",
              " 'foy',\n",
              " 'arbi',\n",
              " 'tro',\n",
              " 'ajuste',\n",
              " 'pezadas',\n",
              " 'contendas',\n",
              " 'dous',\n",
              " 'principes',\n",
              " 'conseguio',\n",
              " 'dezejada',\n",
              " 'felicidade',\n",
              " 'cujos',\n",
              " 'documentos',\n",
              " 'poderas',\n",
              " 'ver',\n",
              " 'sexta',\n",
              " 'parte',\n",
              " 'monarchia',\n",
              " 'lusitana',\n",
              " 'd',\n",
              " 'diogo',\n",
              " 'joze',\n",
              " 'dormes',\n",
              " 'discur',\n",
              " 'sos',\n",
              " 'varios',\n",
              " 'historia',\n",
              " 'impresos',\n",
              " 'caragoça',\n",
              " 'ano',\n",
              " 'mil',\n",
              " 'seiscentos',\n",
              " 'oitenta',\n",
              " 'três',\n",
              " 'quarto',\n",
              " 'folhas',\n",
              " 'cento',\n",
              " 'trinta',\n",
              " 'cinco',\n",
              " 'conselho',\n",
              " 'foy',\n",
              " 'tao',\n",
              " 'venerado',\n",
              " 'temido',\n",
              " 'espada',\n",
              " 'entrou',\n",
              " 'tao',\n",
              " 'felizmente',\n",
              " 'terras',\n",
              " 'inimigas',\n",
              " 'parecia',\n",
              " 'triunfante',\n",
              " 'combatente',\n",
              " 'foy',\n",
              " 'tao',\n",
              " 'venturoso',\n",
              " 'mereceo',\n",
              " 'espozo',\n",
              " 'rainha',\n",
              " 'santa',\n",
              " 'isabel',\n",
              " 'sendo',\n",
              " 'tantos',\n",
              " 'pretendentes',\n",
              " 'daquella',\n",
              " 'princesaque',\n",
              " 'parece',\n",
              " 'prognosticavao',\n",
              " 'coraçoesque',\n",
              " 'havia',\n",
              " 'gloria',\n",
              " 'monarchia',\n",
              " 'tivese',\n",
              " 'soberana',\n",
              " 'tudo',\n",
              " 'he',\n",
              " 'mate',\n",
              " 'ria',\n",
              " 'desta',\n",
              " 'chronica',\n",
              " 'nao',\n",
              " 'achares',\n",
              " 'escrita',\n",
              " 'estillo',\n",
              " 'elegante',\n",
              " 'nao',\n",
              " 'ponhas',\n",
              " 'culpa',\n",
              " 'author',\n",
              " 'poemna',\n",
              " 'tempo',\n",
              " 'tudo',\n",
              " 'desfigura',\n",
              " 'necesarias',\n",
              " 'mudanças',\n",
              " 'porque',\n",
              " 'he',\n",
              " 'certo',\n",
              " 'reys',\n",
              " 'portugal',\n",
              " 'q',\n",
              " 'elegerao',\n",
              " 'fernao',\n",
              " 'lopes',\n",
              " 'ruy',\n",
              " 'pina',\n",
              " 'chronistas',\n",
              " 'mores',\n",
              " 'deste',\n",
              " 'reyno',\n",
              " 'haviao',\n",
              " 'eleger',\n",
              " 'huns',\n",
              " 'homens',\n",
              " 'fosem',\n",
              " 'merecedores',\n",
              " 'tao',\n",
              " 'authorizada',\n",
              " 'occupaçao',\n",
              " 'letras',\n",
              " 'elegancia',\n",
              " 'vale',\n",
              " 'licenças',\n",
              " 'santo',\n",
              " 'officio',\n",
              " 'v',\n",
              " 'istas',\n",
              " 'informaçoes',\n",
              " 'podese',\n",
              " 'imprimir',\n",
              " 'chronica',\n",
              " 'delrey',\n",
              " 'd',\n",
              " 'di',\n",
              " 'nize',\n",
              " 'impresa',\n",
              " 'tornara',\n",
              " 'conferire',\n",
              " 'dar',\n",
              " 'licençaque',\n",
              " 'corra',\n",
              " 'nao',\n",
              " 'correra',\n",
              " 'lisboa',\n",
              " 'occidental',\n",
              " 'vinte',\n",
              " 'nove',\n",
              " 'agosto',\n",
              " 'mil',\n",
              " 'setecentos',\n",
              " 'vinte',\n",
              " 'sete',\n",
              " 'fr',\n",
              " 'lancastre',\n",
              " 'cunha',\n",
              " 'sylva',\n",
              " 'cabedo',\n",
              " 'ordinario',\n",
              " 'v',\n",
              " 'ista',\n",
              " 'informaçao',\n",
              " 'podese',\n",
              " 'imprimir',\n",
              " 'chronica',\n",
              " 'trata',\n",
              " 'pois',\n",
              " 'impresa',\n",
              " 'tornara',\n",
              " 'conferir',\n",
              " 'dar',\n",
              " 'licençaque',\n",
              " 'corra',\n",
              " 'nao',\n",
              " 'correra',\n",
              " 'lisboa',\n",
              " 'occidental',\n",
              " 'nove',\n",
              " 'outubro',\n",
              " 'mil',\n",
              " 'setecentos',\n",
              " 'dezassete',\n",
              " 'dfal',\n",
              " 'paco',\n",
              " 'senhor',\n",
              " 'j',\n",
              " 'cençura',\n",
              " 'chronica',\n",
              " 'delrey',\n",
              " 'd',\n",
              " 'affonso',\n",
              " 'iii',\n",
              " 'v',\n",
              " 'mages',\n",
              " 'tade',\n",
              " 'foy',\n",
              " 'servido',\n",
              " 'commeterme',\n",
              " 'dise',\n",
              " 'mayor',\n",
              " 'recomenda',\n",
              " 'çao',\n",
              " 'prelo',\n",
              " 'nome',\n",
              " 'author',\n",
              " 'nesta',\n",
              " 'delrey',\n",
              " 'd',\n",
              " 'diniz',\n",
              " 'facilmente',\n",
              " 'distinguira',\n",
              " 'parto',\n",
              " 'entendimento',\n",
              " 'tao',\n",
              " 'grande',\n",
              " 'chonista',\n",
              " 'pois',\n",
              " 'alguns',\n",
              " 'escritos',\n",
              " 'duvida',\n",
              " 'serem',\n",
              " 'sendo',\n",
              " 'ler',\n",
              " 'juis',\n",
              " 'recto',\n",
              " 'ficara',\n",
              " 'arbitrio',\n",
              " 'prudente',\n",
              " 'critica',\n",
              " 'exame',\n",
              " 'verdade',\n",
              " 'delle',\n",
              " 'sendo',\n",
              " 'sempre',\n",
              " 'util',\n",
              " 'imprimirao',\n",
              " 'liçao',\n",
              " 'historias',\n",
              " 'estudo',\n",
              " 'mayor',\n",
              " 'utilidade',\n",
              " 'porque',\n",
              " 'nellas',\n",
              " 'achao',\n",
              " 'todos',\n",
              " 'principios',\n",
              " 'verdade',\n",
              " 'prudencia',\n",
              " 'sabedoria',\n",
              " 'pare',\n",
              " 'ce',\n",
              " 'quanto',\n",
              " 'historias',\n",
              " 'delrey',\n",
              " 'd',\n",
              " 'affonso',\n",
              " 'iv',\n",
              " 'delrey',\n",
              " 'd',\n",
              " 'duarte',\n",
              " 'q',\n",
              " 'concorrem',\n",
              " 'mesmos',\n",
              " 'motivospor',\n",
              " 'nao',\n",
              " 'multiplicar',\n",
              " 'cençurasvmagesta',\n",
              " 'mandara',\n",
              " 'servido',\n",
              " 'lisboa',\n",
              " 'occidental',\n",
              " 'vinte',\n",
              " 'cincode',\n",
              " 'outubro',\n",
              " 'mil',\n",
              " 'setecentos',\n",
              " 'vinte',\n",
              " 'sete',\n",
              " 'manoel',\n",
              " 'azevedo',\n",
              " 'soares',\n",
              " 'q',\n",
              " 'ue',\n",
              " 'posa',\n",
              " 'imprimir',\n",
              " 'vistas',\n",
              " 'licenças',\n",
              " 'santo',\n",
              " 'officio',\n",
              " 'ordina',\n",
              " 'rio',\n",
              " 'impreso',\n",
              " 'tornara',\n",
              " 'meza',\n",
              " 'conferir',\n",
              " 'taxar',\n",
              " 'dar',\n",
              " 'licença',\n",
              " 'corra',\n",
              " 'nao',\n",
              " 'correra',\n",
              " 'lisboa',\n",
              " 'occidental',\n",
              " 'quinze',\n",
              " 'novembro',\n",
              " 'mil',\n",
              " 'setecentos',\n",
              " 'vinte',\n",
              " 'sete',\n",
              " 'pereyra',\n",
              " 'oliveyra',\n",
              " 'teyxeyra',\n",
              " 'bonicho',\n",
              " 'index',\n",
              " 'capitulos',\n",
              " 'deste',\n",
              " 'livro',\n",
              " 'c',\n",
              " 'ap',\n",
              " 'i',\n",
              " 'elrey',\n",
              " 'd',\n",
              " 'diniz',\n",
              " 'sendo',\n",
              " 'ifante',\n",
              " 'foy',\n",
              " 'ale',\n",
              " 'vantado',\n",
              " 'rey',\n",
              " 'obede',\n",
              " 'cido',\n",
              " 'virtudesque',\n",
              " 'vepag',\n",
              " 'i',\n",
              " 'cap',\n",
              " 'ii',\n",
              " 'elrey',\n",
              " 'd',\n",
              " 'diniz',\n",
              " 'cazou',\n",
              " 'dona',\n",
              " 'isabel',\n",
              " 'filha',\n",
              " 'del',\n",
              " 'rey',\n",
              " 'd',\n",
              " 'pedro',\n",
              " 'daragam',\n",
              " 'rainha',\n",
              " 'dona',\n",
              " 'costança',\n",
              " 'grandes',\n",
              " 'virtudes',\n",
              " 'santi',\n",
              " 'dadepagtrês',\n",
              " 'cap',\n",
              " 'iii',\n",
              " 'fundamento',\n",
              " 'cou',\n",
              " 'zas',\n",
              " 'ouve',\n",
              " 'pera',\n",
              " 'elrey',\n",
              " 'd',\n",
              " 'di',\n",
              " 'niz',\n",
              " 'aver',\n",
              " 'alguũas',\n",
              " 'villas',\n",
              " 'cas',\n",
              " 'telos',\n",
              " 'riba',\n",
              " 'dodiana',\n",
              " 'forao',\n",
              " 'castellapagitrês',\n",
              " 'cap',\n",
              " 'iv',\n",
              " 'filhos',\n",
              " 'legitimos',\n",
              " 'elrey',\n",
              " 'd',\n",
              " 'diniz',\n",
              " 'ouve',\n",
              " 'rainha',\n",
              " 'dona',\n",
              " 'isabel',\n",
              " 'asi',\n",
              " 'doutros',\n",
              " 'bas',\n",
              " 'tardospagiquatro',\n",
              " 'cap',\n",
              " 'v',\n",
              " 'dezacordo',\n",
              " 'ouve',\n",
              " 'ante',\n",
              " 'elrey',\n",
              " 'd',\n",
              " 'dinize',\n",
              " 'ho',\n",
              " 'ifan',\n",
              " 'd',\n",
              " 'affonso',\n",
              " 'irmaaopagicinco',\n",
              " 'cap',\n",
              " 'vi',\n",
              " 'succedeo',\n",
              " 'ca',\n",
              " 'zamento',\n",
              " 'ifante',\n",
              " 'd',\n",
              " 'affonso',\n",
              " 'fi',\n",
              " 'lho',\n",
              " 'delrey',\n",
              " 'd',\n",
              " 'diniz',\n",
              " 'ifante',\n",
              " 'd',\n",
              " 'fernando',\n",
              " 'filho',\n",
              " 'delrey',\n",
              " 'd',\n",
              " 'sancho',\n",
              " 'castelapaginove',\n",
              " 'cap',\n",
              " 'vii',\n",
              " 'elrey',\n",
              " 'd',\n",
              " 'diniz',\n",
              " 'entrou',\n",
              " 'castella',\n",
              " 'crua',\n",
              " 'guerra',\n",
              " 'huũa',\n",
              " 'parte',\n",
              " 'outra',\n",
              " 'faziapagvinte',\n",
              " 'cinco',\n",
              " 'cap',\n",
              " 'viii',\n",
              " 'grandes',\n",
              " 'malles',\n",
              " 'danos',\n",
              " 'huũ',\n",
              " 'regno',\n",
              " 'ha',\n",
              " 'outro',\n",
              " 'faziam',\n",
              " 'dalguũs',\n",
              " 'lugares',\n",
              " 'castella',\n",
              " 'hos',\n",
              " 'mouros',\n",
              " 'toma',\n",
              " 'ram',\n",
              " 'pagvinte',\n",
              " 'seis',\n",
              " 'cap',\n",
              " 'ix',\n",
              " 'razam',\n",
              " 'porque',\n",
              " 'el',\n",
              " 'rey',\n",
              " 'd',\n",
              " 'diniz',\n",
              " 'desistio',\n",
              " 'desta',\n",
              " 'guer',\n",
              " 'rae',\n",
              " 'tornou',\n",
              " 'portugal',\n",
              " 'pagvinte',\n",
              " 'sete',\n",
              " 'capx',\n",
              " 'cazamentos',\n",
              " 'es',\n",
              " 'caybos',\n",
              " 'concordia',\n",
              " 'fizeram',\n",
              " 'antre',\n",
              " 'rex',\n",
              " 'al',\n",
              " 'canizes',\n",
              " 'pagvinte',\n",
              " 'oito',\n",
              " 'cap',\n",
              " 'xi',\n",
              " 'elrey',\n",
              " 'd',\n",
              " 'fer',\n",
              " 'nando',\n",
              " 'cazou',\n",
              " 'ha',\n",
              " 'infante',\n",
              " 'dona',\n",
              " 'costança',\n",
              " 'menagens',\n",
              " 'so',\n",
              " 'breso',\n",
              " 'fizerampagtrinta',\n",
              " 'quatro',\n",
              " 'capxii',\n",
              " 'ajudas',\n",
              " 'el',\n",
              " 'rey',\n",
              " 'd',\n",
              " 'fernando',\n",
              " 'castella',\n",
              " 've',\n",
              " 'del',\n",
              " 'rey',\n",
              " 'd',\n",
              " 'diniz',\n",
              " 'pera',\n",
              " 'guerra',\n",
              " 'mouros',\n",
              " 'gradapagquarenta',\n",
              " 'cinco',\n",
              " 'cap',\n",
              " 'xiv',\n",
              " 'foy',\n",
              " 'feyto',\n",
              " 'portugal',\n",
              " 'mestre',\n",
              " 'santiago',\n",
              " 'izento',\n",
              " 'ordem',\n",
              " 'ucres',\n",
              " 'ca',\n",
              " 'stellapagquarenta',\n",
              " 'oito',\n",
              " 'cap',\n",
              " 'xv',\n",
              " 'fundamento',\n",
              " 've',\n",
              " 'ha',\n",
              " 'ordem',\n",
              " 'templo',\n",
              " 'sa',\n",
              " 'lamao',\n",
              " 'jerusalem',\n",
              " 'foy',\n",
              " 'desfeyta',\n",
              " 'fez',\n",
              " 'ha',\n",
              " 'ordem',\n",
              " 'index',\n",
              " 'christo',\n",
              " 'pag',\n",
              " 'quarenta',\n",
              " 'nove',\n",
              " 'cap',\n",
              " 'xvi',\n",
              " 'principal',\n",
              " 'funda',\n",
              " 'mento',\n",
              " 'verdadeyra',\n",
              " 'cauza',\n",
              " 'pera',\n",
              " 'ordem',\n",
              " 'templarios',\n",
              " 'seer',\n",
              " 'destroydapagcinquenta',\n",
              " 'cap',\n",
              " 'xvii',\n",
              " 'ho',\n",
              " 'papa',\n",
              " 'el',\n",
              " 'rey',\n",
              " 'frana',\n",
              " 'notifiquaram',\n",
              " 'ha',\n",
              " 'elrey',\n",
              " 'd',\n",
              " 'diniz',\n",
              " 'condenaa',\n",
              " 'templariose',\n",
              " 'ordem',\n",
              " 'pagcinquenta',\n",
              " 'cinco',\n",
              " 'cap',\n",
              " 'xviii',\n",
              " 'discordia',\n",
              " 'ouve',\n",
              " ...]"
            ]
          },
          "metadata": {},
          "execution_count": 44
        }
      ]
    },
    {
      "cell_type": "markdown",
      "source": [
        "####Salva arquivos preprocessados"
      ],
      "metadata": {
        "id": "H7YjVftRGFCk"
      }
    },
    {
      "cell_type": "code",
      "source": [
        "def dataframe_to_txt_files(df, output_dir):\n",
        "\n",
        "    for index, row in df.iterrows():\n",
        "        file_name = os.path.join(output_dir, f\"tb_prepro_{index}.txt\")\n",
        "\n",
        "        with open(file_name, 'w') as file:\n",
        "            for column in df.columns:\n",
        "                file.write(str(row[column]) + '\\n')"
      ],
      "metadata": {
        "id": "Nr1bLUofaFdf"
      },
      "execution_count": 45,
      "outputs": []
    },
    {
      "cell_type": "code",
      "source": [
        "dataframe_to_txt_files(df, prepro_path)"
      ],
      "metadata": {
        "id": "n2NxH1nmdQ2E"
      },
      "execution_count": 46,
      "outputs": []
    },
    {
      "cell_type": "code",
      "source": [
        "# Transforma o texto do sec. 14 em sec. 15\n",
        "print(df['Period'][0])\n",
        "df['Period'][0] = '1400-1499'\n",
        "print(df['Period'][0])"
      ],
      "metadata": {
        "colab": {
          "base_uri": "https://localhost:8080/"
        },
        "id": "SdV6664B0l10",
        "outputId": "07a82fee-fc02-4da7-d3a4-636fab31b0b2"
      },
      "execution_count": 47,
      "outputs": [
        {
          "output_type": "stream",
          "name": "stdout",
          "text": [
            "1300-1399\n",
            "1400-1499\n"
          ]
        }
      ]
    },
    {
      "cell_type": "code",
      "source": [
        "# dropa a última linha (q é repetida)\n",
        "df.drop(df.tail(1).index,inplace=True)\n",
        "print(df)"
      ],
      "metadata": {
        "colab": {
          "base_uri": "https://localhost:8080/"
        },
        "id": "E5ngfIHX1UFo",
        "outputId": "24c34141-f5f6-48f0-de77-15a9d2c8ae2f"
      },
      "execution_count": 48,
      "outputs": [
        {
          "output_type": "stream",
          "name": "stdout",
          "text": [
            "       Period                                               Text\n",
            "0   1400-1499  [chronica, delrey, d, ioam, i, boa, memoria, r...\n",
            "1   1400-1499  [chronica, alto, esclarecido, principe, dom, d...\n",
            "2   1400-1499  [comentario, arquivo, online, composto, comedi...\n",
            "3   1400-1499  [auto, pastoril, portugues, representado, alto...\n",
            "4   1400-1499  [chronica, delrey, daffonso, henriques, duarte...\n",
            "..        ...                                                ...\n",
            "77  1800-1899  [carta, cento, sete, arquivo, publico, estado,...\n",
            "78  1800-1899  [revue, universelle, chegoume, aqui, boa, cida...\n",
            "79  1800-1899  [senhoras, senhores, peça, vamos, ter, honra, ...\n",
            "80  1800-1899  [carta, trezentos, onze, arquivo, barao, jerem...\n",
            "81  1800-1899  [moises, visto, freud, gastao, pereira, silva,...\n",
            "\n",
            "[82 rows x 2 columns]\n"
          ]
        }
      ]
    },
    {
      "cell_type": "markdown",
      "source": [
        "###Creating subtexts"
      ],
      "metadata": {
        "id": "-I1ZglfT_EDu"
      }
    },
    {
      "cell_type": "markdown",
      "source": [
        "####subtexts"
      ],
      "metadata": {
        "id": "fLbq0oTkXff0"
      }
    },
    {
      "cell_type": "code",
      "source": [
        "def chop_text_into_subtexts(text, subtext_length):\n",
        "    subtexts = []\n",
        "    num_subtexts = len(text) - subtext_length + 1\n",
        "    for i in range(num_subtexts):\n",
        "        subtext = text[i:i+subtext_length]\n",
        "        subtexts.append(subtext)\n",
        "    return subtexts\n",
        "\n",
        "def create_subtexts_dataframe(df, subtext_length):\n",
        "    subtexts = []\n",
        "    centuries = []\n",
        "    for i, row in df.iterrows():\n",
        "        text = row['Text']\n",
        "        century = row['Period']\n",
        "        chopped_subtexts = chop_text_into_subtexts(text, subtext_length)\n",
        "        subtexts.extend(chopped_subtexts)\n",
        "        centuries.extend([century] * len(chopped_subtexts))\n",
        "    subtexts_df = pd.DataFrame({'Text': subtexts, 'Period': centuries})\n",
        "    return subtexts_df\n",
        "\n",
        "# Assuming you have your original dataframe with 'Century' and 'Text' columns in 'df' variable\n",
        "# Specify the desired subtext length\n",
        "subtext_length = 100\n",
        "\n",
        "# Create subtexts dataframe\n",
        "subtexts_df = create_subtexts_dataframe(df, subtext_length)\n",
        "\n",
        "# Print the first few rows of the subtexts dataframe\n",
        "print(subtexts_df.head())"
      ],
      "metadata": {
        "colab": {
          "base_uri": "https://localhost:8080/"
        },
        "id": "-R7-tNhDg2aZ",
        "outputId": "fb17c76d-7a6d-4ad5-8e94-048c17394e38"
      },
      "execution_count": 16,
      "outputs": [
        {
          "output_type": "stream",
          "name": "stdout",
          "text": [
            "                                                Text     Period\n",
            "0  [chronica, delrey, d, ioam, i, boa, memoria, r...  1400-1499\n",
            "1  [delrey, d, ioam, i, boa, memoria, reys, portu...  1400-1499\n",
            "2  [d, ioam, i, boa, memoria, reys, portugal, dec...  1400-1499\n",
            "3  [ioam, i, boa, memoria, reys, portugal, decimo...  1400-1499\n",
            "4  [i, boa, memoria, reys, portugal, decimo, prim...  1400-1499\n"
          ]
        }
      ]
    },
    {
      "cell_type": "code",
      "source": [
        "print(subtexts_df['Period'].value_counts()['1400-1499'])\n",
        "print(subtexts_df['Period'].value_counts()['1500-1599'])\n",
        "print(subtexts_df['Period'].value_counts()['1600-1699'])\n",
        "print(subtexts_df['Period'].value_counts()['1700-1799'])\n",
        "print(subtexts_df['Period'].value_counts()['1800-1899'])"
      ],
      "metadata": {
        "colab": {
          "base_uri": "https://localhost:8080/"
        },
        "id": "8k7DtBxjzY7q",
        "outputId": "02f953e6-29f5-4f3d-c60f-2d10a659bcd2"
      },
      "execution_count": 17,
      "outputs": [
        {
          "output_type": "stream",
          "name": "stdout",
          "text": [
            "118715\n",
            "321126\n",
            "459933\n",
            "361446\n",
            "513230\n"
          ]
        }
      ]
    },
    {
      "cell_type": "markdown",
      "source": [
        "####random subtexts"
      ],
      "metadata": {
        "id": "GOF88bUSXiKq"
      }
    },
    {
      "cell_type": "code",
      "source": [
        "import pandas as pd\n",
        "import random\n",
        "\n",
        "def chop_text_into_subtexts(text, subtext_length):\n",
        "    subtexts = []\n",
        "    num_subtexts = len(text) - subtext_length + 1\n",
        "    start_indices = random.sample(range(num_subtexts), num_subtexts)\n",
        "    for start_index in start_indices:\n",
        "        subtext = text[start_index:start_index+subtext_length]\n",
        "        subtexts.append(subtext)\n",
        "    return subtexts\n",
        "\n",
        "def create_random_subtexts_dataframe(df, subtext_length, num_subtexts):\n",
        "    subtexts = []\n",
        "    centuries = []\n",
        "    for i, row in df.iterrows():\n",
        "        text = row['Text']\n",
        "        period = row['Period']\n",
        "        chopped_subtexts = chop_text_into_subtexts(text, subtext_length)\n",
        "        random_subtexts = random.sample(chopped_subtexts, num_subtexts)\n",
        "        subtexts.extend(random_subtexts)\n",
        "        centuries.extend([period] * num_subtexts)\n",
        "    subtexts_df = pd.DataFrame({'Text': subtexts, 'Period': centuries})\n",
        "    return subtexts_df\n",
        "\n",
        "# Assuming you have your original dataframe with 'Period' and 'Text' columns in 'df' variable\n",
        "# Specify the desired subtext length and the number of random subtexts to generate per original text\n",
        "subtext_length = 100\n",
        "num_subtexts = 50\n",
        "\n",
        "# Create random subtexts dataframe\n",
        "random_subtexts_df = create_random_subtexts_dataframe(df, subtext_length, num_subtexts)\n",
        "\n",
        "# Print the first few rows of the random subtexts dataframe\n",
        "print(random_subtexts_df.head())"
      ],
      "metadata": {
        "colab": {
          "base_uri": "https://localhost:8080/"
        },
        "id": "-aVKC1QRXcJn",
        "outputId": "eaf54310-cfdd-41d1-da2c-7d0a4d9bdd74"
      },
      "execution_count": 49,
      "outputs": [
        {
          "output_type": "stream",
          "name": "stdout",
          "text": [
            "                                                Text     Period\n",
            "0  [conselho, nao, verdadeiros, conselheiros, vẽ,...  1400-1499\n",
            "1  [alfa, yates, querendo, tomar, mestre, senhor,...  1400-1499\n",
            "2  [nao, prestarem, delleaco, tecendo, tomado, de...  1400-1499\n",
            "3  [onde, vinha, elle, trazia, hũa, cota, vestida...  1400-1499\n",
            "4  [corregedorm, outros, muytos, criados, rainha,...  1400-1499\n"
          ]
        }
      ]
    },
    {
      "cell_type": "code",
      "source": [
        "print(random_subtexts_df['Period'].value_counts()['1400-1499'])\n",
        "print(random_subtexts_df['Period'].value_counts()['1500-1599'])\n",
        "print(random_subtexts_df['Period'].value_counts()['1600-1699'])\n",
        "print(random_subtexts_df['Period'].value_counts()['1700-1799'])\n",
        "print(random_subtexts_df['Period'].value_counts()['1800-1899'])"
      ],
      "metadata": {
        "colab": {
          "base_uri": "https://localhost:8080/"
        },
        "id": "MZUN-OyOXmVT",
        "outputId": "d8a167e1-4cb2-45f3-8bc2-c5ea2845a44f"
      },
      "execution_count": 50,
      "outputs": [
        {
          "output_type": "stream",
          "name": "stdout",
          "text": [
            "300\n",
            "700\n",
            "1100\n",
            "800\n",
            "1200\n"
          ]
        }
      ]
    },
    {
      "cell_type": "markdown",
      "source": [
        "####join subtexts"
      ],
      "metadata": {
        "id": "LBSmG9uhXnR3"
      }
    },
    {
      "cell_type": "code",
      "source": [
        "def join_subtexts(text):\n",
        "    return ' '.join(text)"
      ],
      "metadata": {
        "id": "qDGSSF_Khc2r"
      },
      "execution_count": 60,
      "outputs": []
    },
    {
      "cell_type": "code",
      "source": [
        "random_subtexts_df['Text'] = random_subtexts_df['Text'].apply(join_subtexts)"
      ],
      "metadata": {
        "id": "SLDCnsFOhoIU"
      },
      "execution_count": 61,
      "outputs": []
    },
    {
      "cell_type": "code",
      "source": [
        "random_subtexts_df.head()"
      ],
      "metadata": {
        "colab": {
          "base_uri": "https://localhost:8080/",
          "height": 0
        },
        "id": "hi4I26iehtu8",
        "outputId": "ce6c470a-4c45-4152-ff34-f39227a4262b"
      },
      "execution_count": 22,
      "outputs": [
        {
          "output_type": "execute_result",
          "data": {
            "text/plain": [
              "                                                Text     Period\n",
              "0  ate viesse vil la começou velar melhor ante na...  1400-1499\n",
              "1  castella prendera iffante dom iohao conde dom ...  1400-1499\n",
              "2  mo jaa dissemos parece ainda nao viera hora ca...  1400-1499\n",
              "3  nuno aluerez partio pera casa ma neira viuer f...  1400-1499\n",
              "4  parte alli erao asicarao escreuessemos iβo fra...  1400-1499"
            ],
            "text/html": [
              "\n",
              "  <div id=\"df-e259d52e-5d7a-4663-b888-5f7c694a0def\">\n",
              "    <div class=\"colab-df-container\">\n",
              "      <div>\n",
              "<style scoped>\n",
              "    .dataframe tbody tr th:only-of-type {\n",
              "        vertical-align: middle;\n",
              "    }\n",
              "\n",
              "    .dataframe tbody tr th {\n",
              "        vertical-align: top;\n",
              "    }\n",
              "\n",
              "    .dataframe thead th {\n",
              "        text-align: right;\n",
              "    }\n",
              "</style>\n",
              "<table border=\"1\" class=\"dataframe\">\n",
              "  <thead>\n",
              "    <tr style=\"text-align: right;\">\n",
              "      <th></th>\n",
              "      <th>Text</th>\n",
              "      <th>Period</th>\n",
              "    </tr>\n",
              "  </thead>\n",
              "  <tbody>\n",
              "    <tr>\n",
              "      <th>0</th>\n",
              "      <td>ate viesse vil la começou velar melhor ante na...</td>\n",
              "      <td>1400-1499</td>\n",
              "    </tr>\n",
              "    <tr>\n",
              "      <th>1</th>\n",
              "      <td>castella prendera iffante dom iohao conde dom ...</td>\n",
              "      <td>1400-1499</td>\n",
              "    </tr>\n",
              "    <tr>\n",
              "      <th>2</th>\n",
              "      <td>mo jaa dissemos parece ainda nao viera hora ca...</td>\n",
              "      <td>1400-1499</td>\n",
              "    </tr>\n",
              "    <tr>\n",
              "      <th>3</th>\n",
              "      <td>nuno aluerez partio pera casa ma neira viuer f...</td>\n",
              "      <td>1400-1499</td>\n",
              "    </tr>\n",
              "    <tr>\n",
              "      <th>4</th>\n",
              "      <td>parte alli erao asicarao escreuessemos iβo fra...</td>\n",
              "      <td>1400-1499</td>\n",
              "    </tr>\n",
              "  </tbody>\n",
              "</table>\n",
              "</div>\n",
              "      <button class=\"colab-df-convert\" onclick=\"convertToInteractive('df-e259d52e-5d7a-4663-b888-5f7c694a0def')\"\n",
              "              title=\"Convert this dataframe to an interactive table.\"\n",
              "              style=\"display:none;\">\n",
              "        \n",
              "  <svg xmlns=\"http://www.w3.org/2000/svg\" height=\"24px\"viewBox=\"0 0 24 24\"\n",
              "       width=\"24px\">\n",
              "    <path d=\"M0 0h24v24H0V0z\" fill=\"none\"/>\n",
              "    <path d=\"M18.56 5.44l.94 2.06.94-2.06 2.06-.94-2.06-.94-.94-2.06-.94 2.06-2.06.94zm-11 1L8.5 8.5l.94-2.06 2.06-.94-2.06-.94L8.5 2.5l-.94 2.06-2.06.94zm10 10l.94 2.06.94-2.06 2.06-.94-2.06-.94-.94-2.06-.94 2.06-2.06.94z\"/><path d=\"M17.41 7.96l-1.37-1.37c-.4-.4-.92-.59-1.43-.59-.52 0-1.04.2-1.43.59L10.3 9.45l-7.72 7.72c-.78.78-.78 2.05 0 2.83L4 21.41c.39.39.9.59 1.41.59.51 0 1.02-.2 1.41-.59l7.78-7.78 2.81-2.81c.8-.78.8-2.07 0-2.86zM5.41 20L4 18.59l7.72-7.72 1.47 1.35L5.41 20z\"/>\n",
              "  </svg>\n",
              "      </button>\n",
              "      \n",
              "  <style>\n",
              "    .colab-df-container {\n",
              "      display:flex;\n",
              "      flex-wrap:wrap;\n",
              "      gap: 12px;\n",
              "    }\n",
              "\n",
              "    .colab-df-convert {\n",
              "      background-color: #E8F0FE;\n",
              "      border: none;\n",
              "      border-radius: 50%;\n",
              "      cursor: pointer;\n",
              "      display: none;\n",
              "      fill: #1967D2;\n",
              "      height: 32px;\n",
              "      padding: 0 0 0 0;\n",
              "      width: 32px;\n",
              "    }\n",
              "\n",
              "    .colab-df-convert:hover {\n",
              "      background-color: #E2EBFA;\n",
              "      box-shadow: 0px 1px 2px rgba(60, 64, 67, 0.3), 0px 1px 3px 1px rgba(60, 64, 67, 0.15);\n",
              "      fill: #174EA6;\n",
              "    }\n",
              "\n",
              "    [theme=dark] .colab-df-convert {\n",
              "      background-color: #3B4455;\n",
              "      fill: #D2E3FC;\n",
              "    }\n",
              "\n",
              "    [theme=dark] .colab-df-convert:hover {\n",
              "      background-color: #434B5C;\n",
              "      box-shadow: 0px 1px 3px 1px rgba(0, 0, 0, 0.15);\n",
              "      filter: drop-shadow(0px 1px 2px rgba(0, 0, 0, 0.3));\n",
              "      fill: #FFFFFF;\n",
              "    }\n",
              "  </style>\n",
              "\n",
              "      <script>\n",
              "        const buttonEl =\n",
              "          document.querySelector('#df-e259d52e-5d7a-4663-b888-5f7c694a0def button.colab-df-convert');\n",
              "        buttonEl.style.display =\n",
              "          google.colab.kernel.accessAllowed ? 'block' : 'none';\n",
              "\n",
              "        async function convertToInteractive(key) {\n",
              "          const element = document.querySelector('#df-e259d52e-5d7a-4663-b888-5f7c694a0def');\n",
              "          const dataTable =\n",
              "            await google.colab.kernel.invokeFunction('convertToInteractive',\n",
              "                                                     [key], {});\n",
              "          if (!dataTable) return;\n",
              "\n",
              "          const docLinkHtml = 'Like what you see? Visit the ' +\n",
              "            '<a target=\"_blank\" href=https://colab.research.google.com/notebooks/data_table.ipynb>data table notebook</a>'\n",
              "            + ' to learn more about interactive tables.';\n",
              "          element.innerHTML = '';\n",
              "          dataTable['output_type'] = 'display_data';\n",
              "          await google.colab.output.renderOutput(dataTable, element);\n",
              "          const docLink = document.createElement('div');\n",
              "          docLink.innerHTML = docLinkHtml;\n",
              "          element.appendChild(docLink);\n",
              "        }\n",
              "      </script>\n",
              "    </div>\n",
              "  </div>\n",
              "  "
            ]
          },
          "metadata": {},
          "execution_count": 22
        }
      ]
    },
    {
      "cell_type": "markdown",
      "source": [
        "###Tf-idf / LinearSVC"
      ],
      "metadata": {
        "id": "GbaKiLfx0np7"
      }
    },
    {
      "cell_type": "markdown",
      "source": [
        "####Train/test split"
      ],
      "metadata": {
        "id": "rV00vnS52CQa"
      }
    },
    {
      "cell_type": "code",
      "source": [
        "from sklearn.model_selection import train_test_split"
      ],
      "metadata": {
        "id": "rN4WBTG32EbZ"
      },
      "execution_count": 51,
      "outputs": []
    },
    {
      "cell_type": "code",
      "source": [
        "X = random_subtexts_df['Text']\n",
        "y = random_subtexts_df['Period']\n",
        "\n",
        "X_train, X_test, y_train, y_test = train_test_split(X, y, test_size=0.2, random_state=123)"
      ],
      "metadata": {
        "id": "nJa_9eQo2IkA"
      },
      "execution_count": 52,
      "outputs": []
    },
    {
      "cell_type": "code",
      "source": [
        "print(X_train)\n",
        "print(X_test)"
      ],
      "metadata": {
        "colab": {
          "base_uri": "https://localhost:8080/"
        },
        "id": "QmGFDKvY2NHz",
        "outputId": "fbc772b8-9e54-4390-89f0-064435d59c81"
      },
      "execution_count": 53,
      "outputs": [
        {
          "output_type": "stream",
          "name": "stdout",
          "text": [
            "4063    [bahia, nenhum, apareceu, tantas, vezes, tao, ...\n",
            "2888    [necessario, dito, n, expresso, deitando, til,...\n",
            "3534    [alferes, honorario, exercito, nomiado, decret...\n",
            "815     [agente, especie, agregaçao, ve, panfilo, land...\n",
            "207     [d, fernando, conde, trastamara, juntamente, r...\n",
            "                              ...                        \n",
            "1122    [diamantes, estao, casa, moeda, andem, pagar, ...\n",
            "4060    [exacerbava, julgador, conceito, sobre, pedro,...\n",
            "1346    [beltrao, afonso, mendes, burra, ja, jaz, po, ...\n",
            "3454    [dito, havia, tido, educaçao, contraria, infor...\n",
            "3582    [virgem, fez, iracema, guerreiro, branco, desv...\n",
            "Name: Text, Length: 3280, dtype: object\n",
            "553     [perdera, rosado, capitao, nau, francesa, mata...\n",
            "3735    [tabelas, errava, medida, armaçoes, cemiterio,...\n",
            "3244    [pasta, cinco, documento, contendo, dois, foli...\n",
            "2813    [del, toboso, menos, porem, necessario, figura...\n",
            "3928    [avos, custa, cinquentazero, reis, mes, nao, a...\n",
            "                              ...                        \n",
            "465     [historias, allego, mao, nao, trato, porque, t...\n",
            "2530    [senhor, ocupado, alguma, cousa, doente, nao, ...\n",
            "65      [in, teiramente, guardar, foy, principe, tam, ...\n",
            "1004    [profundissimo, escurissimo, pode, dizer, toda...\n",
            "3684    [etratemos, rever, debito, q, devia, caza, man...\n",
            "Name: Text, Length: 820, dtype: object\n"
          ]
        }
      ]
    },
    {
      "cell_type": "code",
      "source": [
        "print('Training Data :', X_train.shape)\n",
        "\n",
        "print('Testing Data : ', X_test.shape)"
      ],
      "metadata": {
        "colab": {
          "base_uri": "https://localhost:8080/"
        },
        "id": "WBcBgzcCKPCA",
        "outputId": "325d4134-121a-496a-9979-6c97724dc253"
      },
      "execution_count": 54,
      "outputs": [
        {
          "output_type": "stream",
          "name": "stdout",
          "text": [
            "Training Data : (3280,)\n",
            "Testing Data :  (820,)\n"
          ]
        }
      ]
    },
    {
      "cell_type": "markdown",
      "source": [
        "####Vectorize"
      ],
      "metadata": {
        "id": "Q9EgovRAzTan"
      }
    },
    {
      "cell_type": "code",
      "source": [
        "from sklearn.svm import LinearSVC\n",
        "from sklearn.feature_extraction.text import TfidfVectorizer\n",
        "from sklearn.metrics import accuracy_score, classification_report\n",
        "from sklearn.model_selection import train_test_split"
      ],
      "metadata": {
        "colab": {
          "base_uri": "https://localhost:8080/"
        },
        "id": "rUMrZW8XVMk8",
        "outputId": "cc06f111-efcc-4b7e-e9c8-ae70f16e1d0c"
      },
      "execution_count": 29,
      "outputs": [
        {
          "output_type": "stream",
          "name": "stdout",
          "text": [
            "Accuracy: 0.9170731707317074\n",
            "Classification Report:\n",
            "              precision    recall  f1-score   support\n",
            "\n",
            "   1400-1499       0.97      0.77      0.86        47\n",
            "   1500-1599       0.93      0.92      0.92       150\n",
            "   1600-1699       0.89      0.95      0.91       221\n",
            "   1700-1799       0.91      0.84      0.87       151\n",
            "   1800-1899       0.94      0.96      0.95       251\n",
            "\n",
            "    accuracy                           0.92       820\n",
            "   macro avg       0.93      0.89      0.90       820\n",
            "weighted avg       0.92      0.92      0.92       820\n",
            "\n"
          ]
        }
      ]
    },
    {
      "cell_type": "code",
      "source": [
        "# Vectorize the text using TF-IDF\n",
        "vectorizer = TfidfVectorizer()\n",
        "X_train_vectorized = vectorizer.fit_transform(X_train)\n",
        "X_test_vectorized = vectorizer.transform(X_test)"
      ],
      "metadata": {
        "id": "2b_NDIGs_cKE"
      },
      "execution_count": null,
      "outputs": []
    },
    {
      "cell_type": "code",
      "source": [
        "# Initialize and train the LinearSVC model\n",
        "svc_model = LinearSVC()\n",
        "svc_model.fit(X_train_vectorized, y_train)"
      ],
      "metadata": {
        "id": "9kKGe4Sp_gKr"
      },
      "execution_count": null,
      "outputs": []
    },
    {
      "cell_type": "code",
      "source": [
        "# Predict the labels for test data\n",
        "y_pred = svc_model.predict(X_test_vectorized)\n",
        "\n",
        "# Evaluate the model\n",
        "accuracy = accuracy_score(y_test, y_pred)\n",
        "report = classification_report(y_test, y_pred)\n",
        "\n",
        "# Print the evaluation metrics\n",
        "print(f\"Accuracy: {accuracy}\")\n",
        "print(\"Classification Report:\")\n",
        "print(report)"
      ],
      "metadata": {
        "id": "zbhyegfh_hkA"
      },
      "execution_count": null,
      "outputs": []
    },
    {
      "cell_type": "markdown",
      "source": [
        "####Examples"
      ],
      "metadata": {
        "id": "9jSimJx2c1lv"
      }
    },
    {
      "cell_type": "code",
      "source": [
        "svc_model.predict(vectorizer.transform([\"Senhor, recebei minhas mais humildes reverências neste tempo de ilustração e progresso. Os ventos da mudança sopram sobre nossas terras, trazendo consigo novas ideias e conceitos. Os filósofos iluminados debatem ardorosamente sobre a natureza do homem e seus direitos inalienáveis. As cortes elegantes são palco de discussões intelectuais e sábios debates sobre política e governança. Enquanto isso, o comércio floresce e nossas colônias ultramarinas se expandem, trazendo riquezas e desafios para nossa nação. É um tempo de efervescência cultural, onde a arte, a música e a literatura encontram seu esplendor. Que a razão ilumine nosso caminho e nos guie rumo a um futuro próspero e justo.\"]))"
      ],
      "metadata": {
        "colab": {
          "base_uri": "https://localhost:8080/"
        },
        "id": "T0BFWxpxV38M",
        "outputId": "188e9744-0bdf-413a-ad5b-fbbf24aa8b31"
      },
      "execution_count": 30,
      "outputs": [
        {
          "output_type": "execute_result",
          "data": {
            "text/plain": [
              "array(['1800-1899'], dtype=object)"
            ]
          },
          "metadata": {},
          "execution_count": 30
        }
      ]
    },
    {
      "cell_type": "code",
      "source": [
        "svc_model.predict(vectorizer.transform([\"Senhor, a vossa graça seja bem-vinda nestas terras. De fato, os tempos são tumultuosos e o povo clama por justiça. A guerra alastra-se pelo reino, deixando um rastro de destruição e desespero por onde passa. Os senhores feudais lutam entre si, disputando o poder e a posse das terras. Enquanto isso, os camponeses trabalham arduamente, tentando sobreviver às agruras da vida. É uma época de incerteza e medo, onde a nobreza governa com mão de ferro e o povo sofre as consequências. Que Deus tenha misericórdia de nós e traga dias de paz e prosperidade novamente.\"]))"
      ],
      "metadata": {
        "colab": {
          "base_uri": "https://localhost:8080/"
        },
        "id": "hYWPVpg-WHQA",
        "outputId": "f4978285-e5db-4897-9746-212fa1ddda1a"
      },
      "execution_count": 31,
      "outputs": [
        {
          "output_type": "execute_result",
          "data": {
            "text/plain": [
              "array(['1600-1699'], dtype=object)"
            ]
          },
          "metadata": {},
          "execution_count": 31
        }
      ]
    },
    {
      "cell_type": "code",
      "source": [
        "#sec XV - Garcia de Resende\n",
        "svc_model.predict(vectorizer.transform([\n",
        "'''\n",
        "Senhoras não hajais medo\n",
        "não receeis fazer bem\n",
        "tende o coração mui quedo\n",
        "e vossas mercês verão cedo\n",
        "quão grandes bens do bem vem.\n",
        "Não torvem vosso sentido\n",
        "as cousas qu'haveis ouvido\n",
        "porqu'é lei de deos d'amor\n",
        "bem, vertude nem primor\n",
        "nunca jamais ser perdido.\n",
        "Por verdes o galardão\n",
        "que do amor recebeu\n",
        "porque por ele morreu\n",
        "nestas trovas saberão\n",
        "o que ganhou ou perdeu.\n",
        "Não perdeu senão a vida\n",
        "que pudera ser perdida\n",
        "sem na ninguém conhecer\n",
        "e ganhou por bem querer\n",
        "ser sua morte tão sentida.\n",
        "''']))"
      ],
      "metadata": {
        "colab": {
          "base_uri": "https://localhost:8080/"
        },
        "id": "irQIjF7tcHYR",
        "outputId": "dce17797-afaa-4827-9e8d-c9aad8127649"
      },
      "execution_count": 32,
      "outputs": [
        {
          "output_type": "execute_result",
          "data": {
            "text/plain": [
              "array(['1500-1599'], dtype=object)"
            ]
          },
          "metadata": {},
          "execution_count": 32
        }
      ]
    },
    {
      "cell_type": "code",
      "source": [
        "#sec XVI - Duarte Dias\n",
        "svc_model.predict(vectorizer.transform([\n",
        "'''\n",
        "Logrando estou, senhora, um brando riso\n",
        "Daquela doce boca e vista pura\n",
        "Ua rara beleza, ua figura\n",
        "Que me faz ver na terra o paraiso.\n",
        "Logrando estou o delicado aviso,\n",
        "A luz que torna dia a noite escura\n",
        "O claro sol, a nova fermosura\n",
        "Que abrasa o pensamento e perde o siso.\n",
        "Logrando estou a graça peregrina,\n",
        "A trança dos cabelos de ouro fino\n",
        "Que em diferentes laços me arremata:\n",
        "E quem logra tisouro tão divino\n",
        "Claramente delira e desatina,\n",
        "Se dele se apartar por ouro ou prata.\n",
        "''']))"
      ],
      "metadata": {
        "colab": {
          "base_uri": "https://localhost:8080/"
        },
        "id": "qD5wJyihaQEY",
        "outputId": "cc7b125d-8cb2-41b8-e21f-850642aeb107"
      },
      "execution_count": 33,
      "outputs": [
        {
          "output_type": "execute_result",
          "data": {
            "text/plain": [
              "array(['1600-1699'], dtype=object)"
            ]
          },
          "metadata": {},
          "execution_count": 33
        }
      ]
    },
    {
      "cell_type": "code",
      "source": [
        "#julho de 1843 - Gonçalves Dias\n",
        "svc_model.predict(vectorizer.transform([\n",
        "'''\n",
        "Minha terra tem palmeiras\n",
        "Onde canta o Sabiá,\n",
        "As aves, que aqui gorjeiam,\n",
        "Não gorjeiam como lá.\n",
        "Nosso céu tem mais estrelas,\n",
        "Nossas várzeas têm mais flores,\n",
        "Nossos bosques têm mais vida,\n",
        "Nossa vida mais amores.\n",
        "Em cismar, sozinho, à noite,\n",
        "Mais prazer encontro eu lá;\n",
        "Minha terra tem palmeiras,\n",
        "Onde canta o Sabiá.\n",
        "Minha terra tem primores,\n",
        "Que tais não encontro eu cá;\n",
        "Em cismar – sozinho, à noite –\n",
        "Mais prazer encontro eu lá;\n",
        "Minha terra tem palmeiras,\n",
        "Onde canta o Sabiá.\n",
        "Não permita Deus que eu morra,\n",
        "Sem que eu volte para lá;\n",
        "Sem que desfrute os primores\n",
        "Que não encontro por cá;\n",
        "Sem qu’inda aviste as palmeiras,\n",
        "Onde canta o Sabiá.\n",
        "''']))"
      ],
      "metadata": {
        "colab": {
          "base_uri": "https://localhost:8080/"
        },
        "id": "E-_f6cPmZnHe",
        "outputId": "b1b19f63-bd13-46aa-a8b2-5d492d922020"
      },
      "execution_count": 34,
      "outputs": [
        {
          "output_type": "execute_result",
          "data": {
            "text/plain": [
              "array(['1800-1899'], dtype=object)"
            ]
          },
          "metadata": {},
          "execution_count": 34
        }
      ]
    },
    {
      "cell_type": "code",
      "source": [
        "# julho de 1928 - Carlos Drummond de Andrade\n",
        "svc_model.predict(vectorizer.transform([\n",
        "'''\n",
        "No meio do caminho tinha uma pedra\n",
        "tinha uma pedra no meio do caminho\n",
        "tinha uma pedra\n",
        "no meio do caminho tinha uma pedra.\n",
        "Nunca me esquecerei desse acontecimento\n",
        "na vida de minhas retinas tão fatigadas.\n",
        "Nunca me esquecerei que no meio do caminho\n",
        "tinha uma pedra\n",
        "tinha uma pedra no meio do caminho\n",
        "no meio do caminho tinha uma pedra.\n",
        "''']))"
      ],
      "metadata": {
        "colab": {
          "base_uri": "https://localhost:8080/"
        },
        "id": "X8M_EJ5xaxsq",
        "outputId": "361d509c-bb52-491d-a60f-221f17217d31"
      },
      "execution_count": 35,
      "outputs": [
        {
          "output_type": "execute_result",
          "data": {
            "text/plain": [
              "array(['1500-1599'], dtype=object)"
            ]
          },
          "metadata": {},
          "execution_count": 35
        }
      ]
    },
    {
      "cell_type": "code",
      "source": [],
      "metadata": {
        "id": "vuw4bdPcDlGm"
      },
      "execution_count": null,
      "outputs": []
    },
    {
      "cell_type": "markdown",
      "source": [
        "###Doc2vec / LinearSVC"
      ],
      "metadata": {
        "id": "Ee--AmRj27wk"
      }
    },
    {
      "cell_type": "code",
      "source": [
        "from sklearn.svm import LinearSVC\n",
        "from sklearn.metrics import accuracy_score, classification_report\n",
        "from sklearn.model_selection import train_test_split\n",
        "from gensim.models import Doc2Vec\n",
        "from gensim.utils import simple_preprocess\n",
        "from gensim.models.doc2vec import TaggedDocument\n",
        "from sklearn import utils\n",
        "import numpy as np"
      ],
      "metadata": {
        "id": "N8OL_U-K_85t"
      },
      "execution_count": 57,
      "outputs": []
    },
    {
      "cell_type": "code",
      "source": [
        "random_subtexts_df['Text']"
      ],
      "metadata": {
        "colab": {
          "base_uri": "https://localhost:8080/"
        },
        "id": "3wZTkW6eAjVI",
        "outputId": "65a3223f-f3ff-4f13-e5c1-4a328cedb30e"
      },
      "execution_count": 62,
      "outputs": [
        {
          "output_type": "execute_result",
          "data": {
            "text/plain": [
              "0       conselho nao verdadeiros conselheiros vẽ elrey...\n",
              "1       alfa yates querendo tomar mestre senhor nao co...\n",
              "2       nao prestarem delleaco tecendo tomado dentro d...\n",
              "3       onde vinha elle trazia hũa cota vestida ataavi...\n",
              "4       corregedorm outros muytos criados rainha delre...\n",
              "                              ...                        \n",
              "4095    social democratico uniao democratica nacional ...\n",
              "4096    recursos materiais ajudarnos mutuamente conseg...\n",
              "4097    valor homem russo proteçao forças navais brita...\n",
              "4098    tudo caso pensar vi nao nada imagine alguma co...\n",
              "4099    chuva nao cessava so instante bares cafes nao ...\n",
              "Name: Text, Length: 4100, dtype: object"
            ]
          },
          "metadata": {},
          "execution_count": 62
        }
      ]
    },
    {
      "cell_type": "code",
      "source": [
        "# Prepare the tagged documents for Doc2Vec training\n",
        "tagged_documents = [TaggedDocument(simple_preprocess(text), [i]) for i, text in enumerate(random_subtexts_df['Text'])]"
      ],
      "metadata": {
        "id": "O05-5msHAsQx"
      },
      "execution_count": 64,
      "outputs": []
    },
    {
      "cell_type": "code",
      "source": [
        "# Initialize and train the Doc2Vec model\n",
        "doc2vec_model = Doc2Vec(tagged_documents, vector_size=100, epochs=10)"
      ],
      "metadata": {
        "id": "d6pm0_c727Y5"
      },
      "execution_count": 65,
      "outputs": []
    },
    {
      "cell_type": "code",
      "source": [
        "# Vectorize the text using Doc2Vec\n",
        "X_vectorized = np.array([doc2vec_model.infer_vector(simple_preprocess(text)) for text in random_subtexts_df['Text']])"
      ],
      "metadata": {
        "id": "zllAyxFAAcTI"
      },
      "execution_count": 67,
      "outputs": []
    },
    {
      "cell_type": "code",
      "source": [
        "# Split the data into train and test sets\n",
        "X_train, X_test, y_train, y_test = train_test_split(X_vectorized, random_subtexts_df['Period'], test_size=0.2, random_state=123)"
      ],
      "metadata": {
        "id": "-kGGJJi_BBzY"
      },
      "execution_count": 68,
      "outputs": []
    },
    {
      "cell_type": "code",
      "source": [
        "# Initialize and train the LinearSVC model\n",
        "svc_model = LinearSVC()\n",
        "svc_model.fit(X_train, y_train)"
      ],
      "metadata": {
        "colab": {
          "base_uri": "https://localhost:8080/",
          "height": 75
        },
        "id": "wf7J2pQxBMtt",
        "outputId": "24e00315-7284-45eb-e419-9bbaf26a546d"
      },
      "execution_count": 69,
      "outputs": [
        {
          "output_type": "execute_result",
          "data": {
            "text/plain": [
              "LinearSVC()"
            ],
            "text/html": [
              "<style>#sk-container-id-1 {color: black;background-color: white;}#sk-container-id-1 pre{padding: 0;}#sk-container-id-1 div.sk-toggleable {background-color: white;}#sk-container-id-1 label.sk-toggleable__label {cursor: pointer;display: block;width: 100%;margin-bottom: 0;padding: 0.3em;box-sizing: border-box;text-align: center;}#sk-container-id-1 label.sk-toggleable__label-arrow:before {content: \"▸\";float: left;margin-right: 0.25em;color: #696969;}#sk-container-id-1 label.sk-toggleable__label-arrow:hover:before {color: black;}#sk-container-id-1 div.sk-estimator:hover label.sk-toggleable__label-arrow:before {color: black;}#sk-container-id-1 div.sk-toggleable__content {max-height: 0;max-width: 0;overflow: hidden;text-align: left;background-color: #f0f8ff;}#sk-container-id-1 div.sk-toggleable__content pre {margin: 0.2em;color: black;border-radius: 0.25em;background-color: #f0f8ff;}#sk-container-id-1 input.sk-toggleable__control:checked~div.sk-toggleable__content {max-height: 200px;max-width: 100%;overflow: auto;}#sk-container-id-1 input.sk-toggleable__control:checked~label.sk-toggleable__label-arrow:before {content: \"▾\";}#sk-container-id-1 div.sk-estimator input.sk-toggleable__control:checked~label.sk-toggleable__label {background-color: #d4ebff;}#sk-container-id-1 div.sk-label input.sk-toggleable__control:checked~label.sk-toggleable__label {background-color: #d4ebff;}#sk-container-id-1 input.sk-hidden--visually {border: 0;clip: rect(1px 1px 1px 1px);clip: rect(1px, 1px, 1px, 1px);height: 1px;margin: -1px;overflow: hidden;padding: 0;position: absolute;width: 1px;}#sk-container-id-1 div.sk-estimator {font-family: monospace;background-color: #f0f8ff;border: 1px dotted black;border-radius: 0.25em;box-sizing: border-box;margin-bottom: 0.5em;}#sk-container-id-1 div.sk-estimator:hover {background-color: #d4ebff;}#sk-container-id-1 div.sk-parallel-item::after {content: \"\";width: 100%;border-bottom: 1px solid gray;flex-grow: 1;}#sk-container-id-1 div.sk-label:hover label.sk-toggleable__label {background-color: #d4ebff;}#sk-container-id-1 div.sk-serial::before {content: \"\";position: absolute;border-left: 1px solid gray;box-sizing: border-box;top: 0;bottom: 0;left: 50%;z-index: 0;}#sk-container-id-1 div.sk-serial {display: flex;flex-direction: column;align-items: center;background-color: white;padding-right: 0.2em;padding-left: 0.2em;position: relative;}#sk-container-id-1 div.sk-item {position: relative;z-index: 1;}#sk-container-id-1 div.sk-parallel {display: flex;align-items: stretch;justify-content: center;background-color: white;position: relative;}#sk-container-id-1 div.sk-item::before, #sk-container-id-1 div.sk-parallel-item::before {content: \"\";position: absolute;border-left: 1px solid gray;box-sizing: border-box;top: 0;bottom: 0;left: 50%;z-index: -1;}#sk-container-id-1 div.sk-parallel-item {display: flex;flex-direction: column;z-index: 1;position: relative;background-color: white;}#sk-container-id-1 div.sk-parallel-item:first-child::after {align-self: flex-end;width: 50%;}#sk-container-id-1 div.sk-parallel-item:last-child::after {align-self: flex-start;width: 50%;}#sk-container-id-1 div.sk-parallel-item:only-child::after {width: 0;}#sk-container-id-1 div.sk-dashed-wrapped {border: 1px dashed gray;margin: 0 0.4em 0.5em 0.4em;box-sizing: border-box;padding-bottom: 0.4em;background-color: white;}#sk-container-id-1 div.sk-label label {font-family: monospace;font-weight: bold;display: inline-block;line-height: 1.2em;}#sk-container-id-1 div.sk-label-container {text-align: center;}#sk-container-id-1 div.sk-container {/* jupyter's `normalize.less` sets `[hidden] { display: none; }` but bootstrap.min.css set `[hidden] { display: none !important; }` so we also need the `!important` here to be able to override the default hidden behavior on the sphinx rendered scikit-learn.org. See: https://github.com/scikit-learn/scikit-learn/issues/21755 */display: inline-block !important;position: relative;}#sk-container-id-1 div.sk-text-repr-fallback {display: none;}</style><div id=\"sk-container-id-1\" class=\"sk-top-container\"><div class=\"sk-text-repr-fallback\"><pre>LinearSVC()</pre><b>In a Jupyter environment, please rerun this cell to show the HTML representation or trust the notebook. <br />On GitHub, the HTML representation is unable to render, please try loading this page with nbviewer.org.</b></div><div class=\"sk-container\" hidden><div class=\"sk-item\"><div class=\"sk-estimator sk-toggleable\"><input class=\"sk-toggleable__control sk-hidden--visually\" id=\"sk-estimator-id-1\" type=\"checkbox\" checked><label for=\"sk-estimator-id-1\" class=\"sk-toggleable__label sk-toggleable__label-arrow\">LinearSVC</label><div class=\"sk-toggleable__content\"><pre>LinearSVC()</pre></div></div></div></div></div>"
            ]
          },
          "metadata": {},
          "execution_count": 69
        }
      ]
    },
    {
      "cell_type": "code",
      "source": [
        "# Predict the labels for test data\n",
        "y_pred = svc_model.predict(X_test)\n",
        "\n",
        "# Evaluate the model\n",
        "accuracy = accuracy_score(y_test, y_pred)\n",
        "report = classification_report(y_test, y_pred)\n",
        "\n",
        "# Print the evaluation metrics\n",
        "print(f\"Accuracy: {accuracy}\")\n",
        "print(\"Classification Report:\")\n",
        "print(report)"
      ],
      "metadata": {
        "colab": {
          "base_uri": "https://localhost:8080/"
        },
        "id": "eRGk8X0lBOgc",
        "outputId": "f96ac205-ee5e-4493-bfde-4d41f681ede8"
      },
      "execution_count": 70,
      "outputs": [
        {
          "output_type": "stream",
          "name": "stdout",
          "text": [
            "Accuracy: 0.6268292682926829\n",
            "Classification Report:\n",
            "              precision    recall  f1-score   support\n",
            "\n",
            "   1400-1499       0.61      0.57      0.59        47\n",
            "   1500-1599       0.65      0.56      0.60       150\n",
            "   1600-1699       0.59      0.57      0.58       221\n",
            "   1700-1799       0.50      0.40      0.45       151\n",
            "   1800-1899       0.70      0.86      0.77       251\n",
            "\n",
            "    accuracy                           0.63       820\n",
            "   macro avg       0.61      0.59      0.60       820\n",
            "weighted avg       0.62      0.63      0.62       820\n",
            "\n"
          ]
        }
      ]
    },
    {
      "cell_type": "code",
      "source": [
        "def vectorizer(text):\n",
        "    return np.array([doc2vec_model.infer_vector(simple_preprocess(text))])"
      ],
      "metadata": {
        "id": "xu8aoGm_Bktz"
      },
      "execution_count": 71,
      "outputs": []
    },
    {
      "cell_type": "markdown",
      "source": [
        "####Examples"
      ],
      "metadata": {
        "id": "lxMUYvCPBYJA"
      }
    },
    {
      "cell_type": "code",
      "source": [
        "svc_model.predict(vectorizer(\"Senhor, recebei minhas mais humildes reverências neste tempo de ilustração e progresso. Os ventos da mudança sopram sobre nossas terras, trazendo consigo novas ideias e conceitos. Os filósofos iluminados debatem ardorosamente sobre a natureza do homem e seus direitos inalienáveis. As cortes elegantes são palco de discussões intelectuais e sábios debates sobre política e governança. Enquanto isso, o comércio floresce e nossas colônias ultramarinas se expandem, trazendo riquezas e desafios para nossa nação. É um tempo de efervescência cultural, onde a arte, a música e a literatura encontram seu esplendor. Que a razão ilumine nosso caminho e nos guie rumo a um futuro próspero e justo.\"))"
      ],
      "metadata": {
        "colab": {
          "base_uri": "https://localhost:8080/"
        },
        "outputId": "e53f27d5-f843-4bf9-9e63-a988c96735f4",
        "id": "h7P1EVKeBYJI"
      },
      "execution_count": 72,
      "outputs": [
        {
          "output_type": "execute_result",
          "data": {
            "text/plain": [
              "array(['1600-1699'], dtype=object)"
            ]
          },
          "metadata": {},
          "execution_count": 72
        }
      ]
    },
    {
      "cell_type": "code",
      "source": [
        "svc_model.predict(vectorizer(\"Senhor, a vossa graça seja bem-vinda nestas terras. De fato, os tempos são tumultuosos e o povo clama por justiça. A guerra alastra-se pelo reino, deixando um rastro de destruição e desespero por onde passa. Os senhores feudais lutam entre si, disputando o poder e a posse das terras. Enquanto isso, os camponeses trabalham arduamente, tentando sobreviver às agruras da vida. É uma época de incerteza e medo, onde a nobreza governa com mão de ferro e o povo sofre as consequências. Que Deus tenha misericórdia de nós e traga dias de paz e prosperidade novamente.\"))"
      ],
      "metadata": {
        "colab": {
          "base_uri": "https://localhost:8080/"
        },
        "outputId": "59716134-6292-4652-d89c-b8bcd256adaf",
        "id": "O4dLvvQFBYJJ"
      },
      "execution_count": 73,
      "outputs": [
        {
          "output_type": "execute_result",
          "data": {
            "text/plain": [
              "array(['1600-1699'], dtype=object)"
            ]
          },
          "metadata": {},
          "execution_count": 73
        }
      ]
    },
    {
      "cell_type": "code",
      "source": [
        "#sec XV - Garcia de Resende\n",
        "svc_model.predict(vectorizer(\n",
        "'''\n",
        "Senhoras não hajais medo\n",
        "não receeis fazer bem\n",
        "tende o coração mui quedo\n",
        "e vossas mercês verão cedo\n",
        "quão grandes bens do bem vem.\n",
        "Não torvem vosso sentido\n",
        "as cousas qu'haveis ouvido\n",
        "porqu'é lei de deos d'amor\n",
        "bem, vertude nem primor\n",
        "nunca jamais ser perdido.\n",
        "Por verdes o galardão\n",
        "que do amor recebeu\n",
        "porque por ele morreu\n",
        "nestas trovas saberão\n",
        "o que ganhou ou perdeu.\n",
        "Não perdeu senão a vida\n",
        "que pudera ser perdida\n",
        "sem na ninguém conhecer\n",
        "e ganhou por bem querer\n",
        "ser sua morte tão sentida.\n",
        "'''))"
      ],
      "metadata": {
        "colab": {
          "base_uri": "https://localhost:8080/"
        },
        "outputId": "4ddc6fe8-5700-40b8-d592-4adf29371939",
        "id": "fZmFryXLBYJK"
      },
      "execution_count": 75,
      "outputs": [
        {
          "output_type": "execute_result",
          "data": {
            "text/plain": [
              "array(['1600-1699'], dtype=object)"
            ]
          },
          "metadata": {},
          "execution_count": 75
        }
      ]
    },
    {
      "cell_type": "code",
      "source": [
        "#sec XVI - Duarte Dias\n",
        "svc_model.predict(vectorizer(\n",
        "'''\n",
        "Logrando estou, senhora, um brando riso\n",
        "Daquela doce boca e vista pura\n",
        "Ua rara beleza, ua figura\n",
        "Que me faz ver na terra o paraiso.\n",
        "Logrando estou o delicado aviso,\n",
        "A luz que torna dia a noite escura\n",
        "O claro sol, a nova fermosura\n",
        "Que abrasa o pensamento e perde o siso.\n",
        "Logrando estou a graça peregrina,\n",
        "A trança dos cabelos de ouro fino\n",
        "Que em diferentes laços me arremata:\n",
        "E quem logra tisouro tão divino\n",
        "Claramente delira e desatina,\n",
        "Se dele se apartar por ouro ou prata.\n",
        "'''))"
      ],
      "metadata": {
        "colab": {
          "base_uri": "https://localhost:8080/"
        },
        "outputId": "3206dbd2-5bc8-4449-fa48-1c06a1fe76d3",
        "id": "7xr3GzHIBYJK"
      },
      "execution_count": 76,
      "outputs": [
        {
          "output_type": "execute_result",
          "data": {
            "text/plain": [
              "array(['1700-1799'], dtype=object)"
            ]
          },
          "metadata": {},
          "execution_count": 76
        }
      ]
    },
    {
      "cell_type": "code",
      "source": [
        "#julho de 1843 - Gonçalves Dias\n",
        "svc_model.predict(vectorizer(\n",
        "'''\n",
        "Minha terra tem palmeiras\n",
        "Onde canta o Sabiá,\n",
        "As aves, que aqui gorjeiam,\n",
        "Não gorjeiam como lá.\n",
        "Nosso céu tem mais estrelas,\n",
        "Nossas várzeas têm mais flores,\n",
        "Nossos bosques têm mais vida,\n",
        "Nossa vida mais amores.\n",
        "Em cismar, sozinho, à noite,\n",
        "Mais prazer encontro eu lá;\n",
        "Minha terra tem palmeiras,\n",
        "Onde canta o Sabiá.\n",
        "Minha terra tem primores,\n",
        "Que tais não encontro eu cá;\n",
        "Em cismar – sozinho, à noite –\n",
        "Mais prazer encontro eu lá;\n",
        "Minha terra tem palmeiras,\n",
        "Onde canta o Sabiá.\n",
        "Não permita Deus que eu morra,\n",
        "Sem que eu volte para lá;\n",
        "Sem que desfrute os primores\n",
        "Que não encontro por cá;\n",
        "Sem qu'inda aviste as palmeiras,\n",
        "Onde canta o Sabiá.\n",
        "'''))"
      ],
      "metadata": {
        "colab": {
          "base_uri": "https://localhost:8080/"
        },
        "outputId": "e7e3b6b6-3bf0-4031-bb55-854eeb8e13bf",
        "id": "N-IcniQqBYJL"
      },
      "execution_count": 78,
      "outputs": [
        {
          "output_type": "execute_result",
          "data": {
            "text/plain": [
              "array(['1600-1699'], dtype=object)"
            ]
          },
          "metadata": {},
          "execution_count": 78
        }
      ]
    },
    {
      "cell_type": "code",
      "source": [
        "# julho de 1928 - Carlos Drummond de Andrade\n",
        "svc_model.predict(vectorizer(\n",
        "'''\n",
        "No meio do caminho tinha uma pedra\n",
        "tinha uma pedra no meio do caminho\n",
        "tinha uma pedra\n",
        "no meio do caminho tinha uma pedra.\n",
        "Nunca me esquecerei desse acontecimento\n",
        "na vida de minhas retinas tão fatigadas.\n",
        "Nunca me esquecerei que no meio do caminho\n",
        "tinha uma pedra\n",
        "tinha uma pedra no meio do caminho\n",
        "no meio do caminho tinha uma pedra.\n",
        "'''))"
      ],
      "metadata": {
        "colab": {
          "base_uri": "https://localhost:8080/"
        },
        "outputId": "b2778ade-a5b7-4c03-8d53-a0df585c901f",
        "id": "yeXVQrxcBYJL"
      },
      "execution_count": 79,
      "outputs": [
        {
          "output_type": "execute_result",
          "data": {
            "text/plain": [
              "array(['1500-1599'], dtype=object)"
            ]
          },
          "metadata": {},
          "execution_count": 79
        }
      ]
    },
    {
      "cell_type": "markdown",
      "source": [
        "###salva"
      ],
      "metadata": {
        "id": "7LlPvtPsc5ZB"
      }
    },
    {
      "cell_type": "code",
      "source": [
        "import pandas\n",
        "from sklearn import model_selection\n",
        "from sklearn.linear_model import LogisticRegression\n",
        "import joblib\n",
        "\n",
        "# save the model to disk\n",
        "filename = model_path + 'svc_model.sav'\n",
        "joblib.dump(svc_model, filename)"
      ],
      "metadata": {
        "colab": {
          "base_uri": "https://localhost:8080/"
        },
        "id": "O2Wv-kqQb224",
        "outputId": "90421046-8e3c-49d6-f66f-4b17a50d8552"
      },
      "execution_count": null,
      "outputs": [
        {
          "output_type": "execute_result",
          "data": {
            "text/plain": [
              "['/content/drive/MyDrive/Mestrado_UFBA/Tópicos em BD/modelos/svc_model.sav']"
            ]
          },
          "metadata": {},
          "execution_count": 53
        }
      ]
    },
    {
      "cell_type": "code",
      "source": [
        "# load the model from disk\n",
        "loaded_model = joblib.load(filename)\n",
        "result = loaded_model.score(X_test, Y_test)\n",
        "print(result)"
      ],
      "metadata": {
        "id": "WrZlEuoKdLrB"
      },
      "execution_count": null,
      "outputs": []
    },
    {
      "cell_type": "markdown",
      "source": [
        "#."
      ],
      "metadata": {
        "id": "MQt4KsHpcsNJ"
      }
    },
    {
      "cell_type": "code",
      "source": [
        "from sklearn.naive_bayes import MultinomialNB\n",
        "from sklearn.feature_extraction.text import TfidfVectorizer\n",
        "from sklearn.metrics import accuracy_score, classification_report\n",
        "from sklearn.model_selection import train_test_split\n",
        "\n",
        "# Assuming you have your text data and corresponding labels in X and y variables\n",
        "\n",
        "# Vectorize the text using TF-IDF\n",
        "vectorizer = TfidfVectorizer()\n",
        "X_train_vectorized = vectorizer.fit_transform(X_train)\n",
        "X_test_vectorized = vectorizer.transform(X_test)\n",
        "\n",
        "# Initialize and train the Multinomial Naive Bayes model\n",
        "nb_model = MultinomialNB()\n",
        "nb_model.fit(X_train_vectorized, y_train)\n",
        "\n",
        "# Predict the labels for test data\n",
        "y_pred = nb_model.predict(X_test_vectorized)\n",
        "\n",
        "# Evaluate the model\n",
        "accuracy = accuracy_score(y_test, y_pred)\n",
        "report = classification_report(y_test, y_pred)\n",
        "\n",
        "# Print the evaluation metrics\n",
        "print(f\"Accuracy: {accuracy}\")\n",
        "print(\"Classification Report:\")\n",
        "print(report)"
      ],
      "metadata": {
        "colab": {
          "base_uri": "https://localhost:8080/"
        },
        "id": "uN0xd-vYWcQ9",
        "outputId": "7c0674b3-85ec-4e72-b38f-2d9dacf57c13"
      },
      "execution_count": null,
      "outputs": [
        {
          "output_type": "stream",
          "name": "stdout",
          "text": [
            "Accuracy: 0.9560794770722227\n",
            "Classification Report:\n",
            "              precision    recall  f1-score   support\n",
            "\n",
            "   1300-1399       1.00      1.00      1.00      5864\n",
            "   1400-1499       1.00      1.00      1.00     17640\n",
            "   1500-1599       1.00      1.00      1.00     64426\n",
            "   1600-1699       0.99      1.00      1.00     91929\n",
            "   1700-1799       0.92      0.98      0.95     72277\n",
            "   1800-1899       0.98      0.87      0.92    102668\n",
            "   1900-1999       0.50      1.00      0.67      7464\n",
            "\n",
            "    accuracy                           0.96    362268\n",
            "   macro avg       0.91      0.98      0.93    362268\n",
            "weighted avg       0.97      0.96      0.96    362268\n",
            "\n"
          ]
        }
      ]
    },
    {
      "cell_type": "code",
      "source": [
        "nb_model.predict(vectorizer.transform([\"Senhor, recebei minhas mais humildes reverências neste tempo de ilustração e progresso. Os ventos da mudança sopram sobre nossas terras, trazendo consigo novas ideias e conceitos. Os filósofos iluminados debatem ardorosamente sobre a natureza do homem e seus direitos inalienáveis. As cortes elegantes são palco de discussões intelectuais e sábios debates sobre política e governança. Enquanto isso, o comércio floresce e nossas colônias ultramarinas se expandem, trazendo riquezas e desafios para nossa nação. É um tempo de efervescência cultural, onde a arte, a música e a literatura encontram seu esplendor. Que a razão ilumine nosso caminho e nos guie rumo a um futuro próspero e justo.\"]))"
      ],
      "metadata": {
        "colab": {
          "base_uri": "https://localhost:8080/"
        },
        "id": "L8ZyNQo9WlCK",
        "outputId": "0ddcef03-e89f-48d1-e29c-0053d0b25a6e"
      },
      "execution_count": null,
      "outputs": [
        {
          "output_type": "execute_result",
          "data": {
            "text/plain": [
              "array(['1700-1799'], dtype='<U9')"
            ]
          },
          "metadata": {},
          "execution_count": 123
        }
      ]
    },
    {
      "cell_type": "code",
      "source": [
        "nb_model.predict(vectorizer.transform([\"Senhor, a vossa graça seja bem-vinda nestas terras. De fato, os tempos são tumultuosos e o povo clama por justiça. A guerra alastra-se pelo reino, deixando um rastro de destruição e desespero por onde passa. Os senhores feudais lutam entre si, disputando o poder e a posse das terras. Enquanto isso, os camponeses trabalham arduamente, tentando sobreviver às agruras da vida. É uma época de incerteza e medo, onde a nobreza governa com mão de ferro e o povo sofre as consequências. Que Deus tenha misericórdia de nós e traga dias de paz e prosperidade novamente.\"]))"
      ],
      "metadata": {
        "colab": {
          "base_uri": "https://localhost:8080/"
        },
        "id": "faljwfQ1WnXe",
        "outputId": "e324eea2-07e9-4b32-a4b3-37f228bbe8bd"
      },
      "execution_count": null,
      "outputs": [
        {
          "output_type": "execute_result",
          "data": {
            "text/plain": [
              "array(['1700-1799'], dtype='<U9')"
            ]
          },
          "metadata": {},
          "execution_count": 124
        }
      ]
    },
    {
      "cell_type": "code",
      "source": [
        "from sklearn.ensemble import RandomForestClassifier\n",
        "from sklearn.feature_extraction.text import TfidfVectorizer\n",
        "from sklearn.metrics import accuracy_score, classification_report\n",
        "from sklearn.model_selection import train_test_split\n",
        "\n",
        "# Assuming you have your text data and corresponding labels in X and y variables\n",
        "\n",
        "# Vectorize the text using TF-IDF\n",
        "vectorizer = TfidfVectorizer()\n",
        "X_train_vectorized = vectorizer.fit_transform(X_train)\n",
        "X_test_vectorized = vectorizer.transform(X_test)\n",
        "\n",
        "# Initialize and train the Random Forest model\n",
        "rf_model = RandomForestClassifier()\n",
        "rf_model.fit(X_train_vectorized, y_train)\n",
        "\n",
        "# Predict the labels for test data\n",
        "y_pred = rf_model.predict(X_test_vectorized)\n",
        "\n",
        "# Evaluate the model\n",
        "accuracy = accuracy_score(y_test, y_pred)\n",
        "report = classification_report(y_test, y_pred)\n",
        "\n",
        "# Print the evaluation metrics\n",
        "print(f\"Accuracy: {accuracy}\")\n",
        "print(\"Classification Report:\")\n",
        "print(report)"
      ],
      "metadata": {
        "id": "NY2OF-SfWrt6"
      },
      "execution_count": null,
      "outputs": []
    },
    {
      "cell_type": "code",
      "source": [
        "rf_model.predict(vectorizer.transform([\"Senhor, recebei minhas mais humildes reverências neste tempo de ilustração e progresso. Os ventos da mudança sopram sobre nossas terras, trazendo consigo novas ideias e conceitos. Os filósofos iluminados debatem ardorosamente sobre a natureza do homem e seus direitos inalienáveis. As cortes elegantes são palco de discussões intelectuais e sábios debates sobre política e governança. Enquanto isso, o comércio floresce e nossas colônias ultramarinas se expandem, trazendo riquezas e desafios para nossa nação. É um tempo de efervescência cultural, onde a arte, a música e a literatura encontram seu esplendor. Que a razão ilumine nosso caminho e nos guie rumo a um futuro próspero e justo.\"]))"
      ],
      "metadata": {
        "id": "GMCwUiMXXXo6"
      },
      "execution_count": null,
      "outputs": []
    },
    {
      "cell_type": "code",
      "source": [
        "rf_model.predict(vectorizer.transform([\"Senhor, a vossa graça seja bem-vinda nestas terras. De fato, os tempos são tumultuosos e o povo clama por justiça. A guerra alastra-se pelo reino, deixando um rastro de destruição e desespero por onde passa. Os senhores feudais lutam entre si, disputando o poder e a posse das terras. Enquanto isso, os camponeses trabalham arduamente, tentando sobreviver às agruras da vida. É uma época de incerteza e medo, onde a nobreza governa com mão de ferro e o povo sofre as consequências. Que Deus tenha misericórdia de nós e traga dias de paz e prosperidade novamente.\"]))"
      ],
      "metadata": {
        "id": "XeBxAsEVXY-N"
      },
      "execution_count": null,
      "outputs": []
    }
  ]
}